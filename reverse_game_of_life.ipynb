{
  "nbformat": 4,
  "nbformat_minor": 0,
  "metadata": {
    "colab": {
      "name": "reverse game of life.ipynb",
      "provenance": [],
      "include_colab_link": true
    },
    "kernelspec": {
      "name": "python3",
      "display_name": "Python 3"
    }
  },
  "cells": [
    {
      "cell_type": "markdown",
      "metadata": {
        "id": "view-in-github",
        "colab_type": "text"
      },
      "source": [
        "<a href=\"https://colab.research.google.com/github/rquerino/Reverse-Game-of-Life/blob/master/reverse_game_of_life.ipynb\" target=\"_parent\"><img src=\"https://colab.research.google.com/assets/colab-badge.svg\" alt=\"Open In Colab\"/></a>"
      ]
    },
    {
      "cell_type": "markdown",
      "metadata": {
        "id": "8JddzBoTXdUb",
        "colab_type": "text"
      },
      "source": [
        "# Reverse game of life\n",
        "\n",
        "![cellular automata](https://upload.wikimedia.org/wikipedia/commons/e/e5/Gospers_glider_gun.gif)"
      ]
    },
    {
      "cell_type": "code",
      "metadata": {
        "id": "aJ6FPHu4XX1Y",
        "colab_type": "code",
        "colab": {}
      },
      "source": [
        "# R"
      ],
      "execution_count": 0,
      "outputs": []
    }
  ]
}