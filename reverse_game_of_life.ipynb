{
  "nbformat": 4,
  "nbformat_minor": 0,
  "metadata": {
    "colab": {
      "name": "reverse game of life.ipynb",
      "provenance": [],
      "collapsed_sections": [
        "AiCdlsPzqVpe",
        "Ma7IahiWwZ0O",
        "TzOsLjoQvs0w",
        "nNLNyRgA0Ess",
        "CrXPD1qlxNmr",
        "UKuQRxJm7pEl"
      ],
      "toc_visible": true,
      "include_colab_link": true
    },
    "kernelspec": {
      "name": "python3",
      "display_name": "Python 3"
    },
    "widgets": {
      "application/vnd.jupyter.widget-state+json": {
        "ac2bbbd777124006a5a640f23780858d": {
          "model_module": "@jupyter-widgets/controls",
          "model_name": "HBoxModel",
          "state": {
            "_view_name": "HBoxView",
            "_dom_classes": [],
            "_model_name": "HBoxModel",
            "_view_module": "@jupyter-widgets/controls",
            "_model_module_version": "1.5.0",
            "_view_count": null,
            "_view_module_version": "1.5.0",
            "box_style": "",
            "layout": "IPY_MODEL_b10a816fb3424a0c8044958cee10997e",
            "_model_module": "@jupyter-widgets/controls",
            "children": [
              "IPY_MODEL_ac32526c961547158a601b82c568720d",
              "IPY_MODEL_cb154b820f8845ebab8490cf4be26885"
            ]
          }
        },
        "b10a816fb3424a0c8044958cee10997e": {
          "model_module": "@jupyter-widgets/base",
          "model_name": "LayoutModel",
          "state": {
            "_view_name": "LayoutView",
            "grid_template_rows": null,
            "right": null,
            "justify_content": null,
            "_view_module": "@jupyter-widgets/base",
            "overflow": null,
            "_model_module_version": "1.2.0",
            "_view_count": null,
            "flex_flow": null,
            "width": null,
            "min_width": null,
            "border": null,
            "align_items": null,
            "bottom": null,
            "_model_module": "@jupyter-widgets/base",
            "top": null,
            "grid_column": null,
            "overflow_y": null,
            "overflow_x": null,
            "grid_auto_flow": null,
            "grid_area": null,
            "grid_template_columns": null,
            "flex": null,
            "_model_name": "LayoutModel",
            "justify_items": null,
            "grid_row": null,
            "max_height": null,
            "align_content": null,
            "visibility": null,
            "align_self": null,
            "height": null,
            "min_height": null,
            "padding": null,
            "grid_auto_rows": null,
            "grid_gap": null,
            "max_width": null,
            "order": null,
            "_view_module_version": "1.2.0",
            "grid_template_areas": null,
            "object_position": null,
            "object_fit": null,
            "grid_auto_columns": null,
            "margin": null,
            "display": null,
            "left": null
          }
        },
        "ac32526c961547158a601b82c568720d": {
          "model_module": "@jupyter-widgets/controls",
          "model_name": "IntProgressModel",
          "state": {
            "_view_name": "ProgressView",
            "style": "IPY_MODEL_ea538f5128e14cb392d88b938cad96a5",
            "_dom_classes": [],
            "description": "",
            "_model_name": "IntProgressModel",
            "bar_style": "success",
            "max": 50000,
            "_view_module": "@jupyter-widgets/controls",
            "_model_module_version": "1.5.0",
            "value": 50000,
            "_view_count": null,
            "_view_module_version": "1.5.0",
            "orientation": "horizontal",
            "min": 0,
            "description_tooltip": null,
            "_model_module": "@jupyter-widgets/controls",
            "layout": "IPY_MODEL_c61ec2583eb94b3890f7c7b12bcf6faa"
          }
        },
        "cb154b820f8845ebab8490cf4be26885": {
          "model_module": "@jupyter-widgets/controls",
          "model_name": "HTMLModel",
          "state": {
            "_view_name": "HTMLView",
            "style": "IPY_MODEL_09cd24ed4bd54b74b2fa14227f96d8b9",
            "_dom_classes": [],
            "description": "",
            "_model_name": "HTMLModel",
            "placeholder": "​",
            "_view_module": "@jupyter-widgets/controls",
            "_model_module_version": "1.5.0",
            "value": "100% 50000/50000 [00:00&lt;00:00, 253135.23it/s]",
            "_view_count": null,
            "_view_module_version": "1.5.0",
            "description_tooltip": null,
            "_model_module": "@jupyter-widgets/controls",
            "layout": "IPY_MODEL_aa9cfb98c93f486f84dcef5372c694e4"
          }
        },
        "ea538f5128e14cb392d88b938cad96a5": {
          "model_module": "@jupyter-widgets/controls",
          "model_name": "ProgressStyleModel",
          "state": {
            "_view_name": "StyleView",
            "_model_name": "ProgressStyleModel",
            "description_width": "",
            "_view_module": "@jupyter-widgets/base",
            "_model_module_version": "1.5.0",
            "_view_count": null,
            "_view_module_version": "1.2.0",
            "bar_color": null,
            "_model_module": "@jupyter-widgets/controls"
          }
        },
        "c61ec2583eb94b3890f7c7b12bcf6faa": {
          "model_module": "@jupyter-widgets/base",
          "model_name": "LayoutModel",
          "state": {
            "_view_name": "LayoutView",
            "grid_template_rows": null,
            "right": null,
            "justify_content": null,
            "_view_module": "@jupyter-widgets/base",
            "overflow": null,
            "_model_module_version": "1.2.0",
            "_view_count": null,
            "flex_flow": null,
            "width": null,
            "min_width": null,
            "border": null,
            "align_items": null,
            "bottom": null,
            "_model_module": "@jupyter-widgets/base",
            "top": null,
            "grid_column": null,
            "overflow_y": null,
            "overflow_x": null,
            "grid_auto_flow": null,
            "grid_area": null,
            "grid_template_columns": null,
            "flex": null,
            "_model_name": "LayoutModel",
            "justify_items": null,
            "grid_row": null,
            "max_height": null,
            "align_content": null,
            "visibility": null,
            "align_self": null,
            "height": null,
            "min_height": null,
            "padding": null,
            "grid_auto_rows": null,
            "grid_gap": null,
            "max_width": null,
            "order": null,
            "_view_module_version": "1.2.0",
            "grid_template_areas": null,
            "object_position": null,
            "object_fit": null,
            "grid_auto_columns": null,
            "margin": null,
            "display": null,
            "left": null
          }
        },
        "09cd24ed4bd54b74b2fa14227f96d8b9": {
          "model_module": "@jupyter-widgets/controls",
          "model_name": "DescriptionStyleModel",
          "state": {
            "_view_name": "StyleView",
            "_model_name": "DescriptionStyleModel",
            "description_width": "",
            "_view_module": "@jupyter-widgets/base",
            "_model_module_version": "1.5.0",
            "_view_count": null,
            "_view_module_version": "1.2.0",
            "_model_module": "@jupyter-widgets/controls"
          }
        },
        "aa9cfb98c93f486f84dcef5372c694e4": {
          "model_module": "@jupyter-widgets/base",
          "model_name": "LayoutModel",
          "state": {
            "_view_name": "LayoutView",
            "grid_template_rows": null,
            "right": null,
            "justify_content": null,
            "_view_module": "@jupyter-widgets/base",
            "overflow": null,
            "_model_module_version": "1.2.0",
            "_view_count": null,
            "flex_flow": null,
            "width": null,
            "min_width": null,
            "border": null,
            "align_items": null,
            "bottom": null,
            "_model_module": "@jupyter-widgets/base",
            "top": null,
            "grid_column": null,
            "overflow_y": null,
            "overflow_x": null,
            "grid_auto_flow": null,
            "grid_area": null,
            "grid_template_columns": null,
            "flex": null,
            "_model_name": "LayoutModel",
            "justify_items": null,
            "grid_row": null,
            "max_height": null,
            "align_content": null,
            "visibility": null,
            "align_self": null,
            "height": null,
            "min_height": null,
            "padding": null,
            "grid_auto_rows": null,
            "grid_gap": null,
            "max_width": null,
            "order": null,
            "_view_module_version": "1.2.0",
            "grid_template_areas": null,
            "object_position": null,
            "object_fit": null,
            "grid_auto_columns": null,
            "margin": null,
            "display": null,
            "left": null
          }
        },
        "5ee936b5a6b9483db8761ba7a7bf730f": {
          "model_module": "@jupyter-widgets/controls",
          "model_name": "HBoxModel",
          "state": {
            "_view_name": "HBoxView",
            "_dom_classes": [],
            "_model_name": "HBoxModel",
            "_view_module": "@jupyter-widgets/controls",
            "_model_module_version": "1.5.0",
            "_view_count": null,
            "_view_module_version": "1.5.0",
            "box_style": "",
            "layout": "IPY_MODEL_3ed59e5354d84c78a8a4a9b4f4b99c8d",
            "_model_module": "@jupyter-widgets/controls",
            "children": [
              "IPY_MODEL_2e65a37e13de4ebcac1413d2233dcf9f",
              "IPY_MODEL_75f2af85c27b466c99d837c673e7a25f"
            ]
          }
        },
        "3ed59e5354d84c78a8a4a9b4f4b99c8d": {
          "model_module": "@jupyter-widgets/base",
          "model_name": "LayoutModel",
          "state": {
            "_view_name": "LayoutView",
            "grid_template_rows": null,
            "right": null,
            "justify_content": null,
            "_view_module": "@jupyter-widgets/base",
            "overflow": null,
            "_model_module_version": "1.2.0",
            "_view_count": null,
            "flex_flow": null,
            "width": null,
            "min_width": null,
            "border": null,
            "align_items": null,
            "bottom": null,
            "_model_module": "@jupyter-widgets/base",
            "top": null,
            "grid_column": null,
            "overflow_y": null,
            "overflow_x": null,
            "grid_auto_flow": null,
            "grid_area": null,
            "grid_template_columns": null,
            "flex": null,
            "_model_name": "LayoutModel",
            "justify_items": null,
            "grid_row": null,
            "max_height": null,
            "align_content": null,
            "visibility": null,
            "align_self": null,
            "height": null,
            "min_height": null,
            "padding": null,
            "grid_auto_rows": null,
            "grid_gap": null,
            "max_width": null,
            "order": null,
            "_view_module_version": "1.2.0",
            "grid_template_areas": null,
            "object_position": null,
            "object_fit": null,
            "grid_auto_columns": null,
            "margin": null,
            "display": null,
            "left": null
          }
        },
        "2e65a37e13de4ebcac1413d2233dcf9f": {
          "model_module": "@jupyter-widgets/controls",
          "model_name": "IntProgressModel",
          "state": {
            "_view_name": "ProgressView",
            "style": "IPY_MODEL_4d9e4dd2340b47e7a8c64312a5b82f26",
            "_dom_classes": [],
            "description": "",
            "_model_name": "IntProgressModel",
            "bar_style": "success",
            "max": 50000,
            "_view_module": "@jupyter-widgets/controls",
            "_model_module_version": "1.5.0",
            "value": 50000,
            "_view_count": null,
            "_view_module_version": "1.5.0",
            "orientation": "horizontal",
            "min": 0,
            "description_tooltip": null,
            "_model_module": "@jupyter-widgets/controls",
            "layout": "IPY_MODEL_1b6eb6655cd74856b701d662f9a243d9"
          }
        },
        "75f2af85c27b466c99d837c673e7a25f": {
          "model_module": "@jupyter-widgets/controls",
          "model_name": "HTMLModel",
          "state": {
            "_view_name": "HTMLView",
            "style": "IPY_MODEL_90ccb1c04cf24c0b99d626892157a296",
            "_dom_classes": [],
            "description": "",
            "_model_name": "HTMLModel",
            "placeholder": "​",
            "_view_module": "@jupyter-widgets/controls",
            "_model_module_version": "1.5.0",
            "value": "100% 50000/50000 [00:00&lt;00:00, 368080.26it/s]",
            "_view_count": null,
            "_view_module_version": "1.5.0",
            "description_tooltip": null,
            "_model_module": "@jupyter-widgets/controls",
            "layout": "IPY_MODEL_b28734f8520e467ab9688093fb5c4040"
          }
        },
        "4d9e4dd2340b47e7a8c64312a5b82f26": {
          "model_module": "@jupyter-widgets/controls",
          "model_name": "ProgressStyleModel",
          "state": {
            "_view_name": "StyleView",
            "_model_name": "ProgressStyleModel",
            "description_width": "",
            "_view_module": "@jupyter-widgets/base",
            "_model_module_version": "1.5.0",
            "_view_count": null,
            "_view_module_version": "1.2.0",
            "bar_color": null,
            "_model_module": "@jupyter-widgets/controls"
          }
        },
        "1b6eb6655cd74856b701d662f9a243d9": {
          "model_module": "@jupyter-widgets/base",
          "model_name": "LayoutModel",
          "state": {
            "_view_name": "LayoutView",
            "grid_template_rows": null,
            "right": null,
            "justify_content": null,
            "_view_module": "@jupyter-widgets/base",
            "overflow": null,
            "_model_module_version": "1.2.0",
            "_view_count": null,
            "flex_flow": null,
            "width": null,
            "min_width": null,
            "border": null,
            "align_items": null,
            "bottom": null,
            "_model_module": "@jupyter-widgets/base",
            "top": null,
            "grid_column": null,
            "overflow_y": null,
            "overflow_x": null,
            "grid_auto_flow": null,
            "grid_area": null,
            "grid_template_columns": null,
            "flex": null,
            "_model_name": "LayoutModel",
            "justify_items": null,
            "grid_row": null,
            "max_height": null,
            "align_content": null,
            "visibility": null,
            "align_self": null,
            "height": null,
            "min_height": null,
            "padding": null,
            "grid_auto_rows": null,
            "grid_gap": null,
            "max_width": null,
            "order": null,
            "_view_module_version": "1.2.0",
            "grid_template_areas": null,
            "object_position": null,
            "object_fit": null,
            "grid_auto_columns": null,
            "margin": null,
            "display": null,
            "left": null
          }
        },
        "90ccb1c04cf24c0b99d626892157a296": {
          "model_module": "@jupyter-widgets/controls",
          "model_name": "DescriptionStyleModel",
          "state": {
            "_view_name": "StyleView",
            "_model_name": "DescriptionStyleModel",
            "description_width": "",
            "_view_module": "@jupyter-widgets/base",
            "_model_module_version": "1.5.0",
            "_view_count": null,
            "_view_module_version": "1.2.0",
            "_model_module": "@jupyter-widgets/controls"
          }
        },
        "b28734f8520e467ab9688093fb5c4040": {
          "model_module": "@jupyter-widgets/base",
          "model_name": "LayoutModel",
          "state": {
            "_view_name": "LayoutView",
            "grid_template_rows": null,
            "right": null,
            "justify_content": null,
            "_view_module": "@jupyter-widgets/base",
            "overflow": null,
            "_model_module_version": "1.2.0",
            "_view_count": null,
            "flex_flow": null,
            "width": null,
            "min_width": null,
            "border": null,
            "align_items": null,
            "bottom": null,
            "_model_module": "@jupyter-widgets/base",
            "top": null,
            "grid_column": null,
            "overflow_y": null,
            "overflow_x": null,
            "grid_auto_flow": null,
            "grid_area": null,
            "grid_template_columns": null,
            "flex": null,
            "_model_name": "LayoutModel",
            "justify_items": null,
            "grid_row": null,
            "max_height": null,
            "align_content": null,
            "visibility": null,
            "align_self": null,
            "height": null,
            "min_height": null,
            "padding": null,
            "grid_auto_rows": null,
            "grid_gap": null,
            "max_width": null,
            "order": null,
            "_view_module_version": "1.2.0",
            "grid_template_areas": null,
            "object_position": null,
            "object_fit": null,
            "grid_auto_columns": null,
            "margin": null,
            "display": null,
            "left": null
          }
        },
        "4ae5bfba84774f00a38d05f9927edd85": {
          "model_module": "@jupyter-widgets/controls",
          "model_name": "HBoxModel",
          "state": {
            "_view_name": "HBoxView",
            "_dom_classes": [],
            "_model_name": "HBoxModel",
            "_view_module": "@jupyter-widgets/controls",
            "_model_module_version": "1.5.0",
            "_view_count": null,
            "_view_module_version": "1.5.0",
            "box_style": "",
            "layout": "IPY_MODEL_0fb58810f8134fb78b69711e1ba3bd34",
            "_model_module": "@jupyter-widgets/controls",
            "children": [
              "IPY_MODEL_96a1bbfb8082430cbc794c0b0d001354",
              "IPY_MODEL_56189ab0786a4732be2fdca09ee44db2"
            ]
          }
        },
        "0fb58810f8134fb78b69711e1ba3bd34": {
          "model_module": "@jupyter-widgets/base",
          "model_name": "LayoutModel",
          "state": {
            "_view_name": "LayoutView",
            "grid_template_rows": null,
            "right": null,
            "justify_content": null,
            "_view_module": "@jupyter-widgets/base",
            "overflow": null,
            "_model_module_version": "1.2.0",
            "_view_count": null,
            "flex_flow": null,
            "width": null,
            "min_width": null,
            "border": null,
            "align_items": null,
            "bottom": null,
            "_model_module": "@jupyter-widgets/base",
            "top": null,
            "grid_column": null,
            "overflow_y": null,
            "overflow_x": null,
            "grid_auto_flow": null,
            "grid_area": null,
            "grid_template_columns": null,
            "flex": null,
            "_model_name": "LayoutModel",
            "justify_items": null,
            "grid_row": null,
            "max_height": null,
            "align_content": null,
            "visibility": null,
            "align_self": null,
            "height": null,
            "min_height": null,
            "padding": null,
            "grid_auto_rows": null,
            "grid_gap": null,
            "max_width": null,
            "order": null,
            "_view_module_version": "1.2.0",
            "grid_template_areas": null,
            "object_position": null,
            "object_fit": null,
            "grid_auto_columns": null,
            "margin": null,
            "display": null,
            "left": null
          }
        },
        "96a1bbfb8082430cbc794c0b0d001354": {
          "model_module": "@jupyter-widgets/controls",
          "model_name": "IntProgressModel",
          "state": {
            "_view_name": "ProgressView",
            "style": "IPY_MODEL_21d630a2d49b459686373d9c47edea46",
            "_dom_classes": [],
            "description": "",
            "_model_name": "IntProgressModel",
            "bar_style": "success",
            "max": 50000,
            "_view_module": "@jupyter-widgets/controls",
            "_model_module_version": "1.5.0",
            "value": 50000,
            "_view_count": null,
            "_view_module_version": "1.5.0",
            "orientation": "horizontal",
            "min": 0,
            "description_tooltip": null,
            "_model_module": "@jupyter-widgets/controls",
            "layout": "IPY_MODEL_7c463b142f744f05a43760f0c05417e7"
          }
        },
        "56189ab0786a4732be2fdca09ee44db2": {
          "model_module": "@jupyter-widgets/controls",
          "model_name": "HTMLModel",
          "state": {
            "_view_name": "HTMLView",
            "style": "IPY_MODEL_8d5521fdef72415fbc5e1db210604893",
            "_dom_classes": [],
            "description": "",
            "_model_name": "HTMLModel",
            "placeholder": "​",
            "_view_module": "@jupyter-widgets/controls",
            "_model_module_version": "1.5.0",
            "value": "100% 50000/50000 [09:06&lt;00:00, 91.43it/s]",
            "_view_count": null,
            "_view_module_version": "1.5.0",
            "description_tooltip": null,
            "_model_module": "@jupyter-widgets/controls",
            "layout": "IPY_MODEL_58f3e932a49f470cb7bcf9147c6a44ad"
          }
        },
        "21d630a2d49b459686373d9c47edea46": {
          "model_module": "@jupyter-widgets/controls",
          "model_name": "ProgressStyleModel",
          "state": {
            "_view_name": "StyleView",
            "_model_name": "ProgressStyleModel",
            "description_width": "",
            "_view_module": "@jupyter-widgets/base",
            "_model_module_version": "1.5.0",
            "_view_count": null,
            "_view_module_version": "1.2.0",
            "bar_color": null,
            "_model_module": "@jupyter-widgets/controls"
          }
        },
        "7c463b142f744f05a43760f0c05417e7": {
          "model_module": "@jupyter-widgets/base",
          "model_name": "LayoutModel",
          "state": {
            "_view_name": "LayoutView",
            "grid_template_rows": null,
            "right": null,
            "justify_content": null,
            "_view_module": "@jupyter-widgets/base",
            "overflow": null,
            "_model_module_version": "1.2.0",
            "_view_count": null,
            "flex_flow": null,
            "width": null,
            "min_width": null,
            "border": null,
            "align_items": null,
            "bottom": null,
            "_model_module": "@jupyter-widgets/base",
            "top": null,
            "grid_column": null,
            "overflow_y": null,
            "overflow_x": null,
            "grid_auto_flow": null,
            "grid_area": null,
            "grid_template_columns": null,
            "flex": null,
            "_model_name": "LayoutModel",
            "justify_items": null,
            "grid_row": null,
            "max_height": null,
            "align_content": null,
            "visibility": null,
            "align_self": null,
            "height": null,
            "min_height": null,
            "padding": null,
            "grid_auto_rows": null,
            "grid_gap": null,
            "max_width": null,
            "order": null,
            "_view_module_version": "1.2.0",
            "grid_template_areas": null,
            "object_position": null,
            "object_fit": null,
            "grid_auto_columns": null,
            "margin": null,
            "display": null,
            "left": null
          }
        },
        "8d5521fdef72415fbc5e1db210604893": {
          "model_module": "@jupyter-widgets/controls",
          "model_name": "DescriptionStyleModel",
          "state": {
            "_view_name": "StyleView",
            "_model_name": "DescriptionStyleModel",
            "description_width": "",
            "_view_module": "@jupyter-widgets/base",
            "_model_module_version": "1.5.0",
            "_view_count": null,
            "_view_module_version": "1.2.0",
            "_model_module": "@jupyter-widgets/controls"
          }
        },
        "58f3e932a49f470cb7bcf9147c6a44ad": {
          "model_module": "@jupyter-widgets/base",
          "model_name": "LayoutModel",
          "state": {
            "_view_name": "LayoutView",
            "grid_template_rows": null,
            "right": null,
            "justify_content": null,
            "_view_module": "@jupyter-widgets/base",
            "overflow": null,
            "_model_module_version": "1.2.0",
            "_view_count": null,
            "flex_flow": null,
            "width": null,
            "min_width": null,
            "border": null,
            "align_items": null,
            "bottom": null,
            "_model_module": "@jupyter-widgets/base",
            "top": null,
            "grid_column": null,
            "overflow_y": null,
            "overflow_x": null,
            "grid_auto_flow": null,
            "grid_area": null,
            "grid_template_columns": null,
            "flex": null,
            "_model_name": "LayoutModel",
            "justify_items": null,
            "grid_row": null,
            "max_height": null,
            "align_content": null,
            "visibility": null,
            "align_self": null,
            "height": null,
            "min_height": null,
            "padding": null,
            "grid_auto_rows": null,
            "grid_gap": null,
            "max_width": null,
            "order": null,
            "_view_module_version": "1.2.0",
            "grid_template_areas": null,
            "object_position": null,
            "object_fit": null,
            "grid_auto_columns": null,
            "margin": null,
            "display": null,
            "left": null
          }
        }
      }
    }
  },
  "cells": [
    {
      "cell_type": "markdown",
      "metadata": {
        "id": "view-in-github",
        "colab_type": "text"
      },
      "source": [
        "<a href=\"https://colab.research.google.com/github/rquerino/Reverse-Game-of-Life/blob/master/reverse_game_of_life.ipynb\" target=\"_parent\"><img src=\"https://colab.research.google.com/assets/colab-badge.svg\" alt=\"Open In Colab\"/></a>"
      ]
    },
    {
      "cell_type": "markdown",
      "metadata": {
        "id": "8JddzBoTXdUb",
        "colab_type": "text"
      },
      "source": [
        "# Reverse game of life\n",
        "\n",
        "![cellular automata](https://upload.wikimedia.org/wikipedia/commons/e/e5/Gospers_glider_gun.gif)\n",
        "\n",
        "Explanation is based on wikipedia             \n",
        "\n",
        "**Conway's Game of Life**\n",
        "\n",
        "---\n",
        "The Game of Life, also known simply as Life, is a cellular automaton devised by the British mathematician John Horton Conway in 1970. The game is a zero-player game, meaning that its evolution is determined by its initial state, requiring no further input. One interacts with the Game of Life by creating an initial configuration and observing how it evolves.\n",
        "\n",
        "**Rules**\n",
        "\n",
        "---\n",
        "1. Any live cell with fewer than two live neighbours dies, as if by underpopulation.\n",
        "2. Any live cell with two or three live neighbours lives on to the next generation.\n",
        "3. Any live cell with more than three live neighbours dies, as if by overpopulation.\n",
        "4. Any dead cell with exactly three live neighbours becomes a live cell, as if by reproduction.\n",
        "\n"
      ]
    },
    {
      "cell_type": "markdown",
      "metadata": {
        "id": "AiCdlsPzqVpe",
        "colab_type": "text"
      },
      "source": [
        "## Game of life simulation\n",
        "Make your hand dirty to get used to it!\n",
        "\n",
        "https://bitstorm.org/gameoflife/\n",
        "<iframe src=\"https://bitstorm.org/gameoflife/\"></iframe>"
      ]
    },
    {
      "cell_type": "code",
      "metadata": {
        "id": "aJ6FPHu4XX1Y",
        "colab_type": "code",
        "colab": {}
      },
      "source": [
        "from IPython.display import IFrame, YouTubeVideo"
      ],
      "execution_count": 0,
      "outputs": []
    },
    {
      "cell_type": "code",
      "metadata": {
        "id": "CHXZ1-4UvA0Q",
        "colab_type": "code",
        "outputId": "73524e20-09ea-49bd-c46a-823133e57bf0",
        "colab": {
          "base_uri": "https://localhost:8080/"
        }
      },
      "source": [
        "%%html\n",
        "<iframe src=\"https://bitstorm.org/gameoflife/\" width=\"1200\" height=\"1000\"></iframe>"
      ],
      "execution_count": 0,
      "outputs": [
        {
          "output_type": "display_data",
          "data": {
            "text/html": [
              "<iframe src=\"https://bitstorm.org/gameoflife/\" width=\"1200\" height=\"1000\"></iframe>"
            ],
            "text/plain": [
              "<IPython.core.display.HTML object>"
            ]
          },
          "metadata": {
            "tags": []
          }
        }
      ]
    },
    {
      "cell_type": "markdown",
      "metadata": {
        "id": "Ma7IahiWwZ0O",
        "colab_type": "text"
      },
      "source": [
        "## Genetic Algorithm\n",
        "\n",
        "You don't genetic Algorithm? OMG not awesome! Study this! Be awesome!"
      ]
    },
    {
      "cell_type": "markdown",
      "metadata": {
        "id": "TzOsLjoQvs0w",
        "colab_type": "text"
      },
      "source": [
        "### What is Genetic algorithm?"
      ]
    },
    {
      "cell_type": "code",
      "metadata": {
        "id": "X47uWh4Z2_Lf",
        "colab_type": "code",
        "colab": {}
      },
      "source": [
        "# 9.1 - Genetic Algorithm: Introduction - The Nature of Code\n",
        "YouTubeVideo('9zfeTw-uFCw', width=1280, height=720)"
      ],
      "execution_count": 0,
      "outputs": []
    },
    {
      "cell_type": "code",
      "metadata": {
        "id": "1HVPMcQsvtRD",
        "colab_type": "code",
        "colab": {}
      },
      "source": [
        "# 9.2 - Genetic Algorithm: How it works - The Nature of Code\n",
        "YouTubeVideo('RxTfc4JLYKs', width=1280, height=720)"
      ],
      "execution_count": 0,
      "outputs": []
    },
    {
      "cell_type": "markdown",
      "metadata": {
        "id": "nNLNyRgA0Ess",
        "colab_type": "text"
      },
      "source": [
        "### Code Practice for Genetic Algorithm\n",
        "\n",
        "Code is based on the upon youtube"
      ]
    },
    {
      "cell_type": "code",
      "metadata": {
        "id": "KKUHeznjuxAu",
        "colab_type": "code",
        "outputId": "bb17f27d-e5fc-49a4-ebb9-df7e3bd2b172",
        "colab": {
          "base_uri": "https://localhost:8080/",
          "height": 761
        }
      },
      "source": [
        "YouTubeVideo('uCXm6avugCo', width=1280, height=720)"
      ],
      "execution_count": 0,
      "outputs": [
        {
          "output_type": "execute_result",
          "data": {
            "text/html": [
              "\n",
              "        <iframe\n",
              "            width=\"1280\"\n",
              "            height=\"720\"\n",
              "            src=\"https://www.youtube.com/embed/uCXm6avugCo\"\n",
              "            frameborder=\"0\"\n",
              "            allowfullscreen\n",
              "        ></iframe>\n",
              "        "
            ],
            "text/plain": [
              "<IPython.lib.display.YouTubeVideo at 0x7f54803500f0>"
            ],
            "image/jpeg": "[encoded data removed]"
          },
          "metadata": {
            "tags": []
          },
          "execution_count": 31
        }
      ]
    },
    {
      "cell_type": "code",
      "metadata": {
        "id": "FmZoSrI3wE5l",
        "colab_type": "code",
        "colab": {}
      },
      "source": [
        "import pandas as pd\n",
        "import numpy as np\n",
        "import random\n",
        "import copy\n",
        "import matplotlib.pyplot as plt\n",
        "import seaborn as sns\n",
        "import os"
      ],
      "execution_count": 0,
      "outputs": []
    },
    {
      "cell_type": "code",
      "metadata": {
        "id": "Kwq2GKFn1hKL",
        "colab_type": "code",
        "colab": {}
      },
      "source": [
        "def initialize_map(p_zero, N):\n",
        "    \"\"\"\n",
        "    first thing is to create the map that you're trying to navigate.  I will do this randomly.\n",
        "    This will be of the form of a adjacency matrix...\n",
        "    In other words, an NxN matrix where each row and column correspond to an intersection on a map\n",
        "    X_ij, then is equal to the amount of time that it takes to get from position i to position j\n",
        "    could also be considered a distance measure... but whatever is easier to think about.\n",
        "    practically, then we need a matrix that has numeric values in it... \n",
        "    there should be some paths that don't exist.  I will assign these a 0.  \n",
        "    For instance, if you can't get directly from i to j, then X_ij = 0\n",
        "    \n",
        "    The initialization needs some tuning parameters.  One is the proportion of 0's in the final result\n",
        "    \"\"\"\n",
        "    the_map = np.zeros((N,N))\n",
        "    for i in range(0, N):\n",
        "        for j in range(0, i):\n",
        "            if random.random() > p_zero:\n",
        "                the_map[i][j] = random.random()\n",
        "                the_map[j][i] = the_map[i][j]\n",
        "    return the_map"
      ],
      "execution_count": 0,
      "outputs": []
    },
    {
      "cell_type": "code",
      "metadata": {
        "id": "IAar4HL22hKd",
        "colab_type": "code",
        "colab": {}
      },
      "source": [
        "# Let's make a more complicated map that has at least 10 stops that have to be made and see what happens.\n",
        "def initialize_complex_map(p_zero, N, groups):\n",
        "    the_map = np.zeros((N,N))\n",
        "    for i in range(0, N):\n",
        "        for j in range(0, i):\n",
        "            group_i = int(i/(N/groups))\n",
        "            group_j = int(j/(N/groups))\n",
        "            if random.random() > p_zero and abs(group_i - group_j) <= 1:\n",
        "                the_map[i][j] = random.random()\n",
        "                the_map[j][i] = the_map[i][j]\n",
        "    ax = sns.heatmap(the_map)\n",
        "    plt.show()\n",
        "    return the_map"
      ],
      "execution_count": 0,
      "outputs": []
    },
    {
      "cell_type": "code",
      "metadata": {
        "id": "UPPlCDvv1hfF",
        "colab_type": "code",
        "colab": {}
      },
      "source": [
        "#this just creates a population of different routes of a fixed size. Pretty straightforward.\n",
        "def create_starting_population(size, the_map):\n",
        "    population = []\n",
        "    for i in range(0,size):\n",
        "        population.append(create_new_member(the_map))\n",
        "    return population"
      ],
      "execution_count": 0,
      "outputs": []
    },
    {
      "cell_type": "code",
      "metadata": {
        "id": "Ax4n44t81hYz",
        "colab_type": "code",
        "colab": {}
      },
      "source": [
        "def fitness(route, the_map):\n",
        "    score = 0\n",
        "    for i in range(1, len(route)):\n",
        "        if (the_map[route[i-1]][route[i]] == 0) and i != len(the_map)-1:\n",
        "            print(\"WARNING: INVALID ROUTE\")\n",
        "            print(route)\n",
        "            print(the_map)\n",
        "        score = score + the_map[route[i-1]][route[i]]\n",
        "    return score"
      ],
      "execution_count": 0,
      "outputs": []
    },
    {
      "cell_type": "code",
      "metadata": {
        "id": "zo9DaZM31hRv",
        "colab_type": "code",
        "colab": {}
      },
      "source": [
        "def crossover(a, b):\n",
        "    \"\"\"\n",
        "    I initially made an error here by allowing routes to crossover at any point, which obviously won't work\n",
        "    you have to insure that when the two routes cross over that the resulting routes produce a valid route\n",
        "    which means that crossover points have to be at the same position value on the map\n",
        "    \"\"\"\n",
        "    common_elements = set(a) & set(b)\n",
        "    if len(common_elements) == 2:\n",
        "        return (a, b)\n",
        "    else:\n",
        "        common_elements.remove(0)\n",
        "        common_elements.remove(max(a)) \n",
        "        value = random.sample(common_elements, 1)        \n",
        "\n",
        "    cut_a = np.random.choice(np.where(np.isin(a, value))[0])\n",
        "    cut_b = np.random.choice(np.where(np.isin(b, value))[0])\n",
        "    \n",
        "    new_a1 = copy.deepcopy(a[0:cut_a])\n",
        "    new_a2 = copy.deepcopy(b[cut_b:])\n",
        "    \n",
        "    new_b1 = copy.deepcopy(b[0:cut_b])\n",
        "    new_b2 = copy.deepcopy(a[cut_a:])\n",
        "    \n",
        "    new_a = np.append(new_a1, new_a2)\n",
        "    new_b = np.append(new_b1, new_b2)\n",
        "       \n",
        "    return (new_a, new_b)"
      ],
      "execution_count": 0,
      "outputs": []
    },
    {
      "cell_type": "code",
      "metadata": {
        "id": "ffZvys2f1g-y",
        "colab_type": "code",
        "colab": {}
      },
      "source": [
        "def mutate(route, probability, the_map):\n",
        "    new_route = copy.deepcopy(route)\n",
        "    for i in range(1, len(new_route)):\n",
        "        if random.random() < probability:\n",
        "            go = True\n",
        "            while go:\n",
        "                possible_values = np.nonzero(the_map[new_route[i-1]])\n",
        "                proposed_value = random.randint(0,len(possible_values[0])-1)\n",
        "                route = np.append(new_route, possible_values[0][proposed_value])\n",
        "\n",
        "                if new_route[i] == len(the_map)-1:\n",
        "                    go = False\n",
        "                else:\n",
        "                    i += 1\n",
        "    return new_route"
      ],
      "execution_count": 0,
      "outputs": []
    },
    {
      "cell_type": "code",
      "metadata": {
        "id": "KerNWeBq9l84",
        "colab_type": "code",
        "colab": {}
      },
      "source": [
        "def create_new_member(the_map):\n",
        "    \"\"\"\n",
        "    here we are going to create a new route\n",
        "    the new route can have any number of steps, so we'll select that randomly\n",
        "    the structure of the route will be a vector of integers where each value is the next step in the route\n",
        "    Everyone starts at 0, so the first value in the vector will indicate where to attempt to go next.\n",
        "    That is, if v_i = 4, then that would correspond to X_0,4 in the map that was created at initialization\n",
        "    \n",
        "    N is the size of the map, so we need to make sure that \n",
        "    we don't generate any values that exceed the size of the map\n",
        "    \"\"\"\n",
        "    N = len(the_map)\n",
        "    route = np.zeros(1, dtype=int)\n",
        "    go = True\n",
        "    i = 1\n",
        "    while go:    \n",
        "        possible_values = np.nonzero(the_map[route[i-1]])\n",
        "        proposed_value = random.randint(0,len(possible_values[0])-1)\n",
        "        route = np.append(route, possible_values[0][proposed_value])\n",
        "                \n",
        "        if route[i] == N-1:\n",
        "            go = False\n",
        "        else:\n",
        "            i += 1\n",
        "    return route"
      ],
      "execution_count": 0,
      "outputs": []
    },
    {
      "cell_type": "code",
      "metadata": {
        "id": "RKEM_Zqi90kX",
        "colab_type": "code",
        "colab": {}
      },
      "source": [
        "def score_population(population, the_map):\n",
        "    scores = []\n",
        "    for i in range(0, len(population)):\n",
        "        scores += [fitness(population[i], the_map)]    \n",
        "    return scores"
      ],
      "execution_count": 0,
      "outputs": []
    },
    {
      "cell_type": "code",
      "metadata": {
        "id": "bY381ijZ94lB",
        "colab_type": "code",
        "colab": {}
      },
      "source": [
        "def pick_mate(scores):\n",
        "    array = np.array(scores)\n",
        "    temp = array.argsort()\n",
        "    ranks = np.empty_like(temp)\n",
        "    ranks[temp] = np.arange(len(array))\n",
        "    fitness = [len(ranks) - x for x in ranks]\n",
        "    \n",
        "    cum_scores = copy.deepcopy(fitness)\n",
        "    for i in range(1,len(cum_scores)):\n",
        "        cum_scores[i] = fitness[i] + cum_scores[i-1]\n",
        "        \n",
        "    probs = [x / cum_scores[-1] for x in cum_scores]\n",
        "    rand = random.random()\n",
        "    for i in range(0, len(probs)):\n",
        "        if rand < probs[i]:\n",
        "            return i"
      ],
      "execution_count": 0,
      "outputs": []
    },
    {
      "cell_type": "code",
      "metadata": {
        "id": "rVmCgatQ-vPI",
        "colab_type": "code",
        "colab": {}
      },
      "source": [
        "def plot_best(the_map, route, iteration_number):\n",
        "    ax = sns.heatmap(the_map)\n",
        "\n",
        "    x=[0.5] + [x + 0.5 for x in route[0:len(route)-1]] + [len(the_map) - 0.5]\n",
        "    y=[0.5] + [x + 0.5 for x in route[1:len(route)]] + [len(the_map) - 0.5]\n",
        "    \n",
        "    plt.plot(x, y, marker = 'o', linewidth=4, markersize=12, linestyle = \"-\", color='white')\n",
        "    # Create a image folder if there nothing\n",
        "    if (os.path.isdir(\"/genetic_images\") == False):\n",
        "        os.mkdir(\"/genetic_images\")\n",
        "    plt.savefig('/genetic_images/new1000plot_%i.png' %(iteration_number), dpi=300)\n",
        "    plt.show()"
      ],
      "execution_count": 0,
      "outputs": []
    },
    {
      "cell_type": "code",
      "metadata": {
        "id": "7ZttxIoJ-nE-",
        "colab_type": "code",
        "colab": {}
      },
      "source": [
        "def main():\n",
        "    # parameters\n",
        "    sparseness_of_map = 0.95\n",
        "    size_of_map = 100\n",
        "    population_size = 30\n",
        "    number_of_iterations = 2000\n",
        "    number_of_couples = 9\n",
        "    number_of_winners_to_keep = 2\n",
        "    mutation_probability = 0.05\n",
        "    number_of_groups = 1\n",
        "    \n",
        "    # initialize the map and save it\n",
        "    the_map = initialize_complex_map(sparseness_of_map, size_of_map, number_of_groups)\n",
        "\n",
        "    # create the starting population\n",
        "    population = create_starting_population(population_size, the_map)\n",
        "\n",
        "    last_distance = 1000000000\n",
        "    # for a large number of iterations do:\n",
        "        \n",
        "    for i in range(0,number_of_iterations):\n",
        "        new_population = []\n",
        "        \n",
        "        # evaluate the fitness of the current population\n",
        "        scores = score_population(population, the_map)\n",
        "\n",
        "        best = population[np.argmin(scores)]\n",
        "        number_of_moves = len(best)\n",
        "        distance = fitness(best, the_map)\n",
        "        \n",
        "        if distance != last_distance:\n",
        "            print('Iteration %i: Best so far is %i steps for a distance of %f' % (i, number_of_moves, distance))\n",
        "            plot_best(the_map, best, i)\n",
        "\n",
        "        \n",
        "        # allow members of the population to breed based on their relative score; \n",
        "            # i.e., if their score is higher they're more likely to breed\n",
        "        for j in range(0, number_of_couples):  \n",
        "            new_1, new_2 = crossover(population[pick_mate(scores)], population[pick_mate(scores)])\n",
        "            new_population = new_population + [new_1, new_2]\n",
        "  \n",
        "        # mutate\n",
        "        for j in range(0, len(new_population)):\n",
        "            new_population[j] = np.copy(mutate(new_population[j], 0.05, the_map))\n",
        "            \n",
        "        # keep members of previous generation\n",
        "        new_population += [population[np.argmin(scores)]]\n",
        "        for j in range(1, number_of_winners_to_keep):\n",
        "            keeper = pick_mate(scores)            \n",
        "            new_population += [population[keeper]]\n",
        "            \n",
        "        # add new random members\n",
        "        while len(new_population) < population_size:\n",
        "            new_population += [create_new_member(the_map)]\n",
        "            \n",
        "        #replace the old population with a real copy\n",
        "        population = copy.deepcopy(new_population)\n",
        "                \n",
        "        last_distance = distance\n",
        "        \n",
        "    # plot the results"
      ],
      "execution_count": 0,
      "outputs": []
    },
    {
      "cell_type": "code",
      "metadata": {
        "id": "_me58py1-3Ux",
        "colab_type": "code",
        "outputId": "fe15040b-00f1-4336-fe27-df04a4f3548d",
        "colab": {
          "base_uri": "https://localhost:8080/",
          "height": 808
        }
      },
      "source": [
        "main()"
      ],
      "execution_count": 0,
      "outputs": [
        {
          "output_type": "display_data",
          "data": {
            "image/png": "[encoded data removed]",
            "text/plain": [
              "<Figure size 432x288 with 2 Axes>"
            ]
          },
          "metadata": {
            "tags": []
          }
        },
        {
          "output_type": "stream",
          "text": [
            "Iteration 0: Best so far is 7 steps for a distance of 3.748715\n"
          ],
          "name": "stdout"
        },
        {
          "output_type": "display_data",
          "data": {
            "image/png": "[encoded data removed]",
            "text/plain": [
              "<Figure size 432x288 with 2 Axes>"
            ]
          },
          "metadata": {
            "tags": []
          }
        },
        {
          "output_type": "error",
          "ename": "ValueError",
          "evalue": "ignored",
          "traceback": [
            "\u001b[0;31m---------------------------------------------------------------------------\u001b[0m",
            "\u001b[0;31mValueError\u001b[0m                                Traceback (most recent call last)",
            "\u001b[0;32m<ipython-input-87-263240bbee7e>\u001b[0m in \u001b[0;36m<module>\u001b[0;34m()\u001b[0m\n\u001b[0;32m----> 1\u001b[0;31m \u001b[0mmain\u001b[0m\u001b[0;34m(\u001b[0m\u001b[0;34m)\u001b[0m\u001b[0;34m\u001b[0m\u001b[0;34m\u001b[0m\u001b[0m\n\u001b[0m",
            "\u001b[0;32m<ipython-input-86-55827ad36c27>\u001b[0m in \u001b[0;36mmain\u001b[0;34m()\u001b[0m\n\u001b[1;32m     37\u001b[0m             \u001b[0;31m# i.e., if their score is higher they're more likely to breed\u001b[0m\u001b[0;34m\u001b[0m\u001b[0;34m\u001b[0m\u001b[0;34m\u001b[0m\u001b[0m\n\u001b[1;32m     38\u001b[0m         \u001b[0;32mfor\u001b[0m \u001b[0mj\u001b[0m \u001b[0;32min\u001b[0m \u001b[0mrange\u001b[0m\u001b[0;34m(\u001b[0m\u001b[0;36m0\u001b[0m\u001b[0;34m,\u001b[0m \u001b[0mnumber_of_couples\u001b[0m\u001b[0;34m)\u001b[0m\u001b[0;34m:\u001b[0m\u001b[0;34m\u001b[0m\u001b[0;34m\u001b[0m\u001b[0m\n\u001b[0;32m---> 39\u001b[0;31m             \u001b[0mnew_1\u001b[0m\u001b[0;34m,\u001b[0m \u001b[0mnew_2\u001b[0m \u001b[0;34m=\u001b[0m \u001b[0mcrossover\u001b[0m\u001b[0;34m(\u001b[0m\u001b[0mpopulation\u001b[0m\u001b[0;34m[\u001b[0m\u001b[0mpick_mate\u001b[0m\u001b[0;34m(\u001b[0m\u001b[0mscores\u001b[0m\u001b[0;34m)\u001b[0m\u001b[0;34m]\u001b[0m\u001b[0;34m,\u001b[0m \u001b[0mpopulation\u001b[0m\u001b[0;34m[\u001b[0m\u001b[0mpick_mate\u001b[0m\u001b[0;34m(\u001b[0m\u001b[0mscores\u001b[0m\u001b[0;34m)\u001b[0m\u001b[0;34m]\u001b[0m\u001b[0;34m)\u001b[0m\u001b[0;34m\u001b[0m\u001b[0;34m\u001b[0m\u001b[0m\n\u001b[0m\u001b[1;32m     40\u001b[0m             \u001b[0mnew_population\u001b[0m \u001b[0;34m=\u001b[0m \u001b[0mnew_population\u001b[0m \u001b[0;34m+\u001b[0m \u001b[0;34m[\u001b[0m\u001b[0mnew_1\u001b[0m\u001b[0;34m,\u001b[0m \u001b[0mnew_2\u001b[0m\u001b[0;34m]\u001b[0m\u001b[0;34m\u001b[0m\u001b[0;34m\u001b[0m\u001b[0m\n\u001b[1;32m     41\u001b[0m \u001b[0;34m\u001b[0m\u001b[0m\n",
            "\u001b[0;31mValueError\u001b[0m: too many values to unpack (expected 2)"
          ]
        }
      ]
    },
    {
      "cell_type": "markdown",
      "metadata": {
        "id": "CrXPD1qlxNmr",
        "colab_type": "text"
      },
      "source": [
        "## Dataset\n",
        "\n",
        "Load the dataset from github and preprocess it to build a dataset to use in machine learning\n",
        "\n",
        "    - train             [id / step / start board / end board]\n",
        "    - test              [id / end board]\n",
        "    - sample submission [id / start board] "
      ]
    },
    {
      "cell_type": "code",
      "metadata": {
        "id": "7khgvm5ayDEh",
        "colab_type": "code",
        "colab": {}
      },
      "source": [
        "import pandas as pd\n",
        "import numpy as np\n",
        "\n",
        "# Import dataset from github\n",
        "train_pd = pd.read_csv(\"https://raw.githubusercontent.com/rquerino/Reverse-Game-of-Life/master/resources/train.csv\")\n",
        "test_pd = pd.read_csv(\"https://raw.githubusercontent.com/rquerino/Reverse-Game-of-Life/master/resources/test.csv\")\n",
        "sample_submission_pd = pd.read_csv(\"https://raw.githubusercontent.com/rquerino/Reverse-Game-of-Life/master/resources/sampleSubmission.csv\")"
      ],
      "execution_count": 0,
      "outputs": []
    },
    {
      "cell_type": "code",
      "metadata": {
        "id": "_mEXYX0SNeYY",
        "colab_type": "code",
        "colab": {}
      },
      "source": [
        "from tqdm import tqdm_notebook as tqdm\n",
        "def preprocess_dataset(pandas_dataset, type=\"train\"):\n",
        "    dataset = {}\n",
        "    if (type == \"train\"):\n",
        "        for data in tqdm(pandas_dataset.values):\n",
        "            dataset[data[0]] = {\"step\": data[1],\n",
        "                                \"start\": data[2:402].reshape(20, 20),\n",
        "                                \"end\": data[402:802].reshape(20, 20)}\n",
        "    elif (type == \"test\"):\n",
        "        for data in tqdm(pandas_dataset.values):\n",
        "            dataset[data[0]] = {\"step\": data[1],\n",
        "                                \"end\": data[2:402].reshape(20, 20)}\n",
        "    return dataset"
      ],
      "execution_count": 0,
      "outputs": []
    },
    {
      "cell_type": "code",
      "metadata": {
        "id": "kAMMOiExPfom",
        "colab_type": "code",
        "outputId": "a07a0c54-eed8-4de6-ba7e-c8b6923a05d4",
        "colab": {
          "base_uri": "https://localhost:8080/",
          "referenced_widgets": [
            "ac2bbbd777124006a5a640f23780858d",
            "b10a816fb3424a0c8044958cee10997e",
            "ac32526c961547158a601b82c568720d",
            "cb154b820f8845ebab8490cf4be26885",
            "ea538f5128e14cb392d88b938cad96a5",
            "c61ec2583eb94b3890f7c7b12bcf6faa",
            "09cd24ed4bd54b74b2fa14227f96d8b9",
            "aa9cfb98c93f486f84dcef5372c694e4",
            "5ee936b5a6b9483db8761ba7a7bf730f",
            "3ed59e5354d84c78a8a4a9b4f4b99c8d",
            "2e65a37e13de4ebcac1413d2233dcf9f",
            "75f2af85c27b466c99d837c673e7a25f",
            "4d9e4dd2340b47e7a8c64312a5b82f26",
            "1b6eb6655cd74856b701d662f9a243d9",
            "90ccb1c04cf24c0b99d626892157a296",
            "b28734f8520e467ab9688093fb5c4040"
          ]
        }
      },
      "source": [
        "print(\"Building train set\")\n",
        "train_set = preprocess_dataset(train_pd)\n",
        "print(\"Building test set\")\n",
        "test_set = preprocess_dataset(test_pd, type=\"test\")"
      ],
      "execution_count": 0,
      "outputs": [
        {
          "output_type": "stream",
          "text": [
            "Building train set\n"
          ],
          "name": "stdout"
        },
        {
          "output_type": "display_data",
          "data": {
            "application/vnd.jupyter.widget-view+json": {
              "model_id": "ac2bbbd777124006a5a640f23780858d",
              "version_minor": 0,
              "version_major": 2
            },
            "text/plain": [
              "HBox(children=(IntProgress(value=0, max=50000), HTML(value='')))"
            ]
          },
          "metadata": {
            "tags": []
          }
        },
        {
          "output_type": "stream",
          "text": [
            "\n",
            "Building test set\n"
          ],
          "name": "stdout"
        },
        {
          "output_type": "display_data",
          "data": {
            "application/vnd.jupyter.widget-view+json": {
              "model_id": "5ee936b5a6b9483db8761ba7a7bf730f",
              "version_minor": 0,
              "version_major": 2
            },
            "text/plain": [
              "HBox(children=(IntProgress(value=0, max=50000), HTML(value='')))"
            ]
          },
          "metadata": {
            "tags": []
          }
        },
        {
          "output_type": "stream",
          "text": [
            "\n"
          ],
          "name": "stdout"
        }
      ]
    },
    {
      "cell_type": "markdown",
      "metadata": {
        "id": "VmmVGeMS3GBI",
        "colab_type": "text"
      },
      "source": [
        "## Genetic machine learning\n",
        "\n"
      ]
    },
    {
      "cell_type": "markdown",
      "metadata": {
        "id": "EXfNIPbNqM-b",
        "colab_type": "text"
      },
      "source": [
        "### Utilize tools\n",
        "\n",
        "- `visualize board` - visualize the conway board using seaborn heatmap\n",
        "- `check valid game` - Check the conway game model works exactly same as original conway game"
      ]
    },
    {
      "cell_type": "code",
      "metadata": {
        "id": "ed7Cy7ovSabe",
        "colab_type": "code",
        "colab": {}
      },
      "source": [
        "import matplotlib.pyplot as plt\n",
        "import seaborn as sns\n",
        "%matplotlib inline\n",
        "\n",
        "def visualize_board(board):\n",
        "    plt.figure(figsize=(7, 7))\n",
        "    sns.heatmap(board,\n",
        "                square=True,\n",
        "                linewidths=0.1,\n",
        "                linecolor='gray',)\n",
        "                # xticklabels=False,\n",
        "                # yticklabels=False)"
      ],
      "execution_count": 0,
      "outputs": []
    },
    {
      "cell_type": "code",
      "metadata": {
        "id": "PpPHx9TkihHh",
        "colab_type": "code",
        "colab": {}
      },
      "source": [
        "import sys\n",
        "def check_valid_game(dataset, conway_game):\n",
        "    total_len = len(dataset)\n",
        "    correct = 0\n",
        "    for i in tqdm(range(1, total_len + 1)):\n",
        "        result = conway_game(dataset[i][\"start\"], dataset[i][\"step\"])\n",
        "        if (result == dataset[i][\"end\"]).all():\n",
        "            correct += 1\n",
        "        sys.stdout.write(\"\\rChecking the game is valid... {} / {}\".format(correct, total_len))\n",
        "        sys.stdout.flush()"
      ],
      "execution_count": 0,
      "outputs": []
    },
    {
      "cell_type": "markdown",
      "metadata": {
        "id": "UKuQRxJm7pEl",
        "colab_type": "text"
      },
      "source": [
        "### Conway game\n",
        "\n",
        "Implementing conway game. This wont be used in case of building a neural network model. But will be used when we are directly finding the answer\n",
        "\n",
        "![cellular automata](https://upload.wikimedia.org/wikipedia/commons/e/e5/Gospers_glider_gun.gif)\n"
      ]
    },
    {
      "cell_type": "code",
      "metadata": {
        "id": "I-HD-Ins7m9m",
        "colab_type": "code",
        "colab": {}
      },
      "source": [
        "from copy import deepcopy\n",
        "\n",
        "class ConwayGameOfLife(object):\n",
        "    \"\"\"Implementation of Conway Game of Life\"\"\"\n",
        "    def __init__(self, board_size):\n",
        "        \"\"\"\n",
        "        Prepare neccesary values\n",
        "\n",
        "        :param Tuple board_size: (h, w) board height and width\n",
        "        :param list neighbor_coord: [(-1, -1), (-1, 0), (-1, 1), (0, -1), (0, 1), (1, -1), (1, 0), (1, 1)]\n",
        "        :param int width: width\n",
        "        :param int height: height\n",
        "        \"\"\"\n",
        "        self.neighbor_coord = [(i, j) for i in range(-1, 2) for j in range(-1, 2) if i != 0 or j != 0]\n",
        "        self.height = board_size[0]\n",
        "        self.width = board_size[1]\n",
        "\n",
        "    def __call__(self, board, step):\n",
        "        return self._process_game(board, step)\n",
        "\n",
        "    def _neighbor_count(self, board, h, w):\n",
        "        total = 0\n",
        "        for n_h, n_w in self.neighbor_coord:\n",
        "            if (0 <= h + n_h < self.height\n",
        "                and 0 <= w + n_w < self.width\n",
        "                and board[h + n_h][w + n_w]):\n",
        "                    total += 1\n",
        "        return total\n",
        "    \n",
        "    def _evolve(self, board):\n",
        "        new_board = deepcopy(board)\n",
        "        for h in range(self.height):\n",
        "            for w in range(self.width):\n",
        "                live_num = self._neighbor_count(board, h, w)\n",
        "                if board[h][w] and not (live_num == 2 or live_num ==3):\n",
        "                    new_board[h][w] = 0\n",
        "                elif board[h][w] == 0 and live_num == 3:\n",
        "                    new_board[h][w] = 1\n",
        "        return new_board\n",
        "\n",
        "    def _process_game(self, board, step):\n",
        "        for _ in range(step):\n",
        "            board = self._evolve(board)\n",
        "        return board\n"
      ],
      "execution_count": 0,
      "outputs": []
    },
    {
      "cell_type": "code",
      "metadata": {
        "id": "BRSQPy2xAX_4",
        "colab_type": "code",
        "colab": {}
      },
      "source": [
        "# Create the game\n",
        "game = ConwayGameOfLife((20, 20))"
      ],
      "execution_count": 0,
      "outputs": []
    },
    {
      "cell_type": "code",
      "metadata": {
        "id": "WADeXHN7j2jT",
        "colab_type": "code",
        "outputId": "54e4ef53-cab6-4951-f835-afb3e91d53b2",
        "colab": {
          "base_uri": "https://localhost:8080/",
          "referenced_widgets": [
            "4ae5bfba84774f00a38d05f9927edd85",
            "0fb58810f8134fb78b69711e1ba3bd34",
            "96a1bbfb8082430cbc794c0b0d001354",
            "56189ab0786a4732be2fdca09ee44db2",
            "21d630a2d49b459686373d9c47edea46",
            "7c463b142f744f05a43760f0c05417e7",
            "8d5521fdef72415fbc5e1db210604893",
            "58f3e932a49f470cb7bcf9147c6a44ad"
          ]
        }
      },
      "source": [
        "# Check the game is valid compared to the original\n",
        "check_valid_game(train_set, game)"
      ],
      "execution_count": 0,
      "outputs": [
        {
          "output_type": "display_data",
          "data": {
            "application/vnd.jupyter.widget-view+json": {
              "model_id": "4ae5bfba84774f00a38d05f9927edd85",
              "version_minor": 0,
              "version_major": 2
            },
            "text/plain": [
              "HBox(children=(IntProgress(value=0, max=50000), HTML(value='')))"
            ]
          },
          "metadata": {
            "tags": []
          }
        },
        {
          "output_type": "stream",
          "text": [
            "Checking the game is valid... 50000 / 50000\n"
          ],
          "name": "stdout"
        }
      ]
    },
    {
      "cell_type": "code",
      "metadata": {
        "id": "vqerp1EiQzVM",
        "colab_type": "code",
        "outputId": "b2593cf3-5d4e-4a49-b5f9-27610dc7bf9e",
        "colab": {
          "base_uri": "https://localhost:8080/"
        }
      },
      "source": [
        "# Check the created game's output and original conway game's output\n",
        "result = game(train_set[5][\"start\"], train_set[5][\"step\"])\n",
        "visualize_board(result)\n",
        "visualize_board(train_set[5][\"end\"])"
      ],
      "execution_count": 0,
      "outputs": [
        {
          "output_type": "display_data",
          "data": {
            "image/png": "[encoded data removed]",
            "text/plain": [
              "<Figure size 504x504 with 2 Axes>"
            ]
          },
          "metadata": {
            "tags": []
          }
        },
        {
          "output_type": "display_data",
          "data": {
            "image/png": "[encoded data removed]",
            "text/plain": [
              "<Figure size 504x504 with 2 Axes>"
            ]
          },
          "metadata": {
            "tags": []
          }
        }
      ]
    },
    {
      "cell_type": "markdown",
      "metadata": {
        "id": "2h6jiPJmoz4Z",
        "colab_type": "text"
      },
      "source": [
        "### Create a model\n",
        "\n",
        "end board -> model -> start board\n",
        "\n",
        "    model (hyperparmeter - layer_num, threshold)\n",
        "\n",
        "**1 step represents one back step**\n",
        "1. 1 evolve of conway game is 1 step\n",
        "2. 1 step is has `few number of layers` (20 x 20 matrix)\n",
        "3. 1 layer is consisted with (20 x 20) matrix and activation layer that will decide to make 0 or 1 depend on the threshold"
      ]
    },
    {
      "cell_type": "code",
      "metadata": {
        "id": "dz4g24enpLWU",
        "colab_type": "code",
        "colab": {}
      },
      "source": [
        "from copy import deepcopy\n",
        "\n",
        "class Layer(object):\n",
        "    \"\"\"One layer\"\"\"\n",
        "    def __init__(self, layer_size):\n",
        "        \"\"\"\n",
        "        Prepare neccesary values\n",
        "\n",
        "        :param Tuple layer_size: (h, w) layer height and width \n",
        "        \"\"\"\n",
        "        self.layer_size = layer_size\n",
        "        self.weight = None\n",
        "        self.bias = None\n",
        "\n",
        "        # create the layer\n",
        "        self._create_layer()\n",
        "    \n",
        "    def __call__(self, x, activation=True):\n",
        "        return self._forward(x, activation)\n",
        "\n",
        "    def __str__(self):\n",
        "        return \"weight\\nshape : {}\\n{}\\n\\nbias\\nshape : {}\\n{}\\n\".format(self.weight.shape,\n",
        "                                                                         self.weight,\n",
        "                                                                         self.bias.shape,\n",
        "                                                                         self.bias)\n",
        "\n",
        "    def __repr__(self):\n",
        "        return \"Layer({})\".format(self.layer_size)\n",
        "    \n",
        "    def _create_layer(self):\n",
        "        self._weight_initialize()\n",
        "        self._bias_initialize()\n",
        "\n",
        "    def _weight_initialize(self):\n",
        "        self.weight = np.random.randn(self.layer_size[0],\n",
        "                                      self.layer_size[1])\n",
        "        mean = self.weight.mean()\n",
        "        var = 2 / (self.layer_size[0] + self.layer_size[1]) # Var(W_i) = 2 / (n_in + n_out)\n",
        "\n",
        "        # Z score\n",
        "        self.weight = ((self.weight - mean) / var)\n",
        "\n",
        "    def _bias_initialize(self):\n",
        "        self.bias = np.random.randn(self.layer_size[1])\n",
        "\n",
        "    def _activation(self, x):\n",
        "        # This is ReLU activation\n",
        "        x_shape = x.shape\n",
        "        x = x.reshape(-1)\n",
        "        x[np.where((x < 0).reshape(-1))] = 0\n",
        "        return x.reshape(x_shape)\n",
        "\n",
        "    def _forward(self, x, activation):\n",
        "        if activation:\n",
        "            return self._activation((x @ self.weight) + self.bias)\n",
        "        else:\n",
        "            return (x @ self.weight + self.bias)"
      ],
      "execution_count": 0,
      "outputs": []
    },
    {
      "cell_type": "code",
      "metadata": {
        "id": "JInFb-993CUa",
        "colab_type": "code",
        "colab": {}
      },
      "source": [
        "class MultiLayers(object):\n",
        "    \"\"\"Multi layers\"\"\"\n",
        "    def __init__(self, layer_num, threshold, layer_size_list=None):\n",
        "        \"\"\"\n",
        "        Prepare neccesary values\n",
        "\n",
        "        :param Tuple layer_size_list: [(h, w), ... , (h, w)]\n",
        "            -> list of layer size tuples height and width\n",
        "            -> if None fill the list to default value (20, 20)\n",
        "        \"\"\"\n",
        "        self.layer_num = layer_num\n",
        "        self._threshold = threshold\n",
        "        self.layer_size_list = None\n",
        "        self.layer_list = []\n",
        "\n",
        "        # Initialize layers size\n",
        "        if (layer_size_list):\n",
        "            self.layer_size_list = layer_size_list\n",
        "        else:\n",
        "            self.layer_size_list = [(20, 20) for _ in range(self.layer_num)]\n",
        "\n",
        "        # Initialize layers\n",
        "        self._create_layers()\n",
        "\n",
        "    def __call__(self, x):\n",
        "        return self._forward(x)\n",
        "\n",
        "    def __str__(self):\n",
        "        status = \"\"\n",
        "        for i in range(1, self.layer_num + 1):\n",
        "            status += \"layer {}\\n\".format(i)\n",
        "            status += str(self.layer_list[i - 1])\n",
        "            status += \"\\n\"\n",
        "        return status\n",
        "    \n",
        "    def __repr__(self):\n",
        "        return \"MultiLayers({}, {}, {})\".format(self.layer_num,\n",
        "                                                self._threshold,\n",
        "                                                self.layer_size_list)\n",
        "        \n",
        "    def change_threshold(self, threshold):\n",
        "        print(\"Threshold changed from {} \".format(self._threshold), end=\"\")\n",
        "        self._threshold = threshold\n",
        "        print(\"to {}\".format(self._threshold))\n",
        "        \n",
        "\n",
        "    def _create_layers(self):\n",
        "        for layer_size in self.layer_size_list:\n",
        "            self.layer_list.append(Layer(layer_size))\n",
        "    \n",
        "    def _create_board(self, x):\n",
        "        x_shape = x.shape\n",
        "        x = x.reshape(-1)\n",
        "        x[np.where((x >= self._threshold).reshape(-1))] = 1\n",
        "        x[np.where((x < self._threshold).reshape(-1))] = 0\n",
        "        return x.reshape(x_shape)\n",
        "    \n",
        "    def _forward(self, x):\n",
        "        for i, layer in enumerate(self.layer_list):\n",
        "            if (i == (self.layer_num - 1)):\n",
        "                # Don't apply ReLU activation at the last layer\n",
        "                x = layer(x, activation=False)\n",
        "            else:\n",
        "                x = layer(x)\n",
        "        \n",
        "        # Apply threshold\n",
        "        return self._create_board(x)\n"
      ],
      "execution_count": 0,
      "outputs": []
    },
    {
      "cell_type": "code",
      "metadata": {
        "id": "Q0A1zQmFGlT2",
        "colab_type": "code",
        "colab": {}
      },
      "source": [
        "l = MultiLayers(2, 0.5)"
      ],
      "execution_count": 0,
      "outputs": []
    },
    {
      "cell_type": "code",
      "metadata": {
        "id": "c6i5UMK9HJeL",
        "colab_type": "code",
        "outputId": "4bf47b8b-2751-41e1-8488-10cde1bfeb76",
        "colab": {
          "base_uri": "https://localhost:8080/",
          "height": 34
        }
      },
      "source": [
        "l"
      ],
      "execution_count": 243,
      "outputs": [
        {
          "output_type": "execute_result",
          "data": {
            "text/plain": [
              "MultiLayers(2, 0.5, [(20, 20), (20, 20)])"
            ]
          },
          "metadata": {
            "tags": []
          },
          "execution_count": 243
        }
      ]
    },
    {
      "cell_type": "code",
      "metadata": {
        "id": "Y0BicQQJYjwf",
        "colab_type": "code",
        "colab": {
          "base_uri": "https://localhost:8080/",
          "height": 421
        },
        "outputId": "c0d78b24-43e6-45af-b845-0b2b8109979e"
      },
      "source": [
        "result = l(result)\n",
        "visualize_board(result)"
      ],
      "execution_count": 270,
      "outputs": [
        {
          "output_type": "display_data",
          "data": {
            "image/png": "[encoded data removed]",
            "text/plain": [
              "<Figure size 504x504 with 2 Axes>"
            ]
          },
          "metadata": {
            "tags": []
          }
        }
      ]
    },
    {
      "cell_type": "code",
      "metadata": {
        "id": "1cwFO34xX1Dx",
        "colab_type": "code",
        "colab": {
          "base_uri": "https://localhost:8080/",
          "height": 34
        },
        "outputId": "9745ddff-adeb-4d6b-96a9-5b36a149a449"
      },
      "source": [
        "l.change_threshold(0.5)"
      ],
      "execution_count": 245,
      "outputs": [
        {
          "output_type": "stream",
          "text": [
            "Threshold changed from 0 to 0.5\n"
          ],
          "name": "stdout"
        }
      ]
    },
    {
      "cell_type": "code",
      "metadata": {
        "id": "WwIhfaAJUrCC",
        "colab_type": "code",
        "colab": {
          "base_uri": "https://localhost:8080/",
          "height": 825
        },
        "outputId": "6c074334-7401-4f2b-c217-300c47e8d3da"
      },
      "source": [
        "# Test is the multi layer is working\n",
        "result = l(train_set[5][\"start\"])\n",
        "visualize_board(result)\n",
        "visualize_board(train_set[5][\"end\"])"
      ],
      "execution_count": 246,
      "outputs": [
        {
          "output_type": "display_data",
          "data": {
            "image/png": "[encoded data removed]",
            "text/plain": [
              "<Figure size 504x504 with 2 Axes>"
            ]
          },
          "metadata": {
            "tags": []
          }
        },
        {
          "output_type": "display_data",
          "data": {
            "image/png": "[encoded data removed]",
            "text/plain": [
              "<Figure size 504x504 with 2 Axes>"
            ]
          },
          "metadata": {
            "tags": []
          }
        }
      ]
    },
    {
      "cell_type": "code",
      "metadata": {
        "id": "YGue8iDoH2Es",
        "colab_type": "code",
        "colab": {}
      },
      "source": [
        "w = np.random.rand(3, 2)"
      ],
      "execution_count": 0,
      "outputs": []
    },
    {
      "cell_type": "code",
      "metadata": {
        "id": "6VpGieO3H7-n",
        "colab_type": "code",
        "outputId": "ff7b35c5-7478-4a72-99e1-c0a246f275c6",
        "colab": {
          "base_uri": "https://localhost:8080/",
          "height": 68
        }
      },
      "source": [
        "w = l(w)\n",
        "print(w)"
      ],
      "execution_count": 144,
      "outputs": [
        {
          "output_type": "stream",
          "text": [
            "[[2.34207218 0.         0.1992841 ]\n",
            " [5.03511597 0.         0.23610978]\n",
            " [3.22490787 0.         0.6253408 ]]\n"
          ],
          "name": "stdout"
        }
      ]
    },
    {
      "cell_type": "code",
      "metadata": {
        "id": "2AFAtGYrWRxP",
        "colab_type": "code",
        "colab": {
          "base_uri": "https://localhost:8080/",
          "height": 68
        },
        "outputId": "e1dd5368-0dc3-4538-b85b-389d28a97e93"
      },
      "source": [
        "b = np.array([1, 2, 3])\n",
        "print (w + b)"
      ],
      "execution_count": 188,
      "outputs": [
        {
          "output_type": "stream",
          "text": [
            "[[3.34207218 2.         3.1992841 ]\n",
            " [6.03511597 2.         3.23610978]\n",
            " [4.22490787 2.         3.6253408 ]]\n"
          ],
          "name": "stdout"
        }
      ]
    },
    {
      "cell_type": "code",
      "metadata": {
        "colab_type": "code",
        "outputId": "d1069db4-ec56-4dad-8460-95ecd2fe741a",
        "id": "JApUWqOWpkrE",
        "colab": {
          "base_uri": "https://localhost:8080/",
          "height": 34
        }
      },
      "source": [
        "import numpy as np\n",
        "tests = np.random.binomial(5, 0.5, size=2)\n",
        "print(tests)"
      ],
      "execution_count": 0,
      "outputs": [
        {
          "output_type": "stream",
          "text": [
            "[3 2]\n"
          ],
          "name": "stdout"
        }
      ]
    }
  ]
}