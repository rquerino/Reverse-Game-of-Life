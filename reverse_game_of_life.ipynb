{
  "nbformat": 4,
  "nbformat_minor": 0,
  "metadata": {
    "colab": {
      "name": "reverse game of life.ipynb",
      "provenance": [],
      "collapsed_sections": [
        "AiCdlsPzqVpe",
        "Ma7IahiWwZ0O",
        "TzOsLjoQvs0w",
        "nNLNyRgA0Ess",
        "QGFg89ryyv2v",
        "EXfNIPbNqM-b",
        "CrXPD1qlxNmr",
        "2h6jiPJmoz4Z",
        "cUraz8bEXmGl",
        "vDxLggAtdS8A",
        "-HlPIx7y3BiL",
        "UKuQRxJm7pEl",
        "K2uaIeDRdWi7"
      ],
      "toc_visible": true,
      "include_colab_link": true
    },
    "kernelspec": {
      "name": "python3",
      "display_name": "Python 3"
    },
    "widgets": {
      "application/vnd.jupyter.widget-state+json": {
        "a461dd4baf8a441d901a289a7a9c44ab": {
          "model_module": "@jupyter-widgets/controls",
          "model_name": "HBoxModel",
          "state": {
            "_view_name": "HBoxView",
            "_dom_classes": [],
            "_model_name": "HBoxModel",
            "_view_module": "@jupyter-widgets/controls",
            "_model_module_version": "1.5.0",
            "_view_count": null,
            "_view_module_version": "1.5.0",
            "box_style": "",
            "layout": "IPY_MODEL_0253d6bd2bc24c528a061c43065ff189",
            "_model_module": "@jupyter-widgets/controls",
            "children": [
              "IPY_MODEL_bbb2262ca1924630bff8e214c8b7333f",
              "IPY_MODEL_8ff29d1bd006452db582494a8bd57c78"
            ]
          }
        },
        "0253d6bd2bc24c528a061c43065ff189": {
          "model_module": "@jupyter-widgets/base",
          "model_name": "LayoutModel",
          "state": {
            "_view_name": "LayoutView",
            "grid_template_rows": null,
            "right": null,
            "justify_content": null,
            "_view_module": "@jupyter-widgets/base",
            "overflow": null,
            "_model_module_version": "1.2.0",
            "_view_count": null,
            "flex_flow": null,
            "width": null,
            "min_width": null,
            "border": null,
            "align_items": null,
            "bottom": null,
            "_model_module": "@jupyter-widgets/base",
            "top": null,
            "grid_column": null,
            "overflow_y": null,
            "overflow_x": null,
            "grid_auto_flow": null,
            "grid_area": null,
            "grid_template_columns": null,
            "flex": null,
            "_model_name": "LayoutModel",
            "justify_items": null,
            "grid_row": null,
            "max_height": null,
            "align_content": null,
            "visibility": null,
            "align_self": null,
            "height": null,
            "min_height": null,
            "padding": null,
            "grid_auto_rows": null,
            "grid_gap": null,
            "max_width": null,
            "order": null,
            "_view_module_version": "1.2.0",
            "grid_template_areas": null,
            "object_position": null,
            "object_fit": null,
            "grid_auto_columns": null,
            "margin": null,
            "display": null,
            "left": null
          }
        },
        "bbb2262ca1924630bff8e214c8b7333f": {
          "model_module": "@jupyter-widgets/controls",
          "model_name": "IntProgressModel",
          "state": {
            "_view_name": "ProgressView",
            "style": "IPY_MODEL_9fdcc787055a44ff81499df39ab9762a",
            "_dom_classes": [],
            "description": "",
            "_model_name": "IntProgressModel",
            "bar_style": "success",
            "max": 50000,
            "_view_module": "@jupyter-widgets/controls",
            "_model_module_version": "1.5.0",
            "value": 50000,
            "_view_count": null,
            "_view_module_version": "1.5.0",
            "orientation": "horizontal",
            "min": 0,
            "description_tooltip": null,
            "_model_module": "@jupyter-widgets/controls",
            "layout": "IPY_MODEL_a54d11bf2b5e4b1a86463ac87c5bbe63"
          }
        },
        "8ff29d1bd006452db582494a8bd57c78": {
          "model_module": "@jupyter-widgets/controls",
          "model_name": "HTMLModel",
          "state": {
            "_view_name": "HTMLView",
            "style": "IPY_MODEL_582af495b86a4c6f966344fdef1c9075",
            "_dom_classes": [],
            "description": "",
            "_model_name": "HTMLModel",
            "placeholder": "​",
            "_view_module": "@jupyter-widgets/controls",
            "_model_module_version": "1.5.0",
            "value": "100% 50000/50000 [00:00&lt;00:00, 242361.54it/s]",
            "_view_count": null,
            "_view_module_version": "1.5.0",
            "description_tooltip": null,
            "_model_module": "@jupyter-widgets/controls",
            "layout": "IPY_MODEL_77b315c6dd4c4050831eb19207cfa794"
          }
        },
        "9fdcc787055a44ff81499df39ab9762a": {
          "model_module": "@jupyter-widgets/controls",
          "model_name": "ProgressStyleModel",
          "state": {
            "_view_name": "StyleView",
            "_model_name": "ProgressStyleModel",
            "description_width": "",
            "_view_module": "@jupyter-widgets/base",
            "_model_module_version": "1.5.0",
            "_view_count": null,
            "_view_module_version": "1.2.0",
            "bar_color": null,
            "_model_module": "@jupyter-widgets/controls"
          }
        },
        "a54d11bf2b5e4b1a86463ac87c5bbe63": {
          "model_module": "@jupyter-widgets/base",
          "model_name": "LayoutModel",
          "state": {
            "_view_name": "LayoutView",
            "grid_template_rows": null,
            "right": null,
            "justify_content": null,
            "_view_module": "@jupyter-widgets/base",
            "overflow": null,
            "_model_module_version": "1.2.0",
            "_view_count": null,
            "flex_flow": null,
            "width": null,
            "min_width": null,
            "border": null,
            "align_items": null,
            "bottom": null,
            "_model_module": "@jupyter-widgets/base",
            "top": null,
            "grid_column": null,
            "overflow_y": null,
            "overflow_x": null,
            "grid_auto_flow": null,
            "grid_area": null,
            "grid_template_columns": null,
            "flex": null,
            "_model_name": "LayoutModel",
            "justify_items": null,
            "grid_row": null,
            "max_height": null,
            "align_content": null,
            "visibility": null,
            "align_self": null,
            "height": null,
            "min_height": null,
            "padding": null,
            "grid_auto_rows": null,
            "grid_gap": null,
            "max_width": null,
            "order": null,
            "_view_module_version": "1.2.0",
            "grid_template_areas": null,
            "object_position": null,
            "object_fit": null,
            "grid_auto_columns": null,
            "margin": null,
            "display": null,
            "left": null
          }
        },
        "582af495b86a4c6f966344fdef1c9075": {
          "model_module": "@jupyter-widgets/controls",
          "model_name": "DescriptionStyleModel",
          "state": {
            "_view_name": "StyleView",
            "_model_name": "DescriptionStyleModel",
            "description_width": "",
            "_view_module": "@jupyter-widgets/base",
            "_model_module_version": "1.5.0",
            "_view_count": null,
            "_view_module_version": "1.2.0",
            "_model_module": "@jupyter-widgets/controls"
          }
        },
        "77b315c6dd4c4050831eb19207cfa794": {
          "model_module": "@jupyter-widgets/base",
          "model_name": "LayoutModel",
          "state": {
            "_view_name": "LayoutView",
            "grid_template_rows": null,
            "right": null,
            "justify_content": null,
            "_view_module": "@jupyter-widgets/base",
            "overflow": null,
            "_model_module_version": "1.2.0",
            "_view_count": null,
            "flex_flow": null,
            "width": null,
            "min_width": null,
            "border": null,
            "align_items": null,
            "bottom": null,
            "_model_module": "@jupyter-widgets/base",
            "top": null,
            "grid_column": null,
            "overflow_y": null,
            "overflow_x": null,
            "grid_auto_flow": null,
            "grid_area": null,
            "grid_template_columns": null,
            "flex": null,
            "_model_name": "LayoutModel",
            "justify_items": null,
            "grid_row": null,
            "max_height": null,
            "align_content": null,
            "visibility": null,
            "align_self": null,
            "height": null,
            "min_height": null,
            "padding": null,
            "grid_auto_rows": null,
            "grid_gap": null,
            "max_width": null,
            "order": null,
            "_view_module_version": "1.2.0",
            "grid_template_areas": null,
            "object_position": null,
            "object_fit": null,
            "grid_auto_columns": null,
            "margin": null,
            "display": null,
            "left": null
          }
        },
        "3bc26f7a966644499065e2597e4a8ca5": {
          "model_module": "@jupyter-widgets/controls",
          "model_name": "HBoxModel",
          "state": {
            "_view_name": "HBoxView",
            "_dom_classes": [],
            "_model_name": "HBoxModel",
            "_view_module": "@jupyter-widgets/controls",
            "_model_module_version": "1.5.0",
            "_view_count": null,
            "_view_module_version": "1.5.0",
            "box_style": "",
            "layout": "IPY_MODEL_b380ad78daaa4b008932a7c650c25f0f",
            "_model_module": "@jupyter-widgets/controls",
            "children": [
              "IPY_MODEL_5b93a25c447c442586b8ee84944bd61b",
              "IPY_MODEL_07af8ea74ee647eb8992eb6d3369fcd0"
            ]
          }
        },
        "b380ad78daaa4b008932a7c650c25f0f": {
          "model_module": "@jupyter-widgets/base",
          "model_name": "LayoutModel",
          "state": {
            "_view_name": "LayoutView",
            "grid_template_rows": null,
            "right": null,
            "justify_content": null,
            "_view_module": "@jupyter-widgets/base",
            "overflow": null,
            "_model_module_version": "1.2.0",
            "_view_count": null,
            "flex_flow": null,
            "width": null,
            "min_width": null,
            "border": null,
            "align_items": null,
            "bottom": null,
            "_model_module": "@jupyter-widgets/base",
            "top": null,
            "grid_column": null,
            "overflow_y": null,
            "overflow_x": null,
            "grid_auto_flow": null,
            "grid_area": null,
            "grid_template_columns": null,
            "flex": null,
            "_model_name": "LayoutModel",
            "justify_items": null,
            "grid_row": null,
            "max_height": null,
            "align_content": null,
            "visibility": null,
            "align_self": null,
            "height": null,
            "min_height": null,
            "padding": null,
            "grid_auto_rows": null,
            "grid_gap": null,
            "max_width": null,
            "order": null,
            "_view_module_version": "1.2.0",
            "grid_template_areas": null,
            "object_position": null,
            "object_fit": null,
            "grid_auto_columns": null,
            "margin": null,
            "display": null,
            "left": null
          }
        },
        "5b93a25c447c442586b8ee84944bd61b": {
          "model_module": "@jupyter-widgets/controls",
          "model_name": "IntProgressModel",
          "state": {
            "_view_name": "ProgressView",
            "style": "IPY_MODEL_b43f5e05b6184161afd48abdf65b1f98",
            "_dom_classes": [],
            "description": "",
            "_model_name": "IntProgressModel",
            "bar_style": "success",
            "max": 50000,
            "_view_module": "@jupyter-widgets/controls",
            "_model_module_version": "1.5.0",
            "value": 50000,
            "_view_count": null,
            "_view_module_version": "1.5.0",
            "orientation": "horizontal",
            "min": 0,
            "description_tooltip": null,
            "_model_module": "@jupyter-widgets/controls",
            "layout": "IPY_MODEL_8948b4e5c4c04990abfac8ffa0957fc3"
          }
        },
        "07af8ea74ee647eb8992eb6d3369fcd0": {
          "model_module": "@jupyter-widgets/controls",
          "model_name": "HTMLModel",
          "state": {
            "_view_name": "HTMLView",
            "style": "IPY_MODEL_cf93ed8d429448f5a679e4a3c0680dc2",
            "_dom_classes": [],
            "description": "",
            "_model_name": "HTMLModel",
            "placeholder": "​",
            "_view_module": "@jupyter-widgets/controls",
            "_model_module_version": "1.5.0",
            "value": "100% 50000/50000 [00:00&lt;00:00, 370174.27it/s]",
            "_view_count": null,
            "_view_module_version": "1.5.0",
            "description_tooltip": null,
            "_model_module": "@jupyter-widgets/controls",
            "layout": "IPY_MODEL_ace374ec883b412c8ffcb8ccbddd04a7"
          }
        },
        "b43f5e05b6184161afd48abdf65b1f98": {
          "model_module": "@jupyter-widgets/controls",
          "model_name": "ProgressStyleModel",
          "state": {
            "_view_name": "StyleView",
            "_model_name": "ProgressStyleModel",
            "description_width": "",
            "_view_module": "@jupyter-widgets/base",
            "_model_module_version": "1.5.0",
            "_view_count": null,
            "_view_module_version": "1.2.0",
            "bar_color": null,
            "_model_module": "@jupyter-widgets/controls"
          }
        },
        "8948b4e5c4c04990abfac8ffa0957fc3": {
          "model_module": "@jupyter-widgets/base",
          "model_name": "LayoutModel",
          "state": {
            "_view_name": "LayoutView",
            "grid_template_rows": null,
            "right": null,
            "justify_content": null,
            "_view_module": "@jupyter-widgets/base",
            "overflow": null,
            "_model_module_version": "1.2.0",
            "_view_count": null,
            "flex_flow": null,
            "width": null,
            "min_width": null,
            "border": null,
            "align_items": null,
            "bottom": null,
            "_model_module": "@jupyter-widgets/base",
            "top": null,
            "grid_column": null,
            "overflow_y": null,
            "overflow_x": null,
            "grid_auto_flow": null,
            "grid_area": null,
            "grid_template_columns": null,
            "flex": null,
            "_model_name": "LayoutModel",
            "justify_items": null,
            "grid_row": null,
            "max_height": null,
            "align_content": null,
            "visibility": null,
            "align_self": null,
            "height": null,
            "min_height": null,
            "padding": null,
            "grid_auto_rows": null,
            "grid_gap": null,
            "max_width": null,
            "order": null,
            "_view_module_version": "1.2.0",
            "grid_template_areas": null,
            "object_position": null,
            "object_fit": null,
            "grid_auto_columns": null,
            "margin": null,
            "display": null,
            "left": null
          }
        },
        "cf93ed8d429448f5a679e4a3c0680dc2": {
          "model_module": "@jupyter-widgets/controls",
          "model_name": "DescriptionStyleModel",
          "state": {
            "_view_name": "StyleView",
            "_model_name": "DescriptionStyleModel",
            "description_width": "",
            "_view_module": "@jupyter-widgets/base",
            "_model_module_version": "1.5.0",
            "_view_count": null,
            "_view_module_version": "1.2.0",
            "_model_module": "@jupyter-widgets/controls"
          }
        },
        "ace374ec883b412c8ffcb8ccbddd04a7": {
          "model_module": "@jupyter-widgets/base",
          "model_name": "LayoutModel",
          "state": {
            "_view_name": "LayoutView",
            "grid_template_rows": null,
            "right": null,
            "justify_content": null,
            "_view_module": "@jupyter-widgets/base",
            "overflow": null,
            "_model_module_version": "1.2.0",
            "_view_count": null,
            "flex_flow": null,
            "width": null,
            "min_width": null,
            "border": null,
            "align_items": null,
            "bottom": null,
            "_model_module": "@jupyter-widgets/base",
            "top": null,
            "grid_column": null,
            "overflow_y": null,
            "overflow_x": null,
            "grid_auto_flow": null,
            "grid_area": null,
            "grid_template_columns": null,
            "flex": null,
            "_model_name": "LayoutModel",
            "justify_items": null,
            "grid_row": null,
            "max_height": null,
            "align_content": null,
            "visibility": null,
            "align_self": null,
            "height": null,
            "min_height": null,
            "padding": null,
            "grid_auto_rows": null,
            "grid_gap": null,
            "max_width": null,
            "order": null,
            "_view_module_version": "1.2.0",
            "grid_template_areas": null,
            "object_position": null,
            "object_fit": null,
            "grid_auto_columns": null,
            "margin": null,
            "display": null,
            "left": null
          }
        },
        "4ae5bfba84774f00a38d05f9927edd85": {
          "model_module": "@jupyter-widgets/controls",
          "model_name": "HBoxModel",
          "state": {
            "_view_name": "HBoxView",
            "_dom_classes": [],
            "_model_name": "HBoxModel",
            "_view_module": "@jupyter-widgets/controls",
            "_model_module_version": "1.5.0",
            "_view_count": null,
            "_view_module_version": "1.5.0",
            "box_style": "",
            "layout": "IPY_MODEL_0fb58810f8134fb78b69711e1ba3bd34",
            "_model_module": "@jupyter-widgets/controls",
            "children": [
              "IPY_MODEL_96a1bbfb8082430cbc794c0b0d001354",
              "IPY_MODEL_56189ab0786a4732be2fdca09ee44db2"
            ]
          }
        },
        "0fb58810f8134fb78b69711e1ba3bd34": {
          "model_module": "@jupyter-widgets/base",
          "model_name": "LayoutModel",
          "state": {
            "_view_name": "LayoutView",
            "grid_template_rows": null,
            "right": null,
            "justify_content": null,
            "_view_module": "@jupyter-widgets/base",
            "overflow": null,
            "_model_module_version": "1.2.0",
            "_view_count": null,
            "flex_flow": null,
            "width": null,
            "min_width": null,
            "border": null,
            "align_items": null,
            "bottom": null,
            "_model_module": "@jupyter-widgets/base",
            "top": null,
            "grid_column": null,
            "overflow_y": null,
            "overflow_x": null,
            "grid_auto_flow": null,
            "grid_area": null,
            "grid_template_columns": null,
            "flex": null,
            "_model_name": "LayoutModel",
            "justify_items": null,
            "grid_row": null,
            "max_height": null,
            "align_content": null,
            "visibility": null,
            "align_self": null,
            "height": null,
            "min_height": null,
            "padding": null,
            "grid_auto_rows": null,
            "grid_gap": null,
            "max_width": null,
            "order": null,
            "_view_module_version": "1.2.0",
            "grid_template_areas": null,
            "object_position": null,
            "object_fit": null,
            "grid_auto_columns": null,
            "margin": null,
            "display": null,
            "left": null
          }
        },
        "96a1bbfb8082430cbc794c0b0d001354": {
          "model_module": "@jupyter-widgets/controls",
          "model_name": "IntProgressModel",
          "state": {
            "_view_name": "ProgressView",
            "style": "IPY_MODEL_21d630a2d49b459686373d9c47edea46",
            "_dom_classes": [],
            "description": "",
            "_model_name": "IntProgressModel",
            "bar_style": "success",
            "max": 50000,
            "_view_module": "@jupyter-widgets/controls",
            "_model_module_version": "1.5.0",
            "value": 50000,
            "_view_count": null,
            "_view_module_version": "1.5.0",
            "orientation": "horizontal",
            "min": 0,
            "description_tooltip": null,
            "_model_module": "@jupyter-widgets/controls",
            "layout": "IPY_MODEL_7c463b142f744f05a43760f0c05417e7"
          }
        },
        "56189ab0786a4732be2fdca09ee44db2": {
          "model_module": "@jupyter-widgets/controls",
          "model_name": "HTMLModel",
          "state": {
            "_view_name": "HTMLView",
            "style": "IPY_MODEL_8d5521fdef72415fbc5e1db210604893",
            "_dom_classes": [],
            "description": "",
            "_model_name": "HTMLModel",
            "placeholder": "​",
            "_view_module": "@jupyter-widgets/controls",
            "_model_module_version": "1.5.0",
            "value": "100% 50000/50000 [09:06&lt;00:00, 91.43it/s]",
            "_view_count": null,
            "_view_module_version": "1.5.0",
            "description_tooltip": null,
            "_model_module": "@jupyter-widgets/controls",
            "layout": "IPY_MODEL_58f3e932a49f470cb7bcf9147c6a44ad"
          }
        },
        "21d630a2d49b459686373d9c47edea46": {
          "model_module": "@jupyter-widgets/controls",
          "model_name": "ProgressStyleModel",
          "state": {
            "_view_name": "StyleView",
            "_model_name": "ProgressStyleModel",
            "description_width": "",
            "_view_module": "@jupyter-widgets/base",
            "_model_module_version": "1.5.0",
            "_view_count": null,
            "_view_module_version": "1.2.0",
            "bar_color": null,
            "_model_module": "@jupyter-widgets/controls"
          }
        },
        "7c463b142f744f05a43760f0c05417e7": {
          "model_module": "@jupyter-widgets/base",
          "model_name": "LayoutModel",
          "state": {
            "_view_name": "LayoutView",
            "grid_template_rows": null,
            "right": null,
            "justify_content": null,
            "_view_module": "@jupyter-widgets/base",
            "overflow": null,
            "_model_module_version": "1.2.0",
            "_view_count": null,
            "flex_flow": null,
            "width": null,
            "min_width": null,
            "border": null,
            "align_items": null,
            "bottom": null,
            "_model_module": "@jupyter-widgets/base",
            "top": null,
            "grid_column": null,
            "overflow_y": null,
            "overflow_x": null,
            "grid_auto_flow": null,
            "grid_area": null,
            "grid_template_columns": null,
            "flex": null,
            "_model_name": "LayoutModel",
            "justify_items": null,
            "grid_row": null,
            "max_height": null,
            "align_content": null,
            "visibility": null,
            "align_self": null,
            "height": null,
            "min_height": null,
            "padding": null,
            "grid_auto_rows": null,
            "grid_gap": null,
            "max_width": null,
            "order": null,
            "_view_module_version": "1.2.0",
            "grid_template_areas": null,
            "object_position": null,
            "object_fit": null,
            "grid_auto_columns": null,
            "margin": null,
            "display": null,
            "left": null
          }
        },
        "8d5521fdef72415fbc5e1db210604893": {
          "model_module": "@jupyter-widgets/controls",
          "model_name": "DescriptionStyleModel",
          "state": {
            "_view_name": "StyleView",
            "_model_name": "DescriptionStyleModel",
            "description_width": "",
            "_view_module": "@jupyter-widgets/base",
            "_model_module_version": "1.5.0",
            "_view_count": null,
            "_view_module_version": "1.2.0",
            "_model_module": "@jupyter-widgets/controls"
          }
        },
        "58f3e932a49f470cb7bcf9147c6a44ad": {
          "model_module": "@jupyter-widgets/base",
          "model_name": "LayoutModel",
          "state": {
            "_view_name": "LayoutView",
            "grid_template_rows": null,
            "right": null,
            "justify_content": null,
            "_view_module": "@jupyter-widgets/base",
            "overflow": null,
            "_model_module_version": "1.2.0",
            "_view_count": null,
            "flex_flow": null,
            "width": null,
            "min_width": null,
            "border": null,
            "align_items": null,
            "bottom": null,
            "_model_module": "@jupyter-widgets/base",
            "top": null,
            "grid_column": null,
            "overflow_y": null,
            "overflow_x": null,
            "grid_auto_flow": null,
            "grid_area": null,
            "grid_template_columns": null,
            "flex": null,
            "_model_name": "LayoutModel",
            "justify_items": null,
            "grid_row": null,
            "max_height": null,
            "align_content": null,
            "visibility": null,
            "align_self": null,
            "height": null,
            "min_height": null,
            "padding": null,
            "grid_auto_rows": null,
            "grid_gap": null,
            "max_width": null,
            "order": null,
            "_view_module_version": "1.2.0",
            "grid_template_areas": null,
            "object_position": null,
            "object_fit": null,
            "grid_auto_columns": null,
            "margin": null,
            "display": null,
            "left": null
          }
        }
      }
    },
    "accelerator": "GPU"
  },
  "cells": [
    {
      "cell_type": "markdown",
      "metadata": {
        "id": "view-in-github",
        "colab_type": "text"
      },
      "source": [
        "<a href=\"https://colab.research.google.com/github/rquerino/Reverse-Game-of-Life/blob/master/reverse_game_of_life.ipynb\" target=\"_parent\"><img src=\"https://colab.research.google.com/assets/colab-badge.svg\" alt=\"Open In Colab\"/></a>"
      ]
    },
    {
      "cell_type": "markdown",
      "metadata": {
        "id": "8JddzBoTXdUb",
        "colab_type": "text"
      },
      "source": [
        "# Reverse game of life\n",
        "\n",
        "![cellular automata](https://upload.wikimedia.org/wikipedia/commons/e/e5/Gospers_glider_gun.gif)\n",
        "\n",
        "Explanation is based on wikipedia             \n",
        "\n",
        "**Conway's Game of Life**\n",
        "\n",
        "---\n",
        "The Game of Life, also known simply as Life, is a cellular automaton devised by the British mathematician John Horton Conway in 1970. The game is a zero-player game, meaning that its evolution is determined by its initial state, requiring no further input. One interacts with the Game of Life by creating an initial configuration and observing how it evolves.\n",
        "\n",
        "**Rules**\n",
        "\n",
        "---\n",
        "1. Any live cell with fewer than two live neighbours dies, as if by underpopulation.\n",
        "2. Any live cell with two or three live neighbours lives on to the next generation.\n",
        "3. Any live cell with more than three live neighbours dies, as if by overpopulation.\n",
        "4. Any dead cell with exactly three live neighbours becomes a live cell, as if by reproduction.\n",
        "\n"
      ]
    },
    {
      "cell_type": "markdown",
      "metadata": {
        "id": "AiCdlsPzqVpe",
        "colab_type": "text"
      },
      "source": [
        "## Game of life simulation\n",
        "Make your hand dirty to get used to it!\n",
        "\n",
        "https://bitstorm.org/gameoflife/\n",
        "<iframe src=\"https://bitstorm.org/gameoflife/\"></iframe>"
      ]
    },
    {
      "cell_type": "code",
      "metadata": {
        "id": "aJ6FPHu4XX1Y",
        "colab_type": "code",
        "colab": {}
      },
      "source": [
        "from IPython.display import IFrame, YouTubeVideo"
      ],
      "execution_count": 0,
      "outputs": []
    },
    {
      "cell_type": "code",
      "metadata": {
        "id": "CHXZ1-4UvA0Q",
        "colab_type": "code",
        "outputId": "73524e20-09ea-49bd-c46a-823133e57bf0",
        "colab": {
          "base_uri": "https://localhost:8080/"
        }
      },
      "source": [
        "%%html\n",
        "<iframe src=\"https://bitstorm.org/gameoflife/\" width=\"1200\" height=\"1000\"></iframe>"
      ],
      "execution_count": 0,
      "outputs": [
        {
          "output_type": "display_data",
          "data": {
            "text/html": [
              "<iframe src=\"https://bitstorm.org/gameoflife/\" width=\"1200\" height=\"1000\"></iframe>"
            ],
            "text/plain": [
              "<IPython.core.display.HTML object>"
            ]
          },
          "metadata": {
            "tags": []
          }
        }
      ]
    },
    {
      "cell_type": "markdown",
      "metadata": {
        "id": "Ma7IahiWwZ0O",
        "colab_type": "text"
      },
      "source": [
        "## Genetic Algorithm\n",
        "\n",
        "You don't genetic Algorithm? OMG not awesome! Study this! Be awesome!"
      ]
    },
    {
      "cell_type": "markdown",
      "metadata": {
        "id": "TzOsLjoQvs0w",
        "colab_type": "text"
      },
      "source": [
        "### What is Genetic algorithm?"
      ]
    },
    {
      "cell_type": "code",
      "metadata": {
        "id": "X47uWh4Z2_Lf",
        "colab_type": "code",
        "colab": {}
      },
      "source": [
        "# 9.1 - Genetic Algorithm: Introduction - The Nature of Code\n",
        "YouTubeVideo('9zfeTw-uFCw', width=1280, height=720)"
      ],
      "execution_count": 0,
      "outputs": []
    },
    {
      "cell_type": "code",
      "metadata": {
        "id": "1HVPMcQsvtRD",
        "colab_type": "code",
        "colab": {}
      },
      "source": [
        "# 9.2 - Genetic Algorithm: How it works - The Nature of Code\n",
        "YouTubeVideo('RxTfc4JLYKs', width=1280, height=720)"
      ],
      "execution_count": 0,
      "outputs": []
    },
    {
      "cell_type": "markdown",
      "metadata": {
        "id": "nNLNyRgA0Ess",
        "colab_type": "text"
      },
      "source": [
        "### Code Practice for Genetic Algorithm\n",
        "\n",
        "Code is based on the upon youtube"
      ]
    },
    {
      "cell_type": "code",
      "metadata": {
        "id": "KKUHeznjuxAu",
        "colab_type": "code",
        "outputId": "bb17f27d-e5fc-49a4-ebb9-df7e3bd2b172",
        "colab": {
          "base_uri": "https://localhost:8080/",
          "height": 761
        }
      },
      "source": [
        "YouTubeVideo('uCXm6avugCo', width=1280, height=720)"
      ],
      "execution_count": 0,
      "outputs": [
        {
          "output_type": "execute_result",
          "data": {
            "text/html": [
              "\n",
              "        <iframe\n",
              "            width=\"1280\"\n",
              "            height=\"720\"\n",
              "            src=\"https://www.youtube.com/embed/uCXm6avugCo\"\n",
              "            frameborder=\"0\"\n",
              "            allowfullscreen\n",
              "        ></iframe>\n",
              "        "
            ],
            "text/plain": [
              "<IPython.lib.display.YouTubeVideo at 0x7f54803500f0>"
            ],
            "image/jpeg": "[encoded data removed]"
          },
          "metadata": {
            "tags": []
          },
          "execution_count": 31
        }
      ]
    },
    {
      "cell_type": "code",
      "metadata": {
        "id": "FmZoSrI3wE5l",
        "colab_type": "code",
        "colab": {}
      },
      "source": [
        "import pandas as pd\n",
        "import numpy as np\n",
        "import random\n",
        "import copy\n",
        "import matplotlib.pyplot as plt\n",
        "import seaborn as sns\n",
        "import os"
      ],
      "execution_count": 0,
      "outputs": []
    },
    {
      "cell_type": "code",
      "metadata": {
        "id": "Kwq2GKFn1hKL",
        "colab_type": "code",
        "colab": {}
      },
      "source": [
        "def initialize_map(p_zero, N):\n",
        "    \"\"\"\n",
        "    first thing is to create the map that you're trying to navigate.  I will do this randomly.\n",
        "    This will be of the form of a adjacency matrix...\n",
        "    In other words, an NxN matrix where each row and column correspond to an intersection on a map\n",
        "    X_ij, then is equal to the amount of time that it takes to get from position i to position j\n",
        "    could also be considered a distance measure... but whatever is easier to think about.\n",
        "    practically, then we need a matrix that has numeric values in it... \n",
        "    there should be some paths that don't exist.  I will assign these a 0.  \n",
        "    For instance, if you can't get directly from i to j, then X_ij = 0\n",
        "    \n",
        "    The initialization needs some tuning parameters.  One is the proportion of 0's in the final result\n",
        "    \"\"\"\n",
        "    the_map = np.zeros((N,N))\n",
        "    for i in range(0, N):\n",
        "        for j in range(0, i):\n",
        "            if random.random() > p_zero:\n",
        "                the_map[i][j] = random.random()\n",
        "                the_map[j][i] = the_map[i][j]\n",
        "    return the_map"
      ],
      "execution_count": 0,
      "outputs": []
    },
    {
      "cell_type": "code",
      "metadata": {
        "id": "IAar4HL22hKd",
        "colab_type": "code",
        "colab": {}
      },
      "source": [
        "# Let's make a more complicated map that has at least 10 stops that have to be made and see what happens.\n",
        "def initialize_complex_map(p_zero, N, groups):\n",
        "    the_map = np.zeros((N,N))\n",
        "    for i in range(0, N):\n",
        "        for j in range(0, i):\n",
        "            group_i = int(i/(N/groups))\n",
        "            group_j = int(j/(N/groups))\n",
        "            if random.random() > p_zero and abs(group_i - group_j) <= 1:\n",
        "                the_map[i][j] = random.random()\n",
        "                the_map[j][i] = the_map[i][j]\n",
        "    ax = sns.heatmap(the_map)\n",
        "    plt.show()\n",
        "    return the_map"
      ],
      "execution_count": 0,
      "outputs": []
    },
    {
      "cell_type": "code",
      "metadata": {
        "id": "UPPlCDvv1hfF",
        "colab_type": "code",
        "colab": {}
      },
      "source": [
        "#this just creates a population of different routes of a fixed size. Pretty straightforward.\n",
        "def create_starting_population(size, the_map):\n",
        "    population = []\n",
        "    for i in range(0,size):\n",
        "        population.append(create_new_member(the_map))\n",
        "    return population"
      ],
      "execution_count": 0,
      "outputs": []
    },
    {
      "cell_type": "code",
      "metadata": {
        "id": "Ax4n44t81hYz",
        "colab_type": "code",
        "colab": {}
      },
      "source": [
        "def fitness(route, the_map):\n",
        "    score = 0\n",
        "    for i in range(1, len(route)):\n",
        "        if (the_map[route[i-1]][route[i]] == 0) and i != len(the_map)-1:\n",
        "            print(\"WARNING: INVALID ROUTE\")\n",
        "            print(route)\n",
        "            print(the_map)\n",
        "        score = score + the_map[route[i-1]][route[i]]\n",
        "    return score"
      ],
      "execution_count": 0,
      "outputs": []
    },
    {
      "cell_type": "code",
      "metadata": {
        "id": "zo9DaZM31hRv",
        "colab_type": "code",
        "colab": {}
      },
      "source": [
        "def crossover(a, b):\n",
        "    \"\"\"\n",
        "    I initially made an error here by allowing routes to crossover at any point, which obviously won't work\n",
        "    you have to insure that when the two routes cross over that the resulting routes produce a valid route\n",
        "    which means that crossover points have to be at the same position value on the map\n",
        "    \"\"\"\n",
        "    common_elements = set(a) & set(b)\n",
        "    if len(common_elements) == 2:\n",
        "        return (a, b)\n",
        "    else:\n",
        "        common_elements.remove(0)\n",
        "        common_elements.remove(max(a)) \n",
        "        value = random.sample(common_elements, 1)        \n",
        "\n",
        "    cut_a = np.random.choice(np.where(np.isin(a, value))[0])\n",
        "    cut_b = np.random.choice(np.where(np.isin(b, value))[0])\n",
        "    \n",
        "    new_a1 = copy.deepcopy(a[0:cut_a])\n",
        "    new_a2 = copy.deepcopy(b[cut_b:])\n",
        "    \n",
        "    new_b1 = copy.deepcopy(b[0:cut_b])\n",
        "    new_b2 = copy.deepcopy(a[cut_a:])\n",
        "    \n",
        "    new_a = np.append(new_a1, new_a2)\n",
        "    new_b = np.append(new_b1, new_b2)\n",
        "       \n",
        "    return (new_a, new_b)"
      ],
      "execution_count": 0,
      "outputs": []
    },
    {
      "cell_type": "code",
      "metadata": {
        "id": "ffZvys2f1g-y",
        "colab_type": "code",
        "colab": {}
      },
      "source": [
        "def mutate(route, probability, the_map):\n",
        "    new_route = copy.deepcopy(route)\n",
        "    for i in range(1, len(new_route)):\n",
        "        if random.random() < probability:\n",
        "            go = True\n",
        "            while go:\n",
        "                possible_values = np.nonzero(the_map[new_route[i-1]])\n",
        "                proposed_value = random.randint(0,len(possible_values[0])-1)\n",
        "                route = np.append(new_route, possible_values[0][proposed_value])\n",
        "\n",
        "                if new_route[i] == len(the_map)-1:\n",
        "                    go = False\n",
        "                else:\n",
        "                    i += 1\n",
        "    return new_route"
      ],
      "execution_count": 0,
      "outputs": []
    },
    {
      "cell_type": "code",
      "metadata": {
        "id": "KerNWeBq9l84",
        "colab_type": "code",
        "colab": {}
      },
      "source": [
        "def create_new_member(the_map):\n",
        "    \"\"\"\n",
        "    here we are going to create a new route\n",
        "    the new route can have any number of steps, so we'll select that randomly\n",
        "    the structure of the route will be a vector of integers where each value is the next step in the route\n",
        "    Everyone starts at 0, so the first value in the vector will indicate where to attempt to go next.\n",
        "    That is, if v_i = 4, then that would correspond to X_0,4 in the map that was created at initialization\n",
        "    \n",
        "    N is the size of the map, so we need to make sure that \n",
        "    we don't generate any values that exceed the size of the map\n",
        "    \"\"\"\n",
        "    N = len(the_map)\n",
        "    route = np.zeros(1, dtype=int)\n",
        "    go = True\n",
        "    i = 1\n",
        "    while go:    \n",
        "        possible_values = np.nonzero(the_map[route[i-1]])\n",
        "        proposed_value = random.randint(0,len(possible_values[0])-1)\n",
        "        route = np.append(route, possible_values[0][proposed_value])\n",
        "                \n",
        "        if route[i] == N-1:\n",
        "            go = False\n",
        "        else:\n",
        "            i += 1\n",
        "    return route"
      ],
      "execution_count": 0,
      "outputs": []
    },
    {
      "cell_type": "code",
      "metadata": {
        "id": "RKEM_Zqi90kX",
        "colab_type": "code",
        "colab": {}
      },
      "source": [
        "def score_population(population, the_map):\n",
        "    scores = []\n",
        "    for i in range(0, len(population)):\n",
        "        scores += [fitness(population[i], the_map)]    \n",
        "    return scores"
      ],
      "execution_count": 0,
      "outputs": []
    },
    {
      "cell_type": "code",
      "metadata": {
        "id": "bY381ijZ94lB",
        "colab_type": "code",
        "colab": {}
      },
      "source": [
        "def pick_mate(scores):\n",
        "    array = np.array(scores)\n",
        "    temp = array.argsort()\n",
        "    ranks = np.empty_like(temp)\n",
        "    ranks[temp] = np.arange(len(array))\n",
        "    fitness = [len(ranks) - x for x in ranks]\n",
        "    \n",
        "    cum_scores = copy.deepcopy(fitness)\n",
        "    for i in range(1,len(cum_scores)):\n",
        "        cum_scores[i] = fitness[i] + cum_scores[i-1]\n",
        "        \n",
        "    probs = [x / cum_scores[-1] for x in cum_scores]\n",
        "    rand = random.random()\n",
        "    for i in range(0, len(probs)):\n",
        "        if rand < probs[i]:\n",
        "            return i"
      ],
      "execution_count": 0,
      "outputs": []
    },
    {
      "cell_type": "code",
      "metadata": {
        "id": "rVmCgatQ-vPI",
        "colab_type": "code",
        "colab": {}
      },
      "source": [
        "def plot_best(the_map, route, iteration_number):\n",
        "    ax = sns.heatmap(the_map)\n",
        "\n",
        "    x=[0.5] + [x + 0.5 for x in route[0:len(route)-1]] + [len(the_map) - 0.5]\n",
        "    y=[0.5] + [x + 0.5 for x in route[1:len(route)]] + [len(the_map) - 0.5]\n",
        "    \n",
        "    plt.plot(x, y, marker = 'o', linewidth=4, markersize=12, linestyle = \"-\", color='white')\n",
        "    # Create a image folder if there nothing\n",
        "    if (os.path.isdir(\"/genetic_images\") == False):\n",
        "        os.mkdir(\"/genetic_images\")\n",
        "    plt.savefig('/genetic_images/new1000plot_%i.png' %(iteration_number), dpi=300)\n",
        "    plt.show()"
      ],
      "execution_count": 0,
      "outputs": []
    },
    {
      "cell_type": "code",
      "metadata": {
        "id": "7ZttxIoJ-nE-",
        "colab_type": "code",
        "colab": {}
      },
      "source": [
        "def main():\n",
        "    # parameters\n",
        "    sparseness_of_map = 0.95\n",
        "    size_of_map = 100\n",
        "    population_size = 30\n",
        "    number_of_iterations = 2000\n",
        "    number_of_couples = 9\n",
        "    number_of_winners_to_keep = 2\n",
        "    mutation_probability = 0.05\n",
        "    number_of_groups = 1\n",
        "    \n",
        "    # initialize the map and save it\n",
        "    the_map = initialize_complex_map(sparseness_of_map, size_of_map, number_of_groups)\n",
        "\n",
        "    # create the starting population\n",
        "    population = create_starting_population(population_size, the_map)\n",
        "\n",
        "    last_distance = 1000000000\n",
        "    # for a large number of iterations do:\n",
        "        \n",
        "    for i in range(0,number_of_iterations):\n",
        "        new_population = []\n",
        "        \n",
        "        # evaluate the fitness of the current population\n",
        "        scores = score_population(population, the_map)\n",
        "\n",
        "        best = population[np.argmin(scores)]\n",
        "        number_of_moves = len(best)\n",
        "        distance = fitness(best, the_map)\n",
        "        \n",
        "        if distance != last_distance:\n",
        "            print('Iteration %i: Best so far is %i steps for a distance of %f' % (i, number_of_moves, distance))\n",
        "            plot_best(the_map, best, i)\n",
        "\n",
        "        \n",
        "        # allow members of the population to breed based on their relative score; \n",
        "            # i.e., if their score is higher they're more likely to breed\n",
        "        for j in range(0, number_of_couples):  \n",
        "            new_1, new_2 = crossover(population[pick_mate(scores)], population[pick_mate(scores)])\n",
        "            new_population = new_population + [new_1, new_2]\n",
        "  \n",
        "        # mutate\n",
        "        for j in range(0, len(new_population)):\n",
        "            new_population[j] = np.copy(mutate(new_population[j], 0.05, the_map))\n",
        "            \n",
        "        # keep members of previous generation\n",
        "        new_population += [population[np.argmin(scores)]]\n",
        "        for j in range(1, number_of_winners_to_keep):\n",
        "            keeper = pick_mate(scores)            \n",
        "            new_population += [population[keeper]]\n",
        "            \n",
        "        # add new random members\n",
        "        while len(new_population) < population_size:\n",
        "            new_population += [create_new_member(the_map)]\n",
        "            \n",
        "        #replace the old population with a real copy\n",
        "        population = copy.deepcopy(new_population)\n",
        "                \n",
        "        last_distance = distance\n",
        "        \n",
        "    # plot the results"
      ],
      "execution_count": 0,
      "outputs": []
    },
    {
      "cell_type": "code",
      "metadata": {
        "id": "_me58py1-3Ux",
        "colab_type": "code",
        "outputId": "fe15040b-00f1-4336-fe27-df04a4f3548d",
        "colab": {
          "base_uri": "https://localhost:8080/",
          "height": 808
        }
      },
      "source": [
        "main()"
      ],
      "execution_count": 0,
      "outputs": [
        {
          "output_type": "display_data",
          "data": {
            "image/png": "[encoded data removed]",
            "text/plain": [
              "<Figure size 432x288 with 2 Axes>"
            ]
          },
          "metadata": {
            "tags": []
          }
        },
        {
          "output_type": "stream",
          "text": [
            "Iteration 0: Best so far is 7 steps for a distance of 3.748715\n"
          ],
          "name": "stdout"
        },
        {
          "output_type": "display_data",
          "data": {
            "image/png": "[encoded data removed]",
            "text/plain": [
              "<Figure size 432x288 with 2 Axes>"
            ]
          },
          "metadata": {
            "tags": []
          }
        },
        {
          "output_type": "error",
          "ename": "ValueError",
          "evalue": "ignored",
          "traceback": [
            "\u001b[0;31m---------------------------------------------------------------------------\u001b[0m",
            "\u001b[0;31mValueError\u001b[0m                                Traceback (most recent call last)",
            "\u001b[0;32m<ipython-input-87-263240bbee7e>\u001b[0m in \u001b[0;36m<module>\u001b[0;34m()\u001b[0m\n\u001b[0;32m----> 1\u001b[0;31m \u001b[0mmain\u001b[0m\u001b[0;34m(\u001b[0m\u001b[0;34m)\u001b[0m\u001b[0;34m\u001b[0m\u001b[0;34m\u001b[0m\u001b[0m\n\u001b[0m",
            "\u001b[0;32m<ipython-input-86-55827ad36c27>\u001b[0m in \u001b[0;36mmain\u001b[0;34m()\u001b[0m\n\u001b[1;32m     37\u001b[0m             \u001b[0;31m# i.e., if their score is higher they're more likely to breed\u001b[0m\u001b[0;34m\u001b[0m\u001b[0;34m\u001b[0m\u001b[0;34m\u001b[0m\u001b[0m\n\u001b[1;32m     38\u001b[0m         \u001b[0;32mfor\u001b[0m \u001b[0mj\u001b[0m \u001b[0;32min\u001b[0m \u001b[0mrange\u001b[0m\u001b[0;34m(\u001b[0m\u001b[0;36m0\u001b[0m\u001b[0;34m,\u001b[0m \u001b[0mnumber_of_couples\u001b[0m\u001b[0;34m)\u001b[0m\u001b[0;34m:\u001b[0m\u001b[0;34m\u001b[0m\u001b[0;34m\u001b[0m\u001b[0m\n\u001b[0;32m---> 39\u001b[0;31m             \u001b[0mnew_1\u001b[0m\u001b[0;34m,\u001b[0m \u001b[0mnew_2\u001b[0m \u001b[0;34m=\u001b[0m \u001b[0mcrossover\u001b[0m\u001b[0;34m(\u001b[0m\u001b[0mpopulation\u001b[0m\u001b[0;34m[\u001b[0m\u001b[0mpick_mate\u001b[0m\u001b[0;34m(\u001b[0m\u001b[0mscores\u001b[0m\u001b[0;34m)\u001b[0m\u001b[0;34m]\u001b[0m\u001b[0;34m,\u001b[0m \u001b[0mpopulation\u001b[0m\u001b[0;34m[\u001b[0m\u001b[0mpick_mate\u001b[0m\u001b[0;34m(\u001b[0m\u001b[0mscores\u001b[0m\u001b[0;34m)\u001b[0m\u001b[0;34m]\u001b[0m\u001b[0;34m)\u001b[0m\u001b[0;34m\u001b[0m\u001b[0;34m\u001b[0m\u001b[0m\n\u001b[0m\u001b[1;32m     40\u001b[0m             \u001b[0mnew_population\u001b[0m \u001b[0;34m=\u001b[0m \u001b[0mnew_population\u001b[0m \u001b[0;34m+\u001b[0m \u001b[0;34m[\u001b[0m\u001b[0mnew_1\u001b[0m\u001b[0;34m,\u001b[0m \u001b[0mnew_2\u001b[0m\u001b[0;34m]\u001b[0m\u001b[0;34m\u001b[0m\u001b[0;34m\u001b[0m\u001b[0m\n\u001b[1;32m     41\u001b[0m \u001b[0;34m\u001b[0m\u001b[0m\n",
            "\u001b[0;31mValueError\u001b[0m: too many values to unpack (expected 2)"
          ]
        }
      ]
    },
    {
      "cell_type": "markdown",
      "metadata": {
        "id": "VmmVGeMS3GBI",
        "colab_type": "text"
      },
      "source": [
        "## Genetic machine learning\n",
        "1. Setting environment\n",
        "2. Utilize tools\n",
        "3. Dataset\n",
        "4. Create model \n",
        "5. Train model weight and bias with Genetic Algorithm\n",
        "6. Conway game\n",
        "7. Find the direct starting board of conway game of life using Genetic algorithm\n",
        "8. Testing field"
      ]
    },
    {
      "cell_type": "markdown",
      "metadata": {
        "id": "QGFg89ryyv2v",
        "colab_type": "text"
      },
      "source": [
        "#### Setting environment\n",
        "1. package install\n",
        "2. package import\n",
        "3. google drive mount\n",
        "4. path configuration"
      ]
    },
    {
      "cell_type": "code",
      "metadata": {
        "id": "UP6tEQLuDihc",
        "colab_type": "code",
        "colab": {}
      },
      "source": [
        "!pip install pycuda"
      ],
      "execution_count": 0,
      "outputs": []
    },
    {
      "cell_type": "code",
      "metadata": {
        "id": "YlehdU8RVGPb",
        "colab_type": "code",
        "colab": {}
      },
      "source": [
        "# pycuda - GPU\n",
        "import pycuda.driver as cuda"
      ],
      "execution_count": 0,
      "outputs": []
    },
    {
      "cell_type": "code",
      "metadata": {
        "id": "gAIxhWGayW-x",
        "colab_type": "code",
        "colab": {}
      },
      "source": [
        "# package import\n",
        "import matplotlib.pyplot as plt\n",
        "import seaborn as sns\n",
        "%matplotlib inline\n",
        "\n",
        "from copy import deepcopy\n",
        "import os\n",
        "import sys\n",
        "import math\n",
        "import random\n",
        "import pandas as pd\n",
        "import numpy as np\n",
        "\n",
        "from tqdm import tqdm_notebook as tqdm"
      ],
      "execution_count": 0,
      "outputs": []
    },
    {
      "cell_type": "code",
      "metadata": {
        "id": "HZcPygo6zN0Z",
        "colab_type": "code",
        "outputId": "566cc2d6-1577-4066-c25d-2fa63dd8abc6",
        "colab": {
          "base_uri": "https://localhost:8080/"
        }
      },
      "source": [
        "# google drive mount\n",
        "from google.colab import drive\n",
        "drive.mount('/content/drive')"
      ],
      "execution_count": 0,
      "outputs": [
        {
          "output_type": "stream",
          "text": [
            "Drive already mounted at /content/drive; to attempt to forcibly remount, call drive.mount(\"/content/drive\", force_remount=True).\n"
          ],
          "name": "stdout"
        }
      ]
    },
    {
      "cell_type": "code",
      "metadata": {
        "id": "OVfud4GDzR8D",
        "colab_type": "code",
        "colab": {}
      },
      "source": [
        "# path configuration\n",
        "# TODO : Choose the path\n",
        "model_path = '/content/drive/My Drive/42/reverse game of life/save'\n",
        "weight_path = '/content/drive/My Drive/42/reverse game of life/save'"
      ],
      "execution_count": 0,
      "outputs": []
    },
    {
      "cell_type": "markdown",
      "metadata": {
        "id": "EXfNIPbNqM-b",
        "colab_type": "text"
      },
      "source": [
        "### Utilize tools\n",
        "\n",
        "- `visualize board` - visualize the conway board using seaborn heatmap\n",
        "- `check valid game` - Check the conway game model works exactly same as original conway game"
      ]
    },
    {
      "cell_type": "code",
      "metadata": {
        "id": "ed7Cy7ovSabe",
        "colab_type": "code",
        "colab": {}
      },
      "source": [
        "def visualize_board(board):\n",
        "    plt.figure(figsize=(7, 7))\n",
        "    sns.heatmap(board,\n",
        "                square=True,\n",
        "                linewidths=0.1,\n",
        "                linecolor='gray',)\n",
        "                # xticklabels=False,\n",
        "                # yticklabels=False)"
      ],
      "execution_count": 0,
      "outputs": []
    },
    {
      "cell_type": "code",
      "metadata": {
        "id": "PpPHx9TkihHh",
        "colab_type": "code",
        "colab": {}
      },
      "source": [
        "def check_valid_game(dataset, conway_game):\n",
        "    total_len = len(dataset)\n",
        "    correct = 0\n",
        "    for i in tqdm(range(1, total_len + 1)):\n",
        "        result = conway_game(dataset[i][\"start\"], dataset[i][\"step\"])\n",
        "        if (result == dataset[i][\"end\"]).all():\n",
        "            correct += 1\n",
        "        sys.stdout.write(\"\\rChecking the game is valid... {} / {}\".format(correct, total_len))\n",
        "        sys.stdout.flush()"
      ],
      "execution_count": 0,
      "outputs": []
    },
    {
      "cell_type": "markdown",
      "metadata": {
        "id": "CrXPD1qlxNmr",
        "colab_type": "text"
      },
      "source": [
        "### Dataset\n",
        "\n",
        "Load the dataset from github and preprocess it to build a dataset to use in machine learning\n",
        "\n",
        "    - train             [id / step / start board / end board]\n",
        "    - test              [id / end board]\n",
        "    - sample submission [id / start board] "
      ]
    },
    {
      "cell_type": "code",
      "metadata": {
        "id": "7khgvm5ayDEh",
        "colab_type": "code",
        "colab": {}
      },
      "source": [
        "# Import dataset from github\n",
        "train_pd = pd.read_csv(\"https://raw.githubusercontent.com/rquerino/Reverse-Game-of-Life/master/resources/train.csv\")\n",
        "test_pd = pd.read_csv(\"https://raw.githubusercontent.com/rquerino/Reverse-Game-of-Life/master/resources/test.csv\")\n",
        "sample_submission_pd = pd.read_csv(\"https://raw.githubusercontent.com/rquerino/Reverse-Game-of-Life/master/resources/sampleSubmission.csv\")"
      ],
      "execution_count": 0,
      "outputs": []
    },
    {
      "cell_type": "code",
      "metadata": {
        "id": "_mEXYX0SNeYY",
        "colab_type": "code",
        "colab": {}
      },
      "source": [
        "def preprocess_dataset(pandas_dataset, type=\"train\"):\n",
        "    dataset = {}\n",
        "    if (type == \"train\"):\n",
        "        for data in tqdm(pandas_dataset.values):\n",
        "            dataset[data[0]] = {\"step\": data[1],\n",
        "                                \"start\": data[2:402].reshape(20, 20),\n",
        "                                \"end\": data[402:802].reshape(20, 20)}\n",
        "    elif (type == \"test\"):\n",
        "        for data in tqdm(pandas_dataset.values):\n",
        "            dataset[data[0]] = {\"step\": data[1],\n",
        "                                \"end\": data[2:402].reshape(20, 20)}\n",
        "    return dataset"
      ],
      "execution_count": 0,
      "outputs": []
    },
    {
      "cell_type": "code",
      "metadata": {
        "id": "kAMMOiExPfom",
        "colab_type": "code",
        "outputId": "99c65590-d6c5-43a2-a867-beb20db7705c",
        "colab": {
          "base_uri": "https://localhost:8080/",
          "referenced_widgets": [
            "a461dd4baf8a441d901a289a7a9c44ab",
            "0253d6bd2bc24c528a061c43065ff189",
            "bbb2262ca1924630bff8e214c8b7333f",
            "8ff29d1bd006452db582494a8bd57c78",
            "9fdcc787055a44ff81499df39ab9762a",
            "a54d11bf2b5e4b1a86463ac87c5bbe63",
            "582af495b86a4c6f966344fdef1c9075",
            "77b315c6dd4c4050831eb19207cfa794",
            "3bc26f7a966644499065e2597e4a8ca5",
            "b380ad78daaa4b008932a7c650c25f0f",
            "5b93a25c447c442586b8ee84944bd61b",
            "07af8ea74ee647eb8992eb6d3369fcd0",
            "b43f5e05b6184161afd48abdf65b1f98",
            "8948b4e5c4c04990abfac8ffa0957fc3",
            "cf93ed8d429448f5a679e4a3c0680dc2",
            "ace374ec883b412c8ffcb8ccbddd04a7"
          ]
        }
      },
      "source": [
        "print(\"Building train set\")\n",
        "train_set = preprocess_dataset(train_pd)\n",
        "print(\"Building test set\")\n",
        "test_set = preprocess_dataset(test_pd, type=\"test\")"
      ],
      "execution_count": 0,
      "outputs": [
        {
          "output_type": "stream",
          "text": [
            "Building train set\n"
          ],
          "name": "stdout"
        },
        {
          "output_type": "display_data",
          "data": {
            "application/vnd.jupyter.widget-view+json": {
              "model_id": "a461dd4baf8a441d901a289a7a9c44ab",
              "version_minor": 0,
              "version_major": 2
            },
            "text/plain": [
              "HBox(children=(IntProgress(value=0, max=50000), HTML(value='')))"
            ]
          },
          "metadata": {
            "tags": []
          }
        },
        {
          "output_type": "stream",
          "text": [
            "\n",
            "Building test set\n"
          ],
          "name": "stdout"
        },
        {
          "output_type": "display_data",
          "data": {
            "application/vnd.jupyter.widget-view+json": {
              "model_id": "3bc26f7a966644499065e2597e4a8ca5",
              "version_minor": 0,
              "version_major": 2
            },
            "text/plain": [
              "HBox(children=(IntProgress(value=0, max=50000), HTML(value='')))"
            ]
          },
          "metadata": {
            "tags": []
          }
        },
        {
          "output_type": "stream",
          "text": [
            "\n"
          ],
          "name": "stdout"
        }
      ]
    },
    {
      "cell_type": "markdown",
      "metadata": {
        "id": "2h6jiPJmoz4Z",
        "colab_type": "text"
      },
      "source": [
        "### Create a model\n",
        "\n",
        "end board -> model -> start board\n",
        "\n",
        "    model (hyperparmeter - layer_num, threshold)\n",
        "\n",
        "**1 step represents one back step**\n",
        "1. 1 evolve of conway game is 1 step\n",
        "2. 1 step is has `few number of layers` (20 x 20 matrix)\n",
        "3. 1 layer is consisted with (20 x 20) matrix and activation layer that will decide to make 0 or 1 depend on the threshold"
      ]
    },
    {
      "cell_type": "markdown",
      "metadata": {
        "id": "cUraz8bEXmGl",
        "colab_type": "text"
      },
      "source": [
        "#### Multi layer model\n",
        "\n",
        "1. class Layer\n",
        "2. class MultiLayers"
      ]
    },
    {
      "cell_type": "code",
      "metadata": {
        "id": "dz4g24enpLWU",
        "colab_type": "code",
        "colab": {}
      },
      "source": [
        "class Layer(object):\n",
        "    \"\"\"One layer\"\"\"\n",
        "    def __init__(self, layer_size):\n",
        "        \"\"\"\n",
        "        Prepare neccesary values\n",
        "\n",
        "        :param Tuple layer_size: (h, w) layer height and width \n",
        "        \"\"\"\n",
        "        self.layer_size = layer_size\n",
        "        self.weight = None\n",
        "        self.bias = None\n",
        "\n",
        "        # create the layer\n",
        "        self._create_layer()\n",
        "    \n",
        "    def __call__(self, x, activation=True):\n",
        "        return self._forward(x, activation)\n",
        "\n",
        "    def __str__(self):\n",
        "        return \"weight\\nshape : {}\\n{}\\n\\nbias\\nshape : {}\\n{}\\n\".format(self.weight.shape,\n",
        "                                                                         self.weight,\n",
        "                                                                         self.bias.shape,\n",
        "                                                                         self.bias)\n",
        "\n",
        "    def __repr__(self):\n",
        "        return \"Layer({})\".format(self.layer_size)\n",
        "    \n",
        "    def _create_layer(self):\n",
        "        self._weight_initialize()\n",
        "        self._bias_initialize()\n",
        "\n",
        "    def _weight_initialize(self):\n",
        "        self.weight = np.random.randn(self.layer_size[0],\n",
        "                                      self.layer_size[1])\n",
        "        mean = self.weight.mean()\n",
        "        var = 2 / (self.layer_size[0] + self.layer_size[1]) # Var(W_i) = 2 / (n_in + n_out)\n",
        "\n",
        "        # Z score\n",
        "        self.weight = ((self.weight - mean) / var)\n",
        "\n",
        "    def _bias_initialize(self):\n",
        "        self.bias = np.random.randn(self.layer_size[1])\n",
        "\n",
        "    def _activation(self, x):\n",
        "        # This is ReLU activation\n",
        "        x_shape = x.shape\n",
        "        x = x.reshape(-1)\n",
        "        x[np.where((x < 0).reshape(-1))] = 0\n",
        "        return x.reshape(x_shape)\n",
        "\n",
        "    def _forward(self, x, activation):\n",
        "        if activation:\n",
        "            return self._activation((x @ self.weight) + self.bias)\n",
        "        else:\n",
        "            return (x @ self.weight + self.bias)"
      ],
      "execution_count": 0,
      "outputs": []
    },
    {
      "cell_type": "code",
      "metadata": {
        "id": "JInFb-993CUa",
        "colab_type": "code",
        "colab": {}
      },
      "source": [
        "import pickle\n",
        "\n",
        "class MultiLayers(object):\n",
        "    \"\"\"Multi layers\"\"\"\n",
        "    def __init__(self, layer_num, threshold, layer_size_list=None):\n",
        "        \"\"\"\n",
        "        Prepare neccesary values\n",
        "\n",
        "        :param Tuple layer_size_list: [(h, w), ... , (h, w)]\n",
        "            -> list of layer size tuples height and width\n",
        "            -> if None fill the list to default value (20, 20)\n",
        "        \"\"\"\n",
        "        self.layer_num = layer_num\n",
        "        self._threshold = threshold\n",
        "        self.layer_size_list = layer_size_list\n",
        "        self.layer_list = []\n",
        "\n",
        "        # Initialize layers size\n",
        "        if (layer_size_list):\n",
        "            if (len(layer_size_list) == layer_num):\n",
        "                self.layer_size_list = layer_size_list\n",
        "            else:\n",
        "                raise IndexError\n",
        "        else:\n",
        "            self.layer_size_list = [(20, 20) for _ in range(self.layer_num)]\n",
        "\n",
        "        # Initialize layers\n",
        "        self._create_layers()\n",
        "\n",
        "    def __call__(self, x):\n",
        "        return self._forward(x)\n",
        "\n",
        "    def __str__(self):\n",
        "        status = \"\"\n",
        "        for i in range(1, self.layer_num + 1):\n",
        "            status += \"layer {}\\n\".format(i)\n",
        "            status += str(self.layer_list[i - 1])\n",
        "            status += \"\\n\"\n",
        "        return status\n",
        "    \n",
        "    def __repr__(self):\n",
        "        return \"MultiLayers({}, {}, {})\".format(self.layer_num,\n",
        "                                                self._threshold,\n",
        "                                                self.layer_size_list)\n",
        "        \n",
        "    def change_threshold(self, threshold):\n",
        "        print(\"Threshold changed from {} \".format(self._threshold), end=\"\")\n",
        "        self._threshold = threshold\n",
        "        print(\"to {}\".format(self._threshold))\n",
        "        \n",
        "\n",
        "    def _create_layers(self):\n",
        "        for layer_size in self.layer_size_list:\n",
        "            self.layer_list.append(Layer(layer_size))\n",
        "    \n",
        "    def _create_board(self, x):\n",
        "        x_shape = x.shape\n",
        "        x = x.reshape(-1)\n",
        "        x[np.where((x >= self._threshold).reshape(-1))] = 1\n",
        "        x[np.where((x < self._threshold).reshape(-1))] = 0\n",
        "        return x.reshape(x_shape)\n",
        "    \n",
        "    def _forward(self, x):\n",
        "        for i, layer in enumerate(self.layer_list):\n",
        "            if (i == (self.layer_num - 1)):\n",
        "                # Don't apply ReLU activation at the last layer\n",
        "                x = layer(x, activation=False)\n",
        "            else:\n",
        "                x = layer(x)\n",
        "        \n",
        "        # Apply threshold\n",
        "        return self._create_board(x)\n",
        "\n",
        "    def save_model(self, path):\n",
        "        model = [self.layer_num,\n",
        "                 self._threshold,\n",
        "                 self.layer_size_list]\n",
        "        with open(path, 'wb') as f:\n",
        "            pickle.dump(model, f)\n",
        "        print(\"Model saved to {} successfully!\".format(path))\n",
        "\n",
        "    def save_weights(self, path):\n",
        "        weights = []\n",
        "        for layer in self.layer_list:\n",
        "            weight = []\n",
        "            weight.append(layer.weight)\n",
        "            weight.append(layer.bias)\n",
        "            weights.append(weight)\n",
        "        with open(path, 'wb') as f:\n",
        "            pickle.dump(weights, f)\n",
        "        print(\"Weight saved to {} successfully!\".format(path))\n",
        "\n",
        "    def load_weights(self, path):\n",
        "        with open(path, 'rb') as f:\n",
        "            weights = pickle.load(f)\n",
        "        for layer, weight in zip(self.layer_list, weights):\n",
        "            layer.weight = weight[0] # weight\n",
        "            layer.bias = weight[1] # bias\n",
        "        print(\"Weight loaded from {} successfully!\".format(path))"
      ],
      "execution_count": 0,
      "outputs": []
    },
    {
      "cell_type": "markdown",
      "metadata": {
        "id": "vDxLggAtdS8A",
        "colab_type": "text"
      },
      "source": [
        "#### model save and load\n",
        "\n",
        "    Every model and weight data is saved by pickle\n",
        "\n",
        "**Model**\n",
        "1. save - MultiLayers.save_model(`path`)\n",
        "2. load - load_model(`path`)\n",
        "\n",
        "**Weight** - `bias is included`\n",
        "1. save - MultiLayers.save_weights(`path`)\n",
        "2. load - MultiLayers.load_weights(`path`)"
      ]
    },
    {
      "cell_type": "code",
      "metadata": {
        "id": "qKhWfOmBzcas",
        "colab_type": "code",
        "colab": {}
      },
      "source": [
        "def load_model(path):\n",
        "    with open(path, 'rb') as f:\n",
        "        model = pickle.load(f)\n",
        "    print(\"Model was loaded from {} successfully!\".format(path))\n",
        "    return MultiLayers(*model)"
      ],
      "execution_count": 0,
      "outputs": []
    },
    {
      "cell_type": "code",
      "metadata": {
        "id": "CbhREzt6dNcu",
        "colab_type": "code",
        "colab": {}
      },
      "source": [
        "# Choose the name of model and weight\n",
        "model_name = \"model.pkl\"\n",
        "weight_name = \"weight.pkl\"\n",
        "\n",
        "# Model save and load\n",
        "model.save_model(os.path.join(model_path, model_name))\n",
        "model = load_model(os.path.join(model_path, model_name))\n",
        "\n",
        "# Weight save and load\n",
        "model.save_weights(os.path.join(weight_path, weight_name))\n",
        "model.load_weights(os.path.join(weight_path, weight_name))"
      ],
      "execution_count": 0,
      "outputs": []
    },
    {
      "cell_type": "markdown",
      "metadata": {
        "id": "-HlPIx7y3BiL",
        "colab_type": "text"
      },
      "source": [
        "##### Testing Model load and save\n",
        "\n",
        "**Successfully passed!**"
      ]
    },
    {
      "cell_type": "code",
      "metadata": {
        "id": "Q0A1zQmFGlT2",
        "colab_type": "code",
        "colab": {}
      },
      "source": [
        "l = MultiLayers(2, 0.5)"
      ],
      "execution_count": 0,
      "outputs": []
    },
    {
      "cell_type": "code",
      "metadata": {
        "id": "2S8J8aF-294g",
        "colab_type": "code",
        "outputId": "7997fec8-de70-4345-e02d-bd7b2a04e735",
        "colab": {
          "base_uri": "https://localhost:8080/"
        }
      },
      "source": [
        "l"
      ],
      "execution_count": 0,
      "outputs": [
        {
          "output_type": "execute_result",
          "data": {
            "text/plain": [
              "MultiLayers(2, 0.5, [(20, 20), (20, 20)])"
            ]
          },
          "metadata": {
            "tags": []
          },
          "execution_count": 290
        }
      ]
    },
    {
      "cell_type": "code",
      "metadata": {
        "id": "n4CXHDZQ2eW8",
        "colab_type": "code",
        "outputId": "9de3638e-07af-401e-ba16-d14c6de2258a",
        "colab": {
          "base_uri": "https://localhost:8080/"
        }
      },
      "source": [
        "l.save_model(os.path.join(model_path, model_name))"
      ],
      "execution_count": 0,
      "outputs": [
        {
          "output_type": "stream",
          "text": [
            "Model saved to /content/drive/My Drive/42/reverse game of life/save/model.pkl successfully!\n"
          ],
          "name": "stdout"
        }
      ]
    },
    {
      "cell_type": "code",
      "metadata": {
        "id": "iVADFPYM22HL",
        "colab_type": "code",
        "outputId": "c3387cfd-33c5-493b-ac29-47147ca2b729",
        "colab": {
          "base_uri": "https://localhost:8080/"
        }
      },
      "source": [
        "test = load_model(os.path.join(model_path, model_name))"
      ],
      "execution_count": 0,
      "outputs": [
        {
          "output_type": "stream",
          "text": [
            "Model was loaded from /content/drive/My Drive/42/reverse game of life/save/model.pkl successfully!\n"
          ],
          "name": "stdout"
        }
      ]
    },
    {
      "cell_type": "code",
      "metadata": {
        "id": "yOwgn5K327R2",
        "colab_type": "code",
        "outputId": "130bdd0e-3701-495c-f4e2-772332b6b83f",
        "colab": {
          "base_uri": "https://localhost:8080/"
        }
      },
      "source": [
        "test"
      ],
      "execution_count": 0,
      "outputs": [
        {
          "output_type": "execute_result",
          "data": {
            "text/plain": [
              "MultiLayers(2, 0.5, [(20, 20), (20, 20)])"
            ]
          },
          "metadata": {
            "tags": []
          },
          "execution_count": 289
        }
      ]
    },
    {
      "cell_type": "markdown",
      "metadata": {
        "id": "qyBm3bAG3Qw8",
        "colab_type": "text"
      },
      "source": [
        "##### Testing weight load and save\n",
        "\n",
        "**Successfully passed!**"
      ]
    },
    {
      "cell_type": "code",
      "metadata": {
        "id": "oSAQIeJ62_oK",
        "colab_type": "code",
        "outputId": "4f7bca4c-2af8-46b4-9043-efe06762a749",
        "colab": {
          "base_uri": "https://localhost:8080/"
        }
      },
      "source": [
        "l.save_weights(os.path.join(weight_path, weight_name))"
      ],
      "execution_count": 0,
      "outputs": [
        {
          "output_type": "stream",
          "text": [
            "Weight saved to /content/drive/My Drive/42/reverse game of life/save/weight.pkl successfully!\n"
          ],
          "name": "stdout"
        }
      ]
    },
    {
      "cell_type": "code",
      "metadata": {
        "id": "r49N0pYS3fon",
        "colab_type": "code",
        "outputId": "32986d05-6fc7-459f-cfd8-dadf3b1892c1",
        "colab": {
          "base_uri": "https://localhost:8080/"
        }
      },
      "source": [
        "test.load_weights(os.path.join(weight_path, weight_name))"
      ],
      "execution_count": 0,
      "outputs": [
        {
          "output_type": "stream",
          "text": [
            "Weight loaded from /content/drive/My Drive/42/reverse game of life/save/weight.pkl successfully!\n"
          ],
          "name": "stdout"
        }
      ]
    },
    {
      "cell_type": "code",
      "metadata": {
        "id": "QZ7XCldK3j2T",
        "colab_type": "code",
        "outputId": "d5053137-0e64-4f73-a796-ab9b08bc2afb",
        "colab": {
          "base_uri": "https://localhost:8080/"
        }
      },
      "source": [
        "for i, (layer_1, layer_2) in enumerate(zip(l.layer_list, test.layer_list)):\n",
        "    print(\"Comparing Layer {} ... \".format(i + 1), end=\"\")\n",
        "    if (layer_1.weight == layer_2.weight).all():\n",
        "        print(\"weight is {} \".format(\"SAME\"), end=\"\")\n",
        "    else:\n",
        "        print(\"weight is {} \".format(\"DIFFERENT\"), end=\"\")\n",
        "    if (layer_1.bias == layer_2.bias).all():\n",
        "        print(\"bias is {}\".format(\"SAME\"))\n",
        "    else:\n",
        "        print(\"bias is {}\".format(\"DIFFERENT\"))"
      ],
      "execution_count": 0,
      "outputs": [
        {
          "output_type": "stream",
          "text": [
            "Comparing Layer 1 ... weight is SAME bias is SAME\n",
            "Comparing Layer 2 ... weight is SAME bias is SAME\n"
          ],
          "name": "stdout"
        }
      ]
    },
    {
      "cell_type": "markdown",
      "metadata": {
        "id": "Kv6y8SkC5lR6",
        "colab_type": "text"
      },
      "source": [
        "### Train model with Genetic Algorithm\n",
        "\n",
        "1. `Population` - specific number of multilayers\n",
        "2. `Fitness` - Get the score for each multilayers using the 50,000 train set\n",
        "     - This approach is not efficient but will consider later\n",
        "3. `Selection` - Choose the model with highest score in specific fate\n",
        "4. `Crossover` - Generate a child\n",
        "5. `Mutation` - mutate the model weight "
      ]
    },
    {
      "cell_type": "code",
      "metadata": {
        "id": "UobX0nDXX0n9",
        "colab_type": "code",
        "colab": {}
      },
      "source": [
        "class Genetic(object):\n",
        "    \"\"\"Genetic Algorithm to train the model\"\"\"\n",
        "    def __init__(self,\n",
        "                 population_num,\n",
        "                 layer_num,\n",
        "                 threshold=.0,\n",
        "                 layer_size_list=None):\n",
        "        \"\"\"\n",
        "        Choose the model \n",
        "\n",
        "        :param int population_num: Choose the number of population\n",
        "        :param int layer_num: Choose the size of layer of one model\n",
        "        :param float threshold: Choose the threshold that model will use to generate the board\n",
        "        :param Tuple layer_size_list: [(h, w), ... , (h, w)]\n",
        "            -> list of layer size tuples height and width\n",
        "            -> if None fill the list to default value (20, 20)\n",
        "        \"\"\"\n",
        "        self.population_num = population_num\n",
        "        self.layer_num = layer_num\n",
        "        self.threshold = threshold\n",
        "        self.layer_size_list = layer_size_list\n",
        "        self.model_info = [self.layer_num,\n",
        "                           self.threshold,\n",
        "                           self.layer_size_list]\n",
        "\n",
        "        # Create the Models to populate\n",
        "        self.population()\n",
        "\n",
        "    def save_model(self, path):\n",
        "        \"\"\"Saving the best model\"\"\"\n",
        "        self.model_list[0].save_model(path)\n",
        "    \n",
        "    def save_weight(self, path):\n",
        "        \"\"\"Saving the best weight\"\"\"\n",
        "        self.model_list[0].save_weights(path)\n",
        "    \n",
        "    def load_model(self, path):\n",
        "        with open(path, 'rb') as f:\n",
        "            model = pickle.load(f)\n",
        "        self.model_info = model\n",
        "        self.population()\n",
        "        print(\"Model was loaded from {} successfully!\".format(path))\n",
        "    \n",
        "    def load_weight(self, path):\n",
        "        self.model_list[0].load_weights(path)\n",
        "\n",
        "    def __str__(self):\n",
        "        status = \"\"\n",
        "        for i, model in enumerate(self.model_list):\n",
        "            status += \"model {} \".format(i + 1)\n",
        "            status += repr(model)\n",
        "            status += \"\\n\"\n",
        "        return status\n",
        "    \n",
        "    def __repr__(self):\n",
        "        return \"Genetic({}, {}, {}, {})\".format(self.population_num,\n",
        "                                                *self.model_info)\n",
        "        \n",
        "    def __call__(self,\n",
        "                 dataset,\n",
        "                 dataset_num=None,\n",
        "                 generation_num=500,\n",
        "                 survive_ratio=0.5,\n",
        "                 mutation_probability=1,\n",
        "                 mutation_area=0.5,\n",
        "                 verbose=True,\n",
        "                 print_every=10,\n",
        "                 save_every=100,\n",
        "                 model_path=None,\n",
        "                 weight_path=None):\n",
        "        \"\"\"\n",
        "        :param dataset: Training dataset [id / step / start board / end board]\n",
        "        :param dataset_num: This tells how much dataset will gonna use calculating fitness score\n",
        "        :param generation_num: How much generation we are going to run?\n",
        "        :param survive_ratio: At the selection step how much model will survive?\n",
        "        :param mutation_probability: Choose the probability to mutate model\n",
        "        :param mutation area: When we mutate the model how many area we will gonna mutate?\n",
        "        :param s\n",
        "        \"\"\"\n",
        "        self.dataset = dataset\n",
        "        self.dataset_num = dataset_num\n",
        "        self.generation_num = generation_num\n",
        "        self.survive_ratio = survive_ratio\n",
        "        self.mutation_probability = mutation_probability\n",
        "        self.mutation_area = mutation_area\n",
        "        for generation in range(1, generation_num + 1):\n",
        "            self.evolve()\n",
        "            if verbose and (generation % print_every == 0):\n",
        "                self.log(generation)\n",
        "            if (generation % save_every == 0):\n",
        "                if (model_path and weight_path):\n",
        "                    self.save_model(model_path + '_' + str(generation))\n",
        "                    self.save_weight(weight_path + '_' + str(generation))\n",
        "\n",
        "    def best_model_score():\n",
        "        \"\"\"Using the best model predict the past\"\"\"\n",
        "        # Use the best model\n",
        "        model = self.model_list[0]\n",
        "\n",
        "        # Show the model score\n",
        "        print(\"Dataset LIMIT have been deleted\")\n",
        "        print(\"Trained by {} data but the score will be tested in 50,000\".format(self.dataset_num))\n",
        "        self.dataset_num = None\n",
        "        model_score = self.model_score(model)\n",
        "        print(\"The model we are going to use has score : {}\".format(model_score))\n",
        "\n",
        "    def predict(self, predict_dataset, predict_dataset_index=None):\n",
        "        # Use the best model\n",
        "        model = self.model_list[0]\n",
        "\n",
        "        # Predict the result\n",
        "        if (predict_dataset_index == None):\n",
        "            print(\"Currently showing prediction for every dataset is not supported\")\n",
        "            print(\"Please choose specific index of dataset.\")\n",
        "            print(\"predict(dataset, predict_dataset_index=0)\")\n",
        "            raise NotImplementedError\n",
        "\n",
        "        data = predict_dataset[predict_dataset_index]\n",
        "        x = data['end']\n",
        "        for _ in range(data['step']):\n",
        "            x = model(x)\n",
        "    \n",
        "        # Show the result\n",
        "        print(\"This is the end board\")\n",
        "        visualize_board(data['end'])\n",
        "        print(\"This is the answer\")\n",
        "        visualize_board(data['start'])\n",
        "        print(\"This is the prediction\")\n",
        "        visualize_board(x)\n",
        "\n",
        "    def log(self, generation):\n",
        "        \"\"\"Print out the current situation of training\"\"\"\n",
        "        self.score_list = []\n",
        "        # Calculate the score\n",
        "        for model in self.model_list:\n",
        "            self.score_list.append(self.model_score(model))\n",
        "        print(\"Generation [ {} / {} ]\".format(generation, self.generation_num))\n",
        "        print(\"Population {} - {}\".format(self.population_num, self.score_list))\n",
        "    \n",
        "    def change_threshold(self, threshold):\n",
        "        \"\"\"Change the threshold of all the models\"\"\"\n",
        "        for model in self.model_list:\n",
        "            model.change_threshold(threshold)\n",
        "\n",
        "    def change_population(self, population_num):\n",
        "        \"\"\"Change the population number and populate models again\"\"\"\n",
        "        self.population_num = population_num\n",
        "        self.population()\n",
        "        print(\"Changed to {} population and repopulate model\".format(self.population_num))\n",
        "    \n",
        "    def change_model(self, layer_num, threshold=.5, layer_size_list=None):\n",
        "        \"\"\"Change the model specification and populate models again\"\"\"\n",
        "        self.layer_num = layer_num\n",
        "        self.threshold = threshold\n",
        "        self.layer_size_list = layer_size_list\n",
        "        self.model_info = [self.layer_num,\n",
        "                           self.threshold,\n",
        "                           self.layer_size_list]\n",
        "        self.population()\n",
        "        print(\"Changed the model spec to {} and repopulate model\".format(repr(self.model_list[0])))\n",
        "\n",
        "    def population(self):\n",
        "        self.model_list = []\n",
        "        for _ in range(self.population_num):\n",
        "            self.model_list.append(MultiLayers(*self.model_info))\n",
        "        \n",
        "        # Update the layer size list to default value if it is not designated\n",
        "        if self.layer_size_list is None:\n",
        "            self.layer_size_list = self.model_list[0].layer_size_list\n",
        "            self.model_info = [self.layer_num,\n",
        "                               self.threshold,\n",
        "                               self.layer_size_list]\n",
        "    \n",
        "    def evolve(self):\n",
        "        self.fitness()\n",
        "        self.selection()\n",
        "        self.crossover()\n",
        "        self.mutation()\n",
        "\n",
        "    def fitness(self):\n",
        "        self.score_list = []\n",
        "        # Calculate the score\n",
        "        for model in self.model_list:\n",
        "            self.score_list.append(self.model_score(model))\n",
        "\n",
        "        # Sort the model list\n",
        "        self.model_list = [self.model_list[index] for index in np.argsort(self.score_list)[::-1]]\n",
        "\n",
        "    def model_score(self, model):\n",
        "        total_score = 0\n",
        "        total_count = 0\n",
        "        for _, data in self.dataset.items():\n",
        "            x = data['end']\n",
        "            for _ in range(data['step']):\n",
        "                x = model(x)\n",
        "            total_score += self.score_method(x, data['start'])\n",
        "            total_count += 1\n",
        "\n",
        "            # Stop training when we train using specific dataset\n",
        "            if self.dataset_num and (total_count % self.dataset_num == 0):\n",
        "                break \n",
        "        return round(total_score / total_count, 4)\n",
        "\n",
        "    def score_method(self, output, target):\n",
        "        return sum((output == target).reshape(-1))/400\n",
        "\n",
        "    def selection(self):\n",
        "        survive_num = round(self.population_num * self.survive_ratio)\n",
        "        self.model_list = [self.model_list[index] for index in range(survive_num)]\n",
        "    \n",
        "    def crossover(self):\n",
        "        # Reproduce childs to fill the population\n",
        "        while (self.population_num != len(self.model_list)):\n",
        "            parent = random.sample(self.model_list, 2)\n",
        "\n",
        "            # Make child\n",
        "            son, daugter = self.make_child(parent)\n",
        "            self.model_list.append(son)\n",
        "            if (self.population_num != len(self.model_list)):\n",
        "                self.model_list.append(daugter)\n",
        "    \n",
        "    def make_child(self, parent):\n",
        "        # parent\n",
        "        dad = parent[0]\n",
        "        mom = parent[1]\n",
        "\n",
        "        # make child\n",
        "        son = MultiLayers(*self.model_info)\n",
        "        daughter = MultiLayers(*self.model_info)\n",
        "\n",
        "        # Give the child a parent power\n",
        "        for i, (dad_layer, mom_layer) in enumerate(zip(dad.layer_list, mom.layer_list)):\n",
        "            # Weight reproduce\n",
        "            reproduced = self.reproduce(dad_layer.weight, mom_layer.weight)\n",
        "            son.layer_list[i].weight = reproduced[0]\n",
        "            daughter.layer_list[i].weight = reproduced[1]\n",
        "\n",
        "            # Bias reproduce\n",
        "            reproduced = self.reproduce(dad_layer.bias, mom_layer.bias)\n",
        "            son.layer_list[i].bias = reproduced[0]\n",
        "            daughter.layer_list[i].bias = reproduced[1]\n",
        "        return son, daughter      \n",
        "\n",
        "    def reproduce(self, dad, mom):\n",
        "        overlap = np.random.binomial(1, 0.5, size=dad.shape).astype('bool')\n",
        "        son = deepcopy(dad)\n",
        "        daugter = deepcopy(mom)\n",
        "        son[overlap] = mom[overlap]\n",
        "        daugter[overlap] = dad[overlap]\n",
        "        return son, daugter\n",
        "\n",
        "    def mutation(self):\n",
        "        for i, model in enumerate(self.model_list):\n",
        "            # Don't mutate the 1st, 2nd model\n",
        "            if (i == 0 or i == 1):\n",
        "                continue\n",
        "            if random.random() < self.mutation_probability:\n",
        "                self.mutate_model(model)\n",
        "\n",
        "    def mutate_model(self, model):\n",
        "        for layer in model.layer_list:\n",
        "            w_shape = layer.weight.shape\n",
        "            b_shape = layer.bias.shape\n",
        "            self.mutate_layer(layer, w_shape, b_shape)\n",
        "    \n",
        "    def mutate_layer(self, layer, w_s, b_s):\n",
        "        weight_mutate_area = np.random.binomial(1, self.mutation_area, size=w_s).astype('bool')\n",
        "        bias_mutate_area = np.random.binomial(1, self.mutation_area, size=b_s).astype('bool')\n",
        "        weight_random = np.random.randn(*w_s) / 10\n",
        "        bias_random = np.random.randn(*b_s) / 10 \n",
        "        layer.weight[weight_mutate_area] += weight_random[weight_mutate_area]\n",
        "        layer.bias[bias_mutate_area] += bias_random[bias_mutate_area]\n"
      ],
      "execution_count": 0,
      "outputs": []
    },
    {
      "cell_type": "code",
      "metadata": {
        "id": "ddtPxi7fsF8r",
        "colab_type": "code",
        "colab": {}
      },
      "source": [
        "# Choose the name of model and weight\n",
        "model_name = \"model.pkl\"\n",
        "weight_name = \"weight.pkl\"\n",
        "\n",
        "model_g_path = os.path.join(model_path, model_name)\n",
        "weight_g_path = os.path.join(weight_path, weight_name)"
      ],
      "execution_count": 0,
      "outputs": []
    },
    {
      "cell_type": "code",
      "metadata": {
        "id": "VoAwNIkGx4yj",
        "colab_type": "code",
        "colab": {}
      },
      "source": [
        "g = Genetic(population_num=20,\n",
        "            layer_num=5,\n",
        "            layer_size_list=[(20, 40), (40, 40), (40, 40), (40, 40), (40, 20)])"
      ],
      "execution_count": 0,
      "outputs": []
    },
    {
      "cell_type": "code",
      "metadata": {
        "id": "BuLYVYTY0uen",
        "colab_type": "code",
        "outputId": "294176e2-7816-490c-e21f-aed2d4dc9d7e",
        "colab": {
          "base_uri": "https://localhost:8080/",
          "height": 1000
        }
      },
      "source": [
        "g(dataset=train_set,\n",
        "  dataset_num=100,\n",
        "  print_every=1,\n",
        "  save_every=100,\n",
        "  model_path=model_g_path,\n",
        "  weight_path=weight_g_path,\n",
        "  generation_num=10000)"
      ],
      "execution_count": 0,
      "outputs": [
        {
          "output_type": "stream",
          "text": [
            "Generation [ 1 / 10000 ]\n",
            "Population 20 - [0.6735, 0.6728, 0.6633, 0.6613, 0.6559, 0.6558, 0.655, 0.6543, 0.6497, 0.6486, 0.6543, 0.6647, 0.6695, 0.5193, 0.6562, 0.6244, 0.6268, 0.4817, 0.5368, 0.6864]\n",
            "Generation [ 2 / 10000 ]\n",
            "Population 20 - [0.6864, 0.6735, 0.6727, 0.6593, 0.666, 0.6575, 0.652, 0.6181, 0.6565, 0.6521, 0.683, 0.4352, 0.6168, 0.5127, 0.5514, 0.5674, 0.6481, 0.5686, 0.5345, 0.7111]\n",
            "Generation [ 3 / 10000 ]\n",
            "Population 20 - [0.7111, 0.6864, 0.6819, 0.6726, 0.6726, 0.665, 0.6594, 0.656, 0.6541, 0.6562, 0.5789, 0.6673, 0.6501, 0.6216, 0.6497, 0.5587, 0.591, 0.5635, 0.5528, 0.6102]\n",
            "Generation [ 4 / 10000 ]\n",
            "Population 20 - [0.7111, 0.6864, 0.6833, 0.6733, 0.6639, 0.6713, 0.6653, 0.6671, 0.6559, 0.6578, 0.5588, 0.7493, 0.6928, 0.667, 0.6801, 0.6661, 0.4611, 0.7052, 0.5481, 0.5012]\n",
            "Generation [ 5 / 10000 ]\n",
            "Population 20 - [0.7493, 0.7111, 0.7052, 0.6934, 0.6863, 0.684, 0.6805, 0.6737, 0.6672, 0.6672, 0.7147, 0.6386, 0.6101, 0.5918, 0.6303, 0.6883, 0.577, 0.7008, 0.6611, 0.6819]\n",
            "Generation [ 6 / 10000 ]\n",
            "Population 20 - [0.7493, 0.7147, 0.7042, 0.7053, 0.7007, 0.6931, 0.6883, 0.6865, 0.6843, 0.686, 0.5584, 0.6763, 0.6847, 0.6873, 0.7748, 0.6613, 0.641, 0.7112, 0.6582, 0.6151]\n",
            "Generation [ 7 / 10000 ]\n",
            "Population 20 - [0.7748, 0.7493, 0.73, 0.711, 0.7035, 0.7042, 0.7006, 0.693, 0.6883, 0.688, 0.6428, 0.6809, 0.7239, 0.6967, 0.6977, 0.6864, 0.7067, 0.7228, 0.7011, 0.5884]\n",
            "Generation [ 8 / 10000 ]\n",
            "Population 20 - [0.7748, 0.7493, 0.7301, 0.7414, 0.714, 0.6923, 0.7054, 0.7043, 0.7036, 0.7003, 0.672, 0.6466, 0.7312, 0.6365, 0.654, 0.6887, 0.6637, 0.6863, 0.6567, 0.6124]\n",
            "Generation [ 9 / 10000 ]\n",
            "Population 20 - [0.7748, 0.7493, 0.7389, 0.7329, 0.7301, 0.714, 0.7049, 0.6974, 0.7081, 0.7004, 0.7425, 0.6546, 0.6574, 0.7178, 0.7573, 0.7148, 0.7071, 0.7073, 0.6977, 0.7089]\n",
            "Generation [ 10 / 10000 ]\n",
            "Population 20 - [0.7748, 0.7573, 0.7458, 0.7375, 0.7438, 0.7328, 0.7299, 0.7054, 0.7172, 0.7225, 0.7333, 0.6628, 0.6346, 0.7376, 0.8051, 0.6966, 0.6762, 0.7515, 0.6956, 0.7841]\n",
            "Generation [ 11 / 10000 ]\n",
            "Population 20 - [0.8051, 0.7841, 0.7749, 0.7577, 0.7515, 0.7436, 0.7373, 0.7417, 0.7423, 0.7332, 0.7494, 0.7213, 0.8163, 0.6806, 0.7487, 0.7419, 0.712, 0.7254, 0.7382, 0.7113]\n",
            "Generation [ 12 / 10000 ]\n",
            "Population 20 - [0.8163, 0.8051, 0.7841, 0.7746, 0.7581, 0.7461, 0.7548, 0.749, 0.7488, 0.7387, 0.6889, 0.7639, 0.6628, 0.7636, 0.6685, 0.7107, 0.7235, 0.7489, 0.6564, 0.7475]\n",
            "Generation [ 13 / 10000 ]\n",
            "Population 20 - [0.8163, 0.8051, 0.784, 0.7747, 0.7642, 0.7638, 0.7573, 0.7737, 0.7486, 0.7492, 0.733, 0.8048, 0.7901, 0.7381, 0.708, 0.7418, 0.686, 0.8109, 0.7765, 0.7012]\n",
            "Generation [ 14 / 10000 ]\n",
            "Population 20 - [0.8163, 0.8109, 0.7716, 0.7947, 0.7903, 0.7586, 0.7753, 0.775, 0.7748, 0.7719, 0.6908, 0.7155, 0.7301, 0.7424, 0.7009, 0.7589, 0.7384, 0.8215, 0.7529, 0.7134]\n",
            "Generation [ 15 / 10000 ]\n",
            "Population 20 - [0.8215, 0.8163, 0.8444, 0.786, 0.7899, 0.7628, 0.7747, 0.7751, 0.7651, 0.8047, 0.744, 0.7958, 0.7039, 0.7166, 0.7801, 0.7835, 0.7872, 0.7386, 0.7639, 0.7207]\n",
            "Generation [ 16 / 10000 ]\n",
            "Population 20 - [0.8444, 0.8215, 0.8163, 0.8045, 0.7954, 0.7896, 0.7873, 0.8085, 0.7753, 0.7702, 0.7794, 0.757, 0.7639, 0.7773, 0.7784, 0.7412, 0.7628, 0.7786, 0.7595, 0.7756]\n",
            "Generation [ 17 / 10000 ]\n",
            "Population 20 - [0.8444, 0.8215, 0.8162, 0.7726, 0.7787, 0.795, 0.7898, 0.7876, 0.7796, 0.7788, 0.754, 0.766, 0.792, 0.7922, 0.6895, 0.785, 0.77, 0.7624, 0.757, 0.7553]\n",
            "Generation [ 18 / 10000 ]\n",
            "Population 20 - [0.8444, 0.8215, 0.8162, 0.7953, 0.7917, 0.7937, 0.7898, 0.7874, 0.7849, 0.7792, 0.772, 0.8032, 0.7614, 0.7963, 0.7589, 0.7513, 0.8021, 0.7873, 0.6342, 0.7894]\n",
            "Generation [ 19 / 10000 ]\n",
            "Population 20 - [0.8444, 0.8215, 0.7932, 0.7935, 0.8024, 0.7959, 0.796, 0.7942, 0.7916, 0.7899, 0.7878, 0.7482, 0.7829, 0.751, 0.8601, 0.7362, 0.7737, 0.689, 0.7524, 0.7956]\n",
            "Generation [ 20 / 10000 ]\n",
            "Population 20 - [0.8601, 0.8444, 0.8213, 0.8021, 0.7792, 0.7962, 0.8026, 0.7939, 0.7934, 0.7932, 0.7767, 0.7899, 0.76, 0.8229, 0.786, 0.7676, 0.7769, 0.7804, 0.7577, 0.7797]\n",
            "Generation [ 21 / 10000 ]\n",
            "Population 20 - [0.8601, 0.8444, 0.8462, 0.8214, 0.8072, 0.8025, 0.7962, 0.7939, 0.7935, 0.816, 0.818, 0.8237, 0.786, 0.7625, 0.7684, 0.7853, 0.8055, 0.7397, 0.7869, 0.7561]\n",
            "Generation [ 22 / 10000 ]\n",
            "Population 20 - [0.8601, 0.8462, 0.8108, 0.8233, 0.8222, 0.8162, 0.8162, 0.8028, 0.8061, 0.8025, 0.7779, 0.7711, 0.7364, 0.7428, 0.7807, 0.7626, 0.7743, 0.7897, 0.7814, 0.7523]\n",
            "Generation [ 23 / 10000 ]\n",
            "Population 20 - [0.8601, 0.8462, 0.8233, 0.8223, 0.8163, 0.808, 0.8442, 0.806, 0.7958, 0.8237, 0.8245, 0.7567, 0.7827, 0.767, 0.7322, 0.7629, 0.7923, 0.7902, 0.8002, 0.7996]\n",
            "Generation [ 24 / 10000 ]\n",
            "Population 20 - [0.8601, 0.8462, 0.7849, 0.8249, 0.8237, 0.8232, 0.8221, 0.807, 0.8134, 0.8061, 0.8069, 0.7962, 0.7973, 0.8272, 0.7635, 0.8347, 0.8134, 0.8144, 0.7921, 0.766]\n",
            "Generation [ 25 / 10000 ]\n",
            "Population 20 - [0.8601, 0.8462, 0.8347, 0.8273, 0.825, 0.8237, 0.8234, 0.8224, 0.8142, 0.7832, 0.8215, 0.7913, 0.8309, 0.8155, 0.757, 0.8146, 0.8156, 0.8063, 0.7884, 0.8201]\n",
            "Generation [ 26 / 10000 ]\n",
            "Population 20 - [0.8601, 0.8462, 0.8347, 0.7928, 0.8272, 0.8252, 0.8144, 0.8232, 0.8225, 0.8357, 0.7482, 0.7597, 0.8202, 0.8042, 0.8464, 0.8134, 0.8159, 0.8473, 0.8257, 0.8198]\n",
            "Generation [ 27 / 10000 ]\n",
            "Population 20 - [0.8601, 0.8473, 0.8463, 0.8595, 0.8359, 0.8346, 0.827, 0.8256, 0.8251, 0.8233, 0.8529, 0.8619, 0.7904, 0.8106, 0.799, 0.8116, 0.8214, 0.7877, 0.7776, 0.8307]\n",
            "Generation [ 28 / 10000 ]\n",
            "Population 20 - [0.8619, 0.8601, 0.8596, 0.8527, 0.8473, 0.8255, 0.8211, 0.8582, 0.8321, 0.8245, 0.8518, 0.8636, 0.7951, 0.8338, 0.8493, 0.8291, 0.8264, 0.8648, 0.8559, 0.7969]\n",
            "Generation [ 29 / 10000 ]\n",
            "Population 20 - [0.8648, 0.8636, 0.862, 0.8601, 0.8599, 0.8349, 0.8558, 0.856, 0.8252, 0.8494, 0.8376, 0.8115, 0.8021, 0.8568, 0.8477, 0.8435, 0.8609, 0.8599, 0.8425, 0.8599]\n",
            "Generation [ 30 / 10000 ]\n",
            "Population 20 - [0.8648, 0.8636, 0.8618, 0.861, 0.8601, 0.8595, 0.8311, 0.86, 0.8568, 0.8528, 0.8169, 0.8641, 0.8469, 0.7908, 0.8615, 0.8624, 0.8328, 0.858, 0.7717, 0.8512]\n",
            "Generation [ 31 / 10000 ]\n",
            "Population 20 - [0.8648, 0.8641, 0.8635, 0.8625, 0.8618, 0.8615, 0.8607, 0.8458, 0.8602, 0.823, 0.8627, 0.8618, 0.818, 0.8578, 0.8631, 0.861, 0.8608, 0.8618, 0.8374, 0.8082]\n",
            "Generation [ 32 / 10000 ]\n",
            "Population 20 - [0.8648, 0.8641, 0.8635, 0.8629, 0.8626, 0.8624, 0.8617, 0.7285, 0.8619, 0.8614, 0.8629, 0.8633, 0.8497, 0.8344, 0.8554, 0.8226, 0.849, 0.8596, 0.8629, 0.8363]\n",
            "Generation [ 33 / 10000 ]\n",
            "Population 20 - [0.8648, 0.8641, 0.8636, 0.8632, 0.8633, 0.8628, 0.863, 0.8626, 0.8598, 0.7254, 0.8475, 0.8618, 0.8641, 0.8626, 0.8643, 0.8646, 0.8632, 0.8638, 0.8642, 0.8649]\n",
            "Generation [ 34 / 10000 ]\n",
            "Population 20 - [0.8649, 0.8648, 0.8646, 0.8641, 0.8642, 0.8638, 0.8641, 0.8638, 0.8635, 0.8633, 0.8505, 0.8372, 0.8644, 0.8644, 0.8632, 0.8644, 0.8383, 0.8392, 0.8642, 0.8608]\n",
            "Generation [ 35 / 10000 ]\n",
            "Population 20 - [0.8649, 0.8648, 0.8644, 0.8646, 0.8638, 0.8644, 0.8645, 0.8641, 0.864, 0.8643, 0.8648, 0.8631, 0.8632, 0.8648, 0.865, 0.8645, 0.8647, 0.8629, 0.7902, 0.8638]\n",
            "Generation [ 36 / 10000 ]\n",
            "Population 20 - [0.865, 0.8649, 0.8651, 0.8649, 0.8644, 0.8647, 0.8646, 0.8645, 0.8644, 0.8645, 0.8635, 0.8642, 0.8644, 0.839, 0.865, 0.8644, 0.8639, 0.8653, 0.8646, 0.8651]\n",
            "Generation [ 37 / 10000 ]\n",
            "Population 20 - [0.8653, 0.8651, 0.8654, 0.865, 0.8649, 0.8648, 0.8648, 0.8647, 0.8646, 0.8645, 0.8384, 0.8648, 0.8655, 0.8643, 0.8645, 0.8647, 0.8652, 0.8653, 0.8647, 0.8648]\n",
            "Generation [ 38 / 10000 ]\n",
            "Population 20 - [0.8655, 0.8654, 0.8653, 0.8653, 0.8647, 0.865, 0.865, 0.8649, 0.8647, 0.8648, 0.8633, 0.849, 0.865, 0.865, 0.8654, 0.8645, 0.8655, 0.865, 0.8658, 0.848]\n",
            "Generation [ 39 / 10000 ]\n",
            "Population 20 - [0.8658, 0.8655, 0.8654, 0.8654, 0.8655, 0.8653, 0.8653, 0.8649, 0.865, 0.8649, 0.8648, 0.8643, 0.8654, 0.8651, 0.8654, 0.8654, 0.8655, 0.8648, 0.8652, 0.8647]\n",
            "Generation [ 40 / 10000 ]\n",
            "Population 20 - [0.8658, 0.8655, 0.8655, 0.8655, 0.8653, 0.8654, 0.8654, 0.8653, 0.8654, 0.8653, 0.8653, 0.8653, 0.8654, 0.8655, 0.8648, 0.8657, 0.8649, 0.8655, 0.8658, 0.8652]\n",
            "Generation [ 41 / 10000 ]\n",
            "Population 20 - [0.8658, 0.8658, 0.8656, 0.8656, 0.8654, 0.8655, 0.8655, 0.8655, 0.8653, 0.8653, 0.8655, 0.8654, 0.8644, 0.866, 0.8655, 0.8657, 0.8653, 0.8655, 0.8649, 0.8492]\n",
            "Generation [ 42 / 10000 ]\n",
            "Population 20 - [0.866, 0.8658, 0.8658, 0.8657, 0.8657, 0.8656, 0.8656, 0.8655, 0.8656, 0.8656, 0.8655, 0.8657, 0.8657, 0.8655, 0.8656, 0.8656, 0.8654, 0.8654, 0.8657, 0.8655]\n",
            "Generation [ 43 / 10000 ]\n",
            "Population 20 - [0.866, 0.8658, 0.8656, 0.8656, 0.8488, 0.8656, 0.8656, 0.8657, 0.8655, 0.8655, 0.8654, 0.8658, 0.848, 0.8666, 0.8654, 0.8658, 0.8659, 0.8657, 0.8661, 0.8653]\n",
            "Generation [ 44 / 10000 ]\n",
            "Population 20 - [0.8666, 0.8661, 0.866, 0.8659, 0.8658, 0.8658, 0.8658, 0.8658, 0.8658, 0.8487, 0.864, 0.7608, 0.865, 0.8649, 0.8653, 0.8132, 0.866, 0.8654, 0.8493, 0.8664]\n",
            "Generation [ 45 / 10000 ]\n",
            "Population 20 - [0.8666, 0.8664, 0.8662, 0.866, 0.8661, 0.8659, 0.8658, 0.8658, 0.8657, 0.8657, 0.8661, 0.8653, 0.8655, 0.8664, 0.8646, 0.8649, 0.867, 0.8658, 0.8646, 0.866]\n",
            "Generation [ 46 / 10000 ]\n",
            "Population 20 - [0.867, 0.8666, 0.8664, 0.8664, 0.8663, 0.8661, 0.8661, 0.866, 0.8661, 0.8659, 0.8652, 0.8662, 0.8658, 0.8667, 0.8663, 0.8664, 0.8654, 0.8335, 0.8655, 0.8661]\n",
            "Generation [ 47 / 10000 ]\n",
            "Population 20 - [0.867, 0.8667, 0.8665, 0.8663, 0.8661, 0.8664, 0.8662, 0.8663, 0.8661, 0.8661, 0.8663, 0.8665, 0.8659, 0.8652, 0.8661, 0.8666, 0.8671, 0.8658, 0.8668, 0.8667]\n",
            "Generation [ 48 / 10000 ]\n",
            "Population 20 - [0.8671, 0.867, 0.8667, 0.8667, 0.8667, 0.8668, 0.8668, 0.8666, 0.8664, 0.8663, 0.8678, 0.8663, 0.8671, 0.8674, 0.866, 0.8671, 0.866, 0.8662, 0.8669, 0.8674]\n",
            "Generation [ 49 / 10000 ]\n",
            "Population 20 - [0.8678, 0.8674, 0.8673, 0.8667, 0.867, 0.8669, 0.8671, 0.8668, 0.8669, 0.8668, 0.8672, 0.8677, 0.8672, 0.8676, 0.8671, 0.8669, 0.8671, 0.8673, 0.8673, 0.8674]\n",
            "Generation [ 50 / 10000 ]\n",
            "Population 20 - [0.8678, 0.8677, 0.8678, 0.8674, 0.8673, 0.8673, 0.8673, 0.8675, 0.8672, 0.8672, 0.8676, 0.8673, 0.8674, 0.8673, 0.8676, 0.8671, 0.8672, 0.8673, 0.8675, 0.8677]\n",
            "Generation [ 51 / 10000 ]\n",
            "Population 20 - [0.8678, 0.8678, 0.8676, 0.8677, 0.8676, 0.8675, 0.8669, 0.8674, 0.8674, 0.8674, 0.8675, 0.867, 0.8677, 0.8671, 0.8672, 0.8672, 0.8674, 0.8677, 0.8673, 0.867]\n",
            "Generation [ 52 / 10000 ]\n",
            "Population 20 - [0.8678, 0.8678, 0.8676, 0.8677, 0.8677, 0.8674, 0.8676, 0.8672, 0.8674, 0.8674, 0.8676, 0.8678, 0.8674, 0.8676, 0.8673, 0.8498, 0.8676, 0.8675, 0.8676, 0.8679]\n",
            "Generation [ 53 / 10000 ]\n",
            "Population 20 - [0.8679, 0.8678, 0.8676, 0.8677, 0.8678, 0.8676, 0.8675, 0.8677, 0.8675, 0.8676, 0.8676, 0.8676, 0.8677, 0.8676, 0.8678, 0.8673, 0.8676, 0.8678, 0.8676, 0.8672]\n",
            "Generation [ 54 / 10000 ]\n",
            "Population 20 - [0.8679, 0.8678, 0.8676, 0.8677, 0.8677, 0.8676, 0.8677, 0.8676, 0.8676, 0.8676, 0.8677, 0.8676, 0.8674, 0.8674, 0.8677, 0.8676, 0.8678, 0.8675, 0.8676, 0.8675]\n",
            "Generation [ 55 / 10000 ]\n",
            "Population 20 - [0.8679, 0.8678, 0.8678, 0.8677, 0.8677, 0.8677, 0.8678, 0.8678, 0.8676, 0.8676, 0.8676, 0.8676, 0.8676, 0.8676, 0.8671, 0.8678, 0.8679, 0.8676, 0.8669, 0.8675]\n",
            "Generation [ 56 / 10000 ]\n",
            "Population 20 - [0.8679, 0.8679, 0.8678, 0.8679, 0.8678, 0.8677, 0.8676, 0.8677, 0.8675, 0.8676, 0.8678, 0.8677, 0.8677, 0.8677, 0.8677, 0.8677, 0.8679, 0.8678, 0.8678, 0.8679]\n",
            "Generation [ 57 / 10000 ]\n",
            "Population 20 - [0.8679, 0.8679, 0.8679, 0.8679, 0.8679, 0.8679, 0.8678, 0.8678, 0.8678, 0.8678, 0.8678, 0.868, 0.8681, 0.8679, 0.8678, 0.868, 0.8681, 0.8676, 0.8678, 0.8679]\n",
            "Generation [ 58 / 10000 ]\n",
            "Population 20 - [0.8681, 0.8681, 0.8679, 0.8679, 0.868, 0.8678, 0.868, 0.8679, 0.868, 0.868, 0.868, 0.868, 0.868, 0.8679, 0.868, 0.868, 0.8678, 0.8679, 0.8677, 0.8679]\n",
            "Generation [ 59 / 10000 ]\n",
            "Population 20 - [0.8681, 0.8681, 0.8679, 0.8678, 0.8679, 0.8677, 0.868, 0.868, 0.8679, 0.8678, 0.8678, 0.8678, 0.8678, 0.868, 0.868, 0.8679, 0.8679, 0.8679, 0.868, 0.868]\n",
            "Generation [ 60 / 10000 ]\n",
            "Population 20 - [0.8681, 0.8681, 0.8681, 0.8678, 0.8679, 0.8679, 0.868, 0.868, 0.868, 0.8679, 0.8679, 0.8681, 0.8678, 0.8679, 0.8678, 0.868, 0.8679, 0.8679, 0.8677, 0.868]\n",
            "Generation [ 61 / 10000 ]\n",
            "Population 20 - [0.8681, 0.8681, 0.868, 0.868, 0.8681, 0.8679, 0.8679, 0.868, 0.868, 0.868, 0.868, 0.868, 0.8679, 0.868, 0.8681, 0.8679, 0.868, 0.8681, 0.868, 0.868]\n",
            "Generation [ 62 / 10000 ]\n",
            "Population 20 - [0.8681, 0.8681, 0.8679, 0.8681, 0.8681, 0.868, 0.868, 0.868, 0.8681, 0.868, 0.8682, 0.8679, 0.868, 0.8681, 0.8679, 0.8681, 0.868, 0.868, 0.868, 0.8679]\n",
            "Generation [ 63 / 10000 ]\n",
            "Population 20 - [0.8682, 0.8681, 0.8681, 0.868, 0.8681, 0.8682, 0.8681, 0.868, 0.8681, 0.8678, 0.868, 0.868, 0.8679, 0.8682, 0.868, 0.8681, 0.8681, 0.8681, 0.868, 0.868]\n",
            "Generation [ 64 / 10000 ]\n",
            "Population 20 - [0.8682, 0.8682, 0.8681, 0.868, 0.8682, 0.868, 0.8681, 0.8679, 0.8681, 0.8681, 0.8681, 0.8682, 0.868, 0.8682, 0.868, 0.8681, 0.8681, 0.8681, 0.868, 0.8682]\n",
            "Generation [ 65 / 10000 ]\n",
            "Population 20 - [0.8682, 0.8682, 0.8681, 0.8681, 0.8682, 0.8681, 0.8682, 0.8681, 0.8681, 0.8682, 0.8681, 0.8682, 0.8682, 0.8681, 0.8681, 0.8681, 0.8682, 0.8683, 0.8681, 0.8682]\n",
            "Generation [ 66 / 10000 ]\n",
            "Population 20 - [0.8683, 0.8682, 0.8683, 0.8683, 0.8682, 0.8681, 0.8682, 0.8681, 0.8681, 0.8682, 0.8681, 0.8682, 0.8681, 0.8683, 0.8682, 0.8682, 0.8681, 0.8682, 0.8682, 0.8682]\n",
            "Generation [ 67 / 10000 ]\n",
            "Population 20 - [0.8683, 0.8683, 0.8682, 0.8682, 0.8682, 0.8681, 0.8682, 0.8681, 0.8681, 0.8682, 0.8681, 0.8683, 0.868, 0.8682, 0.8681, 0.8681, 0.8683, 0.8681, 0.8682, 0.8681]\n",
            "Generation [ 68 / 10000 ]\n",
            "Population 20 - [0.8683, 0.8683, 0.8682, 0.8682, 0.8682, 0.8682, 0.8682, 0.8682, 0.8682, 0.8682, 0.8682, 0.8682, 0.8682, 0.8682, 0.8682, 0.8682, 0.8682, 0.8681, 0.8683, 0.8682]\n",
            "Generation [ 69 / 10000 ]\n",
            "Population 20 - [0.8683, 0.8683, 0.8682, 0.8682, 0.8683, 0.8682, 0.8682, 0.8682, 0.8681, 0.8682, 0.8683, 0.8682, 0.8683, 0.8682, 0.8681, 0.8683, 0.8681, 0.8682, 0.8682, 0.8682]\n",
            "Generation [ 70 / 10000 ]\n",
            "Population 20 - [0.8683, 0.8683, 0.8682, 0.8682, 0.8683, 0.8683, 0.8682, 0.8683, 0.8682, 0.8682, 0.8682, 0.8683, 0.8682, 0.8682, 0.8682, 0.8683, 0.8682, 0.8682, 0.8683, 0.8682]\n",
            "Generation [ 71 / 10000 ]\n",
            "Population 20 - [0.8683, 0.8683, 0.8683, 0.8683, 0.8683, 0.8683, 0.8683, 0.8375, 0.8682, 0.8683, 0.8682, 0.8683, 0.8682, 0.8683, 0.8683, 0.8682, 0.8682, 0.8683, 0.8682, 0.8682]\n",
            "Generation [ 72 / 10000 ]\n",
            "Population 20 - [0.8683, 0.8683, 0.8682, 0.8683, 0.8683, 0.8683, 0.8682, 0.8683, 0.8682, 0.8683, 0.8683, 0.8682, 0.8683, 0.8682, 0.8683, 0.8683, 0.8525, 0.8683, 0.8683, 0.8683]\n",
            "Generation [ 73 / 10000 ]\n",
            "Population 20 - [0.8683, 0.8683, 0.8683, 0.8683, 0.8683, 0.8683, 0.8683, 0.8683, 0.8683, 0.8683, 0.8682, 0.8683, 0.8682, 0.8683, 0.8683, 0.8683, 0.8682, 0.8682, 0.8683, 0.8683]\n",
            "Generation [ 74 / 10000 ]\n",
            "Population 20 - [0.8683, 0.8683, 0.8682, 0.8683, 0.8683, 0.8682, 0.8683, 0.8682, 0.8683, 0.8683, 0.8682, 0.8682, 0.8682, 0.8683, 0.8682, 0.8508, 0.8683, 0.8683, 0.8682, 0.8683]\n",
            "Generation [ 75 / 10000 ]\n",
            "Population 20 - [0.8683, 0.8683, 0.8683, 0.8683, 0.8683, 0.8683, 0.8682, 0.8683, 0.8683, 0.8683, 0.8683, 0.8683, 0.8683, 0.8683, 0.8682, 0.8683, 0.8683, 0.8682, 0.8683, 0.8682]\n",
            "Generation [ 76 / 10000 ]\n",
            "Population 20 - [0.8683, 0.8683, 0.8683, 0.8683, 0.8683, 0.8682, 0.8683, 0.8682, 0.8683, 0.8683, 0.8682, 0.8683, 0.8683, 0.8683, 0.8683, 0.8682, 0.8683, 0.8683, 0.8683, 0.8683]\n",
            "Generation [ 77 / 10000 ]\n",
            "Population 20 - [0.8683, 0.8683, 0.8683, 0.8683, 0.8682, 0.8683, 0.8683, 0.8682, 0.8683, 0.8683, 0.8683, 0.8682, 0.8682, 0.8683, 0.8682, 0.8683, 0.8683, 0.8683, 0.8684, 0.8683]\n",
            "Generation [ 78 / 10000 ]\n",
            "Population 20 - [0.8684, 0.8683, 0.8683, 0.8683, 0.8683, 0.8683, 0.8683, 0.8683, 0.8683, 0.8683, 0.8683, 0.8683, 0.8508, 0.8683, 0.8683, 0.8683, 0.8683, 0.8683, 0.8682, 0.8683]\n",
            "Generation [ 79 / 10000 ]\n",
            "Population 20 - [0.8684, 0.8683, 0.8683, 0.8682, 0.8683, 0.8683, 0.8683, 0.8683, 0.8683, 0.8683, 0.8683, 0.8684, 0.8683, 0.8682, 0.8683, 0.8683, 0.8508, 0.8682, 0.8683, 0.8683]\n",
            "Generation [ 80 / 10000 ]\n",
            "Population 20 - [0.8684, 0.8684, 0.8683, 0.8681, 0.8683, 0.8682, 0.8683, 0.8683, 0.8683, 0.8683, 0.8682, 0.8683, 0.8683, 0.8683, 0.8683, 0.8683, 0.8682, 0.8682, 0.8681, 0.8683]\n",
            "Generation [ 81 / 10000 ]\n",
            "Population 20 - [0.8684, 0.8684, 0.8683, 0.8683, 0.8682, 0.8683, 0.8683, 0.8683, 0.8682, 0.8682, 0.8683, 0.8682, 0.8507, 0.8682, 0.8683, 0.8506, 0.8508, 0.8682, 0.8506, 0.851]\n",
            "Generation [ 82 / 10000 ]\n",
            "Population 20 - [0.8684, 0.8684, 0.8683, 0.8683, 0.8683, 0.8681, 0.8682, 0.8683, 0.8683, 0.8682, 0.8683, 0.8682, 0.8683, 0.8683, 0.8683, 0.8682, 0.8683, 0.8683, 0.8684, 0.8682]\n",
            "Generation [ 83 / 10000 ]\n",
            "Population 20 - [0.8684, 0.8684, 0.8683, 0.8683, 0.8683, 0.8683, 0.8682, 0.8683, 0.8683, 0.8683, 0.8683, 0.8683, 0.8683, 0.8683, 0.8682, 0.8682, 0.8683, 0.8683, 0.8683, 0.8683]\n",
            "Generation [ 84 / 10000 ]\n",
            "Population 20 - [0.8684, 0.8684, 0.8683, 0.8683, 0.8682, 0.8683, 0.8682, 0.8683, 0.8684, 0.8683, 0.8683, 0.8682, 0.8683, 0.8682, 0.8683, 0.8683, 0.8684, 0.8507, 0.8681, 0.8683]\n",
            "Generation [ 85 / 10000 ]\n",
            "Population 20 - [0.8684, 0.8684, 0.8683, 0.8684, 0.8683, 0.8683, 0.8683, 0.8682, 0.8682, 0.8683, 0.8683, 0.8682, 0.8683, 0.8684, 0.8682, 0.8507, 0.8683, 0.8684, 0.8683, 0.8683]\n",
            "Generation [ 86 / 10000 ]\n",
            "Population 20 - [0.8684, 0.8684, 0.8682, 0.8683, 0.8684, 0.8684, 0.8683, 0.8683, 0.8683, 0.8683, 0.8683, 0.8683, 0.8683, 0.8683, 0.8682, 0.8682, 0.8683, 0.8683, 0.8683, 0.8684]\n",
            "Generation [ 87 / 10000 ]\n",
            "Population 20 - [0.8684, 0.8684, 0.8683, 0.8684, 0.8683, 0.8683, 0.8683, 0.8683, 0.8683, 0.8683, 0.8682, 0.8683, 0.8683, 0.8681, 0.8682, 0.8684, 0.8682, 0.8683, 0.8683, 0.8683]\n",
            "Generation [ 88 / 10000 ]\n",
            "Population 20 - [0.8684, 0.8684, 0.8683, 0.8684, 0.8683, 0.8683, 0.8683, 0.8683, 0.8683, 0.8683, 0.8507, 0.8683, 0.8682, 0.8683, 0.8683, 0.8682, 0.8684, 0.8683, 0.8683, 0.8684]\n",
            "Generation [ 89 / 10000 ]\n",
            "Population 20 - [0.8684, 0.8684, 0.8683, 0.8684, 0.8683, 0.8683, 0.8684, 0.8683, 0.8682, 0.8683, 0.8682, 0.8683, 0.8682, 0.8684, 0.8683, 0.8682, 0.8684, 0.8683, 0.8684, 0.8682]\n",
            "Generation [ 90 / 10000 ]\n",
            "Population 20 - [0.8684, 0.8684, 0.8683, 0.8684, 0.8684, 0.8684, 0.8685, 0.8682, 0.8683, 0.8684, 0.8682, 0.8683, 0.8684, 0.8683, 0.8682, 0.8682, 0.8682, 0.8683, 0.8683, 0.8684]\n",
            "Generation [ 91 / 10000 ]\n",
            "Population 20 - [0.8685, 0.8684, 0.8684, 0.8684, 0.8683, 0.8683, 0.8684, 0.8684, 0.8683, 0.8683, 0.8682, 0.8682, 0.8683, 0.8684, 0.8685, 0.8684, 0.8684, 0.8683, 0.8683, 0.8683]\n",
            "Generation [ 92 / 10000 ]\n",
            "Population 20 - [0.8685, 0.8685, 0.8683, 0.8684, 0.8683, 0.8684, 0.8683, 0.8685, 0.8684, 0.8684, 0.8684, 0.8683, 0.8683, 0.8683, 0.8683, 0.8684, 0.8683, 0.8684, 0.8684, 0.8683]\n",
            "Generation [ 93 / 10000 ]\n",
            "Population 20 - [0.8685, 0.8685, 0.8685, 0.8683, 0.8683, 0.8684, 0.8683, 0.8684, 0.8684, 0.8684, 0.8684, 0.8684, 0.8684, 0.8683, 0.8683, 0.8683, 0.8683, 0.8684, 0.8684, 0.8683]\n",
            "Generation [ 94 / 10000 ]\n",
            "Population 20 - [0.8685, 0.8685, 0.8685, 0.8684, 0.8683, 0.8684, 0.8684, 0.8684, 0.8683, 0.8683, 0.8684, 0.8685, 0.8684, 0.8684, 0.8683, 0.8684, 0.8531, 0.8683, 0.8684, 0.8684]\n",
            "Generation [ 95 / 10000 ]\n",
            "Population 20 - [0.8685, 0.8685, 0.8684, 0.8684, 0.8684, 0.8684, 0.8685, 0.8683, 0.8684, 0.8684, 0.8684, 0.8684, 0.8683, 0.8684, 0.8684, 0.8684, 0.8684, 0.8684, 0.8683, 0.8684]\n",
            "Generation [ 96 / 10000 ]\n",
            "Population 20 - [0.8685, 0.8685, 0.8685, 0.8684, 0.8684, 0.8684, 0.8684, 0.8683, 0.8683, 0.8684, 0.8684, 0.8684, 0.8684, 0.8683, 0.8684, 0.8684, 0.8684, 0.8685, 0.8684, 0.8683]\n",
            "Generation [ 97 / 10000 ]\n",
            "Population 20 - [0.8685, 0.8685, 0.8684, 0.8684, 0.8684, 0.8684, 0.8684, 0.8684, 0.8684, 0.8684, 0.8684, 0.8684, 0.8682, 0.8685, 0.8684, 0.8684, 0.8685, 0.8684, 0.8684, 0.8685]\n",
            "Generation [ 98 / 10000 ]\n",
            "Population 20 - [0.8685, 0.8685, 0.8685, 0.8684, 0.8684, 0.8684, 0.8683, 0.8685, 0.8684, 0.8685, 0.8685, 0.8684, 0.8684, 0.8684, 0.8684, 0.8684, 0.8683, 0.8684, 0.8684, 0.8684]\n",
            "Generation [ 99 / 10000 ]\n",
            "Population 20 - [0.8685, 0.8685, 0.8684, 0.8685, 0.8684, 0.8685, 0.8684, 0.8683, 0.8684, 0.8684, 0.8684, 0.8684, 0.8685, 0.8685, 0.8684, 0.8684, 0.8684, 0.8684, 0.8685, 0.8684]\n",
            "Generation [ 100 / 10000 ]\n",
            "Population 20 - [0.8685, 0.8685, 0.8685, 0.8685, 0.8685, 0.8685, 0.8685, 0.8684, 0.8684, 0.8685, 0.8685, 0.8685, 0.8685, 0.8685, 0.8684, 0.8684, 0.8683, 0.8684, 0.8685, 0.8684]\n",
            "Model saved to /content/drive/My Drive/42/reverse game of life/save/model.pkl_100 successfully!\n",
            "Weight saved to /content/drive/My Drive/42/reverse game of life/save/weight.pkl_100 successfully!\n",
            "Generation [ 101 / 10000 ]\n",
            "Population 20 - [0.8685, 0.8685, 0.8684, 0.8685, 0.8684, 0.8685, 0.8685, 0.8683, 0.8684, 0.8684, 0.8683, 0.8685, 0.8685, 0.8684, 0.8684, 0.8684, 0.8684, 0.8685, 0.8685, 0.8685]\n",
            "Generation [ 102 / 10000 ]\n",
            "Population 20 - [0.8685, 0.8685, 0.8685, 0.8685, 0.8684, 0.8685, 0.8684, 0.8685, 0.8685, 0.8685, 0.8685, 0.8685, 0.8684, 0.8685, 0.8684, 0.8684, 0.8685, 0.8684, 0.8685, 0.8684]\n",
            "Generation [ 103 / 10000 ]\n",
            "Population 20 - [0.8685, 0.8685, 0.8685, 0.8685, 0.8685, 0.8685, 0.8685, 0.8685, 0.8685, 0.8685, 0.8685, 0.8685, 0.8684, 0.8534, 0.8685, 0.8685, 0.8685, 0.8685, 0.8684, 0.8685]\n",
            "Generation [ 104 / 10000 ]\n",
            "Population 20 - [0.8685, 0.8685, 0.8685, 0.8684, 0.8685, 0.8685, 0.8684, 0.8685, 0.8685, 0.8685, 0.8685, 0.8685, 0.8684, 0.8685, 0.8685, 0.8683, 0.8685, 0.8684, 0.8685, 0.8684]\n",
            "Generation [ 105 / 10000 ]\n",
            "Population 20 - [0.8685, 0.8685, 0.8685, 0.8685, 0.8685, 0.8685, 0.8685, 0.8684, 0.8685, 0.8684, 0.8684, 0.8685, 0.8533, 0.8684, 0.8685, 0.8374, 0.8685, 0.8684, 0.8685, 0.8685]\n",
            "Generation [ 106 / 10000 ]\n",
            "Population 20 - [0.8685, 0.8685, 0.8685, 0.8685, 0.8685, 0.8685, 0.8533, 0.8684, 0.8685, 0.8684, 0.8685, 0.8684, 0.8685, 0.8685, 0.8685, 0.8684, 0.8683, 0.8685, 0.8684, 0.8533]\n",
            "Generation [ 107 / 10000 ]\n",
            "Population 20 - [0.8685, 0.8685, 0.8685, 0.8685, 0.8685, 0.8685, 0.8685, 0.8685, 0.8684, 0.8684, 0.8684, 0.8685, 0.8685, 0.8684, 0.8684, 0.8685, 0.8685, 0.8533, 0.8684, 0.8685]\n",
            "Generation [ 108 / 10000 ]\n",
            "Population 20 - [0.8685, 0.8685, 0.8685, 0.8685, 0.8686, 0.8685, 0.8685, 0.8533, 0.8685, 0.8685, 0.8685, 0.8685, 0.8685, 0.8684, 0.8685, 0.8685, 0.8685, 0.8684, 0.8685, 0.8533]\n",
            "Generation [ 109 / 10000 ]\n",
            "Population 20 - [0.8686, 0.8685, 0.8685, 0.8685, 0.8527, 0.8685, 0.8685, 0.8685, 0.8685, 0.8685, 0.8685, 0.8685, 0.8685, 0.8685, 0.8685, 0.8685, 0.8685, 0.8684, 0.8685, 0.8685]\n",
            "Generation [ 110 / 10000 ]\n",
            "Population 20 - [0.8686, 0.8685, 0.8685, 0.8685, 0.8685, 0.8684, 0.8685, 0.8686, 0.8685, 0.8685, 0.8685, 0.8685, 0.8685, 0.8535, 0.8685, 0.8684, 0.8685, 0.8684, 0.8533, 0.8683]\n",
            "Generation [ 111 / 10000 ]\n",
            "Population 20 - [0.8686, 0.8686, 0.8685, 0.8685, 0.8685, 0.8685, 0.8685, 0.8685, 0.8685, 0.8685, 0.8686, 0.8684, 0.8686, 0.8685, 0.8685, 0.8685, 0.8685, 0.8686, 0.8685, 0.8685]\n",
            "Generation [ 112 / 10000 ]\n",
            "Population 20 - [0.8686, 0.8686, 0.8535, 0.8685, 0.8685, 0.8684, 0.8685, 0.8685, 0.8685, 0.8685, 0.8685, 0.8685, 0.8686, 0.8528, 0.8685, 0.8685, 0.8684, 0.8685, 0.8684, 0.8685]\n",
            "Generation [ 113 / 10000 ]\n",
            "Population 20 - [0.8686, 0.8686, 0.8686, 0.8685, 0.8685, 0.8685, 0.8685, 0.8685, 0.8526, 0.8685, 0.8686, 0.8684, 0.8685, 0.8378, 0.8686, 0.8685, 0.8686, 0.8534, 0.8684, 0.8685]\n",
            "Generation [ 114 / 10000 ]\n",
            "Population 20 - [0.8686, 0.8686, 0.8686, 0.8686, 0.8685, 0.8686, 0.8684, 0.8685, 0.8685, 0.8685, 0.8686, 0.8686, 0.8685, 0.8686, 0.8685, 0.8686, 0.8686, 0.8686, 0.8686, 0.8685]\n",
            "Generation [ 115 / 10000 ]\n",
            "Population 20 - [0.8686, 0.8686, 0.8685, 0.8686, 0.8686, 0.8686, 0.8686, 0.8685, 0.8686, 0.8686, 0.8685, 0.8685, 0.8686, 0.8686, 0.8686, 0.8686, 0.8686, 0.8685, 0.8686, 0.8685]\n",
            "Generation [ 116 / 10000 ]\n",
            "Population 20 - [0.8686, 0.8686, 0.8685, 0.8686, 0.8686, 0.8686, 0.8686, 0.8686, 0.8685, 0.8685, 0.8685, 0.8685, 0.8685, 0.8686, 0.8685, 0.8685, 0.8685, 0.8686, 0.8686, 0.8684]\n",
            "Generation [ 117 / 10000 ]\n",
            "Population 20 - [0.8686, 0.8686, 0.8686, 0.8686, 0.8686, 0.8685, 0.8686, 0.8686, 0.8686, 0.8686, 0.8685, 0.8686, 0.8685, 0.8686, 0.8686, 0.8686, 0.8686, 0.8686, 0.8685, 0.8686]\n",
            "Generation [ 118 / 10000 ]\n",
            "Population 20 - [0.8686, 0.8686, 0.8686, 0.8686, 0.8687, 0.8686, 0.8686, 0.8686, 0.8686, 0.8685, 0.8686, 0.8685, 0.8686, 0.8686, 0.8686, 0.8686, 0.8686, 0.8686, 0.8686, 0.8686]\n",
            "Generation [ 119 / 10000 ]\n",
            "Population 20 - [0.8687, 0.8686, 0.8684, 0.8686, 0.8686, 0.8686, 0.8686, 0.8686, 0.8686, 0.8687, 0.8533, 0.8686, 0.8686, 0.8685, 0.8533, 0.8533, 0.8686, 0.8685, 0.8686, 0.8686]\n",
            "Generation [ 120 / 10000 ]\n",
            "Population 20 - [0.8687, 0.8687, 0.8686, 0.8686, 0.8685, 0.8686, 0.8686, 0.8686, 0.8684, 0.8685, 0.8685, 0.8685, 0.8686, 0.8685, 0.8685, 0.8686, 0.8686, 0.8686, 0.8685, 0.8686]\n",
            "Generation [ 121 / 10000 ]\n",
            "Population 20 - [0.8687, 0.8687, 0.8526, 0.8686, 0.8685, 0.8686, 0.8685, 0.8687, 0.8686, 0.8685, 0.8528, 0.8685, 0.8686, 0.8685, 0.8686, 0.8685, 0.8686, 0.8686, 0.8686, 0.8686]\n",
            "Generation [ 122 / 10000 ]\n",
            "Population 20 - [0.8687, 0.8687, 0.8687, 0.8686, 0.8686, 0.8686, 0.8534, 0.8686, 0.8686, 0.8533, 0.8686, 0.8685, 0.8686, 0.8686, 0.8687, 0.8686, 0.8685, 0.8686, 0.8686, 0.8686]\n",
            "Generation [ 123 / 10000 ]\n",
            "Population 20 - [0.8687, 0.8687, 0.8686, 0.8686, 0.8686, 0.8535, 0.8686, 0.8686, 0.8685, 0.8686, 0.8686, 0.8686, 0.8686, 0.8687, 0.8685, 0.8686, 0.8685, 0.8685, 0.8686, 0.8686]\n",
            "Generation [ 124 / 10000 ]\n",
            "Population 20 - [0.8687, 0.8687, 0.8687, 0.8686, 0.8686, 0.8687, 0.8686, 0.8686, 0.8686, 0.8686, 0.8687, 0.8686, 0.8686, 0.8687, 0.8686, 0.8686, 0.8686, 0.8686, 0.8685, 0.8687]\n",
            "Generation [ 125 / 10000 ]\n",
            "Population 20 - [0.8687, 0.8687, 0.8686, 0.8687, 0.8686, 0.8686, 0.8686, 0.8686, 0.8686, 0.8686, 0.8686, 0.8686, 0.8686, 0.8687, 0.8686, 0.8686, 0.8685, 0.8686, 0.8686, 0.8687]\n",
            "Generation [ 126 / 10000 ]\n",
            "Population 20 - [0.8687, 0.8687, 0.8687, 0.8686, 0.8536, 0.8686, 0.8686, 0.8686, 0.8686, 0.8686, 0.8686, 0.8686, 0.8686, 0.8685, 0.8685, 0.8686, 0.8687, 0.8686, 0.8686, 0.8685]\n",
            "Generation [ 127 / 10000 ]\n",
            "Population 20 - [0.8687, 0.8687, 0.8687, 0.8687, 0.8686, 0.8685, 0.8686, 0.8686, 0.8686, 0.8686, 0.8685, 0.8687, 0.8685, 0.8686, 0.8687, 0.8685, 0.8686, 0.8686, 0.8685, 0.8686]\n",
            "Generation [ 128 / 10000 ]\n",
            "Population 20 - [0.8687, 0.8687, 0.8687, 0.8687, 0.8686, 0.8687, 0.8686, 0.8686, 0.8685, 0.8685, 0.8686, 0.8685, 0.8685, 0.8686, 0.8686, 0.8686, 0.8686, 0.8686, 0.8686, 0.8687]\n",
            "Generation [ 129 / 10000 ]\n",
            "Population 20 - [0.8687, 0.8687, 0.8687, 0.8687, 0.8687, 0.8687, 0.8687, 0.8686, 0.8686, 0.8686, 0.8686, 0.8687, 0.8687, 0.8686, 0.8687, 0.8686, 0.8687, 0.8686, 0.8687, 0.8686]\n",
            "Generation [ 130 / 10000 ]\n",
            "Population 20 - [0.8687, 0.8687, 0.8687, 0.8687, 0.8687, 0.8686, 0.8687, 0.8687, 0.8687, 0.8687, 0.8687, 0.8687, 0.8687, 0.8686, 0.8687, 0.8687, 0.8687, 0.8686, 0.8686, 0.8686]\n",
            "Generation [ 131 / 10000 ]\n",
            "Population 20 - [0.8687, 0.8687, 0.8686, 0.8687, 0.8687, 0.8687, 0.8687, 0.8687, 0.8687, 0.8686, 0.8535, 0.8687, 0.8687, 0.8686, 0.8687, 0.8687, 0.8687, 0.8686, 0.8687, 0.8687]\n",
            "Generation [ 132 / 10000 ]\n",
            "Population 20 - [0.8687, 0.8687, 0.8687, 0.8687, 0.8687, 0.8687, 0.8687, 0.8687, 0.8687, 0.8687, 0.8687, 0.8686, 0.8686, 0.8685, 0.8686, 0.8687, 0.8687, 0.8686, 0.8686, 0.8686]\n",
            "Generation [ 133 / 10000 ]\n",
            "Population 20 - [0.8687, 0.8687, 0.8687, 0.8687, 0.8687, 0.8687, 0.8686, 0.8686, 0.8686, 0.8687, 0.8686, 0.8687, 0.8687, 0.8686, 0.8686, 0.8687, 0.8687, 0.8687, 0.8686, 0.8686]\n",
            "Generation [ 134 / 10000 ]\n",
            "Population 20 - [0.8687, 0.8687, 0.8687, 0.8686, 0.8687, 0.8687, 0.8687, 0.8687, 0.8686, 0.8687, 0.8686, 0.8687, 0.8687, 0.8688, 0.8687, 0.8688, 0.8687, 0.8686, 0.8687, 0.8686]\n",
            "Generation [ 135 / 10000 ]\n",
            "Population 20 - [0.8688, 0.8688, 0.8686, 0.8687, 0.8687, 0.8687, 0.8687, 0.8686, 0.8688, 0.8687, 0.8686, 0.8687, 0.8686, 0.8687, 0.8686, 0.8687, 0.8686, 0.8687, 0.8685, 0.853]\n",
            "Generation [ 136 / 10000 ]\n",
            "Population 20 - [0.8688, 0.8688, 0.8687, 0.8687, 0.8687, 0.8687, 0.8687, 0.8686, 0.8687, 0.8686, 0.8687, 0.8686, 0.8686, 0.8687, 0.8687, 0.8687, 0.8687, 0.8687, 0.8687, 0.8686]\n",
            "Generation [ 137 / 10000 ]\n",
            "Population 20 - [0.8688, 0.8688, 0.8686, 0.8686, 0.8686, 0.8687, 0.8687, 0.8687, 0.8687, 0.8687, 0.8687, 0.8686, 0.8687, 0.8686, 0.8687, 0.8686, 0.8687, 0.8687, 0.8687, 0.8687]\n",
            "Generation [ 138 / 10000 ]\n",
            "Population 20 - [0.8688, 0.8688, 0.8687, 0.8687, 0.8687, 0.8686, 0.8687, 0.8686, 0.8686, 0.8686, 0.8686, 0.8687, 0.8687, 0.8686, 0.8688, 0.8686, 0.8687, 0.8529, 0.8686, 0.8687]\n",
            "Generation [ 139 / 10000 ]\n",
            "Population 20 - [0.8688, 0.8688, 0.8687, 0.8687, 0.8686, 0.8687, 0.8686, 0.8688, 0.8687, 0.8687, 0.8686, 0.8687, 0.8686, 0.8687, 0.8687, 0.8687, 0.8687, 0.8687, 0.8687, 0.8687]\n",
            "Generation [ 140 / 10000 ]\n",
            "Population 20 - [0.8688, 0.8688, 0.8687, 0.8687, 0.8688, 0.8687, 0.8686, 0.8687, 0.8687, 0.8687, 0.8687, 0.8687, 0.8686, 0.8686, 0.8687, 0.8687, 0.8687, 0.8687, 0.8687, 0.8687]\n",
            "Generation [ 141 / 10000 ]\n",
            "Population 20 - [0.8688, 0.8688, 0.8688, 0.8687, 0.8687, 0.8687, 0.8687, 0.8686, 0.8687, 0.8686, 0.8686, 0.8526, 0.8688, 0.8687, 0.8687, 0.8688, 0.8687, 0.8687, 0.8687, 0.8687]\n",
            "Generation [ 142 / 10000 ]\n",
            "Population 20 - [0.8688, 0.8688, 0.8688, 0.8687, 0.8687, 0.8687, 0.8686, 0.8687, 0.8687, 0.8687, 0.8687, 0.8687, 0.8687, 0.8686, 0.8687, 0.8688, 0.8686, 0.8687, 0.8687, 0.8686]\n",
            "Generation [ 143 / 10000 ]\n",
            "Population 20 - [0.8688, 0.8688, 0.8688, 0.8688, 0.8687, 0.8688, 0.8687, 0.8687, 0.8687, 0.8687, 0.8687, 0.8687, 0.8686, 0.8687, 0.8687, 0.8688, 0.8687, 0.869, 0.8687, 0.8688]\n",
            "Generation [ 144 / 10000 ]\n",
            "Population 20 - [0.869, 0.8688, 0.8688, 0.8687, 0.8688, 0.8688, 0.8687, 0.8687, 0.8687, 0.8689, 0.8687, 0.8686, 0.8687, 0.8688, 0.869, 0.8688, 0.8688, 0.8686, 0.8687, 0.8687]\n",
            "Generation [ 145 / 10000 ]\n",
            "Population 20 - [0.869, 0.869, 0.8689, 0.8688, 0.8688, 0.8687, 0.8688, 0.8688, 0.8688, 0.8688, 0.869, 0.8687, 0.8688, 0.8688, 0.869, 0.8686, 0.8686, 0.8688, 0.869, 0.8687]\n",
            "Generation [ 146 / 10000 ]\n",
            "Population 20 - [0.869, 0.869, 0.869, 0.8691, 0.869, 0.869, 0.8688, 0.8687, 0.8691, 0.8688, 0.8687, 0.869, 0.869, 0.8687, 0.8687, 0.8687, 0.869, 0.869, 0.8687, 0.8687]\n",
            "Generation [ 147 / 10000 ]\n",
            "Population 20 - [0.8691, 0.8691, 0.869, 0.869, 0.869, 0.8689, 0.869, 0.8689, 0.869, 0.869, 0.869, 0.8691, 0.869, 0.8689, 0.8691, 0.869, 0.869, 0.869, 0.869, 0.8687]\n",
            "Generation [ 148 / 10000 ]\n",
            "Population 20 - [0.8691, 0.8691, 0.8691, 0.869, 0.869, 0.869, 0.869, 0.869, 0.869, 0.869, 0.8687, 0.869, 0.869, 0.8691, 0.869, 0.869, 0.869, 0.8691, 0.869, 0.8691]\n",
            "Generation [ 149 / 10000 ]\n",
            "Population 20 - [0.8691, 0.8691, 0.8687, 0.8691, 0.8691, 0.869, 0.869, 0.869, 0.869, 0.869, 0.869, 0.8689, 0.869, 0.869, 0.869, 0.8691, 0.869, 0.869, 0.869, 0.869]\n",
            "Generation [ 150 / 10000 ]\n",
            "Population 20 - [0.8691, 0.8691, 0.869, 0.869, 0.869, 0.8689, 0.869, 0.869, 0.869, 0.869, 0.869, 0.8691, 0.869, 0.869, 0.8689, 0.869, 0.8513, 0.8691, 0.869, 0.869]\n",
            "Generation [ 151 / 10000 ]\n",
            "Population 20 - [0.8691, 0.8691, 0.8691, 0.8691, 0.869, 0.869, 0.869, 0.8687, 0.8691, 0.8689, 0.869, 0.8691, 0.869, 0.869, 0.8691, 0.869, 0.869, 0.8689, 0.8689, 0.869]\n",
            "Generation [ 152 / 10000 ]\n",
            "Population 20 - [0.8691, 0.8691, 0.869, 0.869, 0.869, 0.8691, 0.8691, 0.8689, 0.869, 0.869, 0.8689, 0.869, 0.8691, 0.8691, 0.869, 0.8689, 0.869, 0.869, 0.869, 0.869]\n",
            "Generation [ 153 / 10000 ]\n",
            "Population 20 - [0.8691, 0.8691, 0.8691, 0.8531, 0.8691, 0.869, 0.869, 0.869, 0.869, 0.869, 0.869, 0.8691, 0.8691, 0.869, 0.8691, 0.869, 0.869, 0.869, 0.869, 0.8691]\n",
            "Generation [ 154 / 10000 ]\n",
            "Population 20 - [0.8691, 0.8691, 0.8691, 0.8691, 0.8691, 0.8691, 0.8691, 0.8691, 0.8691, 0.8691, 0.869, 0.8691, 0.869, 0.8691, 0.869, 0.8691, 0.8691, 0.8531, 0.8691, 0.869]\n",
            "Generation [ 155 / 10000 ]\n",
            "Population 20 - [0.8691, 0.8691, 0.8691, 0.869, 0.8691, 0.869, 0.8691, 0.8691, 0.8691, 0.869, 0.869, 0.869, 0.869, 0.869, 0.8691, 0.869, 0.869, 0.869, 0.869, 0.8691]\n",
            "Generation [ 156 / 10000 ]\n",
            "Population 20 - [0.8691, 0.8691, 0.8691, 0.869, 0.8691, 0.869, 0.8691, 0.8691, 0.869, 0.869, 0.8691, 0.869, 0.8686, 0.8691, 0.869, 0.8692, 0.8687, 0.8691, 0.869, 0.869]\n",
            "Generation [ 157 / 10000 ]\n",
            "Population 20 - [0.8692, 0.8691, 0.8691, 0.8691, 0.8691, 0.8691, 0.8691, 0.8691, 0.8691, 0.8691, 0.8691, 0.869, 0.8691, 0.869, 0.869, 0.8687, 0.8691, 0.8691, 0.8691, 0.8691]\n",
            "Generation [ 158 / 10000 ]\n",
            "Population 20 - [0.8692, 0.8691, 0.8691, 0.853, 0.8691, 0.8691, 0.8691, 0.8691, 0.8691, 0.8691, 0.869, 0.8691, 0.8532, 0.869, 0.869, 0.869, 0.8691, 0.8691, 0.869, 0.8531]\n",
            "Generation [ 159 / 10000 ]\n",
            "Population 20 - [0.8692, 0.8691, 0.8691, 0.8691, 0.8691, 0.869, 0.8691, 0.8691, 0.8691, 0.8691, 0.8691, 0.869, 0.869, 0.8691, 0.869, 0.8691, 0.8531, 0.8691, 0.8691, 0.8532]\n",
            "Generation [ 160 / 10000 ]\n",
            "Population 20 - [0.8692, 0.8691, 0.8691, 0.8691, 0.8691, 0.869, 0.8691, 0.8535, 0.869, 0.8691, 0.8691, 0.869, 0.8376, 0.869, 0.8691, 0.8691, 0.8692, 0.869, 0.8691, 0.8691]\n",
            "Generation [ 161 / 10000 ]\n",
            "Population 20 - [0.8692, 0.8692, 0.869, 0.8691, 0.869, 0.8691, 0.8691, 0.8691, 0.8691, 0.869, 0.8691, 0.8691, 0.8536, 0.869, 0.8691, 0.8691, 0.8691, 0.869, 0.869, 0.8691]\n",
            "Generation [ 162 / 10000 ]\n",
            "Population 20 - [0.8692, 0.8692, 0.8691, 0.8691, 0.8692, 0.8691, 0.8691, 0.8691, 0.8691, 0.8691, 0.869, 0.8691, 0.8691, 0.8692, 0.8689, 0.8691, 0.869, 0.8691, 0.8691, 0.8691]\n",
            "Generation [ 163 / 10000 ]\n",
            "Population 20 - [0.8692, 0.8692, 0.8691, 0.8691, 0.8691, 0.8691, 0.8691, 0.8689, 0.8691, 0.8691, 0.8691, 0.8691, 0.8691, 0.8691, 0.869, 0.869, 0.869, 0.8691, 0.8691, 0.8691]\n",
            "Generation [ 164 / 10000 ]\n",
            "Population 20 - [0.8692, 0.8692, 0.8691, 0.8691, 0.8691, 0.8691, 0.8691, 0.869, 0.8691, 0.8691, 0.8691, 0.8691, 0.8691, 0.8692, 0.8691, 0.8691, 0.869, 0.8691, 0.8691, 0.869]\n",
            "Generation [ 165 / 10000 ]\n",
            "Population 20 - [0.8692, 0.8692, 0.8692, 0.8536, 0.8691, 0.8691, 0.869, 0.8691, 0.8691, 0.8691, 0.8691, 0.869, 0.8691, 0.8691, 0.869, 0.8692, 0.8691, 0.8691, 0.8691, 0.8691]\n",
            "Generation [ 166 / 10000 ]\n",
            "Population 20 - [0.8692, 0.8692, 0.8691, 0.8692, 0.8691, 0.8691, 0.8691, 0.8691, 0.8691, 0.8691, 0.869, 0.8691, 0.8691, 0.8691, 0.8691, 0.8691, 0.8532, 0.8691, 0.8692, 0.869]\n",
            "Generation [ 167 / 10000 ]\n",
            "Population 20 - [0.8692, 0.8692, 0.8692, 0.8692, 0.8691, 0.8691, 0.8691, 0.8691, 0.869, 0.8691, 0.8691, 0.869, 0.8691, 0.8536, 0.8691, 0.8691, 0.8691, 0.8691, 0.8691, 0.8691]\n",
            "Generation [ 168 / 10000 ]\n",
            "Population 20 - [0.8692, 0.8692, 0.8691, 0.8692, 0.8536, 0.869, 0.8691, 0.8691, 0.8691, 0.8691, 0.8691, 0.869, 0.8532, 0.869, 0.8689, 0.8691, 0.869, 0.869, 0.869, 0.8691]\n",
            "Generation [ 169 / 10000 ]\n",
            "Population 20 - [0.8692, 0.8692, 0.8691, 0.8691, 0.869, 0.8691, 0.8691, 0.8691, 0.869, 0.869, 0.8532, 0.8691, 0.869, 0.8691, 0.8691, 0.8691, 0.8691, 0.869, 0.8691, 0.8691]\n",
            "Generation [ 170 / 10000 ]\n",
            "Population 20 - [0.8692, 0.8692, 0.8691, 0.869, 0.8691, 0.8691, 0.8691, 0.8691, 0.8691, 0.8691, 0.8691, 0.869, 0.8691, 0.8691, 0.8688, 0.869, 0.8691, 0.8691, 0.8691, 0.8691]\n",
            "Generation [ 171 / 10000 ]\n",
            "Population 20 - [0.8692, 0.8692, 0.8691, 0.8691, 0.8691, 0.8691, 0.8691, 0.8691, 0.8691, 0.869, 0.869, 0.8691, 0.8691, 0.8691, 0.8693, 0.869, 0.8691, 0.8691, 0.8691, 0.8691]\n",
            "Generation [ 172 / 10000 ]\n",
            "Population 20 - [0.8693, 0.8692, 0.8692, 0.8692, 0.8691, 0.8532, 0.8691, 0.8691, 0.8532, 0.8691, 0.8691, 0.8691, 0.8691, 0.8692, 0.869, 0.8689, 0.8692, 0.8689, 0.8691, 0.8691]\n",
            "Generation [ 173 / 10000 ]\n",
            "Population 20 - [0.8693, 0.8692, 0.8691, 0.8692, 0.8691, 0.8692, 0.8691, 0.8691, 0.869, 0.8691, 0.8691, 0.8691, 0.8691, 0.8692, 0.8532, 0.8691, 0.869, 0.869, 0.8692, 0.8692]\n",
            "Generation [ 174 / 10000 ]\n",
            "Population 20 - [0.8693, 0.8692, 0.8691, 0.8692, 0.8691, 0.8692, 0.8692, 0.8691, 0.8691, 0.8691, 0.8691, 0.8533, 0.8691, 0.8532, 0.869, 0.869, 0.8692, 0.8692, 0.8691, 0.8691]\n",
            "Generation [ 175 / 10000 ]\n",
            "Population 20 - [0.8693, 0.8692, 0.8691, 0.8692, 0.8692, 0.8691, 0.8691, 0.8691, 0.8691, 0.8691, 0.869, 0.8692, 0.8692, 0.869, 0.8692, 0.869, 0.8691, 0.869, 0.8691, 0.8692]\n",
            "Generation [ 176 / 10000 ]\n",
            "Population 20 - [0.8693, 0.8692, 0.8529, 0.8692, 0.8692, 0.8692, 0.8692, 0.8692, 0.8691, 0.8691, 0.8692, 0.8693, 0.8691, 0.8692, 0.8692, 0.8691, 0.8691, 0.8691, 0.8692, 0.8691]\n",
            "Generation [ 177 / 10000 ]\n",
            "Population 20 - [0.8693, 0.8693, 0.8692, 0.8692, 0.8692, 0.8691, 0.8692, 0.8692, 0.8692, 0.8693, 0.8691, 0.8692, 0.8692, 0.8692, 0.8692, 0.8691, 0.8692, 0.8691, 0.8692, 0.8692]\n",
            "Generation [ 178 / 10000 ]\n",
            "Population 20 - [0.8693, 0.8693, 0.8693, 0.8692, 0.8692, 0.8692, 0.8691, 0.8692, 0.8692, 0.8533, 0.8692, 0.8692, 0.8691, 0.8692, 0.8692, 0.8692, 0.8692, 0.8692, 0.8692, 0.8692]\n",
            "Generation [ 179 / 10000 ]\n",
            "Population 20 - [0.8693, 0.8693, 0.8693, 0.8692, 0.8692, 0.8692, 0.8536, 0.8692, 0.8692, 0.8691, 0.8691, 0.8692, 0.8692, 0.8692, 0.8692, 0.8691, 0.8691, 0.8692, 0.837, 0.8692]\n",
            "Generation [ 180 / 10000 ]\n",
            "Population 20 - [0.8693, 0.8693, 0.8693, 0.8692, 0.8692, 0.8692, 0.8691, 0.8529, 0.8692, 0.8692, 0.8692, 0.8691, 0.8691, 0.8692, 0.8691, 0.8692, 0.8691, 0.8692, 0.8692, 0.8692]\n",
            "Generation [ 181 / 10000 ]\n",
            "Population 20 - [0.8693, 0.8693, 0.8692, 0.8692, 0.8692, 0.8692, 0.8692, 0.8692, 0.8692, 0.8692, 0.8691, 0.8691, 0.8691, 0.8692, 0.8691, 0.8692, 0.8692, 0.8692, 0.8692, 0.8692]\n",
            "Generation [ 182 / 10000 ]\n",
            "Population 20 - [0.8693, 0.8693, 0.8692, 0.8692, 0.8692, 0.8691, 0.8692, 0.8691, 0.8692, 0.8692, 0.8692, 0.8691, 0.8691, 0.8692, 0.8692, 0.8692, 0.8692, 0.8692, 0.8691, 0.8692]\n",
            "Generation [ 183 / 10000 ]\n",
            "Population 20 - [0.8693, 0.8693, 0.8692, 0.8692, 0.8692, 0.8691, 0.8692, 0.8692, 0.8692, 0.8692, 0.8529, 0.8692, 0.8691, 0.8691, 0.8692, 0.8692, 0.8692, 0.8691, 0.8692, 0.8692]\n",
            "Generation [ 184 / 10000 ]\n",
            "Population 20 - [0.8693, 0.8693, 0.8692, 0.8692, 0.8692, 0.8692, 0.8692, 0.8692, 0.8692, 0.8692, 0.869, 0.8691, 0.8692, 0.8692, 0.8691, 0.8692, 0.8692, 0.8692, 0.8692, 0.8691]\n",
            "Generation [ 185 / 10000 ]\n",
            "Population 20 - [0.8693, 0.8693, 0.8692, 0.8692, 0.8691, 0.8692, 0.8692, 0.8692, 0.8692, 0.8691, 0.8691, 0.8691, 0.8692, 0.8691, 0.8692, 0.8692, 0.8689, 0.8693, 0.8691, 0.8692]\n",
            "Generation [ 186 / 10000 ]\n",
            "Population 20 - [0.8693, 0.8693, 0.8693, 0.8692, 0.8692, 0.8692, 0.8692, 0.8691, 0.8692, 0.8692, 0.8693, 0.8693, 0.8692, 0.8692, 0.8692, 0.8691, 0.8692, 0.8692, 0.8692, 0.8692]\n",
            "Generation [ 187 / 10000 ]\n",
            "Population 20 - [0.8693, 0.8693, 0.8692, 0.8692, 0.8693, 0.8691, 0.8692, 0.8692, 0.8692, 0.8692, 0.8691, 0.8692, 0.8691, 0.8692, 0.8692, 0.8692, 0.8693, 0.8692, 0.8692, 0.8692]\n",
            "Generation [ 188 / 10000 ]\n",
            "Population 20 - [0.8693, 0.8693, 0.8692, 0.8693, 0.8692, 0.8693, 0.8692, 0.8692, 0.8692, 0.8692, 0.8691, 0.8692, 0.8691, 0.8691, 0.8692, 0.8692, 0.8692, 0.8693, 0.8688, 0.8692]\n",
            "Generation [ 189 / 10000 ]\n",
            "Population 20 - [0.8693, 0.8693, 0.8688, 0.8693, 0.8693, 0.8692, 0.8692, 0.8692, 0.853, 0.8692, 0.8692, 0.8692, 0.8691, 0.8691, 0.8691, 0.8692, 0.8692, 0.8692, 0.8692, 0.8691]\n",
            "Generation [ 190 / 10000 ]\n",
            "Population 20 - [0.8693, 0.8693, 0.8692, 0.8692, 0.8692, 0.8692, 0.8692, 0.8692, 0.869, 0.8693, 0.8692, 0.8692, 0.8691, 0.8693, 0.8693, 0.8692, 0.8691, 0.8692, 0.869, 0.8692]\n",
            "Generation [ 191 / 10000 ]\n",
            "Population 20 - [0.8693, 0.8693, 0.8692, 0.8692, 0.8692, 0.8692, 0.8693, 0.8692, 0.8691, 0.8693, 0.8692, 0.8693, 0.8693, 0.8692, 0.8693, 0.8693, 0.8693, 0.8693, 0.8691, 0.8692]\n",
            "Generation [ 192 / 10000 ]\n",
            "Population 20 - [0.8693, 0.8693, 0.8532, 0.8692, 0.8692, 0.8692, 0.8692, 0.8693, 0.8692, 0.8693, 0.8693, 0.8692, 0.8693, 0.8693, 0.8693, 0.8693, 0.8692, 0.8693, 0.8693, 0.8692]\n",
            "Generation [ 193 / 10000 ]\n",
            "Population 20 - [0.8693, 0.8693, 0.8692, 0.8692, 0.8692, 0.8693, 0.8692, 0.8693, 0.8693, 0.8692, 0.8692, 0.8693, 0.8691, 0.8693, 0.8692, 0.8693, 0.8693, 0.8692, 0.8693, 0.8692]\n",
            "Generation [ 194 / 10000 ]\n",
            "Population 20 - [0.8693, 0.8693, 0.8692, 0.8692, 0.8692, 0.8693, 0.8693, 0.8693, 0.8693, 0.8692, 0.8693, 0.8692, 0.8693, 0.8692, 0.8693, 0.8693, 0.8534, 0.8692, 0.8692, 0.8692]\n",
            "Generation [ 195 / 10000 ]\n",
            "Population 20 - [0.8693, 0.8693, 0.8693, 0.8692, 0.8693, 0.8693, 0.8531, 0.8693, 0.8693, 0.8693, 0.8693, 0.8689, 0.8693, 0.8693, 0.8693, 0.8692, 0.8692, 0.8692, 0.8692, 0.8693]\n",
            "Generation [ 196 / 10000 ]\n",
            "Population 20 - [0.8693, 0.8693, 0.869, 0.8692, 0.8693, 0.8693, 0.8693, 0.8693, 0.8693, 0.8692, 0.8693, 0.8693, 0.8693, 0.8693, 0.8688, 0.8692, 0.8693, 0.8692, 0.8693, 0.8533]\n",
            "Generation [ 197 / 10000 ]\n",
            "Population 20 - [0.8693, 0.8693, 0.8693, 0.8693, 0.8693, 0.8693, 0.8693, 0.8693, 0.8692, 0.8693, 0.8689, 0.8693, 0.8693, 0.8692, 0.8693, 0.8693, 0.8692, 0.8693, 0.8693, 0.853]\n",
            "Generation [ 198 / 10000 ]\n",
            "Population 20 - [0.8693, 0.8693, 0.8693, 0.8693, 0.8693, 0.8693, 0.8692, 0.8693, 0.8692, 0.8693, 0.8693, 0.8693, 0.8693, 0.869, 0.8693, 0.8693, 0.8693, 0.8692, 0.8692, 0.8693]\n",
            "Generation [ 199 / 10000 ]\n",
            "Population 20 - [0.8693, 0.8693, 0.8692, 0.8691, 0.8692, 0.8693, 0.8693, 0.8692, 0.8693, 0.8693, 0.8693, 0.8692, 0.8692, 0.8693, 0.8693, 0.8692, 0.8692, 0.8692, 0.8692, 0.8693]\n",
            "Generation [ 200 / 10000 ]\n",
            "Population 20 - [0.8693, 0.8693, 0.8693, 0.8692, 0.8693, 0.8693, 0.8692, 0.8693, 0.8693, 0.8693, 0.8693, 0.8693, 0.8692, 0.8692, 0.8693, 0.8692, 0.8692, 0.8692, 0.8692, 0.8693]\n",
            "Model saved to /content/drive/My Drive/42/reverse game of life/save/model.pkl_200 successfully!\n",
            "Weight saved to /content/drive/My Drive/42/reverse game of life/save/weight.pkl_200 successfully!\n",
            "Generation [ 201 / 10000 ]\n",
            "Population 20 - [0.8693, 0.8693, 0.8692, 0.8693, 0.8693, 0.8693, 0.8692, 0.8693, 0.8693, 0.8693, 0.8693, 0.8693, 0.8693, 0.8693, 0.8693, 0.8693, 0.8693, 0.8692, 0.8693, 0.8692]\n",
            "Generation [ 202 / 10000 ]\n",
            "Population 20 - [0.8693, 0.8693, 0.8692, 0.8693, 0.8693, 0.8693, 0.8693, 0.8692, 0.8693, 0.8693, 0.8692, 0.8693, 0.8692, 0.8693, 0.8693, 0.8692, 0.8693, 0.8692, 0.8693, 0.8693]\n",
            "Generation [ 203 / 10000 ]\n",
            "Population 20 - [0.8693, 0.8693, 0.8693, 0.8693, 0.8692, 0.8693, 0.8693, 0.8693, 0.8693, 0.8693, 0.8693, 0.8693, 0.8692, 0.8693, 0.8692, 0.8693, 0.8693, 0.8692, 0.8692, 0.8692]\n",
            "Generation [ 204 / 10000 ]\n",
            "Population 20 - [0.8693, 0.8693, 0.8693, 0.8693, 0.8693, 0.8693, 0.8693, 0.8693, 0.8693, 0.8692, 0.8693, 0.8693, 0.8693, 0.8693, 0.8693, 0.8693, 0.8693, 0.8692, 0.8693, 0.8689]\n",
            "Generation [ 205 / 10000 ]\n",
            "Population 20 - [0.8693, 0.8693, 0.8693, 0.8693, 0.8693, 0.8693, 0.8693, 0.8692, 0.8692, 0.8693, 0.8693, 0.8693, 0.8693, 0.8693, 0.8692, 0.8692, 0.8692, 0.8692, 0.8693, 0.8692]\n",
            "Generation [ 206 / 10000 ]\n",
            "Population 20 - [0.8693, 0.8693, 0.8693, 0.8693, 0.8692, 0.8693, 0.8693, 0.8693, 0.8693, 0.8693, 0.8692, 0.8693, 0.8693, 0.8692, 0.8693, 0.8693, 0.869, 0.8692, 0.8693, 0.8692]\n",
            "Generation [ 207 / 10000 ]\n",
            "Population 20 - [0.8693, 0.8693, 0.8693, 0.8693, 0.8692, 0.8693, 0.8693, 0.8692, 0.8693, 0.8693, 0.8693, 0.8693, 0.8692, 0.8693, 0.8693, 0.8693, 0.8692, 0.8693, 0.8692, 0.8693]\n",
            "Generation [ 208 / 10000 ]\n",
            "Population 20 - [0.8693, 0.8693, 0.8693, 0.8693, 0.8693, 0.8693, 0.8692, 0.8693, 0.8692, 0.8693, 0.8693, 0.8693, 0.8692, 0.8692, 0.8692, 0.8692, 0.8692, 0.8692, 0.8692, 0.8693]\n",
            "Generation [ 209 / 10000 ]\n",
            "Population 20 - [0.8693, 0.8693, 0.8693, 0.8693, 0.8693, 0.8693, 0.8693, 0.8692, 0.8693, 0.8693, 0.8693, 0.8693, 0.8692, 0.8693, 0.8693, 0.8692, 0.8692, 0.8693, 0.8692, 0.8692]\n",
            "Generation [ 210 / 10000 ]\n",
            "Population 20 - [0.8693, 0.8693, 0.8693, 0.8692, 0.8693, 0.8693, 0.8692, 0.8693, 0.8693, 0.8693, 0.8693, 0.8692, 0.8693, 0.8693, 0.8693, 0.8692, 0.8692, 0.8693, 0.8693, 0.8693]\n",
            "Generation [ 211 / 10000 ]\n",
            "Population 20 - [0.8693, 0.8693, 0.8693, 0.8693, 0.8693, 0.8693, 0.8693, 0.8693, 0.8693, 0.8693, 0.8693, 0.8692, 0.8693, 0.8693, 0.8692, 0.8693, 0.8693, 0.8693, 0.8691, 0.8689]\n",
            "Generation [ 212 / 10000 ]\n",
            "Population 20 - [0.8693, 0.8693, 0.8693, 0.8693, 0.8693, 0.8693, 0.8693, 0.8693, 0.8692, 0.8693, 0.8693, 0.8693, 0.8693, 0.8693, 0.8693, 0.8692, 0.8693, 0.8692, 0.8692, 0.8692]\n",
            "Generation [ 213 / 10000 ]\n",
            "Population 20 - [0.8693, 0.8693, 0.8693, 0.8692, 0.8693, 0.8693, 0.8693, 0.8693, 0.8693, 0.8693, 0.8692, 0.8693, 0.8692, 0.8693, 0.8693, 0.8693, 0.8693, 0.8691, 0.8693, 0.8692]\n",
            "Generation [ 214 / 10000 ]\n",
            "Population 20 - [0.8693, 0.8693, 0.8693, 0.8693, 0.8693, 0.8693, 0.8693, 0.8693, 0.8693, 0.8693, 0.8692, 0.8693, 0.8693, 0.8691, 0.8692, 0.8693, 0.8693, 0.8692, 0.8693, 0.8693]\n",
            "Generation [ 215 / 10000 ]\n",
            "Population 20 - [0.8693, 0.8693, 0.8693, 0.8693, 0.8693, 0.8693, 0.8693, 0.8693, 0.8693, 0.8692, 0.8692, 0.8692, 0.8692, 0.8693, 0.8691, 0.8692, 0.8693, 0.8693, 0.8692, 0.8693]\n",
            "Generation [ 216 / 10000 ]\n",
            "Population 20 - [0.8693, 0.8693, 0.8692, 0.8692, 0.8692, 0.8693, 0.8693, 0.8693, 0.8693, 0.8693, 0.8692, 0.8689, 0.8693, 0.8527, 0.8692, 0.8692, 0.8692, 0.8692, 0.8693, 0.8693]\n",
            "Generation [ 217 / 10000 ]\n",
            "Population 20 - [0.8693, 0.8693, 0.8692, 0.8693, 0.8693, 0.8693, 0.8693, 0.8692, 0.8693, 0.8693, 0.8692, 0.8693, 0.8692, 0.8692, 0.8692, 0.8693, 0.8692, 0.8692, 0.8693, 0.8692]\n",
            "Generation [ 218 / 10000 ]\n",
            "Population 20 - [0.8693, 0.8693, 0.8693, 0.8693, 0.8693, 0.8693, 0.8693, 0.8693, 0.8692, 0.8692, 0.8693, 0.8693, 0.8693, 0.8693, 0.8692, 0.8692, 0.8693, 0.8693, 0.8693, 0.8692]\n",
            "Generation [ 219 / 10000 ]\n",
            "Population 20 - [0.8693, 0.8693, 0.8688, 0.8692, 0.8693, 0.8693, 0.8692, 0.8693, 0.8693, 0.8693, 0.8693, 0.8692, 0.8693, 0.8692, 0.8693, 0.8692, 0.8691, 0.8692, 0.8692, 0.8693]\n",
            "Generation [ 220 / 10000 ]\n",
            "Population 20 - [0.8693, 0.8693, 0.8692, 0.8693, 0.8693, 0.8693, 0.8692, 0.8693, 0.8692, 0.8693, 0.8693, 0.8692, 0.8692, 0.8692, 0.8693, 0.8693, 0.8692, 0.8689, 0.8693, 0.8693]\n",
            "Generation [ 221 / 10000 ]\n",
            "Population 20 - [0.8693, 0.8693, 0.8693, 0.8693, 0.8693, 0.8693, 0.8693, 0.8693, 0.8693, 0.8693, 0.8692, 0.8693, 0.8692, 0.8692, 0.8692, 0.8693, 0.8689, 0.8692, 0.8692, 0.8692]\n",
            "Generation [ 222 / 10000 ]\n",
            "Population 20 - [0.8693, 0.8693, 0.8693, 0.8692, 0.8692, 0.8693, 0.8693, 0.8692, 0.8692, 0.8692, 0.8693, 0.8693, 0.8692, 0.8693, 0.8693, 0.8691, 0.8692, 0.8692, 0.853, 0.8693]\n",
            "Generation [ 223 / 10000 ]\n",
            "Population 20 - [0.8693, 0.8693, 0.8693, 0.8693, 0.8693, 0.8692, 0.8693, 0.8693, 0.8693, 0.8693, 0.8693, 0.8693, 0.8692, 0.8693, 0.8688, 0.8693, 0.8693, 0.8692, 0.8693, 0.8692]\n",
            "Generation [ 224 / 10000 ]\n",
            "Population 20 - [0.8693, 0.8693, 0.8693, 0.8693, 0.8693, 0.8693, 0.8693, 0.8692, 0.8693, 0.8692, 0.8691, 0.8692, 0.8692, 0.8692, 0.8692, 0.8693, 0.8692, 0.8693, 0.8693, 0.8692]\n",
            "Generation [ 225 / 10000 ]\n",
            "Population 20 - [0.8693, 0.8693, 0.8693, 0.8693, 0.8692, 0.8693, 0.8693, 0.8693, 0.8693, 0.8693, 0.8692, 0.8693, 0.8692, 0.8693, 0.8691, 0.8692, 0.8692, 0.8692, 0.8692, 0.8692]\n",
            "Generation [ 226 / 10000 ]\n",
            "Population 20 - [0.8693, 0.8693, 0.8693, 0.8693, 0.8693, 0.8693, 0.8693, 0.8692, 0.8693, 0.8693, 0.8693, 0.8693, 0.8693, 0.8692, 0.8693, 0.8692, 0.8689, 0.8693, 0.8693, 0.8693]\n",
            "Generation [ 227 / 10000 ]\n",
            "Population 20 - [0.8693, 0.8693, 0.8693, 0.8693, 0.8693, 0.8693, 0.8689, 0.8693, 0.8693, 0.8692, 0.8693, 0.8693, 0.8693, 0.8693, 0.869, 0.8692, 0.8693, 0.8693, 0.8693, 0.8692]\n",
            "Generation [ 228 / 10000 ]\n",
            "Population 20 - [0.8693, 0.8693, 0.8693, 0.8693, 0.8692, 0.8693, 0.853, 0.8693, 0.8693, 0.8693, 0.8693, 0.8692, 0.8693, 0.8693, 0.8692, 0.8693, 0.8693, 0.8693, 0.8693, 0.8693]\n",
            "Generation [ 229 / 10000 ]\n",
            "Population 20 - [0.8693, 0.8693, 0.8692, 0.8693, 0.8693, 0.8693, 0.8693, 0.8693, 0.8693, 0.8693, 0.8693, 0.8693, 0.8692, 0.8692, 0.8691, 0.8693, 0.8692, 0.8692, 0.8693, 0.869]\n",
            "Generation [ 230 / 10000 ]\n",
            "Population 20 - [0.8693, 0.8693, 0.8693, 0.8693, 0.8693, 0.8693, 0.8693, 0.8693, 0.8693, 0.8692, 0.8693, 0.8693, 0.8693, 0.8693, 0.8692, 0.8692, 0.8693, 0.8693, 0.8693, 0.8689]\n",
            "Generation [ 231 / 10000 ]\n",
            "Population 20 - [0.8693, 0.8693, 0.8693, 0.8692, 0.8693, 0.8692, 0.8693, 0.8693, 0.8692, 0.8693, 0.8693, 0.8693, 0.8693, 0.8693, 0.8693, 0.8693, 0.8693, 0.8693, 0.8693, 0.8693]\n",
            "Generation [ 232 / 10000 ]\n",
            "Population 20 - [0.8693, 0.8693, 0.8693, 0.8693, 0.8693, 0.8693, 0.8693, 0.8693, 0.8693, 0.8693, 0.8692, 0.8693, 0.8694, 0.8693, 0.8692, 0.8693, 0.8692, 0.8693, 0.8693, 0.8693]\n",
            "Generation [ 233 / 10000 ]\n",
            "Population 20 - [0.8694, 0.8693, 0.869, 0.8692, 0.8693, 0.8693, 0.8693, 0.8693, 0.8693, 0.8693, 0.8692, 0.8693, 0.8693, 0.8692, 0.8692, 0.8692, 0.8692, 0.8692, 0.8693, 0.8692]\n",
            "Generation [ 234 / 10000 ]\n",
            "Population 20 - [0.8694, 0.8693, 0.8693, 0.8693, 0.8693, 0.8693, 0.8693, 0.8692, 0.8693, 0.8693, 0.8693, 0.8693, 0.8693, 0.8693, 0.8693, 0.8692, 0.8693, 0.8693, 0.8692, 0.8693]\n",
            "Generation [ 235 / 10000 ]\n",
            "Population 20 - [0.8694, 0.8693, 0.8693, 0.8693, 0.8692, 0.8693, 0.8693, 0.8693, 0.8692, 0.8693, 0.8693, 0.8693, 0.8693, 0.8689, 0.8692, 0.8693, 0.8693, 0.8693, 0.8692, 0.8693]\n",
            "Generation [ 236 / 10000 ]\n",
            "Population 20 - [0.8694, 0.8693, 0.8693, 0.8693, 0.8693, 0.8693, 0.8693, 0.8692, 0.8693, 0.8693, 0.8693, 0.8693, 0.8693, 0.8692, 0.8693, 0.8693, 0.8693, 0.8693, 0.8693, 0.8693]\n",
            "Generation [ 237 / 10000 ]\n",
            "Population 20 - [0.8694, 0.8693, 0.8692, 0.8693, 0.8693, 0.8693, 0.8693, 0.8693, 0.8692, 0.8693, 0.8693, 0.8693, 0.8693, 0.8692, 0.8693, 0.8693, 0.8693, 0.8693, 0.8693, 0.8693]\n",
            "Generation [ 238 / 10000 ]\n",
            "Population 20 - [0.8694, 0.8693, 0.8693, 0.8692, 0.8693, 0.8693, 0.8693, 0.8693, 0.8693, 0.8693, 0.8693, 0.8693, 0.8693, 0.8692, 0.8693, 0.8693, 0.8692, 0.8693, 0.8693, 0.8693]\n",
            "Generation [ 239 / 10000 ]\n",
            "Population 20 - [0.8694, 0.8693, 0.8692, 0.8693, 0.8692, 0.8693, 0.8693, 0.8692, 0.8693, 0.8693, 0.8693, 0.8692, 0.8692, 0.8692, 0.8693, 0.8692, 0.8693, 0.8693, 0.8693, 0.8693]\n",
            "Generation [ 240 / 10000 ]\n",
            "Population 20 - [0.8694, 0.8693, 0.8693, 0.8693, 0.8693, 0.8693, 0.8693, 0.8693, 0.8693, 0.8693, 0.8693, 0.8692, 0.8692, 0.8693, 0.8693, 0.8693, 0.8693, 0.8692, 0.8693, 0.8693]\n",
            "Generation [ 241 / 10000 ]\n",
            "Population 20 - [0.8694, 0.8693, 0.8693, 0.8693, 0.8693, 0.8693, 0.8693, 0.8693, 0.8692, 0.8693, 0.8692, 0.8689, 0.8694, 0.8693, 0.8693, 0.8694, 0.8693, 0.8693, 0.8691, 0.8693]\n",
            "Generation [ 242 / 10000 ]\n",
            "Population 20 - [0.8694, 0.8694, 0.8693, 0.8693, 0.8693, 0.8693, 0.8693, 0.8693, 0.8693, 0.8693, 0.8693, 0.8693, 0.8693, 0.8694, 0.8693, 0.8693, 0.8693, 0.8693, 0.8693, 0.8693]\n",
            "Generation [ 243 / 10000 ]\n",
            "Population 20 - [0.8694, 0.8694, 0.8694, 0.8693, 0.8694, 0.8693, 0.8693, 0.8693, 0.8693, 0.8693, 0.8693, 0.8693, 0.8693, 0.8693, 0.8693, 0.8693, 0.8693, 0.8693, 0.8694, 0.8693]\n",
            "Generation [ 244 / 10000 ]\n",
            "Population 20 - [0.8694, 0.8694, 0.8693, 0.8693, 0.8693, 0.8693, 0.8692, 0.8692, 0.8693, 0.8692, 0.8693, 0.8693, 0.8693, 0.8693, 0.8693, 0.8693, 0.8693, 0.8693, 0.8693, 0.8693]\n",
            "Generation [ 245 / 10000 ]\n",
            "Population 20 - [0.8694, 0.8694, 0.8693, 0.8693, 0.8693, 0.8693, 0.8693, 0.8693, 0.8693, 0.8692, 0.8692, 0.8693, 0.8693, 0.8693, 0.8693, 0.8693, 0.8692, 0.8693, 0.8692, 0.8692]\n",
            "Generation [ 246 / 10000 ]\n",
            "Population 20 - [0.8694, 0.8694, 0.8693, 0.8693, 0.8693, 0.8692, 0.8693, 0.8693, 0.8693, 0.8693, 0.8689, 0.8693, 0.8694, 0.8693, 0.8692, 0.8693, 0.8693, 0.8692, 0.8692, 0.8693]\n",
            "Generation [ 247 / 10000 ]\n",
            "Population 20 - [0.8694, 0.8694, 0.8693, 0.8693, 0.8693, 0.8692, 0.8693, 0.8693, 0.8693, 0.8692, 0.8693, 0.8693, 0.8693, 0.8693, 0.8693, 0.8693, 0.8693, 0.8693, 0.8693, 0.8694]\n",
            "Generation [ 248 / 10000 ]\n",
            "Population 20 - [0.8694, 0.8694, 0.8693, 0.8694, 0.8693, 0.8693, 0.8531, 0.8693, 0.8693, 0.8693, 0.8693, 0.8693, 0.8694, 0.8693, 0.8693, 0.8692, 0.8693, 0.8693, 0.8693, 0.8693]\n",
            "Generation [ 249 / 10000 ]\n",
            "Population 20 - [0.8694, 0.8694, 0.8693, 0.8694, 0.8693, 0.8694, 0.8693, 0.8693, 0.8693, 0.8693, 0.8693, 0.8692, 0.8693, 0.8693, 0.8692, 0.8693, 0.8692, 0.8693, 0.8694, 0.8693]\n",
            "Generation [ 250 / 10000 ]\n",
            "Population 20 - [0.8694, 0.8694, 0.8693, 0.8694, 0.8694, 0.8693, 0.8693, 0.8692, 0.8692, 0.8693, 0.8693, 0.8692, 0.8693, 0.8693, 0.8693, 0.8693, 0.8693, 0.8693, 0.8693, 0.8693]\n",
            "Generation [ 251 / 10000 ]\n",
            "Population 20 - [0.8694, 0.8694, 0.8693, 0.8694, 0.8693, 0.8693, 0.8693, 0.8693, 0.8693, 0.8693, 0.8693, 0.8694, 0.8693, 0.8693, 0.8693, 0.8693, 0.8693, 0.8693, 0.8693, 0.8693]\n"
          ],
          "name": "stdout"
        }
      ]
    },
    {
      "cell_type": "markdown",
      "metadata": {
        "id": "xLdZJI-cqcAt",
        "colab_type": "text"
      },
      "source": [
        "#### Save and load the model!"
      ]
    },
    {
      "cell_type": "code",
      "metadata": {
        "id": "oVBlae4IqUy-",
        "colab_type": "code",
        "colab": {}
      },
      "source": [
        "# Choose the name of model and weight\n",
        "model_name = \"model.pkl\"\n",
        "weight_name = \"weight.pkl\""
      ],
      "execution_count": 0,
      "outputs": []
    },
    {
      "cell_type": "code",
      "metadata": {
        "id": "noxfgNXkgpVO",
        "colab_type": "code",
        "outputId": "b4cf332e-8a6e-4500-c5ee-0573bc07ae29",
        "colab": {
          "base_uri": "https://localhost:8080/",
          "height": 51
        }
      },
      "source": [
        "# Model and weight save\n",
        "g.save_model(os.path.join(model_path, model_name))\n",
        "g.save_weight(os.path.join(weight_path, weight_name))"
      ],
      "execution_count": 0,
      "outputs": [
        {
          "output_type": "stream",
          "text": [
            "Model saved to /content/drive/My Drive/42/reverse game of life/save/model.pkl successfully!\n",
            "Weight saved to /content/drive/My Drive/42/reverse game of life/save/weight.pkl successfully!\n"
          ],
          "name": "stdout"
        }
      ]
    },
    {
      "cell_type": "code",
      "metadata": {
        "id": "YuZwj8CVk1sR",
        "colab_type": "code",
        "outputId": "101c5b7d-bbf6-44ba-afad-637ba594b096",
        "colab": {
          "base_uri": "https://localhost:8080/",
          "height": 51
        }
      },
      "source": [
        "# Model and weight load\n",
        "g.load_model(os.path.join(model_path, model_name))\n",
        "g.load_weight(os.path.join(weight_path, weight_name))"
      ],
      "execution_count": 0,
      "outputs": [
        {
          "output_type": "stream",
          "text": [
            "Model was loaded from /content/drive/My Drive/42/reverse game of life/save/model.pkl successfully!\n",
            "Weight loaded from /content/drive/My Drive/42/reverse game of life/save/weight.pkl successfully!\n"
          ],
          "name": "stdout"
        }
      ]
    },
    {
      "cell_type": "code",
      "metadata": {
        "id": "OQ6U9jzqV0Oi",
        "colab_type": "code",
        "colab": {}
      },
      "source": [
        "g.change_threshold(-0.5)"
      ],
      "execution_count": 0,
      "outputs": []
    },
    {
      "cell_type": "code",
      "metadata": {
        "id": "eJTToO7wWWLf",
        "colab_type": "code",
        "colab": {}
      },
      "source": [
        "g.model_list[0].layer_list[0].bias.shape"
      ],
      "execution_count": 0,
      "outputs": []
    },
    {
      "cell_type": "code",
      "metadata": {
        "id": "lNJFS9GAZCpV",
        "colab_type": "code",
        "colab": {}
      },
      "source": [
        "print(g.model_list[0].layer_list[0].weight)\n",
        "print(g.model_list[0].layer_list[1].weight)"
      ],
      "execution_count": 0,
      "outputs": []
    },
    {
      "cell_type": "code",
      "metadata": {
        "id": "QvnNsfVbV-cW",
        "colab_type": "code",
        "outputId": "0dec4b6d-8a3b-4325-9ba6-164e7900a5fe",
        "colab": {
          "base_uri": "https://localhost:8080/",
          "height": 805
        }
      },
      "source": [
        "visualize_board(g.model_list[0].layer_list[0].weight)\n",
        "visualize_board(g.model_list[1].layer_list[0].weight)"
      ],
      "execution_count": 0,
      "outputs": [
        {
          "output_type": "display_data",
          "data": {
            "image/png": "[encoded data removed]",
            "text/plain": [
              "<Figure size 504x504 with 2 Axes>"
            ]
          },
          "metadata": {
            "tags": []
          }
        },
        {
          "output_type": "display_data",
          "data": {
            "image/png": "[encoded data removed]",
            "text/plain": [
              "<Figure size 504x504 with 2 Axes>"
            ]
          },
          "metadata": {
            "tags": []
          }
        }
      ]
    },
    {
      "cell_type": "code",
      "metadata": {
        "id": "DrqzRC5i2xqc",
        "colab_type": "code",
        "outputId": "75a9ac6c-6f37-4625-cdf6-b9e3b5643e95",
        "colab": {
          "base_uri": "https://localhost:8080/",
          "height": 1000
        }
      },
      "source": [
        "g.predict(train_set, 10)"
      ],
      "execution_count": 0,
      "outputs": [
        {
          "output_type": "stream",
          "text": [
            "This is the end board\n",
            "This is the answer\n",
            "This is the prediction\n"
          ],
          "name": "stdout"
        },
        {
          "output_type": "display_data",
          "data": {
            "image/png": "[encoded data removed]",
            "text/plain": [
              "<Figure size 504x504 with 2 Axes>"
            ]
          },
          "metadata": {
            "tags": []
          }
        },
        {
          "output_type": "display_data",
          "data": {
            "image/png": "[encoded data removed]",
            "text/plain": [
              "<Figure size 504x504 with 2 Axes>"
            ]
          },
          "metadata": {
            "tags": []
          }
        },
        {
          "output_type": "display_data",
          "data": {
            "image/png": "[encoded data removed]",
            "text/plain": [
              "<Figure size 504x504 with 2 Axes>"
            ]
          },
          "metadata": {
            "tags": []
          }
        }
      ]
    },
    {
      "cell_type": "markdown",
      "metadata": {
        "id": "UKuQRxJm7pEl",
        "colab_type": "text"
      },
      "source": [
        "### Conway game\n",
        "\n",
        "Implementing conway game. This wont be used in case of building a neural network model. But will be used when we are directly finding the answer\n",
        "\n",
        "![cellular automata](https://upload.wikimedia.org/wikipedia/commons/e/e5/Gospers_glider_gun.gif)\n"
      ]
    },
    {
      "cell_type": "code",
      "metadata": {
        "id": "I-HD-Ins7m9m",
        "colab_type": "code",
        "colab": {}
      },
      "source": [
        "class ConwayGameOfLife(object):\n",
        "    \"\"\"Implementation of Conway Game of Life\"\"\"\n",
        "    def __init__(self, board_size):\n",
        "        \"\"\"\n",
        "        Prepare neccesary values\n",
        "\n",
        "        :param Tuple board_size: (h, w) board height and width\n",
        "        :param list neighbor_coord: [(-1, -1), (-1, 0), (-1, 1), (0, -1), (0, 1), (1, -1), (1, 0), (1, 1)]\n",
        "        :param int width: width\n",
        "        :param int height: height\n",
        "        \"\"\"\n",
        "        self.neighbor_coord = [(i, j) for i in range(-1, 2) for j in range(-1, 2) if i != 0 or j != 0]\n",
        "        self.height = board_size[0]\n",
        "        self.width = board_size[1]\n",
        "\n",
        "    def __call__(self, board, step):\n",
        "        return self._process_game(board, step)\n",
        "\n",
        "    def _neighbor_count(self, board, h, w):\n",
        "        total = 0\n",
        "        for n_h, n_w in self.neighbor_coord:\n",
        "            if (0 <= h + n_h < self.height\n",
        "                and 0 <= w + n_w < self.width\n",
        "                and board[h + n_h][w + n_w]):\n",
        "                    total += 1\n",
        "        return total\n",
        "    \n",
        "    def _evolve(self, board):\n",
        "        new_board = deepcopy(board)\n",
        "        for h in range(self.height):\n",
        "            for w in range(self.width):\n",
        "                live_num = self._neighbor_count(board, h, w)\n",
        "                if board[h][w] and not (live_num == 2 or live_num ==3):\n",
        "                    new_board[h][w] = 0\n",
        "                elif board[h][w] == 0 and live_num == 3:\n",
        "                    new_board[h][w] = 1\n",
        "        return new_board\n",
        "\n",
        "    def _process_game(self, board, step):\n",
        "        for _ in range(step):\n",
        "            board = self._evolve(board)\n",
        "        return board\n"
      ],
      "execution_count": 0,
      "outputs": []
    },
    {
      "cell_type": "code",
      "metadata": {
        "id": "BRSQPy2xAX_4",
        "colab_type": "code",
        "colab": {}
      },
      "source": [
        "# Create the game\n",
        "game = ConwayGameOfLife((20, 20))"
      ],
      "execution_count": 0,
      "outputs": []
    },
    {
      "cell_type": "code",
      "metadata": {
        "id": "WADeXHN7j2jT",
        "colab_type": "code",
        "outputId": "54e4ef53-cab6-4951-f835-afb3e91d53b2",
        "colab": {
          "base_uri": "https://localhost:8080/",
          "referenced_widgets": [
            "4ae5bfba84774f00a38d05f9927edd85",
            "0fb58810f8134fb78b69711e1ba3bd34",
            "96a1bbfb8082430cbc794c0b0d001354",
            "56189ab0786a4732be2fdca09ee44db2",
            "21d630a2d49b459686373d9c47edea46",
            "7c463b142f744f05a43760f0c05417e7",
            "8d5521fdef72415fbc5e1db210604893",
            "58f3e932a49f470cb7bcf9147c6a44ad"
          ]
        }
      },
      "source": [
        "# Check the game is valid compared to the original\n",
        "check_valid_game(train_set, game)"
      ],
      "execution_count": 0,
      "outputs": [
        {
          "output_type": "display_data",
          "data": {
            "application/vnd.jupyter.widget-view+json": {
              "model_id": "4ae5bfba84774f00a38d05f9927edd85",
              "version_minor": 0,
              "version_major": 2
            },
            "text/plain": [
              "HBox(children=(IntProgress(value=0, max=50000), HTML(value='')))"
            ]
          },
          "metadata": {
            "tags": []
          }
        },
        {
          "output_type": "stream",
          "text": [
            "Checking the game is valid... 50000 / 50000\n"
          ],
          "name": "stdout"
        }
      ]
    },
    {
      "cell_type": "code",
      "metadata": {
        "id": "vqerp1EiQzVM",
        "colab_type": "code",
        "outputId": "b2593cf3-5d4e-4a49-b5f9-27610dc7bf9e",
        "colab": {
          "base_uri": "https://localhost:8080/"
        }
      },
      "source": [
        "# Check the created game's output and original conway game's output\n",
        "result = game(train_set[5][\"start\"], train_set[5][\"step\"])\n",
        "visualize_board(result)\n",
        "visualize_board(train_set[5][\"end\"])"
      ],
      "execution_count": 0,
      "outputs": [
        {
          "output_type": "display_data",
          "data": {
            "image/png": "[encoded data removed]",
            "text/plain": [
              "<Figure size 504x504 with 2 Axes>"
            ]
          },
          "metadata": {
            "tags": []
          }
        },
        {
          "output_type": "display_data",
          "data": {
            "image/png": "[encoded data removed]",
            "text/plain": [
              "<Figure size 504x504 with 2 Axes>"
            ]
          },
          "metadata": {
            "tags": []
          }
        }
      ]
    },
    {
      "cell_type": "markdown",
      "metadata": {
        "id": "h8kJ0wz3nlBg",
        "colab_type": "text"
      },
      "source": [
        "### Find the direct starting board of conway game of life using Genetic algorithm"
      ]
    },
    {
      "cell_type": "code",
      "metadata": {
        "id": "w-ORjNHRnlS7",
        "colab_type": "code",
        "colab": {}
      },
      "source": [
        ""
      ],
      "execution_count": 0,
      "outputs": []
    },
    {
      "cell_type": "markdown",
      "metadata": {
        "id": "K2uaIeDRdWi7",
        "colab_type": "text"
      },
      "source": [
        "### Testing field"
      ]
    },
    {
      "cell_type": "code",
      "metadata": {
        "colab_type": "code",
        "outputId": "640e327b-c0ed-47b9-8106-a3c2c1398a28",
        "id": "-i7C9eM42oxx",
        "colab": {
          "base_uri": "https://localhost:8080/"
        }
      },
      "source": [
        "l"
      ],
      "execution_count": 0,
      "outputs": [
        {
          "output_type": "execute_result",
          "data": {
            "text/plain": [
              "MultiLayers(2, 0.5, [(20, 20), (20, 20)])"
            ]
          },
          "metadata": {
            "tags": []
          },
          "execution_count": 284
        }
      ]
    },
    {
      "cell_type": "code",
      "metadata": {
        "id": "Y0BicQQJYjwf",
        "colab_type": "code",
        "outputId": "e64fa3ea-559b-41a4-d1a0-aae1c979c931",
        "colab": {
          "base_uri": "https://localhost:8080/"
        }
      },
      "source": [
        "result = l(result)\n",
        "visualize_board(result)"
      ],
      "execution_count": 0,
      "outputs": [
        {
          "output_type": "display_data",
          "data": {
            "image/png": "[encoded data removed]",
            "text/plain": [
              "<Figure size 504x504 with 2 Axes>"
            ]
          },
          "metadata": {
            "tags": []
          }
        }
      ]
    },
    {
      "cell_type": "code",
      "metadata": {
        "id": "1cwFO34xX1Dx",
        "colab_type": "code",
        "outputId": "9745ddff-adeb-4d6b-96a9-5b36a149a449",
        "colab": {
          "base_uri": "https://localhost:8080/"
        }
      },
      "source": [
        "l.change_threshold(0.5)"
      ],
      "execution_count": 0,
      "outputs": [
        {
          "output_type": "stream",
          "text": [
            "Threshold changed from 0 to 0.5\n"
          ],
          "name": "stdout"
        }
      ]
    },
    {
      "cell_type": "code",
      "metadata": {
        "id": "WwIhfaAJUrCC",
        "colab_type": "code",
        "outputId": "6c074334-7401-4f2b-c217-300c47e8d3da",
        "colab": {
          "base_uri": "https://localhost:8080/"
        }
      },
      "source": [
        "# Test is the multi layer is working\n",
        "result = l(train_set[5][\"start\"])\n",
        "visualize_board(result)\n",
        "visualize_board(train_set[5][\"end\"])"
      ],
      "execution_count": 0,
      "outputs": [
        {
          "output_type": "display_data",
          "data": {
            "image/png": "[encoded data removed]",
            "text/plain": [
              "<Figure size 504x504 with 2 Axes>"
            ]
          },
          "metadata": {
            "tags": []
          }
        },
        {
          "output_type": "display_data",
          "data": {
            "image/png": "[encoded data removed]",
            "text/plain": [
              "<Figure size 504x504 with 2 Axes>"
            ]
          },
          "metadata": {
            "tags": []
          }
        }
      ]
    },
    {
      "cell_type": "code",
      "metadata": {
        "id": "YGue8iDoH2Es",
        "colab_type": "code",
        "colab": {}
      },
      "source": [
        "w = np.random.rand(3, 2)"
      ],
      "execution_count": 0,
      "outputs": []
    },
    {
      "cell_type": "code",
      "metadata": {
        "id": "6VpGieO3H7-n",
        "colab_type": "code",
        "outputId": "ff7b35c5-7478-4a72-99e1-c0a246f275c6",
        "colab": {
          "base_uri": "https://localhost:8080/"
        }
      },
      "source": [
        "w = l(w)\n",
        "print(w)"
      ],
      "execution_count": 0,
      "outputs": [
        {
          "output_type": "stream",
          "text": [
            "[[2.34207218 0.         0.1992841 ]\n",
            " [5.03511597 0.         0.23610978]\n",
            " [3.22490787 0.         0.6253408 ]]\n"
          ],
          "name": "stdout"
        }
      ]
    },
    {
      "cell_type": "code",
      "metadata": {
        "id": "2AFAtGYrWRxP",
        "colab_type": "code",
        "outputId": "e1dd5368-0dc3-4538-b85b-389d28a97e93",
        "colab": {
          "base_uri": "https://localhost:8080/"
        }
      },
      "source": [
        "b = np.array([1, 2, 3])\n",
        "print (w + b)"
      ],
      "execution_count": 0,
      "outputs": [
        {
          "output_type": "stream",
          "text": [
            "[[3.34207218 2.         3.1992841 ]\n",
            " [6.03511597 2.         3.23610978]\n",
            " [4.22490787 2.         3.6253408 ]]\n"
          ],
          "name": "stdout"
        }
      ]
    },
    {
      "cell_type": "markdown",
      "metadata": {
        "id": "lJboKBU6HED5",
        "colab_type": "text"
      },
      "source": [
        "##### Testing mask function"
      ]
    },
    {
      "cell_type": "code",
      "metadata": {
        "colab_type": "code",
        "id": "JApUWqOWpkrE",
        "colab": {}
      },
      "source": [
        "a = np.array([[1, 2], [3, 4]])\n",
        "b = np.array([[100, 200], [300, 400]])\n",
        "mask = np.array([[False, True], [True, False]])"
      ],
      "execution_count": 0,
      "outputs": []
    },
    {
      "cell_type": "code",
      "metadata": {
        "id": "hnWMzIaxgArQ",
        "colab_type": "code",
        "colab": {}
      },
      "source": [
        "a[mask] = b[mask]"
      ],
      "execution_count": 0,
      "outputs": []
    },
    {
      "cell_type": "code",
      "metadata": {
        "id": "hmbr_dnvgFK0",
        "colab_type": "code",
        "outputId": "378caeb7-b1bc-446c-a49e-557b6b7f3570",
        "colab": {
          "base_uri": "https://localhost:8080/",
          "height": 51
        }
      },
      "source": [
        "a"
      ],
      "execution_count": 0,
      "outputs": [
        {
          "output_type": "execute_result",
          "data": {
            "text/plain": [
              "array([[  1, 200],\n",
              "       [300,   4]])"
            ]
          },
          "metadata": {
            "tags": []
          },
          "execution_count": 67
        }
      ]
    },
    {
      "cell_type": "code",
      "metadata": {
        "id": "eQP3knXhgNkb",
        "colab_type": "code",
        "outputId": "3fcc0d11-e509-4079-d66d-8576daf5ebaf",
        "colab": {
          "base_uri": "https://localhost:8080/",
          "height": 34
        }
      },
      "source": [
        "b[mask]"
      ],
      "execution_count": 0,
      "outputs": [
        {
          "output_type": "execute_result",
          "data": {
            "text/plain": [
              "array([200, 300])"
            ]
          },
          "metadata": {
            "tags": []
          },
          "execution_count": 68
        }
      ]
    },
    {
      "cell_type": "code",
      "metadata": {
        "id": "dybYIOKWgnQD",
        "colab_type": "code",
        "colab": {}
      },
      "source": [
        "c = deepcopy(a)"
      ],
      "execution_count": 0,
      "outputs": []
    },
    {
      "cell_type": "code",
      "metadata": {
        "id": "3YhqFsISgp_Q",
        "colab_type": "code",
        "outputId": "ebae6daa-f2df-491b-fa1d-0da97cfc0c79",
        "colab": {
          "base_uri": "https://localhost:8080/",
          "height": 51
        }
      },
      "source": [
        "c"
      ],
      "execution_count": 0,
      "outputs": [
        {
          "output_type": "execute_result",
          "data": {
            "text/plain": [
              "array([[  1, 200],\n",
              "       [300,   4]])"
            ]
          },
          "metadata": {
            "tags": []
          },
          "execution_count": 72
        }
      ]
    }
  ]
}