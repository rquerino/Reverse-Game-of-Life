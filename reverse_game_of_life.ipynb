{
  "nbformat": 4,
  "nbformat_minor": 0,
  "metadata": {
    "colab": {
      "name": "reverse game of life.ipynb",
      "provenance": [],
      "collapsed_sections": [
        "AiCdlsPzqVpe",
        "Ma7IahiWwZ0O",
        "TzOsLjoQvs0w",
        "nNLNyRgA0Ess",
        "QGFg89ryyv2v",
        "EXfNIPbNqM-b",
        "CrXPD1qlxNmr",
        "UKuQRxJm7pEl",
        "vDxLggAtdS8A",
        "-HlPIx7y3BiL"
      ],
      "toc_visible": true,
      "include_colab_link": true
    },
    "kernelspec": {
      "name": "python3",
      "display_name": "Python 3"
    },
    "widgets": {
      "application/vnd.jupyter.widget-state+json": {
        "a461dd4baf8a441d901a289a7a9c44ab": {
          "model_module": "@jupyter-widgets/controls",
          "model_name": "HBoxModel",
          "state": {
            "_view_name": "HBoxView",
            "_dom_classes": [],
            "_model_name": "HBoxModel",
            "_view_module": "@jupyter-widgets/controls",
            "_model_module_version": "1.5.0",
            "_view_count": null,
            "_view_module_version": "1.5.0",
            "box_style": "",
            "layout": "IPY_MODEL_0253d6bd2bc24c528a061c43065ff189",
            "_model_module": "@jupyter-widgets/controls",
            "children": [
              "IPY_MODEL_bbb2262ca1924630bff8e214c8b7333f",
              "IPY_MODEL_8ff29d1bd006452db582494a8bd57c78"
            ]
          }
        },
        "0253d6bd2bc24c528a061c43065ff189": {
          "model_module": "@jupyter-widgets/base",
          "model_name": "LayoutModel",
          "state": {
            "_view_name": "LayoutView",
            "grid_template_rows": null,
            "right": null,
            "justify_content": null,
            "_view_module": "@jupyter-widgets/base",
            "overflow": null,
            "_model_module_version": "1.2.0",
            "_view_count": null,
            "flex_flow": null,
            "width": null,
            "min_width": null,
            "border": null,
            "align_items": null,
            "bottom": null,
            "_model_module": "@jupyter-widgets/base",
            "top": null,
            "grid_column": null,
            "overflow_y": null,
            "overflow_x": null,
            "grid_auto_flow": null,
            "grid_area": null,
            "grid_template_columns": null,
            "flex": null,
            "_model_name": "LayoutModel",
            "justify_items": null,
            "grid_row": null,
            "max_height": null,
            "align_content": null,
            "visibility": null,
            "align_self": null,
            "height": null,
            "min_height": null,
            "padding": null,
            "grid_auto_rows": null,
            "grid_gap": null,
            "max_width": null,
            "order": null,
            "_view_module_version": "1.2.0",
            "grid_template_areas": null,
            "object_position": null,
            "object_fit": null,
            "grid_auto_columns": null,
            "margin": null,
            "display": null,
            "left": null
          }
        },
        "bbb2262ca1924630bff8e214c8b7333f": {
          "model_module": "@jupyter-widgets/controls",
          "model_name": "IntProgressModel",
          "state": {
            "_view_name": "ProgressView",
            "style": "IPY_MODEL_9fdcc787055a44ff81499df39ab9762a",
            "_dom_classes": [],
            "description": "",
            "_model_name": "IntProgressModel",
            "bar_style": "success",
            "max": 50000,
            "_view_module": "@jupyter-widgets/controls",
            "_model_module_version": "1.5.0",
            "value": 50000,
            "_view_count": null,
            "_view_module_version": "1.5.0",
            "orientation": "horizontal",
            "min": 0,
            "description_tooltip": null,
            "_model_module": "@jupyter-widgets/controls",
            "layout": "IPY_MODEL_a54d11bf2b5e4b1a86463ac87c5bbe63"
          }
        },
        "8ff29d1bd006452db582494a8bd57c78": {
          "model_module": "@jupyter-widgets/controls",
          "model_name": "HTMLModel",
          "state": {
            "_view_name": "HTMLView",
            "style": "IPY_MODEL_582af495b86a4c6f966344fdef1c9075",
            "_dom_classes": [],
            "description": "",
            "_model_name": "HTMLModel",
            "placeholder": "​",
            "_view_module": "@jupyter-widgets/controls",
            "_model_module_version": "1.5.0",
            "value": "100% 50000/50000 [00:00&lt;00:00, 242361.54it/s]",
            "_view_count": null,
            "_view_module_version": "1.5.0",
            "description_tooltip": null,
            "_model_module": "@jupyter-widgets/controls",
            "layout": "IPY_MODEL_77b315c6dd4c4050831eb19207cfa794"
          }
        },
        "9fdcc787055a44ff81499df39ab9762a": {
          "model_module": "@jupyter-widgets/controls",
          "model_name": "ProgressStyleModel",
          "state": {
            "_view_name": "StyleView",
            "_model_name": "ProgressStyleModel",
            "description_width": "",
            "_view_module": "@jupyter-widgets/base",
            "_model_module_version": "1.5.0",
            "_view_count": null,
            "_view_module_version": "1.2.0",
            "bar_color": null,
            "_model_module": "@jupyter-widgets/controls"
          }
        },
        "a54d11bf2b5e4b1a86463ac87c5bbe63": {
          "model_module": "@jupyter-widgets/base",
          "model_name": "LayoutModel",
          "state": {
            "_view_name": "LayoutView",
            "grid_template_rows": null,
            "right": null,
            "justify_content": null,
            "_view_module": "@jupyter-widgets/base",
            "overflow": null,
            "_model_module_version": "1.2.0",
            "_view_count": null,
            "flex_flow": null,
            "width": null,
            "min_width": null,
            "border": null,
            "align_items": null,
            "bottom": null,
            "_model_module": "@jupyter-widgets/base",
            "top": null,
            "grid_column": null,
            "overflow_y": null,
            "overflow_x": null,
            "grid_auto_flow": null,
            "grid_area": null,
            "grid_template_columns": null,
            "flex": null,
            "_model_name": "LayoutModel",
            "justify_items": null,
            "grid_row": null,
            "max_height": null,
            "align_content": null,
            "visibility": null,
            "align_self": null,
            "height": null,
            "min_height": null,
            "padding": null,
            "grid_auto_rows": null,
            "grid_gap": null,
            "max_width": null,
            "order": null,
            "_view_module_version": "1.2.0",
            "grid_template_areas": null,
            "object_position": null,
            "object_fit": null,
            "grid_auto_columns": null,
            "margin": null,
            "display": null,
            "left": null
          }
        },
        "582af495b86a4c6f966344fdef1c9075": {
          "model_module": "@jupyter-widgets/controls",
          "model_name": "DescriptionStyleModel",
          "state": {
            "_view_name": "StyleView",
            "_model_name": "DescriptionStyleModel",
            "description_width": "",
            "_view_module": "@jupyter-widgets/base",
            "_model_module_version": "1.5.0",
            "_view_count": null,
            "_view_module_version": "1.2.0",
            "_model_module": "@jupyter-widgets/controls"
          }
        },
        "77b315c6dd4c4050831eb19207cfa794": {
          "model_module": "@jupyter-widgets/base",
          "model_name": "LayoutModel",
          "state": {
            "_view_name": "LayoutView",
            "grid_template_rows": null,
            "right": null,
            "justify_content": null,
            "_view_module": "@jupyter-widgets/base",
            "overflow": null,
            "_model_module_version": "1.2.0",
            "_view_count": null,
            "flex_flow": null,
            "width": null,
            "min_width": null,
            "border": null,
            "align_items": null,
            "bottom": null,
            "_model_module": "@jupyter-widgets/base",
            "top": null,
            "grid_column": null,
            "overflow_y": null,
            "overflow_x": null,
            "grid_auto_flow": null,
            "grid_area": null,
            "grid_template_columns": null,
            "flex": null,
            "_model_name": "LayoutModel",
            "justify_items": null,
            "grid_row": null,
            "max_height": null,
            "align_content": null,
            "visibility": null,
            "align_self": null,
            "height": null,
            "min_height": null,
            "padding": null,
            "grid_auto_rows": null,
            "grid_gap": null,
            "max_width": null,
            "order": null,
            "_view_module_version": "1.2.0",
            "grid_template_areas": null,
            "object_position": null,
            "object_fit": null,
            "grid_auto_columns": null,
            "margin": null,
            "display": null,
            "left": null
          }
        },
        "3bc26f7a966644499065e2597e4a8ca5": {
          "model_module": "@jupyter-widgets/controls",
          "model_name": "HBoxModel",
          "state": {
            "_view_name": "HBoxView",
            "_dom_classes": [],
            "_model_name": "HBoxModel",
            "_view_module": "@jupyter-widgets/controls",
            "_model_module_version": "1.5.0",
            "_view_count": null,
            "_view_module_version": "1.5.0",
            "box_style": "",
            "layout": "IPY_MODEL_b380ad78daaa4b008932a7c650c25f0f",
            "_model_module": "@jupyter-widgets/controls",
            "children": [
              "IPY_MODEL_5b93a25c447c442586b8ee84944bd61b",
              "IPY_MODEL_07af8ea74ee647eb8992eb6d3369fcd0"
            ]
          }
        },
        "b380ad78daaa4b008932a7c650c25f0f": {
          "model_module": "@jupyter-widgets/base",
          "model_name": "LayoutModel",
          "state": {
            "_view_name": "LayoutView",
            "grid_template_rows": null,
            "right": null,
            "justify_content": null,
            "_view_module": "@jupyter-widgets/base",
            "overflow": null,
            "_model_module_version": "1.2.0",
            "_view_count": null,
            "flex_flow": null,
            "width": null,
            "min_width": null,
            "border": null,
            "align_items": null,
            "bottom": null,
            "_model_module": "@jupyter-widgets/base",
            "top": null,
            "grid_column": null,
            "overflow_y": null,
            "overflow_x": null,
            "grid_auto_flow": null,
            "grid_area": null,
            "grid_template_columns": null,
            "flex": null,
            "_model_name": "LayoutModel",
            "justify_items": null,
            "grid_row": null,
            "max_height": null,
            "align_content": null,
            "visibility": null,
            "align_self": null,
            "height": null,
            "min_height": null,
            "padding": null,
            "grid_auto_rows": null,
            "grid_gap": null,
            "max_width": null,
            "order": null,
            "_view_module_version": "1.2.0",
            "grid_template_areas": null,
            "object_position": null,
            "object_fit": null,
            "grid_auto_columns": null,
            "margin": null,
            "display": null,
            "left": null
          }
        },
        "5b93a25c447c442586b8ee84944bd61b": {
          "model_module": "@jupyter-widgets/controls",
          "model_name": "IntProgressModel",
          "state": {
            "_view_name": "ProgressView",
            "style": "IPY_MODEL_b43f5e05b6184161afd48abdf65b1f98",
            "_dom_classes": [],
            "description": "",
            "_model_name": "IntProgressModel",
            "bar_style": "success",
            "max": 50000,
            "_view_module": "@jupyter-widgets/controls",
            "_model_module_version": "1.5.0",
            "value": 50000,
            "_view_count": null,
            "_view_module_version": "1.5.0",
            "orientation": "horizontal",
            "min": 0,
            "description_tooltip": null,
            "_model_module": "@jupyter-widgets/controls",
            "layout": "IPY_MODEL_8948b4e5c4c04990abfac8ffa0957fc3"
          }
        },
        "07af8ea74ee647eb8992eb6d3369fcd0": {
          "model_module": "@jupyter-widgets/controls",
          "model_name": "HTMLModel",
          "state": {
            "_view_name": "HTMLView",
            "style": "IPY_MODEL_cf93ed8d429448f5a679e4a3c0680dc2",
            "_dom_classes": [],
            "description": "",
            "_model_name": "HTMLModel",
            "placeholder": "​",
            "_view_module": "@jupyter-widgets/controls",
            "_model_module_version": "1.5.0",
            "value": "100% 50000/50000 [00:00&lt;00:00, 370174.27it/s]",
            "_view_count": null,
            "_view_module_version": "1.5.0",
            "description_tooltip": null,
            "_model_module": "@jupyter-widgets/controls",
            "layout": "IPY_MODEL_ace374ec883b412c8ffcb8ccbddd04a7"
          }
        },
        "b43f5e05b6184161afd48abdf65b1f98": {
          "model_module": "@jupyter-widgets/controls",
          "model_name": "ProgressStyleModel",
          "state": {
            "_view_name": "StyleView",
            "_model_name": "ProgressStyleModel",
            "description_width": "",
            "_view_module": "@jupyter-widgets/base",
            "_model_module_version": "1.5.0",
            "_view_count": null,
            "_view_module_version": "1.2.0",
            "bar_color": null,
            "_model_module": "@jupyter-widgets/controls"
          }
        },
        "8948b4e5c4c04990abfac8ffa0957fc3": {
          "model_module": "@jupyter-widgets/base",
          "model_name": "LayoutModel",
          "state": {
            "_view_name": "LayoutView",
            "grid_template_rows": null,
            "right": null,
            "justify_content": null,
            "_view_module": "@jupyter-widgets/base",
            "overflow": null,
            "_model_module_version": "1.2.0",
            "_view_count": null,
            "flex_flow": null,
            "width": null,
            "min_width": null,
            "border": null,
            "align_items": null,
            "bottom": null,
            "_model_module": "@jupyter-widgets/base",
            "top": null,
            "grid_column": null,
            "overflow_y": null,
            "overflow_x": null,
            "grid_auto_flow": null,
            "grid_area": null,
            "grid_template_columns": null,
            "flex": null,
            "_model_name": "LayoutModel",
            "justify_items": null,
            "grid_row": null,
            "max_height": null,
            "align_content": null,
            "visibility": null,
            "align_self": null,
            "height": null,
            "min_height": null,
            "padding": null,
            "grid_auto_rows": null,
            "grid_gap": null,
            "max_width": null,
            "order": null,
            "_view_module_version": "1.2.0",
            "grid_template_areas": null,
            "object_position": null,
            "object_fit": null,
            "grid_auto_columns": null,
            "margin": null,
            "display": null,
            "left": null
          }
        },
        "cf93ed8d429448f5a679e4a3c0680dc2": {
          "model_module": "@jupyter-widgets/controls",
          "model_name": "DescriptionStyleModel",
          "state": {
            "_view_name": "StyleView",
            "_model_name": "DescriptionStyleModel",
            "description_width": "",
            "_view_module": "@jupyter-widgets/base",
            "_model_module_version": "1.5.0",
            "_view_count": null,
            "_view_module_version": "1.2.0",
            "_model_module": "@jupyter-widgets/controls"
          }
        },
        "ace374ec883b412c8ffcb8ccbddd04a7": {
          "model_module": "@jupyter-widgets/base",
          "model_name": "LayoutModel",
          "state": {
            "_view_name": "LayoutView",
            "grid_template_rows": null,
            "right": null,
            "justify_content": null,
            "_view_module": "@jupyter-widgets/base",
            "overflow": null,
            "_model_module_version": "1.2.0",
            "_view_count": null,
            "flex_flow": null,
            "width": null,
            "min_width": null,
            "border": null,
            "align_items": null,
            "bottom": null,
            "_model_module": "@jupyter-widgets/base",
            "top": null,
            "grid_column": null,
            "overflow_y": null,
            "overflow_x": null,
            "grid_auto_flow": null,
            "grid_area": null,
            "grid_template_columns": null,
            "flex": null,
            "_model_name": "LayoutModel",
            "justify_items": null,
            "grid_row": null,
            "max_height": null,
            "align_content": null,
            "visibility": null,
            "align_self": null,
            "height": null,
            "min_height": null,
            "padding": null,
            "grid_auto_rows": null,
            "grid_gap": null,
            "max_width": null,
            "order": null,
            "_view_module_version": "1.2.0",
            "grid_template_areas": null,
            "object_position": null,
            "object_fit": null,
            "grid_auto_columns": null,
            "margin": null,
            "display": null,
            "left": null
          }
        },
        "4ae5bfba84774f00a38d05f9927edd85": {
          "model_module": "@jupyter-widgets/controls",
          "model_name": "HBoxModel",
          "state": {
            "_view_name": "HBoxView",
            "_dom_classes": [],
            "_model_name": "HBoxModel",
            "_view_module": "@jupyter-widgets/controls",
            "_model_module_version": "1.5.0",
            "_view_count": null,
            "_view_module_version": "1.5.0",
            "box_style": "",
            "layout": "IPY_MODEL_0fb58810f8134fb78b69711e1ba3bd34",
            "_model_module": "@jupyter-widgets/controls",
            "children": [
              "IPY_MODEL_96a1bbfb8082430cbc794c0b0d001354",
              "IPY_MODEL_56189ab0786a4732be2fdca09ee44db2"
            ]
          }
        },
        "0fb58810f8134fb78b69711e1ba3bd34": {
          "model_module": "@jupyter-widgets/base",
          "model_name": "LayoutModel",
          "state": {
            "_view_name": "LayoutView",
            "grid_template_rows": null,
            "right": null,
            "justify_content": null,
            "_view_module": "@jupyter-widgets/base",
            "overflow": null,
            "_model_module_version": "1.2.0",
            "_view_count": null,
            "flex_flow": null,
            "width": null,
            "min_width": null,
            "border": null,
            "align_items": null,
            "bottom": null,
            "_model_module": "@jupyter-widgets/base",
            "top": null,
            "grid_column": null,
            "overflow_y": null,
            "overflow_x": null,
            "grid_auto_flow": null,
            "grid_area": null,
            "grid_template_columns": null,
            "flex": null,
            "_model_name": "LayoutModel",
            "justify_items": null,
            "grid_row": null,
            "max_height": null,
            "align_content": null,
            "visibility": null,
            "align_self": null,
            "height": null,
            "min_height": null,
            "padding": null,
            "grid_auto_rows": null,
            "grid_gap": null,
            "max_width": null,
            "order": null,
            "_view_module_version": "1.2.0",
            "grid_template_areas": null,
            "object_position": null,
            "object_fit": null,
            "grid_auto_columns": null,
            "margin": null,
            "display": null,
            "left": null
          }
        },
        "96a1bbfb8082430cbc794c0b0d001354": {
          "model_module": "@jupyter-widgets/controls",
          "model_name": "IntProgressModel",
          "state": {
            "_view_name": "ProgressView",
            "style": "IPY_MODEL_21d630a2d49b459686373d9c47edea46",
            "_dom_classes": [],
            "description": "",
            "_model_name": "IntProgressModel",
            "bar_style": "success",
            "max": 50000,
            "_view_module": "@jupyter-widgets/controls",
            "_model_module_version": "1.5.0",
            "value": 50000,
            "_view_count": null,
            "_view_module_version": "1.5.0",
            "orientation": "horizontal",
            "min": 0,
            "description_tooltip": null,
            "_model_module": "@jupyter-widgets/controls",
            "layout": "IPY_MODEL_7c463b142f744f05a43760f0c05417e7"
          }
        },
        "56189ab0786a4732be2fdca09ee44db2": {
          "model_module": "@jupyter-widgets/controls",
          "model_name": "HTMLModel",
          "state": {
            "_view_name": "HTMLView",
            "style": "IPY_MODEL_8d5521fdef72415fbc5e1db210604893",
            "_dom_classes": [],
            "description": "",
            "_model_name": "HTMLModel",
            "placeholder": "​",
            "_view_module": "@jupyter-widgets/controls",
            "_model_module_version": "1.5.0",
            "value": "100% 50000/50000 [09:06&lt;00:00, 91.43it/s]",
            "_view_count": null,
            "_view_module_version": "1.5.0",
            "description_tooltip": null,
            "_model_module": "@jupyter-widgets/controls",
            "layout": "IPY_MODEL_58f3e932a49f470cb7bcf9147c6a44ad"
          }
        },
        "21d630a2d49b459686373d9c47edea46": {
          "model_module": "@jupyter-widgets/controls",
          "model_name": "ProgressStyleModel",
          "state": {
            "_view_name": "StyleView",
            "_model_name": "ProgressStyleModel",
            "description_width": "",
            "_view_module": "@jupyter-widgets/base",
            "_model_module_version": "1.5.0",
            "_view_count": null,
            "_view_module_version": "1.2.0",
            "bar_color": null,
            "_model_module": "@jupyter-widgets/controls"
          }
        },
        "7c463b142f744f05a43760f0c05417e7": {
          "model_module": "@jupyter-widgets/base",
          "model_name": "LayoutModel",
          "state": {
            "_view_name": "LayoutView",
            "grid_template_rows": null,
            "right": null,
            "justify_content": null,
            "_view_module": "@jupyter-widgets/base",
            "overflow": null,
            "_model_module_version": "1.2.0",
            "_view_count": null,
            "flex_flow": null,
            "width": null,
            "min_width": null,
            "border": null,
            "align_items": null,
            "bottom": null,
            "_model_module": "@jupyter-widgets/base",
            "top": null,
            "grid_column": null,
            "overflow_y": null,
            "overflow_x": null,
            "grid_auto_flow": null,
            "grid_area": null,
            "grid_template_columns": null,
            "flex": null,
            "_model_name": "LayoutModel",
            "justify_items": null,
            "grid_row": null,
            "max_height": null,
            "align_content": null,
            "visibility": null,
            "align_self": null,
            "height": null,
            "min_height": null,
            "padding": null,
            "grid_auto_rows": null,
            "grid_gap": null,
            "max_width": null,
            "order": null,
            "_view_module_version": "1.2.0",
            "grid_template_areas": null,
            "object_position": null,
            "object_fit": null,
            "grid_auto_columns": null,
            "margin": null,
            "display": null,
            "left": null
          }
        },
        "8d5521fdef72415fbc5e1db210604893": {
          "model_module": "@jupyter-widgets/controls",
          "model_name": "DescriptionStyleModel",
          "state": {
            "_view_name": "StyleView",
            "_model_name": "DescriptionStyleModel",
            "description_width": "",
            "_view_module": "@jupyter-widgets/base",
            "_model_module_version": "1.5.0",
            "_view_count": null,
            "_view_module_version": "1.2.0",
            "_model_module": "@jupyter-widgets/controls"
          }
        },
        "58f3e932a49f470cb7bcf9147c6a44ad": {
          "model_module": "@jupyter-widgets/base",
          "model_name": "LayoutModel",
          "state": {
            "_view_name": "LayoutView",
            "grid_template_rows": null,
            "right": null,
            "justify_content": null,
            "_view_module": "@jupyter-widgets/base",
            "overflow": null,
            "_model_module_version": "1.2.0",
            "_view_count": null,
            "flex_flow": null,
            "width": null,
            "min_width": null,
            "border": null,
            "align_items": null,
            "bottom": null,
            "_model_module": "@jupyter-widgets/base",
            "top": null,
            "grid_column": null,
            "overflow_y": null,
            "overflow_x": null,
            "grid_auto_flow": null,
            "grid_area": null,
            "grid_template_columns": null,
            "flex": null,
            "_model_name": "LayoutModel",
            "justify_items": null,
            "grid_row": null,
            "max_height": null,
            "align_content": null,
            "visibility": null,
            "align_self": null,
            "height": null,
            "min_height": null,
            "padding": null,
            "grid_auto_rows": null,
            "grid_gap": null,
            "max_width": null,
            "order": null,
            "_view_module_version": "1.2.0",
            "grid_template_areas": null,
            "object_position": null,
            "object_fit": null,
            "grid_auto_columns": null,
            "margin": null,
            "display": null,
            "left": null
          }
        }
      }
    },
    "accelerator": "GPU"
  },
  "cells": [
    {
      "cell_type": "markdown",
      "metadata": {
        "id": "view-in-github",
        "colab_type": "text"
      },
      "source": [
        "<a href=\"https://colab.research.google.com/github/rquerino/Reverse-Game-of-Life/blob/master/reverse_game_of_life.ipynb\" target=\"_parent\"><img src=\"https://colab.research.google.com/assets/colab-badge.svg\" alt=\"Open In Colab\"/></a>"
      ]
    },
    {
      "cell_type": "markdown",
      "metadata": {
        "id": "8JddzBoTXdUb",
        "colab_type": "text"
      },
      "source": [
        "# Reverse game of life\n",
        "\n",
        "![cellular automata](https://upload.wikimedia.org/wikipedia/commons/e/e5/Gospers_glider_gun.gif)\n",
        "\n",
        "Explanation is based on wikipedia             \n",
        "\n",
        "**Conway's Game of Life**\n",
        "\n",
        "---\n",
        "The Game of Life, also known simply as Life, is a cellular automaton devised by the British mathematician John Horton Conway in 1970. The game is a zero-player game, meaning that its evolution is determined by its initial state, requiring no further input. One interacts with the Game of Life by creating an initial configuration and observing how it evolves.\n",
        "\n",
        "**Rules**\n",
        "\n",
        "---\n",
        "1. Any live cell with fewer than two live neighbours dies, as if by underpopulation.\n",
        "2. Any live cell with two or three live neighbours lives on to the next generation.\n",
        "3. Any live cell with more than three live neighbours dies, as if by overpopulation.\n",
        "4. Any dead cell with exactly three live neighbours becomes a live cell, as if by reproduction.\n",
        "\n"
      ]
    },
    {
      "cell_type": "markdown",
      "metadata": {
        "id": "AiCdlsPzqVpe",
        "colab_type": "text"
      },
      "source": [
        "## Game of life simulation\n",
        "Make your hand dirty to get used to it!\n",
        "\n",
        "https://bitstorm.org/gameoflife/\n",
        "<iframe src=\"https://bitstorm.org/gameoflife/\"></iframe>"
      ]
    },
    {
      "cell_type": "code",
      "metadata": {
        "id": "aJ6FPHu4XX1Y",
        "colab_type": "code",
        "colab": {}
      },
      "source": [
        "from IPython.display import IFrame, YouTubeVideo"
      ],
      "execution_count": 0,
      "outputs": []
    },
    {
      "cell_type": "code",
      "metadata": {
        "id": "CHXZ1-4UvA0Q",
        "colab_type": "code",
        "outputId": "73524e20-09ea-49bd-c46a-823133e57bf0",
        "colab": {
          "base_uri": "https://localhost:8080/"
        }
      },
      "source": [
        "%%html\n",
        "<iframe src=\"https://bitstorm.org/gameoflife/\" width=\"1200\" height=\"1000\"></iframe>"
      ],
      "execution_count": 0,
      "outputs": [
        {
          "output_type": "display_data",
          "data": {
            "text/html": [
              "<iframe src=\"https://bitstorm.org/gameoflife/\" width=\"1200\" height=\"1000\"></iframe>"
            ],
            "text/plain": [
              "<IPython.core.display.HTML object>"
            ]
          },
          "metadata": {
            "tags": []
          }
        }
      ]
    },
    {
      "cell_type": "markdown",
      "metadata": {
        "id": "Ma7IahiWwZ0O",
        "colab_type": "text"
      },
      "source": [
        "## Genetic Algorithm\n",
        "\n",
        "You don't genetic Algorithm? OMG not awesome! Study this! Be awesome!"
      ]
    },
    {
      "cell_type": "markdown",
      "metadata": {
        "id": "TzOsLjoQvs0w",
        "colab_type": "text"
      },
      "source": [
        "### What is Genetic algorithm?"
      ]
    },
    {
      "cell_type": "code",
      "metadata": {
        "id": "X47uWh4Z2_Lf",
        "colab_type": "code",
        "colab": {}
      },
      "source": [
        "# 9.1 - Genetic Algorithm: Introduction - The Nature of Code\n",
        "YouTubeVideo('9zfeTw-uFCw', width=1280, height=720)"
      ],
      "execution_count": 0,
      "outputs": []
    },
    {
      "cell_type": "code",
      "metadata": {
        "id": "1HVPMcQsvtRD",
        "colab_type": "code",
        "colab": {}
      },
      "source": [
        "# 9.2 - Genetic Algorithm: How it works - The Nature of Code\n",
        "YouTubeVideo('RxTfc4JLYKs', width=1280, height=720)"
      ],
      "execution_count": 0,
      "outputs": []
    },
    {
      "cell_type": "markdown",
      "metadata": {
        "id": "nNLNyRgA0Ess",
        "colab_type": "text"
      },
      "source": [
        "### Code Practice for Genetic Algorithm\n",
        "\n",
        "Code is based on the upon youtube"
      ]
    },
    {
      "cell_type": "code",
      "metadata": {
        "id": "KKUHeznjuxAu",
        "colab_type": "code",
        "outputId": "bb17f27d-e5fc-49a4-ebb9-df7e3bd2b172",
        "colab": {
          "base_uri": "https://localhost:8080/",
          "height": 761
        }
      },
      "source": [
        "YouTubeVideo('uCXm6avugCo', width=1280, height=720)"
      ],
      "execution_count": 0,
      "outputs": [
        {
          "output_type": "execute_result",
          "data": {
            "text/html": [
              "\n",
              "        <iframe\n",
              "            width=\"1280\"\n",
              "            height=\"720\"\n",
              "            src=\"https://www.youtube.com/embed/uCXm6avugCo\"\n",
              "            frameborder=\"0\"\n",
              "            allowfullscreen\n",
              "        ></iframe>\n",
              "        "
            ],
            "text/plain": [
              "<IPython.lib.display.YouTubeVideo at 0x7f54803500f0>"
            ],
            "image/jpeg": "[encoded data removed]"
          },
          "metadata": {
            "tags": []
          },
          "execution_count": 31
        }
      ]
    },
    {
      "cell_type": "code",
      "metadata": {
        "id": "FmZoSrI3wE5l",
        "colab_type": "code",
        "colab": {}
      },
      "source": [
        "import pandas as pd\n",
        "import numpy as np\n",
        "import random\n",
        "import copy\n",
        "import matplotlib.pyplot as plt\n",
        "import seaborn as sns\n",
        "import os"
      ],
      "execution_count": 0,
      "outputs": []
    },
    {
      "cell_type": "code",
      "metadata": {
        "id": "Kwq2GKFn1hKL",
        "colab_type": "code",
        "colab": {}
      },
      "source": [
        "def initialize_map(p_zero, N):\n",
        "    \"\"\"\n",
        "    first thing is to create the map that you're trying to navigate.  I will do this randomly.\n",
        "    This will be of the form of a adjacency matrix...\n",
        "    In other words, an NxN matrix where each row and column correspond to an intersection on a map\n",
        "    X_ij, then is equal to the amount of time that it takes to get from position i to position j\n",
        "    could also be considered a distance measure... but whatever is easier to think about.\n",
        "    practically, then we need a matrix that has numeric values in it... \n",
        "    there should be some paths that don't exist.  I will assign these a 0.  \n",
        "    For instance, if you can't get directly from i to j, then X_ij = 0\n",
        "    \n",
        "    The initialization needs some tuning parameters.  One is the proportion of 0's in the final result\n",
        "    \"\"\"\n",
        "    the_map = np.zeros((N,N))\n",
        "    for i in range(0, N):\n",
        "        for j in range(0, i):\n",
        "            if random.random() > p_zero:\n",
        "                the_map[i][j] = random.random()\n",
        "                the_map[j][i] = the_map[i][j]\n",
        "    return the_map"
      ],
      "execution_count": 0,
      "outputs": []
    },
    {
      "cell_type": "code",
      "metadata": {
        "id": "IAar4HL22hKd",
        "colab_type": "code",
        "colab": {}
      },
      "source": [
        "# Let's make a more complicated map that has at least 10 stops that have to be made and see what happens.\n",
        "def initialize_complex_map(p_zero, N, groups):\n",
        "    the_map = np.zeros((N,N))\n",
        "    for i in range(0, N):\n",
        "        for j in range(0, i):\n",
        "            group_i = int(i/(N/groups))\n",
        "            group_j = int(j/(N/groups))\n",
        "            if random.random() > p_zero and abs(group_i - group_j) <= 1:\n",
        "                the_map[i][j] = random.random()\n",
        "                the_map[j][i] = the_map[i][j]\n",
        "    ax = sns.heatmap(the_map)\n",
        "    plt.show()\n",
        "    return the_map"
      ],
      "execution_count": 0,
      "outputs": []
    },
    {
      "cell_type": "code",
      "metadata": {
        "id": "UPPlCDvv1hfF",
        "colab_type": "code",
        "colab": {}
      },
      "source": [
        "#this just creates a population of different routes of a fixed size. Pretty straightforward.\n",
        "def create_starting_population(size, the_map):\n",
        "    population = []\n",
        "    for i in range(0,size):\n",
        "        population.append(create_new_member(the_map))\n",
        "    return population"
      ],
      "execution_count": 0,
      "outputs": []
    },
    {
      "cell_type": "code",
      "metadata": {
        "id": "Ax4n44t81hYz",
        "colab_type": "code",
        "colab": {}
      },
      "source": [
        "def fitness(route, the_map):\n",
        "    score = 0\n",
        "    for i in range(1, len(route)):\n",
        "        if (the_map[route[i-1]][route[i]] == 0) and i != len(the_map)-1:\n",
        "            print(\"WARNING: INVALID ROUTE\")\n",
        "            print(route)\n",
        "            print(the_map)\n",
        "        score = score + the_map[route[i-1]][route[i]]\n",
        "    return score"
      ],
      "execution_count": 0,
      "outputs": []
    },
    {
      "cell_type": "code",
      "metadata": {
        "id": "zo9DaZM31hRv",
        "colab_type": "code",
        "colab": {}
      },
      "source": [
        "def crossover(a, b):\n",
        "    \"\"\"\n",
        "    I initially made an error here by allowing routes to crossover at any point, which obviously won't work\n",
        "    you have to insure that when the two routes cross over that the resulting routes produce a valid route\n",
        "    which means that crossover points have to be at the same position value on the map\n",
        "    \"\"\"\n",
        "    common_elements = set(a) & set(b)\n",
        "    if len(common_elements) == 2:\n",
        "        return (a, b)\n",
        "    else:\n",
        "        common_elements.remove(0)\n",
        "        common_elements.remove(max(a)) \n",
        "        value = random.sample(common_elements, 1)        \n",
        "\n",
        "    cut_a = np.random.choice(np.where(np.isin(a, value))[0])\n",
        "    cut_b = np.random.choice(np.where(np.isin(b, value))[0])\n",
        "    \n",
        "    new_a1 = copy.deepcopy(a[0:cut_a])\n",
        "    new_a2 = copy.deepcopy(b[cut_b:])\n",
        "    \n",
        "    new_b1 = copy.deepcopy(b[0:cut_b])\n",
        "    new_b2 = copy.deepcopy(a[cut_a:])\n",
        "    \n",
        "    new_a = np.append(new_a1, new_a2)\n",
        "    new_b = np.append(new_b1, new_b2)\n",
        "       \n",
        "    return (new_a, new_b)"
      ],
      "execution_count": 0,
      "outputs": []
    },
    {
      "cell_type": "code",
      "metadata": {
        "id": "ffZvys2f1g-y",
        "colab_type": "code",
        "colab": {}
      },
      "source": [
        "def mutate(route, probability, the_map):\n",
        "    new_route = copy.deepcopy(route)\n",
        "    for i in range(1, len(new_route)):\n",
        "        if random.random() < probability:\n",
        "            go = True\n",
        "            while go:\n",
        "                possible_values = np.nonzero(the_map[new_route[i-1]])\n",
        "                proposed_value = random.randint(0,len(possible_values[0])-1)\n",
        "                route = np.append(new_route, possible_values[0][proposed_value])\n",
        "\n",
        "                if new_route[i] == len(the_map)-1:\n",
        "                    go = False\n",
        "                else:\n",
        "                    i += 1\n",
        "    return new_route"
      ],
      "execution_count": 0,
      "outputs": []
    },
    {
      "cell_type": "code",
      "metadata": {
        "id": "KerNWeBq9l84",
        "colab_type": "code",
        "colab": {}
      },
      "source": [
        "def create_new_member(the_map):\n",
        "    \"\"\"\n",
        "    here we are going to create a new route\n",
        "    the new route can have any number of steps, so we'll select that randomly\n",
        "    the structure of the route will be a vector of integers where each value is the next step in the route\n",
        "    Everyone starts at 0, so the first value in the vector will indicate where to attempt to go next.\n",
        "    That is, if v_i = 4, then that would correspond to X_0,4 in the map that was created at initialization\n",
        "    \n",
        "    N is the size of the map, so we need to make sure that \n",
        "    we don't generate any values that exceed the size of the map\n",
        "    \"\"\"\n",
        "    N = len(the_map)\n",
        "    route = np.zeros(1, dtype=int)\n",
        "    go = True\n",
        "    i = 1\n",
        "    while go:    \n",
        "        possible_values = np.nonzero(the_map[route[i-1]])\n",
        "        proposed_value = random.randint(0,len(possible_values[0])-1)\n",
        "        route = np.append(route, possible_values[0][proposed_value])\n",
        "                \n",
        "        if route[i] == N-1:\n",
        "            go = False\n",
        "        else:\n",
        "            i += 1\n",
        "    return route"
      ],
      "execution_count": 0,
      "outputs": []
    },
    {
      "cell_type": "code",
      "metadata": {
        "id": "RKEM_Zqi90kX",
        "colab_type": "code",
        "colab": {}
      },
      "source": [
        "def score_population(population, the_map):\n",
        "    scores = []\n",
        "    for i in range(0, len(population)):\n",
        "        scores += [fitness(population[i], the_map)]    \n",
        "    return scores"
      ],
      "execution_count": 0,
      "outputs": []
    },
    {
      "cell_type": "code",
      "metadata": {
        "id": "bY381ijZ94lB",
        "colab_type": "code",
        "colab": {}
      },
      "source": [
        "def pick_mate(scores):\n",
        "    array = np.array(scores)\n",
        "    temp = array.argsort()\n",
        "    ranks = np.empty_like(temp)\n",
        "    ranks[temp] = np.arange(len(array))\n",
        "    fitness = [len(ranks) - x for x in ranks]\n",
        "    \n",
        "    cum_scores = copy.deepcopy(fitness)\n",
        "    for i in range(1,len(cum_scores)):\n",
        "        cum_scores[i] = fitness[i] + cum_scores[i-1]\n",
        "        \n",
        "    probs = [x / cum_scores[-1] for x in cum_scores]\n",
        "    rand = random.random()\n",
        "    for i in range(0, len(probs)):\n",
        "        if rand < probs[i]:\n",
        "            return i"
      ],
      "execution_count": 0,
      "outputs": []
    },
    {
      "cell_type": "code",
      "metadata": {
        "id": "rVmCgatQ-vPI",
        "colab_type": "code",
        "colab": {}
      },
      "source": [
        "def plot_best(the_map, route, iteration_number):\n",
        "    ax = sns.heatmap(the_map)\n",
        "\n",
        "    x=[0.5] + [x + 0.5 for x in route[0:len(route)-1]] + [len(the_map) - 0.5]\n",
        "    y=[0.5] + [x + 0.5 for x in route[1:len(route)]] + [len(the_map) - 0.5]\n",
        "    \n",
        "    plt.plot(x, y, marker = 'o', linewidth=4, markersize=12, linestyle = \"-\", color='white')\n",
        "    # Create a image folder if there nothing\n",
        "    if (os.path.isdir(\"/genetic_images\") == False):\n",
        "        os.mkdir(\"/genetic_images\")\n",
        "    plt.savefig('/genetic_images/new1000plot_%i.png' %(iteration_number), dpi=300)\n",
        "    plt.show()"
      ],
      "execution_count": 0,
      "outputs": []
    },
    {
      "cell_type": "code",
      "metadata": {
        "id": "7ZttxIoJ-nE-",
        "colab_type": "code",
        "colab": {}
      },
      "source": [
        "def main():\n",
        "    # parameters\n",
        "    sparseness_of_map = 0.95\n",
        "    size_of_map = 100\n",
        "    population_size = 30\n",
        "    number_of_iterations = 2000\n",
        "    number_of_couples = 9\n",
        "    number_of_winners_to_keep = 2\n",
        "    mutation_probability = 0.05\n",
        "    number_of_groups = 1\n",
        "    \n",
        "    # initialize the map and save it\n",
        "    the_map = initialize_complex_map(sparseness_of_map, size_of_map, number_of_groups)\n",
        "\n",
        "    # create the starting population\n",
        "    population = create_starting_population(population_size, the_map)\n",
        "\n",
        "    last_distance = 1000000000\n",
        "    # for a large number of iterations do:\n",
        "        \n",
        "    for i in range(0,number_of_iterations):\n",
        "        new_population = []\n",
        "        \n",
        "        # evaluate the fitness of the current population\n",
        "        scores = score_population(population, the_map)\n",
        "\n",
        "        best = population[np.argmin(scores)]\n",
        "        number_of_moves = len(best)\n",
        "        distance = fitness(best, the_map)\n",
        "        \n",
        "        if distance != last_distance:\n",
        "            print('Iteration %i: Best so far is %i steps for a distance of %f' % (i, number_of_moves, distance))\n",
        "            plot_best(the_map, best, i)\n",
        "\n",
        "        \n",
        "        # allow members of the population to breed based on their relative score; \n",
        "            # i.e., if their score is higher they're more likely to breed\n",
        "        for j in range(0, number_of_couples):  \n",
        "            new_1, new_2 = crossover(population[pick_mate(scores)], population[pick_mate(scores)])\n",
        "            new_population = new_population + [new_1, new_2]\n",
        "  \n",
        "        # mutate\n",
        "        for j in range(0, len(new_population)):\n",
        "            new_population[j] = np.copy(mutate(new_population[j], 0.05, the_map))\n",
        "            \n",
        "        # keep members of previous generation\n",
        "        new_population += [population[np.argmin(scores)]]\n",
        "        for j in range(1, number_of_winners_to_keep):\n",
        "            keeper = pick_mate(scores)            \n",
        "            new_population += [population[keeper]]\n",
        "            \n",
        "        # add new random members\n",
        "        while len(new_population) < population_size:\n",
        "            new_population += [create_new_member(the_map)]\n",
        "            \n",
        "        #replace the old population with a real copy\n",
        "        population = copy.deepcopy(new_population)\n",
        "                \n",
        "        last_distance = distance\n",
        "        \n",
        "    # plot the results"
      ],
      "execution_count": 0,
      "outputs": []
    },
    {
      "cell_type": "code",
      "metadata": {
        "id": "_me58py1-3Ux",
        "colab_type": "code",
        "outputId": "fe15040b-00f1-4336-fe27-df04a4f3548d",
        "colab": {
          "base_uri": "https://localhost:8080/",
          "height": 808
        }
      },
      "source": [
        "main()"
      ],
      "execution_count": 0,
      "outputs": [
        {
          "output_type": "display_data",
          "data": {
            "image/png": "[encoded data removed]",
            "text/plain": [
              "<Figure size 432x288 with 2 Axes>"
            ]
          },
          "metadata": {
            "tags": []
          }
        },
        {
          "output_type": "stream",
          "text": [
            "Iteration 0: Best so far is 7 steps for a distance of 3.748715\n"
          ],
          "name": "stdout"
        },
        {
          "output_type": "display_data",
          "data": {
            "image/png": "[encoded data removed]",
            "text/plain": [
              "<Figure size 432x288 with 2 Axes>"
            ]
          },
          "metadata": {
            "tags": []
          }
        },
        {
          "output_type": "error",
          "ename": "ValueError",
          "evalue": "ignored",
          "traceback": [
            "\u001b[0;31m---------------------------------------------------------------------------\u001b[0m",
            "\u001b[0;31mValueError\u001b[0m                                Traceback (most recent call last)",
            "\u001b[0;32m<ipython-input-87-263240bbee7e>\u001b[0m in \u001b[0;36m<module>\u001b[0;34m()\u001b[0m\n\u001b[0;32m----> 1\u001b[0;31m \u001b[0mmain\u001b[0m\u001b[0;34m(\u001b[0m\u001b[0;34m)\u001b[0m\u001b[0;34m\u001b[0m\u001b[0;34m\u001b[0m\u001b[0m\n\u001b[0m",
            "\u001b[0;32m<ipython-input-86-55827ad36c27>\u001b[0m in \u001b[0;36mmain\u001b[0;34m()\u001b[0m\n\u001b[1;32m     37\u001b[0m             \u001b[0;31m# i.e., if their score is higher they're more likely to breed\u001b[0m\u001b[0;34m\u001b[0m\u001b[0;34m\u001b[0m\u001b[0;34m\u001b[0m\u001b[0m\n\u001b[1;32m     38\u001b[0m         \u001b[0;32mfor\u001b[0m \u001b[0mj\u001b[0m \u001b[0;32min\u001b[0m \u001b[0mrange\u001b[0m\u001b[0;34m(\u001b[0m\u001b[0;36m0\u001b[0m\u001b[0;34m,\u001b[0m \u001b[0mnumber_of_couples\u001b[0m\u001b[0;34m)\u001b[0m\u001b[0;34m:\u001b[0m\u001b[0;34m\u001b[0m\u001b[0;34m\u001b[0m\u001b[0m\n\u001b[0;32m---> 39\u001b[0;31m             \u001b[0mnew_1\u001b[0m\u001b[0;34m,\u001b[0m \u001b[0mnew_2\u001b[0m \u001b[0;34m=\u001b[0m \u001b[0mcrossover\u001b[0m\u001b[0;34m(\u001b[0m\u001b[0mpopulation\u001b[0m\u001b[0;34m[\u001b[0m\u001b[0mpick_mate\u001b[0m\u001b[0;34m(\u001b[0m\u001b[0mscores\u001b[0m\u001b[0;34m)\u001b[0m\u001b[0;34m]\u001b[0m\u001b[0;34m,\u001b[0m \u001b[0mpopulation\u001b[0m\u001b[0;34m[\u001b[0m\u001b[0mpick_mate\u001b[0m\u001b[0;34m(\u001b[0m\u001b[0mscores\u001b[0m\u001b[0;34m)\u001b[0m\u001b[0;34m]\u001b[0m\u001b[0;34m)\u001b[0m\u001b[0;34m\u001b[0m\u001b[0;34m\u001b[0m\u001b[0m\n\u001b[0m\u001b[1;32m     40\u001b[0m             \u001b[0mnew_population\u001b[0m \u001b[0;34m=\u001b[0m \u001b[0mnew_population\u001b[0m \u001b[0;34m+\u001b[0m \u001b[0;34m[\u001b[0m\u001b[0mnew_1\u001b[0m\u001b[0;34m,\u001b[0m \u001b[0mnew_2\u001b[0m\u001b[0;34m]\u001b[0m\u001b[0;34m\u001b[0m\u001b[0;34m\u001b[0m\u001b[0m\n\u001b[1;32m     41\u001b[0m \u001b[0;34m\u001b[0m\u001b[0m\n",
            "\u001b[0;31mValueError\u001b[0m: too many values to unpack (expected 2)"
          ]
        }
      ]
    },
    {
      "cell_type": "markdown",
      "metadata": {
        "id": "VmmVGeMS3GBI",
        "colab_type": "text"
      },
      "source": [
        "## Genetic machine learning\n",
        "1. Setting environment\n",
        "2. Utilize tools\n",
        "3. Dataset\n",
        "4. Conway game\n",
        "5. Create model\n",
        "6. Train model with Genetic Algorithm\n",
        "7. Testing field"
      ]
    },
    {
      "cell_type": "markdown",
      "metadata": {
        "id": "QGFg89ryyv2v",
        "colab_type": "text"
      },
      "source": [
        "#### Setting environment\n",
        "1. package install\n",
        "2. package import\n",
        "3. google drive mount\n",
        "4. path configuration"
      ]
    },
    {
      "cell_type": "code",
      "metadata": {
        "id": "UP6tEQLuDihc",
        "colab_type": "code",
        "colab": {}
      },
      "source": [
        "!pip install pycuda"
      ],
      "execution_count": 0,
      "outputs": []
    },
    {
      "cell_type": "code",
      "metadata": {
        "id": "YlehdU8RVGPb",
        "colab_type": "code",
        "colab": {}
      },
      "source": [
        "# pycuda - GPU\n",
        "import pycuda.driver as cuda"
      ],
      "execution_count": 0,
      "outputs": []
    },
    {
      "cell_type": "code",
      "metadata": {
        "id": "gAIxhWGayW-x",
        "colab_type": "code",
        "colab": {}
      },
      "source": [
        "# package import\n",
        "import matplotlib.pyplot as plt\n",
        "import seaborn as sns\n",
        "%matplotlib inline\n",
        "\n",
        "from copy import deepcopy\n",
        "import os\n",
        "import sys\n",
        "import math\n",
        "import random\n",
        "import pandas as pd\n",
        "import numpy as np\n",
        "\n",
        "from tqdm import tqdm_notebook as tqdm"
      ],
      "execution_count": 0,
      "outputs": []
    },
    {
      "cell_type": "code",
      "metadata": {
        "id": "HZcPygo6zN0Z",
        "colab_type": "code",
        "colab": {
          "base_uri": "https://localhost:8080/",
          "height": 0
        },
        "outputId": "566cc2d6-1577-4066-c25d-2fa63dd8abc6"
      },
      "source": [
        "# google drive mount\n",
        "from google.colab import drive\n",
        "drive.mount('/content/drive')"
      ],
      "execution_count": 62,
      "outputs": [
        {
          "output_type": "stream",
          "text": [
            "Drive already mounted at /content/drive; to attempt to forcibly remount, call drive.mount(\"/content/drive\", force_remount=True).\n"
          ],
          "name": "stdout"
        }
      ]
    },
    {
      "cell_type": "code",
      "metadata": {
        "id": "OVfud4GDzR8D",
        "colab_type": "code",
        "colab": {}
      },
      "source": [
        "# path configuration\n",
        "# TODO : Choose the path\n",
        "model_path = '/content/drive/My Drive/42/reverse game of life/save'\n",
        "weight_path = '/content/drive/My Drive/42/reverse game of life/save'"
      ],
      "execution_count": 0,
      "outputs": []
    },
    {
      "cell_type": "markdown",
      "metadata": {
        "id": "EXfNIPbNqM-b",
        "colab_type": "text"
      },
      "source": [
        "### Utilize tools\n",
        "\n",
        "- `visualize board` - visualize the conway board using seaborn heatmap\n",
        "- `check valid game` - Check the conway game model works exactly same as original conway game"
      ]
    },
    {
      "cell_type": "code",
      "metadata": {
        "id": "ed7Cy7ovSabe",
        "colab_type": "code",
        "colab": {}
      },
      "source": [
        "def visualize_board(board):\n",
        "    plt.figure(figsize=(7, 7))\n",
        "    sns.heatmap(board,\n",
        "                square=True,\n",
        "                linewidths=0.1,\n",
        "                linecolor='gray',)\n",
        "                # xticklabels=False,\n",
        "                # yticklabels=False)"
      ],
      "execution_count": 0,
      "outputs": []
    },
    {
      "cell_type": "code",
      "metadata": {
        "id": "PpPHx9TkihHh",
        "colab_type": "code",
        "colab": {}
      },
      "source": [
        "def check_valid_game(dataset, conway_game):\n",
        "    total_len = len(dataset)\n",
        "    correct = 0\n",
        "    for i in tqdm(range(1, total_len + 1)):\n",
        "        result = conway_game(dataset[i][\"start\"], dataset[i][\"step\"])\n",
        "        if (result == dataset[i][\"end\"]).all():\n",
        "            correct += 1\n",
        "        sys.stdout.write(\"\\rChecking the game is valid... {} / {}\".format(correct, total_len))\n",
        "        sys.stdout.flush()"
      ],
      "execution_count": 0,
      "outputs": []
    },
    {
      "cell_type": "markdown",
      "metadata": {
        "id": "CrXPD1qlxNmr",
        "colab_type": "text"
      },
      "source": [
        "### Dataset\n",
        "\n",
        "Load the dataset from github and preprocess it to build a dataset to use in machine learning\n",
        "\n",
        "    - train             [id / step / start board / end board]\n",
        "    - test              [id / end board]\n",
        "    - sample submission [id / start board] "
      ]
    },
    {
      "cell_type": "code",
      "metadata": {
        "id": "7khgvm5ayDEh",
        "colab_type": "code",
        "colab": {}
      },
      "source": [
        "# Import dataset from github\n",
        "train_pd = pd.read_csv(\"https://raw.githubusercontent.com/rquerino/Reverse-Game-of-Life/master/resources/train.csv\")\n",
        "test_pd = pd.read_csv(\"https://raw.githubusercontent.com/rquerino/Reverse-Game-of-Life/master/resources/test.csv\")\n",
        "sample_submission_pd = pd.read_csv(\"https://raw.githubusercontent.com/rquerino/Reverse-Game-of-Life/master/resources/sampleSubmission.csv\")"
      ],
      "execution_count": 0,
      "outputs": []
    },
    {
      "cell_type": "code",
      "metadata": {
        "id": "_mEXYX0SNeYY",
        "colab_type": "code",
        "colab": {}
      },
      "source": [
        "def preprocess_dataset(pandas_dataset, type=\"train\"):\n",
        "    dataset = {}\n",
        "    if (type == \"train\"):\n",
        "        for data in tqdm(pandas_dataset.values):\n",
        "            dataset[data[0]] = {\"step\": data[1],\n",
        "                                \"start\": data[2:402].reshape(20, 20),\n",
        "                                \"end\": data[402:802].reshape(20, 20)}\n",
        "    elif (type == \"test\"):\n",
        "        for data in tqdm(pandas_dataset.values):\n",
        "            dataset[data[0]] = {\"step\": data[1],\n",
        "                                \"end\": data[2:402].reshape(20, 20)}\n",
        "    return dataset"
      ],
      "execution_count": 0,
      "outputs": []
    },
    {
      "cell_type": "code",
      "metadata": {
        "id": "kAMMOiExPfom",
        "colab_type": "code",
        "outputId": "99c65590-d6c5-43a2-a867-beb20db7705c",
        "colab": {
          "base_uri": "https://localhost:8080/",
          "height": 0,
          "referenced_widgets": [
            "a461dd4baf8a441d901a289a7a9c44ab",
            "0253d6bd2bc24c528a061c43065ff189",
            "bbb2262ca1924630bff8e214c8b7333f",
            "8ff29d1bd006452db582494a8bd57c78",
            "9fdcc787055a44ff81499df39ab9762a",
            "a54d11bf2b5e4b1a86463ac87c5bbe63",
            "582af495b86a4c6f966344fdef1c9075",
            "77b315c6dd4c4050831eb19207cfa794",
            "3bc26f7a966644499065e2597e4a8ca5",
            "b380ad78daaa4b008932a7c650c25f0f",
            "5b93a25c447c442586b8ee84944bd61b",
            "07af8ea74ee647eb8992eb6d3369fcd0",
            "b43f5e05b6184161afd48abdf65b1f98",
            "8948b4e5c4c04990abfac8ffa0957fc3",
            "cf93ed8d429448f5a679e4a3c0680dc2",
            "ace374ec883b412c8ffcb8ccbddd04a7"
          ]
        }
      },
      "source": [
        "print(\"Building train set\")\n",
        "train_set = preprocess_dataset(train_pd)\n",
        "print(\"Building test set\")\n",
        "test_set = preprocess_dataset(test_pd, type=\"test\")"
      ],
      "execution_count": 9,
      "outputs": [
        {
          "output_type": "stream",
          "text": [
            "Building train set\n"
          ],
          "name": "stdout"
        },
        {
          "output_type": "display_data",
          "data": {
            "application/vnd.jupyter.widget-view+json": {
              "model_id": "a461dd4baf8a441d901a289a7a9c44ab",
              "version_minor": 0,
              "version_major": 2
            },
            "text/plain": [
              "HBox(children=(IntProgress(value=0, max=50000), HTML(value='')))"
            ]
          },
          "metadata": {
            "tags": []
          }
        },
        {
          "output_type": "stream",
          "text": [
            "\n",
            "Building test set\n"
          ],
          "name": "stdout"
        },
        {
          "output_type": "display_data",
          "data": {
            "application/vnd.jupyter.widget-view+json": {
              "model_id": "3bc26f7a966644499065e2597e4a8ca5",
              "version_minor": 0,
              "version_major": 2
            },
            "text/plain": [
              "HBox(children=(IntProgress(value=0, max=50000), HTML(value='')))"
            ]
          },
          "metadata": {
            "tags": []
          }
        },
        {
          "output_type": "stream",
          "text": [
            "\n"
          ],
          "name": "stdout"
        }
      ]
    },
    {
      "cell_type": "markdown",
      "metadata": {
        "id": "UKuQRxJm7pEl",
        "colab_type": "text"
      },
      "source": [
        "### Conway game\n",
        "\n",
        "Implementing conway game. This wont be used in case of building a neural network model. But will be used when we are directly finding the answer\n",
        "\n",
        "![cellular automata](https://upload.wikimedia.org/wikipedia/commons/e/e5/Gospers_glider_gun.gif)\n"
      ]
    },
    {
      "cell_type": "code",
      "metadata": {
        "id": "I-HD-Ins7m9m",
        "colab_type": "code",
        "colab": {}
      },
      "source": [
        "class ConwayGameOfLife(object):\n",
        "    \"\"\"Implementation of Conway Game of Life\"\"\"\n",
        "    def __init__(self, board_size):\n",
        "        \"\"\"\n",
        "        Prepare neccesary values\n",
        "\n",
        "        :param Tuple board_size: (h, w) board height and width\n",
        "        :param list neighbor_coord: [(-1, -1), (-1, 0), (-1, 1), (0, -1), (0, 1), (1, -1), (1, 0), (1, 1)]\n",
        "        :param int width: width\n",
        "        :param int height: height\n",
        "        \"\"\"\n",
        "        self.neighbor_coord = [(i, j) for i in range(-1, 2) for j in range(-1, 2) if i != 0 or j != 0]\n",
        "        self.height = board_size[0]\n",
        "        self.width = board_size[1]\n",
        "\n",
        "    def __call__(self, board, step):\n",
        "        return self._process_game(board, step)\n",
        "\n",
        "    def _neighbor_count(self, board, h, w):\n",
        "        total = 0\n",
        "        for n_h, n_w in self.neighbor_coord:\n",
        "            if (0 <= h + n_h < self.height\n",
        "                and 0 <= w + n_w < self.width\n",
        "                and board[h + n_h][w + n_w]):\n",
        "                    total += 1\n",
        "        return total\n",
        "    \n",
        "    def _evolve(self, board):\n",
        "        new_board = deepcopy(board)\n",
        "        for h in range(self.height):\n",
        "            for w in range(self.width):\n",
        "                live_num = self._neighbor_count(board, h, w)\n",
        "                if board[h][w] and not (live_num == 2 or live_num ==3):\n",
        "                    new_board[h][w] = 0\n",
        "                elif board[h][w] == 0 and live_num == 3:\n",
        "                    new_board[h][w] = 1\n",
        "        return new_board\n",
        "\n",
        "    def _process_game(self, board, step):\n",
        "        for _ in range(step):\n",
        "            board = self._evolve(board)\n",
        "        return board\n"
      ],
      "execution_count": 0,
      "outputs": []
    },
    {
      "cell_type": "code",
      "metadata": {
        "id": "BRSQPy2xAX_4",
        "colab_type": "code",
        "colab": {}
      },
      "source": [
        "# Create the game\n",
        "game = ConwayGameOfLife((20, 20))"
      ],
      "execution_count": 0,
      "outputs": []
    },
    {
      "cell_type": "code",
      "metadata": {
        "id": "WADeXHN7j2jT",
        "colab_type": "code",
        "outputId": "54e4ef53-cab6-4951-f835-afb3e91d53b2",
        "colab": {
          "base_uri": "https://localhost:8080/",
          "referenced_widgets": [
            "4ae5bfba84774f00a38d05f9927edd85",
            "0fb58810f8134fb78b69711e1ba3bd34",
            "96a1bbfb8082430cbc794c0b0d001354",
            "56189ab0786a4732be2fdca09ee44db2",
            "21d630a2d49b459686373d9c47edea46",
            "7c463b142f744f05a43760f0c05417e7",
            "8d5521fdef72415fbc5e1db210604893",
            "58f3e932a49f470cb7bcf9147c6a44ad"
          ]
        }
      },
      "source": [
        "# Check the game is valid compared to the original\n",
        "check_valid_game(train_set, game)"
      ],
      "execution_count": 0,
      "outputs": [
        {
          "output_type": "display_data",
          "data": {
            "application/vnd.jupyter.widget-view+json": {
              "model_id": "4ae5bfba84774f00a38d05f9927edd85",
              "version_minor": 0,
              "version_major": 2
            },
            "text/plain": [
              "HBox(children=(IntProgress(value=0, max=50000), HTML(value='')))"
            ]
          },
          "metadata": {
            "tags": []
          }
        },
        {
          "output_type": "stream",
          "text": [
            "Checking the game is valid... 50000 / 50000\n"
          ],
          "name": "stdout"
        }
      ]
    },
    {
      "cell_type": "code",
      "metadata": {
        "id": "vqerp1EiQzVM",
        "colab_type": "code",
        "outputId": "b2593cf3-5d4e-4a49-b5f9-27610dc7bf9e",
        "colab": {
          "base_uri": "https://localhost:8080/"
        }
      },
      "source": [
        "# Check the created game's output and original conway game's output\n",
        "result = game(train_set[5][\"start\"], train_set[5][\"step\"])\n",
        "visualize_board(result)\n",
        "visualize_board(train_set[5][\"end\"])"
      ],
      "execution_count": 0,
      "outputs": [
        {
          "output_type": "display_data",
          "data": {
            "image/png": "[encoded data removed]",
            "text/plain": [
              "<Figure size 504x504 with 2 Axes>"
            ]
          },
          "metadata": {
            "tags": []
          }
        },
        {
          "output_type": "display_data",
          "data": {
            "image/png": "[encoded data removed]",
            "text/plain": [
              "<Figure size 504x504 with 2 Axes>"
            ]
          },
          "metadata": {
            "tags": []
          }
        }
      ]
    },
    {
      "cell_type": "markdown",
      "metadata": {
        "id": "2h6jiPJmoz4Z",
        "colab_type": "text"
      },
      "source": [
        "### Create a model\n",
        "\n",
        "end board -> model -> start board\n",
        "\n",
        "    model (hyperparmeter - layer_num, threshold)\n",
        "\n",
        "**1 step represents one back step**\n",
        "1. 1 evolve of conway game is 1 step\n",
        "2. 1 step is has `few number of layers` (20 x 20 matrix)\n",
        "3. 1 layer is consisted with (20 x 20) matrix and activation layer that will decide to make 0 or 1 depend on the threshold"
      ]
    },
    {
      "cell_type": "markdown",
      "metadata": {
        "id": "cUraz8bEXmGl",
        "colab_type": "text"
      },
      "source": [
        "#### Multi layer model\n",
        "\n",
        "1. class Layer\n",
        "2. class MultiLayers"
      ]
    },
    {
      "cell_type": "code",
      "metadata": {
        "id": "dz4g24enpLWU",
        "colab_type": "code",
        "colab": {}
      },
      "source": [
        "class Layer(object):\n",
        "    \"\"\"One layer\"\"\"\n",
        "    def __init__(self, layer_size):\n",
        "        \"\"\"\n",
        "        Prepare neccesary values\n",
        "\n",
        "        :param Tuple layer_size: (h, w) layer height and width \n",
        "        \"\"\"\n",
        "        self.layer_size = layer_size\n",
        "        self.weight = None\n",
        "        self.bias = None\n",
        "\n",
        "        # create the layer\n",
        "        self._create_layer()\n",
        "    \n",
        "    def __call__(self, x, activation=True):\n",
        "        return self._forward(x, activation)\n",
        "\n",
        "    def __str__(self):\n",
        "        return \"weight\\nshape : {}\\n{}\\n\\nbias\\nshape : {}\\n{}\\n\".format(self.weight.shape,\n",
        "                                                                         self.weight,\n",
        "                                                                         self.bias.shape,\n",
        "                                                                         self.bias)\n",
        "\n",
        "    def __repr__(self):\n",
        "        return \"Layer({})\".format(self.layer_size)\n",
        "    \n",
        "    def _create_layer(self):\n",
        "        self._weight_initialize()\n",
        "        self._bias_initialize()\n",
        "\n",
        "    def _weight_initialize(self):\n",
        "        self.weight = np.random.randn(self.layer_size[0],\n",
        "                                      self.layer_size[1])\n",
        "        mean = self.weight.mean()\n",
        "        var = 2 / (self.layer_size[0] + self.layer_size[1]) # Var(W_i) = 2 / (n_in + n_out)\n",
        "\n",
        "        # Z score\n",
        "        self.weight = ((self.weight - mean) / var)\n",
        "\n",
        "    def _bias_initialize(self):\n",
        "        self.bias = np.random.randn(self.layer_size[1])\n",
        "\n",
        "    def _activation(self, x):\n",
        "        # This is ReLU activation\n",
        "        x_shape = x.shape\n",
        "        x = x.reshape(-1)\n",
        "        x[np.where((x < 0).reshape(-1))] = 0\n",
        "        return x.reshape(x_shape)\n",
        "\n",
        "    def _forward(self, x, activation):\n",
        "        if activation:\n",
        "            return self._activation((x @ self.weight) + self.bias)\n",
        "        else:\n",
        "            return (x @ self.weight + self.bias)"
      ],
      "execution_count": 0,
      "outputs": []
    },
    {
      "cell_type": "code",
      "metadata": {
        "id": "JInFb-993CUa",
        "colab_type": "code",
        "colab": {}
      },
      "source": [
        "import pickle\n",
        "\n",
        "class MultiLayers(object):\n",
        "    \"\"\"Multi layers\"\"\"\n",
        "    def __init__(self, layer_num, threshold, layer_size_list=None):\n",
        "        \"\"\"\n",
        "        Prepare neccesary values\n",
        "\n",
        "        :param Tuple layer_size_list: [(h, w), ... , (h, w)]\n",
        "            -> list of layer size tuples height and width\n",
        "            -> if None fill the list to default value (20, 20)\n",
        "        \"\"\"\n",
        "        self.layer_num = layer_num\n",
        "        self._threshold = threshold\n",
        "        self.layer_size_list = layer_size_list\n",
        "        self.layer_list = []\n",
        "\n",
        "        # Initialize layers size\n",
        "        if (layer_size_list):\n",
        "            self.layer_size_list = layer_size_list\n",
        "        else:\n",
        "            self.layer_size_list = [(20, 20) for _ in range(self.layer_num)]\n",
        "\n",
        "        # Initialize layers\n",
        "        self._create_layers()\n",
        "\n",
        "    def __call__(self, x):\n",
        "        return self._forward(x)\n",
        "\n",
        "    def __str__(self):\n",
        "        status = \"\"\n",
        "        for i in range(1, self.layer_num + 1):\n",
        "            status += \"layer {}\\n\".format(i)\n",
        "            status += str(self.layer_list[i - 1])\n",
        "            status += \"\\n\"\n",
        "        return status\n",
        "    \n",
        "    def __repr__(self):\n",
        "        return \"MultiLayers({}, {}, {})\".format(self.layer_num,\n",
        "                                                self._threshold,\n",
        "                                                self.layer_size_list)\n",
        "        \n",
        "    def change_threshold(self, threshold):\n",
        "        print(\"Threshold changed from {} \".format(self._threshold), end=\"\")\n",
        "        self._threshold = threshold\n",
        "        print(\"to {}\".format(self._threshold))\n",
        "        \n",
        "\n",
        "    def _create_layers(self):\n",
        "        for layer_size in self.layer_size_list:\n",
        "            self.layer_list.append(Layer(layer_size))\n",
        "    \n",
        "    def _create_board(self, x):\n",
        "        x_shape = x.shape\n",
        "        x = x.reshape(-1)\n",
        "        x[np.where((x >= self._threshold).reshape(-1))] = 1\n",
        "        x[np.where((x < self._threshold).reshape(-1))] = 0\n",
        "        return x.reshape(x_shape)\n",
        "    \n",
        "    def _forward(self, x):\n",
        "        for i, layer in enumerate(self.layer_list):\n",
        "            if (i == (self.layer_num - 1)):\n",
        "                # Don't apply ReLU activation at the last layer\n",
        "                x = layer(x, activation=False)\n",
        "            else:\n",
        "                x = layer(x)\n",
        "        \n",
        "        # Apply threshold\n",
        "        return self._create_board(x)\n",
        "\n",
        "    def save_model(self, path):\n",
        "        model = [self.layer_num,\n",
        "                 self._threshold,\n",
        "                 self.layer_size_list]\n",
        "        with open(path, 'wb') as f:\n",
        "            pickle.dump(model, f)\n",
        "        print(\"Model saved to {} successfully!\".format(path))\n",
        "\n",
        "    def save_weights(self, path):\n",
        "        weights = []\n",
        "        for layer in self.layer_list:\n",
        "            weight = []\n",
        "            weight.append(layer.weight)\n",
        "            weight.append(layer.bias)\n",
        "            weights.append(weight)\n",
        "        with open(path, 'wb') as f:\n",
        "            pickle.dump(weights, f)\n",
        "        print(\"Weight saved to {} successfully!\".format(path))\n",
        "\n",
        "    def load_weights(self, path):\n",
        "        with open(path, 'rb') as f:\n",
        "            weights = pickle.load(f)\n",
        "        for layer, weight in zip(self.layer_list, weights):\n",
        "            layer.weight = weight[0] # weight\n",
        "            layer.bias = weight[1] # bias\n",
        "        print(\"Weight loaded from {} successfully!\".format(path))"
      ],
      "execution_count": 0,
      "outputs": []
    },
    {
      "cell_type": "markdown",
      "metadata": {
        "id": "vDxLggAtdS8A",
        "colab_type": "text"
      },
      "source": [
        "#### model save and load\n",
        "\n",
        "    Every model and weight data is saved by pickle\n",
        "\n",
        "**Model**\n",
        "1. save - MultiLayers.save_model(`path`)\n",
        "2. load - load_model(`path`)\n",
        "\n",
        "**Weight** - `bias is included`\n",
        "1. save - MultiLayers.save_weights(`path`)\n",
        "2. load - MultiLayers.load_weights(`path`)"
      ]
    },
    {
      "cell_type": "code",
      "metadata": {
        "id": "qKhWfOmBzcas",
        "colab_type": "code",
        "colab": {}
      },
      "source": [
        "def load_model(path):\n",
        "    with open(path, 'rb') as f:\n",
        "        model = pickle.load(f)\n",
        "    print(\"Model was loaded from {} successfully!\".format(path))\n",
        "    return MultiLayers(*model)"
      ],
      "execution_count": 0,
      "outputs": []
    },
    {
      "cell_type": "code",
      "metadata": {
        "id": "CbhREzt6dNcu",
        "colab_type": "code",
        "colab": {}
      },
      "source": [
        "# Choose the name of model and weight\n",
        "model_name = \"model.pkl\"\n",
        "weight_name = \"weight.pkl\"\n",
        "\n",
        "# Model save and load\n",
        "model.save_model(os.path.join(model_path, model_name))\n",
        "model = load_model(os.path.join(model_path, model_name))\n",
        "\n",
        "# Weight save and load\n",
        "model.save_weights(os.path.join(weight_path, weight_name))\n",
        "model.load_weights(os.path.join(weight_path, weight_name))"
      ],
      "execution_count": 0,
      "outputs": []
    },
    {
      "cell_type": "markdown",
      "metadata": {
        "id": "-HlPIx7y3BiL",
        "colab_type": "text"
      },
      "source": [
        "##### Testing Model load and save\n",
        "\n",
        "**Successfully passed!**"
      ]
    },
    {
      "cell_type": "code",
      "metadata": {
        "id": "Q0A1zQmFGlT2",
        "colab_type": "code",
        "colab": {}
      },
      "source": [
        "l = MultiLayers(2, 0.5)"
      ],
      "execution_count": 0,
      "outputs": []
    },
    {
      "cell_type": "code",
      "metadata": {
        "id": "2S8J8aF-294g",
        "colab_type": "code",
        "outputId": "7997fec8-de70-4345-e02d-bd7b2a04e735",
        "colab": {
          "base_uri": "https://localhost:8080/"
        }
      },
      "source": [
        "l"
      ],
      "execution_count": 0,
      "outputs": [
        {
          "output_type": "execute_result",
          "data": {
            "text/plain": [
              "MultiLayers(2, 0.5, [(20, 20), (20, 20)])"
            ]
          },
          "metadata": {
            "tags": []
          },
          "execution_count": 290
        }
      ]
    },
    {
      "cell_type": "code",
      "metadata": {
        "id": "n4CXHDZQ2eW8",
        "colab_type": "code",
        "outputId": "9de3638e-07af-401e-ba16-d14c6de2258a",
        "colab": {
          "base_uri": "https://localhost:8080/"
        }
      },
      "source": [
        "l.save_model(os.path.join(model_path, model_name))"
      ],
      "execution_count": 0,
      "outputs": [
        {
          "output_type": "stream",
          "text": [
            "Model saved to /content/drive/My Drive/42/reverse game of life/save/model.pkl successfully!\n"
          ],
          "name": "stdout"
        }
      ]
    },
    {
      "cell_type": "code",
      "metadata": {
        "id": "iVADFPYM22HL",
        "colab_type": "code",
        "outputId": "c3387cfd-33c5-493b-ac29-47147ca2b729",
        "colab": {
          "base_uri": "https://localhost:8080/"
        }
      },
      "source": [
        "test = load_model(os.path.join(model_path, model_name))"
      ],
      "execution_count": 0,
      "outputs": [
        {
          "output_type": "stream",
          "text": [
            "Model was loaded from /content/drive/My Drive/42/reverse game of life/save/model.pkl successfully!\n"
          ],
          "name": "stdout"
        }
      ]
    },
    {
      "cell_type": "code",
      "metadata": {
        "id": "yOwgn5K327R2",
        "colab_type": "code",
        "outputId": "130bdd0e-3701-495c-f4e2-772332b6b83f",
        "colab": {
          "base_uri": "https://localhost:8080/"
        }
      },
      "source": [
        "test"
      ],
      "execution_count": 0,
      "outputs": [
        {
          "output_type": "execute_result",
          "data": {
            "text/plain": [
              "MultiLayers(2, 0.5, [(20, 20), (20, 20)])"
            ]
          },
          "metadata": {
            "tags": []
          },
          "execution_count": 289
        }
      ]
    },
    {
      "cell_type": "markdown",
      "metadata": {
        "id": "qyBm3bAG3Qw8",
        "colab_type": "text"
      },
      "source": [
        "##### Testing weight load and save\n",
        "\n",
        "**Successfully passed!**"
      ]
    },
    {
      "cell_type": "code",
      "metadata": {
        "id": "oSAQIeJ62_oK",
        "colab_type": "code",
        "outputId": "4f7bca4c-2af8-46b4-9043-efe06762a749",
        "colab": {
          "base_uri": "https://localhost:8080/"
        }
      },
      "source": [
        "l.save_weights(os.path.join(weight_path, weight_name))"
      ],
      "execution_count": 0,
      "outputs": [
        {
          "output_type": "stream",
          "text": [
            "Weight saved to /content/drive/My Drive/42/reverse game of life/save/weight.pkl successfully!\n"
          ],
          "name": "stdout"
        }
      ]
    },
    {
      "cell_type": "code",
      "metadata": {
        "id": "r49N0pYS3fon",
        "colab_type": "code",
        "outputId": "32986d05-6fc7-459f-cfd8-dadf3b1892c1",
        "colab": {
          "base_uri": "https://localhost:8080/"
        }
      },
      "source": [
        "test.load_weights(os.path.join(weight_path, weight_name))"
      ],
      "execution_count": 0,
      "outputs": [
        {
          "output_type": "stream",
          "text": [
            "Weight loaded from /content/drive/My Drive/42/reverse game of life/save/weight.pkl successfully!\n"
          ],
          "name": "stdout"
        }
      ]
    },
    {
      "cell_type": "code",
      "metadata": {
        "id": "QZ7XCldK3j2T",
        "colab_type": "code",
        "outputId": "d5053137-0e64-4f73-a796-ab9b08bc2afb",
        "colab": {
          "base_uri": "https://localhost:8080/"
        }
      },
      "source": [
        "for i, (layer_1, layer_2) in enumerate(zip(l.layer_list, test.layer_list)):\n",
        "    print(\"Comparing Layer {} ... \".format(i + 1), end=\"\")\n",
        "    if (layer_1.weight == layer_2.weight).all():\n",
        "        print(\"weight is {} \".format(\"SAME\"), end=\"\")\n",
        "    else:\n",
        "        print(\"weight is {} \".format(\"DIFFERENT\"), end=\"\")\n",
        "    if (layer_1.bias == layer_2.bias).all():\n",
        "        print(\"bias is {}\".format(\"SAME\"))\n",
        "    else:\n",
        "        print(\"bias is {}\".format(\"DIFFERENT\"))"
      ],
      "execution_count": 0,
      "outputs": [
        {
          "output_type": "stream",
          "text": [
            "Comparing Layer 1 ... weight is SAME bias is SAME\n",
            "Comparing Layer 2 ... weight is SAME bias is SAME\n"
          ],
          "name": "stdout"
        }
      ]
    },
    {
      "cell_type": "markdown",
      "metadata": {
        "id": "Kv6y8SkC5lR6",
        "colab_type": "text"
      },
      "source": [
        "### Train model with Genetic Algorithm\n",
        "\n",
        "1. `Population` - specific number of multilayers\n",
        "2. `Fitness` - Get the score for each multilayers using the 50,000 train set\n",
        "     - This approach is not efficient but will consider later\n",
        "3. `Selection` - Choose the model with highest score in specific fate\n",
        "4. `Crossover` - Generate a child\n",
        "5. `Mutation` - mutate the model weight "
      ]
    },
    {
      "cell_type": "code",
      "metadata": {
        "id": "UobX0nDXX0n9",
        "colab_type": "code",
        "colab": {}
      },
      "source": [
        "class Genetic(object):\n",
        "    \"\"\"Genetic Algorithm to train the model\"\"\"\n",
        "    def __init__(self,\n",
        "                 population_num,\n",
        "                 layer_num,\n",
        "                 threshold=.0,\n",
        "                 layer_size_list=None):\n",
        "        \"\"\"\n",
        "        Choose the model \n",
        "\n",
        "        :param int population_num: Choose the number of population\n",
        "        :param int layer_num: Choose the size of layer of one model\n",
        "        :param float threshold: Choose the threshold that model will use to generate the board\n",
        "        :param Tuple layer_size_list: [(h, w), ... , (h, w)]\n",
        "            -> list of layer size tuples height and width\n",
        "            -> if None fill the list to default value (20, 20)\n",
        "        \"\"\"\n",
        "        self.population_num = population_num\n",
        "        self.layer_num = layer_num\n",
        "        self.threshold = threshold\n",
        "        self.layer_size_list = layer_size_list\n",
        "        self.model_info = [self.layer_num,\n",
        "                           self.threshold,\n",
        "                           self.layer_size_list]\n",
        "\n",
        "        # Create the Models to populate\n",
        "        self.population()\n",
        "\n",
        "    def save_model(self, path):\n",
        "        \"\"\"Saving the best model\"\"\"\n",
        "        self.model_list[0].save_model(path)\n",
        "    \n",
        "    def save_weight(self, path):\n",
        "        \"\"\"Saving the best weight\"\"\"\n",
        "        self.model_list[0].save_weight(path)\n",
        "    \n",
        "    def load_model(self, path):\n",
        "        with open(path, 'rb') as f:\n",
        "            model = pickle.load(f)\n",
        "        self.model_info = model\n",
        "        self.population()\n",
        "        print(\"Model was loaded from {} successfully!\".format(path))\n",
        "    \n",
        "    def load_weight(self, path):\n",
        "        self.model_list[0].load_weight(path)\n",
        "\n",
        "    def __str__(self):\n",
        "        status = \"\"\n",
        "        for i, model in enumerate(self.model_list):\n",
        "            status += \"model {} \".format(i + 1)\n",
        "            status += repr(model)\n",
        "            status += \"\\n\"\n",
        "        return status\n",
        "    \n",
        "    def __repr__(self):\n",
        "        return \"Genetic({}, {}, {}, {})\".format(self.population_num,\n",
        "                                                *self.model_info)\n",
        "        \n",
        "    def __call__(self,\n",
        "                 dataset,\n",
        "                 dataset_num=None,\n",
        "                 generation_num=500,\n",
        "                 survive_ratio=0.5,\n",
        "                 mutation_probability=1,\n",
        "                 mutation_area=0.5,\n",
        "                 verbose=True,\n",
        "                 print_every=10):\n",
        "        \"\"\"\n",
        "        :param dataset: Training dataset [id / step / start board / end board]\n",
        "        :param dataset_num: This tells how much dataset will gonna use calculating fitness score\n",
        "        :param generation_num: How much generation we are going to run?\n",
        "        :param survive_ratio: At the selection step how much model will survive?\n",
        "        :param mutation_probability: Choose the probability to mutate model\n",
        "        :param mutation area: When we mutate the model how many area we will gonna mutate?\n",
        "        \"\"\"\n",
        "        self.dataset = dataset\n",
        "        self.dataset_num = dataset_num\n",
        "        self.generation_num = generation_num\n",
        "        self.survive_ratio = survive_ratio\n",
        "        self.mutation_probability = mutation_probability\n",
        "        self.mutation_area = mutation_area\n",
        "        for generation in range(1, generation_num + 1):\n",
        "            self.evolve()\n",
        "            if verbose and (generation % print_every == 0):\n",
        "                self.log(generation)\n",
        "\n",
        "    def best_model_score():\n",
        "        \"\"\"Using the best model predict the past\"\"\"\n",
        "        # Use the best model\n",
        "        model = self.model_list[0]\n",
        "\n",
        "        # Show the model score\n",
        "        print(\"Dataset LIMIT have been deleted\")\n",
        "        print(\"Trained by {} data but the score will be tested in 50,000\".format(self.dataset_num))\n",
        "        self.dataset_num = None\n",
        "        model_score = self.model_score(model)\n",
        "        print(\"The model we are going to use has score : {}\".format(model_score))\n",
        "\n",
        "    def predict(self, predict_dataset, predict_dataset_index=None):\n",
        "        # Use the best model\n",
        "        model = self.model_list[0]\n",
        "\n",
        "        # Predict the result\n",
        "        if (predict_dataset_index == None):\n",
        "            print(\"Currently showing prediction for every dataset is not supported\")\n",
        "            print(\"Please choose specific index of dataset.\")\n",
        "            print(\"predict(dataset, predict_dataset_index=0)\")\n",
        "            raise NotImplementedError\n",
        "\n",
        "        data = predict_dataset[predict_dataset_index]\n",
        "        x = data['end']\n",
        "        for _ in range(data['step']):\n",
        "            x = model(x)\n",
        "    \n",
        "        # Show the result\n",
        "        print(\"This is the end board\")\n",
        "        visualize_board(data['end'])\n",
        "        print(\"This is the answer\")\n",
        "        visualize_board(data['start'])\n",
        "        print(\"This is the prediction\")\n",
        "        visualize_board(x)\n",
        "\n",
        "    def log(self, generation):\n",
        "        \"\"\"Print out the current situation of training\"\"\"\n",
        "        self.score_list = []\n",
        "        # Calculate the score\n",
        "        for model in self.model_list:\n",
        "            self.score_list.append(self.model_score(model))\n",
        "        print(\"Generation [ {} / {} ]\".format(generation, self.generation_num))\n",
        "        print(\"Population {} - {}\".format(self.population_num, self.score_list))\n",
        "    \n",
        "    def change_threshold(self, threshold):\n",
        "        \"\"\"Change the threshold of all the models\"\"\"\n",
        "        for model in self.model_list:\n",
        "            model.change_threshold(threshold)\n",
        "\n",
        "    def change_population(self, population_num):\n",
        "        \"\"\"Change the population number and populate models again\"\"\"\n",
        "        self.population_num = population_num\n",
        "        self.population()\n",
        "        print(\"Changed to {} population and repopulate model\".format(self.population_num))\n",
        "    \n",
        "    def change_model(self, layer_num, threshold=.5, layer_size_list=None):\n",
        "        \"\"\"Change the model specification and populate models again\"\"\"\n",
        "        self.layer_num = layer_num\n",
        "        self.threshold = threshold\n",
        "        self.layer_size_list = layer_size_list\n",
        "        self.model_info = [self.layer_num,\n",
        "                           self.threshold,\n",
        "                           self.layer_size_list]\n",
        "        self.population()\n",
        "        print(\"Changed the model spec to {} and repopulate model\".format(repr(self.model_list[0])))\n",
        "\n",
        "    def population(self):\n",
        "        self.model_list = []\n",
        "        for _ in range(self.population_num):\n",
        "            self.model_list.append(MultiLayers(*self.model_info))\n",
        "        \n",
        "        # Update the layer size list to default value if it is not designated\n",
        "        if self.layer_size_list is None:\n",
        "            self.layer_size_list = self.model_list[0].layer_size_list\n",
        "            self.model_info = [self.layer_num,\n",
        "                               self.threshold,\n",
        "                               self.layer_size_list]\n",
        "    \n",
        "    def evolve(self):\n",
        "        self.fitness()\n",
        "        self.selection()\n",
        "        self.crossover()\n",
        "        self.mutation()\n",
        "\n",
        "    def fitness(self):\n",
        "        self.score_list = []\n",
        "        # Calculate the score\n",
        "        for model in self.model_list:\n",
        "            self.score_list.append(self.model_score(model))\n",
        "\n",
        "        # Sort the model list\n",
        "        self.model_list = [self.model_list[index] for index in np.argsort(self.score_list)[::-1]]\n",
        "\n",
        "    def model_score(self, model):\n",
        "        total_score = 0\n",
        "        total_count = 0\n",
        "        for _, data in self.dataset.items():\n",
        "            x = data['end']\n",
        "            for _ in range(data['step']):\n",
        "                x = model(x)\n",
        "            total_score += self.score_method(x, data['start'])\n",
        "            total_count += 1\n",
        "\n",
        "            # Stop training when we train using specific dataset\n",
        "            if self.dataset_num and (total_count % self.dataset_num == 0):\n",
        "                break \n",
        "        return round(total_score / total_count, 4)\n",
        "\n",
        "    def score_method(self, output, target):\n",
        "        return sum((output == target).reshape(-1))/400\n",
        "\n",
        "    def selection(self):\n",
        "        survive_num = round(self.population_num * self.survive_ratio)\n",
        "        self.model_list = [self.model_list[index] for index in range(survive_num)]\n",
        "    \n",
        "    def crossover(self):\n",
        "        # Reproduce childs to fill the population\n",
        "        while (self.population_num != len(self.model_list)):\n",
        "            parent = random.sample(self.model_list, 2)\n",
        "\n",
        "            # Make child\n",
        "            son, daugter = self.make_child(parent)\n",
        "            self.model_list.append(son)\n",
        "            if (self.population_num != len(self.model_list)):\n",
        "                self.model_list.append(daugter)\n",
        "    \n",
        "    def make_child(self, parent):\n",
        "        # parent\n",
        "        dad = parent[0]\n",
        "        mom = parent[1]\n",
        "\n",
        "        # make child\n",
        "        son = MultiLayers(*self.model_info)\n",
        "        daughter = MultiLayers(*self.model_info)\n",
        "\n",
        "        # Give the child a parent power\n",
        "        for i, (dad_layer, mom_layer) in enumerate(zip(dad.layer_list, mom.layer_list)):\n",
        "            # Weight reproduce\n",
        "            reproduced = self.reproduce(dad_layer.weight, mom_layer.weight)\n",
        "            son.layer_list[i].weight = reproduced[0]\n",
        "            daughter.layer_list[i].weight = reproduced[1]\n",
        "\n",
        "            # Bias reproduce\n",
        "            reproduced = self.reproduce(dad_layer.bias, mom_layer.bias)\n",
        "            son.layer_list[i].bias = reproduced[0]\n",
        "            daughter.layer_list[i].bias = reproduced[1]\n",
        "        return son, daughter      \n",
        "\n",
        "    def reproduce(self, dad, mom):\n",
        "        overlap = np.random.binomial(1, 0.5, size=dad.shape).astype('bool')\n",
        "        son = deepcopy(dad)\n",
        "        daugter = deepcopy(mom)\n",
        "        son[overlap] = mom[overlap]\n",
        "        daugter[overlap] = dad[overlap]\n",
        "        return son, daugter\n",
        "\n",
        "    def mutation(self):\n",
        "        for i, model in enumerate(self.model_list):\n",
        "            # Don't mutate the 1st, 2nd model\n",
        "            if (i == 0 or i == 1):\n",
        "                continue\n",
        "            if random.random() < self.mutation_probability:\n",
        "                self.mutate_model(model)\n",
        "\n",
        "    def mutate_model(self, model):\n",
        "        for layer in model.layer_list:\n",
        "            w_shape = layer.weight.shape\n",
        "            b_shape = layer.bias.shape\n",
        "            self.mutate_layer(layer, w_shape, b_shape)\n",
        "    \n",
        "    def mutate_layer(self, layer, w_s, b_s):\n",
        "        weight_mutate_area = np.random.binomial(1, self.mutation_area, size=w_s).astype('bool')\n",
        "        bias_mutate_area = np.random.binomial(1, self.mutation_area, size=b_s).astype('bool')\n",
        "        weight_random = np.random.randn(*w_s) / 10\n",
        "        bias_random = np.random.randn(*b_s) / 10 \n",
        "        layer.weight[weight_mutate_area] = weight_random[weight_mutate_area]\n",
        "        layer.bias[bias_mutate_area] = bias_random[bias_mutate_area]\n"
      ],
      "execution_count": 0,
      "outputs": []
    },
    {
      "cell_type": "code",
      "metadata": {
        "id": "VoAwNIkGx4yj",
        "colab_type": "code",
        "colab": {}
      },
      "source": [
        "g = Genetic(population_num=20,\n",
        "            layer_num=3,\n",
        "            layer_size_list=[(20, 300), (300, 200), (200, 20)])"
      ],
      "execution_count": 0,
      "outputs": []
    },
    {
      "cell_type": "code",
      "metadata": {
        "id": "BuLYVYTY0uen",
        "colab_type": "code",
        "outputId": "fd2329d1-ac78-4b7f-e46c-26f9c8ff35c5",
        "colab": {
          "base_uri": "https://localhost:8080/",
          "height": 1000
        }
      },
      "source": [
        "g(dataset=train_set,\n",
        "  dataset_num=20,\n",
        "  print_every=1,\n",
        "  generation_num=100)"
      ],
      "execution_count": 0,
      "outputs": [
        {
          "output_type": "stream",
          "text": [
            "Generation [ 1 / 100 ]\n",
            "Population 20 - [0.5855, 0.5576, 0.5077, 0.555, 0.4746, 0.4534, 0.4522, 0.5141, 0.5555, 0.4269, 0.5022, 0.4228, 0.4412, 0.4258, 0.5361, 0.4781, 0.4825, 0.4609, 0.4216, 0.4499]\n",
            "Generation [ 2 / 100 ]\n",
            "Population 20 - [0.5855, 0.5576, 0.5906, 0.4554, 0.5156, 0.4161, 0.5654, 0.4779, 0.5976, 0.559, 0.6133, 0.4961, 0.6055, 0.5718, 0.3962, 0.5914, 0.5827, 0.4301, 0.5801, 0.4974]\n",
            "Generation [ 3 / 100 ]\n",
            "Population 20 - [0.6133, 0.6055, 0.5428, 0.5334, 0.5284, 0.565, 0.4329, 0.5491, 0.5596, 0.4355, 0.623, 0.4355, 0.5228, 0.5322, 0.5284, 0.5655, 0.5271, 0.4041, 0.5318, 0.5942]\n",
            "Generation [ 4 / 100 ]\n",
            "Population 20 - [0.623, 0.6133, 0.4264, 0.5938, 0.4899, 0.4776, 0.4791, 0.516, 0.5529, 0.5336, 0.3921, 0.6559, 0.5779, 0.5211, 0.5338, 0.5875, 0.4578, 0.4524, 0.6342, 0.5566]\n",
            "Generation [ 5 / 100 ]\n",
            "Population 20 - [0.6559, 0.6342, 0.5313, 0.5215, 0.6385, 0.5223, 0.63, 0.5155, 0.5505, 0.4555, 0.4622, 0.4957, 0.552, 0.5091, 0.4954, 0.5925, 0.6184, 0.5461, 0.4774, 0.4564]\n",
            "Generation [ 6 / 100 ]\n",
            "Population 20 - [0.6559, 0.6385, 0.5226, 0.5182, 0.5071, 0.5379, 0.5058, 0.4671, 0.4624, 0.5169, 0.5409, 0.5958, 0.5237, 0.4578, 0.5454, 0.5535, 0.6096, 0.5449, 0.4161, 0.4445]\n",
            "Generation [ 7 / 100 ]\n",
            "Population 20 - [0.6559, 0.6385, 0.5744, 0.6234, 0.4802, 0.5669, 0.5309, 0.4996, 0.5592, 0.4676, 0.5512, 0.5316, 0.3816, 0.5824, 0.4761, 0.4986, 0.4652, 0.5849, 0.393, 0.523]\n",
            "Generation [ 8 / 100 ]\n",
            "Population 20 - [0.6559, 0.6385, 0.5938, 0.532, 0.5271, 0.4329, 0.5059, 0.5385, 0.4905, 0.5848, 0.4009, 0.4132, 0.4818, 0.5654, 0.5252, 0.3455, 0.6609, 0.5132, 0.5194, 0.5636]\n",
            "Generation [ 9 / 100 ]\n",
            "Population 20 - [0.6609, 0.6559, 0.5416, 0.5565, 0.6159, 0.4839, 0.4881, 0.5675, 0.5029, 0.4835, 0.5499, 0.4578, 0.5662, 0.5084, 0.464, 0.5762, 0.5178, 0.5642, 0.4961, 0.4407]\n",
            "Generation [ 10 / 100 ]\n",
            "Population 20 - [0.6609, 0.6559, 0.5781, 0.5821, 0.6001, 0.6361, 0.5202, 0.4875, 0.514, 0.5208, 0.4482, 0.4905, 0.4772, 0.4322, 0.5953, 0.5656, 0.5065, 0.5599, 0.5216, 0.5805]\n",
            "Generation [ 11 / 100 ]\n",
            "Population 20 - [0.6609, 0.6559, 0.5628, 0.4305, 0.505, 0.5955, 0.4716, 0.5941, 0.5264, 0.4865, 0.5332, 0.4505, 0.443, 0.4727, 0.5605, 0.5705, 0.4438, 0.4268, 0.5807, 0.4268]\n",
            "Generation [ 12 / 100 ]\n",
            "Population 20 - [0.6609, 0.6559, 0.5942, 0.4891, 0.5632, 0.5342, 0.5061, 0.4819, 0.4002, 0.5176, 0.5402, 0.496, 0.5279, 0.5929, 0.4481, 0.4606, 0.4999, 0.5129, 0.4831, 0.5874]\n",
            "Generation [ 13 / 100 ]\n",
            "Population 20 - [0.6609, 0.6559, 0.4915, 0.5994, 0.6372, 0.4652, 0.5442, 0.6016, 0.444, 0.6496, 0.5882, 0.5515, 0.4745, 0.5714, 0.5342, 0.5758, 0.5886, 0.3979, 0.497, 0.5525]\n",
            "Generation [ 14 / 100 ]\n",
            "Population 20 - [0.6609, 0.6559, 0.5848, 0.538, 0.3861, 0.4621, 0.5518, 0.5178, 0.5524, 0.502, 0.4856, 0.5681, 0.5101, 0.505, 0.5069, 0.5465, 0.4988, 0.5755, 0.501, 0.4851]\n",
            "Generation [ 15 / 100 ]\n",
            "Population 20 - [0.6609, 0.6559, 0.621, 0.5902, 0.4634, 0.4591, 0.528, 0.4881, 0.6221, 0.6044, 0.5376, 0.4911, 0.567, 0.5011, 0.4289, 0.5446, 0.4897, 0.486, 0.6062, 0.4971]\n",
            "Generation [ 16 / 100 ]\n",
            "Population 20 - [0.6609, 0.6559, 0.5602, 0.501, 0.5344, 0.6228, 0.468, 0.5262, 0.5006, 0.4316, 0.5336, 0.5058, 0.6291, 0.4901, 0.5156, 0.5794, 0.497, 0.588, 0.4808, 0.6414]\n",
            "Generation [ 17 / 100 ]\n",
            "Population 20 - [0.6609, 0.6559, 0.5234, 0.5509, 0.4416, 0.4974, 0.523, 0.3629, 0.5067, 0.4869, 0.468, 0.525, 0.4681, 0.5612, 0.4579, 0.5554, 0.5341, 0.4598, 0.5993, 0.5282]\n",
            "Generation [ 18 / 100 ]\n",
            "Population 20 - [0.6609, 0.6559, 0.5785, 0.5029, 0.4375, 0.4959, 0.5699, 0.483, 0.4316, 0.5004, 0.4944, 0.5819, 0.5705, 0.5598, 0.5804, 0.5082, 0.6297, 0.4932, 0.4489, 0.4546]\n",
            "Generation [ 19 / 100 ]\n",
            "Population 20 - [0.6609, 0.6559, 0.5014, 0.4596, 0.615, 0.5908, 0.5905, 0.4556, 0.5836, 0.5056, 0.4879, 0.6629, 0.5538, 0.624, 0.5378, 0.5579, 0.526, 0.556, 0.4832, 0.4531]\n",
            "Generation [ 20 / 100 ]\n",
            "Population 20 - [0.6629, 0.6609, 0.58, 0.592, 0.4982, 0.6532, 0.456, 0.3732, 0.5144, 0.3684, 0.4761, 0.6081, 0.4624, 0.5415, 0.4412, 0.5555, 0.5702, 0.4972, 0.5598, 0.6209]\n",
            "Generation [ 21 / 100 ]\n",
            "Population 20 - [0.6629, 0.6609, 0.5219, 0.5146, 0.5814, 0.5204, 0.529, 0.5266, 0.6033, 0.5221, 0.4241, 0.492, 0.512, 0.6051, 0.4158, 0.5844, 0.4495, 0.6829, 0.4741, 0.3325]\n",
            "Generation [ 22 / 100 ]\n",
            "Population 20 - [0.6829, 0.6629, 0.5619, 0.3198, 0.5312, 0.4378, 0.5279, 0.4546, 0.5892, 0.4787, 0.5462, 0.5406, 0.5519, 0.6078, 0.4834, 0.6231, 0.4441, 0.4999, 0.513, 0.5545]\n",
            "Generation [ 23 / 100 ]\n",
            "Population 20 - [0.6829, 0.6629, 0.5705, 0.6224, 0.5678, 0.4024, 0.5465, 0.4809, 0.628, 0.597, 0.4783, 0.4906, 0.4379, 0.4754, 0.5335, 0.504, 0.5871, 0.4699, 0.5635, 0.54]\n",
            "Generation [ 24 / 100 ]\n",
            "Population 20 - [0.6829, 0.6629, 0.5655, 0.6472, 0.5311, 0.5549, 0.4979, 0.4895, 0.588, 0.4705, 0.4734, 0.4034, 0.5893, 0.6207, 0.4732, 0.479, 0.5578, 0.4996, 0.5746, 0.4591]\n",
            "Generation [ 25 / 100 ]\n",
            "Population 20 - [0.6829, 0.6629, 0.4715, 0.4629, 0.4292, 0.4459, 0.5364, 0.5079, 0.434, 0.5329, 0.5658, 0.3317, 0.4633, 0.3825, 0.5327, 0.6181, 0.5436, 0.4468, 0.5684, 0.4827]\n",
            "Generation [ 26 / 100 ]\n",
            "Population 20 - [0.6829, 0.6629, 0.5505, 0.5018, 0.5609, 0.4926, 0.5034, 0.5765, 0.5018, 0.4458, 0.4283, 0.4731, 0.5946, 0.5765, 0.5317, 0.5072, 0.4494, 0.5606, 0.6015, 0.4742]\n",
            "Generation [ 27 / 100 ]\n",
            "Population 20 - [0.6829, 0.6629, 0.5961, 0.5961, 0.4924, 0.5046, 0.5409, 0.4605, 0.5071, 0.5554, 0.4665, 0.5414, 0.4731, 0.5589, 0.4581, 0.5356, 0.4082, 0.6605, 0.502, 0.566]\n",
            "Generation [ 28 / 100 ]\n",
            "Population 20 - [0.6829, 0.6629, 0.6644, 0.4455, 0.6026, 0.6158, 0.6354, 0.5145, 0.4319, 0.4155, 0.6005, 0.483, 0.4667, 0.4804, 0.6399, 0.4735, 0.4555, 0.4329, 0.5772, 0.519]\n",
            "Generation [ 29 / 100 ]\n",
            "Population 20 - [0.6829, 0.6644, 0.4986, 0.5444, 0.5815, 0.469, 0.5706, 0.5377, 0.5191, 0.5994, 0.6114, 0.4786, 0.5421, 0.3721, 0.4889, 0.5973, 0.6966, 0.5369, 0.5176, 0.6141]\n",
            "Generation [ 30 / 100 ]\n",
            "Population 20 - [0.6966, 0.6829, 0.5414, 0.4436, 0.5256, 0.5051, 0.5496, 0.5935, 0.4769, 0.3666, 0.5141, 0.5179, 0.6529, 0.462, 0.5659, 0.6775, 0.4529, 0.6065, 0.475, 0.5725]\n",
            "Generation [ 31 / 100 ]\n",
            "Population 20 - [0.6966, 0.6829, 0.4361, 0.7125, 0.529, 0.6544, 0.4482, 0.4971, 0.4727, 0.526, 0.5601, 0.548, 0.5896, 0.4898, 0.5567, 0.5041, 0.4471, 0.5196, 0.4286, 0.4077]\n",
            "Generation [ 32 / 100 ]\n",
            "Population 20 - [0.7125, 0.6966, 0.5134, 0.5639, 0.4421, 0.5188, 0.5686, 0.4959, 0.4966, 0.5135, 0.5706, 0.5409, 0.444, 0.4611, 0.6359, 0.427, 0.4788, 0.5229, 0.3895, 0.536]\n",
            "Generation [ 33 / 100 ]\n",
            "Population 20 - [0.7125, 0.6966, 0.503, 0.489, 0.6458, 0.6049, 0.5436, 0.4609, 0.577, 0.4755, 0.5692, 0.5115, 0.4764, 0.5549, 0.4819, 0.3518, 0.6171, 0.5361, 0.476, 0.4929]\n",
            "Generation [ 34 / 100 ]\n",
            "Population 20 - [0.7125, 0.6966, 0.7467, 0.4134, 0.5304, 0.4729, 0.4976, 0.5037, 0.3979, 0.5012, 0.4654, 0.4665, 0.5291, 0.503, 0.523, 0.5665, 0.4161, 0.5225, 0.5906, 0.5021]\n",
            "Generation [ 35 / 100 ]\n",
            "Population 20 - [0.7467, 0.7125, 0.5127, 0.5565, 0.4665, 0.5064, 0.5789, 0.5905, 0.4308, 0.4408, 0.5314, 0.5229, 0.4578, 0.5179, 0.5442, 0.554, 0.6361, 0.5781, 0.506, 0.517]\n",
            "Generation [ 36 / 100 ]\n",
            "Population 20 - [0.7467, 0.7125, 0.5738, 0.5041, 0.5656, 0.6014, 0.5035, 0.4734, 0.5739, 0.5966, 0.3859, 0.5052, 0.5565, 0.5684, 0.5452, 0.4056, 0.5806, 0.5426, 0.543, 0.427]\n",
            "Generation [ 37 / 100 ]\n",
            "Population 20 - [0.7467, 0.7125, 0.5277, 0.5738, 0.497, 0.3746, 0.4626, 0.5701, 0.528, 0.5124, 0.5, 0.4986, 0.5225, 0.497, 0.4521, 0.5811, 0.4418, 0.5144, 0.5759, 0.4134]\n",
            "Generation [ 38 / 100 ]\n",
            "Population 20 - [0.7467, 0.7125, 0.5004, 0.526, 0.375, 0.5091, 0.521, 0.3405, 0.3912, 0.5254, 0.5406, 0.5094, 0.493, 0.4842, 0.5566, 0.519, 0.5696, 0.395, 0.4588, 0.5932]\n",
            "Generation [ 39 / 100 ]\n",
            "Population 20 - [0.7467, 0.7125, 0.5119, 0.5027, 0.6035, 0.5397, 0.6559, 0.4284, 0.5178, 0.4094, 0.5292, 0.6234, 0.5174, 0.4804, 0.503, 0.4745, 0.5576, 0.4864, 0.5656, 0.5945]\n",
            "Generation [ 40 / 100 ]\n",
            "Population 20 - [0.7467, 0.7125, 0.4996, 0.5544, 0.3637, 0.4709, 0.5601, 0.4974, 0.5419, 0.4278, 0.4771, 0.5111, 0.5711, 0.5466, 0.6171, 0.579, 0.5159, 0.4862, 0.548, 0.4941]\n",
            "Generation [ 41 / 100 ]\n",
            "Population 20 - [0.7467, 0.7125, 0.5758, 0.5659, 0.4028, 0.5981, 0.394, 0.547, 0.487, 0.4645, 0.5309, 0.5969, 0.6014, 0.4998, 0.4929, 0.585, 0.4802, 0.4884, 0.569, 0.6789]\n",
            "Generation [ 42 / 100 ]\n",
            "Population 20 - [0.7467, 0.7125, 0.5416, 0.4541, 0.519, 0.4379, 0.4169, 0.5127, 0.5349, 0.4396, 0.5874, 0.4855, 0.458, 0.5182, 0.4689, 0.4314, 0.5003, 0.5762, 0.5386, 0.5708]\n",
            "Generation [ 43 / 100 ]\n",
            "Population 20 - [0.7467, 0.7125, 0.4618, 0.5531, 0.374, 0.4406, 0.4084, 0.5206, 0.531, 0.5299, 0.5844, 0.6337, 0.5795, 0.5977, 0.5935, 0.4588, 0.6178, 0.5243, 0.6151, 0.5111]\n",
            "Generation [ 44 / 100 ]\n",
            "Population 20 - [0.7467, 0.7125, 0.6263, 0.505, 0.5579, 0.5044, 0.4622, 0.5796, 0.4664, 0.5632, 0.5492, 0.6059, 0.5854, 0.5045, 0.5348, 0.4876, 0.574, 0.5449, 0.4416, 0.4902]\n",
            "Generation [ 45 / 100 ]\n",
            "Population 20 - [0.7467, 0.7125, 0.518, 0.5731, 0.5851, 0.5484, 0.4865, 0.593, 0.5115, 0.5465, 0.4868, 0.5574, 0.593, 0.5838, 0.4991, 0.5986, 0.6074, 0.5348, 0.5264, 0.4945]\n",
            "Generation [ 46 / 100 ]\n",
            "Population 20 - [0.7467, 0.7125, 0.4709, 0.5374, 0.519, 0.4995, 0.6871, 0.5466, 0.4452, 0.5089, 0.5004, 0.6185, 0.519, 0.5709, 0.5627, 0.6039, 0.5794, 0.5144, 0.4896, 0.5226]\n",
            "Generation [ 47 / 100 ]\n",
            "Population 20 - [0.7467, 0.7125, 0.5795, 0.5976, 0.5694, 0.4686, 0.531, 0.4774, 0.4698, 0.5515, 0.5758, 0.5359, 0.4796, 0.5721, 0.4124, 0.5548, 0.4716, 0.437, 0.5506, 0.4879]\n",
            "Generation [ 48 / 100 ]\n",
            "Population 20 - [0.7467, 0.7125, 0.5281, 0.6265, 0.6046, 0.6945, 0.4659, 0.6354, 0.6089, 0.4874, 0.3709, 0.4178, 0.5542, 0.4785, 0.5274, 0.4956, 0.5262, 0.4793, 0.6628, 0.6127]\n",
            "Generation [ 49 / 100 ]\n",
            "Population 20 - [0.7467, 0.7125, 0.5413, 0.6629, 0.6201, 0.4613, 0.5111, 0.635, 0.536, 0.5442, 0.454, 0.4865, 0.5063, 0.4485, 0.4728, 0.4566, 0.5355, 0.4565, 0.44, 0.5343]\n",
            "Generation [ 50 / 100 ]\n",
            "Population 20 - [0.7467, 0.7125, 0.5368, 0.5138, 0.5385, 0.6535, 0.5081, 0.5849, 0.435, 0.5575, 0.5039, 0.6025, 0.5403, 0.5345, 0.5448, 0.5398, 0.5144, 0.4621, 0.625, 0.534]\n",
            "Generation [ 51 / 100 ]\n",
            "Population 20 - [0.7467, 0.7125, 0.4586, 0.4274, 0.5006, 0.57, 0.526, 0.5479, 0.5439, 0.5385, 0.4305, 0.4576, 0.4625, 0.4675, 0.3335, 0.4156, 0.5864, 0.449, 0.5839, 0.552]\n",
            "Generation [ 52 / 100 ]\n",
            "Population 20 - [0.7467, 0.7125, 0.6399, 0.5219, 0.5529, 0.5739, 0.469, 0.5014, 0.5765, 0.4155, 0.5228, 0.5159, 0.5161, 0.5052, 0.4568, 0.5232, 0.4815, 0.4945, 0.5361, 0.4994]\n",
            "Generation [ 53 / 100 ]\n",
            "Population 20 - [0.7467, 0.7125, 0.5022, 0.4676, 0.5258, 0.4666, 0.4804, 0.5271, 0.6095, 0.461, 0.5414, 0.5205, 0.5395, 0.5307, 0.4603, 0.6372, 0.5948, 0.5769, 0.519, 0.6113]\n",
            "Generation [ 54 / 100 ]\n",
            "Population 20 - [0.7467, 0.7125, 0.5839, 0.5419, 0.594, 0.5044, 0.5155, 0.5356, 0.4932, 0.4032, 0.6445, 0.3921, 0.5576, 0.4939, 0.5845, 0.4248, 0.5408, 0.4881, 0.4517, 0.471]\n",
            "Generation [ 55 / 100 ]\n",
            "Population 20 - [0.7467, 0.7125, 0.568, 0.593, 0.4334, 0.4645, 0.485, 0.4686, 0.5495, 0.5277, 0.4926, 0.6085, 0.4582, 0.6038, 0.6347, 0.5155, 0.6689, 0.4849, 0.6044, 0.5534]\n",
            "Generation [ 56 / 100 ]\n",
            "Population 20 - [0.7467, 0.7125, 0.4798, 0.5691, 0.6014, 0.5169, 0.5502, 0.5085, 0.3815, 0.4434, 0.6061, 0.4845, 0.6614, 0.4958, 0.5516, 0.5479, 0.5214, 0.6202, 0.4976, 0.511]\n",
            "Generation [ 57 / 100 ]\n",
            "Population 20 - [0.7467, 0.7125, 0.6361, 0.3868, 0.517, 0.5776, 0.464, 0.5409, 0.4155, 0.6032, 0.5991, 0.6156, 0.5729, 0.5095, 0.6866, 0.519, 0.6601, 0.5864, 0.5805, 0.596]\n",
            "Generation [ 58 / 100 ]\n",
            "Population 20 - [0.7467, 0.7125, 0.5129, 0.6302, 0.592, 0.5795, 0.5834, 0.5454, 0.4289, 0.5393, 0.4619, 0.5675, 0.5588, 0.4261, 0.4826, 0.6173, 0.623, 0.553, 0.5054, 0.5679]\n",
            "Generation [ 59 / 100 ]\n",
            "Population 20 - [0.7467, 0.7125, 0.5531, 0.5678, 0.5407, 0.4799, 0.4378, 0.3889, 0.4966, 0.5679, 0.5092, 0.5614, 0.471, 0.5417, 0.6185, 0.5317, 0.3795, 0.4535, 0.4919, 0.5555]\n",
            "Generation [ 60 / 100 ]\n",
            "Population 20 - [0.7467, 0.7125, 0.6029, 0.4616, 0.513, 0.6614, 0.4738, 0.5941, 0.4379, 0.456, 0.5686, 0.4554, 0.5136, 0.5508, 0.5481, 0.5764, 0.5423, 0.4914, 0.516, 0.6106]\n",
            "Generation [ 61 / 100 ]\n",
            "Population 20 - [0.7467, 0.7125, 0.4419, 0.5618, 0.4178, 0.4821, 0.4515, 0.5933, 0.3963, 0.4937, 0.4946, 0.6135, 0.5305, 0.5722, 0.5115, 0.5746, 0.5166, 0.579, 0.5395, 0.5458]\n",
            "Generation [ 62 / 100 ]\n",
            "Population 20 - [0.7467, 0.7125, 0.5169, 0.4559, 0.5482, 0.6082, 0.4576, 0.4545, 0.6431, 0.4272, 0.5723, 0.614, 0.5428, 0.5819, 0.6476, 0.4916, 0.4976, 0.4949, 0.4984, 0.601]\n",
            "Generation [ 63 / 100 ]\n",
            "Population 20 - [0.7467, 0.7125, 0.4802, 0.6042, 0.5922, 0.4959, 0.5505, 0.4816, 0.4942, 0.4639, 0.4844, 0.5324, 0.6034, 0.5242, 0.4996, 0.647, 0.5434, 0.5141, 0.5872, 0.4998]\n",
            "Generation [ 64 / 100 ]\n",
            "Population 20 - [0.7467, 0.7125, 0.5236, 0.4285, 0.6689, 0.5259, 0.4588, 0.5002, 0.5288, 0.5287, 0.5486, 0.5164, 0.5234, 0.5157, 0.481, 0.5356, 0.565, 0.4102, 0.5917, 0.6546]\n",
            "Generation [ 65 / 100 ]\n",
            "Population 20 - [0.7467, 0.7125, 0.503, 0.471, 0.5322, 0.5458, 0.4585, 0.4683, 0.5625, 0.4707, 0.4969, 0.5369, 0.525, 0.557, 0.5979, 0.4569, 0.4421, 0.5599, 0.5942, 0.4546]\n",
            "Generation [ 66 / 100 ]\n",
            "Population 20 - [0.7467, 0.7125, 0.5636, 0.6811, 0.5138, 0.6228, 0.4689, 0.3777, 0.4754, 0.4881, 0.4871, 0.5402, 0.5986, 0.5244, 0.4602, 0.5274, 0.4642, 0.5189, 0.483, 0.4719]\n",
            "Generation [ 67 / 100 ]\n",
            "Population 20 - [0.7467, 0.7125, 0.5062, 0.5149, 0.5762, 0.5589, 0.6044, 0.4286, 0.5, 0.5105, 0.4804, 0.437, 0.5724, 0.5608, 0.3986, 0.489, 0.5365, 0.5821, 0.4812, 0.4923]\n",
            "Generation [ 68 / 100 ]\n",
            "Population 20 - [0.7467, 0.7125, 0.4906, 0.5928, 0.463, 0.4969, 0.4933, 0.6604, 0.4406, 0.6452, 0.391, 0.6395, 0.4925, 0.4411, 0.5359, 0.5941, 0.4931, 0.5455, 0.5371, 0.4395]\n",
            "Generation [ 69 / 100 ]\n",
            "Population 20 - [0.7467, 0.7125, 0.5071, 0.5239, 0.5499, 0.4793, 0.5648, 0.532, 0.481, 0.5146, 0.4819, 0.5789, 0.5772, 0.5506, 0.4331, 0.5101, 0.5359, 0.416, 0.5192, 0.4081]\n",
            "Generation [ 70 / 100 ]\n",
            "Population 20 - [0.7467, 0.7125, 0.4461, 0.4951, 0.5398, 0.45, 0.5485, 0.4739, 0.5071, 0.519, 0.6148, 0.5326, 0.5342, 0.4675, 0.4901, 0.4579, 0.5369, 0.5584, 0.5465, 0.4599]\n",
            "Generation [ 71 / 100 ]\n",
            "Population 20 - [0.7467, 0.7125, 0.4795, 0.482, 0.4509, 0.6301, 0.4879, 0.5084, 0.4499, 0.5102, 0.4531, 0.6016, 0.4362, 0.6702, 0.5196, 0.4295, 0.608, 0.5072, 0.4541, 0.4892]\n",
            "Generation [ 72 / 100 ]\n",
            "Population 20 - [0.7467, 0.7125, 0.5101, 0.4239, 0.5775, 0.612, 0.6555, 0.5117, 0.5589, 0.5934, 0.5285, 0.5361, 0.5391, 0.5114, 0.5111, 0.483, 0.5384, 0.4122, 0.4579, 0.5721]\n",
            "Generation [ 73 / 100 ]\n",
            "Population 20 - [0.7467, 0.7125, 0.5971, 0.6591, 0.5476, 0.5131, 0.4691, 0.6625, 0.4114, 0.5726, 0.5086, 0.534, 0.6285, 0.5371, 0.5546, 0.5464, 0.5535, 0.531, 0.5335, 0.5336]\n",
            "Generation [ 74 / 100 ]\n",
            "Population 20 - [0.7467, 0.7125, 0.5016, 0.5205, 0.5719, 0.5518, 0.492, 0.5014, 0.4689, 0.4521, 0.6054, 0.6058, 0.6022, 0.4856, 0.4495, 0.526, 0.4724, 0.6054, 0.6268, 0.4802]\n",
            "Generation [ 75 / 100 ]\n",
            "Population 20 - [0.7467, 0.7125, 0.547, 0.513, 0.552, 0.4426, 0.5229, 0.4149, 0.5361, 0.5074, 0.5294, 0.5641, 0.5956, 0.5768, 0.4449, 0.5169, 0.4258, 0.5378, 0.5498, 0.5806]\n",
            "Generation [ 76 / 100 ]\n",
            "Population 20 - [0.7467, 0.7125, 0.5235, 0.5347, 0.5502, 0.5669, 0.4831, 0.4781, 0.6961, 0.5552, 0.538, 0.4731, 0.6105, 0.5126, 0.4321, 0.6536, 0.5141, 0.5699, 0.4638, 0.6053]\n",
            "Generation [ 77 / 100 ]\n",
            "Population 20 - [0.7467, 0.7125, 0.5721, 0.5955, 0.4904, 0.5184, 0.5351, 0.4932, 0.5591, 0.5586, 0.497, 0.5028, 0.3925, 0.4499, 0.4911, 0.49, 0.6116, 0.4989, 0.5149, 0.482]\n",
            "Generation [ 78 / 100 ]\n",
            "Population 20 - [0.7467, 0.7125, 0.4682, 0.5386, 0.5505, 0.5592, 0.5772, 0.5768, 0.567, 0.4876, 0.3866, 0.4384, 0.5721, 0.508, 0.6269, 0.3881, 0.5595, 0.5701, 0.5357, 0.4651]\n",
            "Generation [ 79 / 100 ]\n",
            "Population 20 - [0.7467, 0.7125, 0.4135, 0.6171, 0.471, 0.5681, 0.5705, 0.5744, 0.505, 0.539, 0.697, 0.5989, 0.5131, 0.4064, 0.4818, 0.4758, 0.4951, 0.5598, 0.4542, 0.5929]\n",
            "Generation [ 80 / 100 ]\n",
            "Population 20 - [0.7467, 0.7125, 0.5684, 0.5309, 0.477, 0.5363, 0.5841, 0.4828, 0.4974, 0.4469, 0.5828, 0.4409, 0.4675, 0.5768, 0.3925, 0.554, 0.4288, 0.5374, 0.5224, 0.5541]\n"
          ],
          "name": "stdout"
        }
      ]
    },
    {
      "cell_type": "code",
      "metadata": {
        "id": "noxfgNXkgpVO",
        "colab_type": "code",
        "colab": {}
      },
      "source": [
        "# Choose the name of model and weight\n",
        "model_name = \"model.pkl\"\n",
        "weight_name = \"weight.pkl\"\n",
        "\n",
        "# Model save and load\n",
        "g.save_model(os.path.join(model_path, model_name))\n",
        "g.load_model(os.path.join(model_path, model_name))\n",
        "\n",
        "# Weight save and load\n",
        "g.save_weights(os.path.join(weight_path, weight_name))\n",
        "g.load_weights(os.path.join(weight_path, weight_name))"
      ],
      "execution_count": 0,
      "outputs": []
    },
    {
      "cell_type": "code",
      "metadata": {
        "id": "OQ6U9jzqV0Oi",
        "colab_type": "code",
        "colab": {}
      },
      "source": [
        "g.change_threshold(-0.5)"
      ],
      "execution_count": 0,
      "outputs": []
    },
    {
      "cell_type": "code",
      "metadata": {
        "id": "eJTToO7wWWLf",
        "colab_type": "code",
        "colab": {}
      },
      "source": [
        "g.model_list[0].layer_list[0].bias.shape"
      ],
      "execution_count": 0,
      "outputs": []
    },
    {
      "cell_type": "code",
      "metadata": {
        "id": "lNJFS9GAZCpV",
        "colab_type": "code",
        "colab": {}
      },
      "source": [
        "print(g.model_list[0].layer_list[0].weight)\n",
        "print(g.model_list[0].layer_list[1].weight)"
      ],
      "execution_count": 0,
      "outputs": []
    },
    {
      "cell_type": "code",
      "metadata": {
        "id": "QvnNsfVbV-cW",
        "colab_type": "code",
        "colab": {
          "base_uri": "https://localhost:8080/",
          "height": 805
        },
        "outputId": "73ac7521-b52b-4ff6-8470-7b5c2b683856"
      },
      "source": [
        "visualize_board(g.model_list[0].layer_list[0].weight)\n",
        "visualize_board(g.model_list[1].layer_list[0].weight)"
      ],
      "execution_count": 153,
      "outputs": [
        {
          "output_type": "display_data",
          "data": {
            "image/png": "[encoded data removed]",
            "text/plain": [
              "<Figure size 504x504 with 2 Axes>"
            ]
          },
          "metadata": {
            "tags": []
          }
        },
        {
          "output_type": "display_data",
          "data": {
            "image/png": "[encoded data removed]",
            "text/plain": [
              "<Figure size 504x504 with 2 Axes>"
            ]
          },
          "metadata": {
            "tags": []
          }
        }
      ]
    },
    {
      "cell_type": "code",
      "metadata": {
        "id": "DrqzRC5i2xqc",
        "colab_type": "code",
        "colab": {
          "base_uri": "https://localhost:8080/",
          "height": 1000
        },
        "outputId": "6ee472de-0c89-495c-a441-32d11090dc2f"
      },
      "source": [
        "g.predict(train_set,1)"
      ],
      "execution_count": 155,
      "outputs": [
        {
          "output_type": "stream",
          "text": [
            "This is the end board\n",
            "This is the answer\n",
            "This is the prediction\n"
          ],
          "name": "stdout"
        },
        {
          "output_type": "display_data",
          "data": {
            "image/png": "[encoded data removed]",
            "text/plain": [
              "<Figure size 504x504 with 2 Axes>"
            ]
          },
          "metadata": {
            "tags": []
          }
        },
        {
          "output_type": "display_data",
          "data": {
            "image/png": "[encoded data removed]",
            "text/plain": [
              "<Figure size 504x504 with 2 Axes>"
            ]
          },
          "metadata": {
            "tags": []
          }
        },
        {
          "output_type": "display_data",
          "data": {
            "image/png": "[encoded data removed]",
            "text/plain": [
              "<Figure size 504x504 with 2 Axes>"
            ]
          },
          "metadata": {
            "tags": []
          }
        }
      ]
    },
    {
      "cell_type": "markdown",
      "metadata": {
        "id": "K2uaIeDRdWi7",
        "colab_type": "text"
      },
      "source": [
        "### Testing field"
      ]
    },
    {
      "cell_type": "code",
      "metadata": {
        "colab_type": "code",
        "outputId": "640e327b-c0ed-47b9-8106-a3c2c1398a28",
        "id": "-i7C9eM42oxx",
        "colab": {
          "base_uri": "https://localhost:8080/"
        }
      },
      "source": [
        "l"
      ],
      "execution_count": 0,
      "outputs": [
        {
          "output_type": "execute_result",
          "data": {
            "text/plain": [
              "MultiLayers(2, 0.5, [(20, 20), (20, 20)])"
            ]
          },
          "metadata": {
            "tags": []
          },
          "execution_count": 284
        }
      ]
    },
    {
      "cell_type": "code",
      "metadata": {
        "id": "Y0BicQQJYjwf",
        "colab_type": "code",
        "outputId": "e64fa3ea-559b-41a4-d1a0-aae1c979c931",
        "colab": {
          "base_uri": "https://localhost:8080/"
        }
      },
      "source": [
        "result = l(result)\n",
        "visualize_board(result)"
      ],
      "execution_count": 0,
      "outputs": [
        {
          "output_type": "display_data",
          "data": {
            "image/png": "[encoded data removed]",
            "text/plain": [
              "<Figure size 504x504 with 2 Axes>"
            ]
          },
          "metadata": {
            "tags": []
          }
        }
      ]
    },
    {
      "cell_type": "code",
      "metadata": {
        "id": "1cwFO34xX1Dx",
        "colab_type": "code",
        "outputId": "9745ddff-adeb-4d6b-96a9-5b36a149a449",
        "colab": {
          "base_uri": "https://localhost:8080/"
        }
      },
      "source": [
        "l.change_threshold(0.5)"
      ],
      "execution_count": 0,
      "outputs": [
        {
          "output_type": "stream",
          "text": [
            "Threshold changed from 0 to 0.5\n"
          ],
          "name": "stdout"
        }
      ]
    },
    {
      "cell_type": "code",
      "metadata": {
        "id": "WwIhfaAJUrCC",
        "colab_type": "code",
        "outputId": "6c074334-7401-4f2b-c217-300c47e8d3da",
        "colab": {
          "base_uri": "https://localhost:8080/"
        }
      },
      "source": [
        "# Test is the multi layer is working\n",
        "result = l(train_set[5][\"start\"])\n",
        "visualize_board(result)\n",
        "visualize_board(train_set[5][\"end\"])"
      ],
      "execution_count": 0,
      "outputs": [
        {
          "output_type": "display_data",
          "data": {
            "image/png": "[encoded data removed]",
            "text/plain": [
              "<Figure size 504x504 with 2 Axes>"
            ]
          },
          "metadata": {
            "tags": []
          }
        },
        {
          "output_type": "display_data",
          "data": {
            "image/png": "[encoded data removed]",
            "text/plain": [
              "<Figure size 504x504 with 2 Axes>"
            ]
          },
          "metadata": {
            "tags": []
          }
        }
      ]
    },
    {
      "cell_type": "code",
      "metadata": {
        "id": "YGue8iDoH2Es",
        "colab_type": "code",
        "colab": {}
      },
      "source": [
        "w = np.random.rand(3, 2)"
      ],
      "execution_count": 0,
      "outputs": []
    },
    {
      "cell_type": "code",
      "metadata": {
        "id": "6VpGieO3H7-n",
        "colab_type": "code",
        "outputId": "ff7b35c5-7478-4a72-99e1-c0a246f275c6",
        "colab": {
          "base_uri": "https://localhost:8080/"
        }
      },
      "source": [
        "w = l(w)\n",
        "print(w)"
      ],
      "execution_count": 0,
      "outputs": [
        {
          "output_type": "stream",
          "text": [
            "[[2.34207218 0.         0.1992841 ]\n",
            " [5.03511597 0.         0.23610978]\n",
            " [3.22490787 0.         0.6253408 ]]\n"
          ],
          "name": "stdout"
        }
      ]
    },
    {
      "cell_type": "code",
      "metadata": {
        "id": "2AFAtGYrWRxP",
        "colab_type": "code",
        "outputId": "e1dd5368-0dc3-4538-b85b-389d28a97e93",
        "colab": {
          "base_uri": "https://localhost:8080/"
        }
      },
      "source": [
        "b = np.array([1, 2, 3])\n",
        "print (w + b)"
      ],
      "execution_count": 0,
      "outputs": [
        {
          "output_type": "stream",
          "text": [
            "[[3.34207218 2.         3.1992841 ]\n",
            " [6.03511597 2.         3.23610978]\n",
            " [4.22490787 2.         3.6253408 ]]\n"
          ],
          "name": "stdout"
        }
      ]
    },
    {
      "cell_type": "markdown",
      "metadata": {
        "id": "lJboKBU6HED5",
        "colab_type": "text"
      },
      "source": [
        "##### Testing mask function"
      ]
    },
    {
      "cell_type": "code",
      "metadata": {
        "colab_type": "code",
        "id": "JApUWqOWpkrE",
        "colab": {}
      },
      "source": [
        "a = np.array([[1, 2], [3, 4]])\n",
        "b = np.array([[100, 200], [300, 400]])\n",
        "mask = np.array([[False, True], [True, False]])"
      ],
      "execution_count": 0,
      "outputs": []
    },
    {
      "cell_type": "code",
      "metadata": {
        "id": "hnWMzIaxgArQ",
        "colab_type": "code",
        "colab": {}
      },
      "source": [
        "a[mask] = b[mask]"
      ],
      "execution_count": 0,
      "outputs": []
    },
    {
      "cell_type": "code",
      "metadata": {
        "id": "hmbr_dnvgFK0",
        "colab_type": "code",
        "outputId": "378caeb7-b1bc-446c-a49e-557b6b7f3570",
        "colab": {
          "base_uri": "https://localhost:8080/",
          "height": 51
        }
      },
      "source": [
        "a"
      ],
      "execution_count": 0,
      "outputs": [
        {
          "output_type": "execute_result",
          "data": {
            "text/plain": [
              "array([[  1, 200],\n",
              "       [300,   4]])"
            ]
          },
          "metadata": {
            "tags": []
          },
          "execution_count": 67
        }
      ]
    },
    {
      "cell_type": "code",
      "metadata": {
        "id": "eQP3knXhgNkb",
        "colab_type": "code",
        "outputId": "3fcc0d11-e509-4079-d66d-8576daf5ebaf",
        "colab": {
          "base_uri": "https://localhost:8080/",
          "height": 34
        }
      },
      "source": [
        "b[mask]"
      ],
      "execution_count": 0,
      "outputs": [
        {
          "output_type": "execute_result",
          "data": {
            "text/plain": [
              "array([200, 300])"
            ]
          },
          "metadata": {
            "tags": []
          },
          "execution_count": 68
        }
      ]
    },
    {
      "cell_type": "code",
      "metadata": {
        "id": "dybYIOKWgnQD",
        "colab_type": "code",
        "colab": {}
      },
      "source": [
        "c = deepcopy(a)"
      ],
      "execution_count": 0,
      "outputs": []
    },
    {
      "cell_type": "code",
      "metadata": {
        "id": "3YhqFsISgp_Q",
        "colab_type": "code",
        "outputId": "ebae6daa-f2df-491b-fa1d-0da97cfc0c79",
        "colab": {
          "base_uri": "https://localhost:8080/",
          "height": 51
        }
      },
      "source": [
        "c"
      ],
      "execution_count": 0,
      "outputs": [
        {
          "output_type": "execute_result",
          "data": {
            "text/plain": [
              "array([[  1, 200],\n",
              "       [300,   4]])"
            ]
          },
          "metadata": {
            "tags": []
          },
          "execution_count": 72
        }
      ]
    }
  ]
}