{
 "cells": [
  {
   "cell_type": "markdown",
   "metadata": {},
   "source": [
    "## Reverse Game of Life"
   ]
  },
  {
   "cell_type": "markdown",
   "metadata": {},
   "source": [
    "We need to try to predict how the result was. Also, to apply the genetic algorithm, we must mutate the final result until we reach what we want(start pattern)."
   ]
  },
  {
   "cell_type": "code",
   "execution_count": 5,
   "metadata": {},
   "outputs": [],
   "source": [
    "# Imports\n",
    "import pandas as pd\n",
    "import numpy as np"
   ]
  },
  {
   "cell_type": "code",
   "execution_count": 9,
   "metadata": {},
   "outputs": [],
   "source": [
    "# Import datasets\n",
    "train_pd = pd.read_csv(\"resources/train.csv\")\n",
    "test_pd = pd.read_csv(\"resources/test.csv\")\n",
    "sample_submission_pd = pd.read_csv(\"resources/sampleSubmission.csv\")\n",
    "\n",
    "# Adjust\n",
    "# Pandas dataframe to numpy\n",
    "train = train_pd.values\n",
    "test = test_pd.values\n",
    "\n",
    "# tests = np.random.binomial(5, 0.5, size=2)\n",
    "# print(tests)"
   ]
  },
  {
   "cell_type": "code",
   "execution_count": 11,
   "metadata": {},
   "outputs": [
    {
     "name": "stdout",
     "output_type": "stream",
     "text": [
      "[1 4 0 0 0 0 0 0 0 0 0 0 0 0 0 0 0 0 0 0 0 0 0 0 0 0 0 0 0 0 0 0 0 0 0 0 0\n",
      " 0 0 0 0 0 0 0 0 0 0 0 0 0 0 0 0 0 0 0 0 0 0 0 0 0 0 0 0 0 0 0 0 0 0 0 0 0\n",
      " 0 0 0 0 0 0 0 0 0 0 0 0 0 0 0 0 0 0 0 0 0 0 0 0 0 0 0 0 0 0 0 0 0 0 0 0 0\n",
      " 0 0 0 0 0 0 0 0 0 0 0 0 0 0 0 0 0 0 0 0 0 0 0 0 0 0 0 0 0 0 0 0 0 0 0 0 0\n",
      " 0 0 0 0 0 0 0 0 0 0 0 0 0 0 0 0 0 0 0 0 0 0 0 0 0 0 0 0 0 0 0 0 0 0 0 0 0\n",
      " 0 0 0 0 0 0 0 0 0 0 0 0 0 0 0 0 0 0 0 0 0 0 0 0 0 0 0 0 0 0 0 0 0 0 0 0 0\n",
      " 0 0 0 0 0 0 0 0 0 0 0 0 0 0 0 0 0 0 0 0 0 0 0 0 0 0 0 0 0 0 0 0 0 0 0 0 0\n",
      " 0 0 0 0 0 0 0 0 0 0 0 0 0 0 0 0 0 0 0 0 0 0 0 0 0 0 0 0 0 0 0 0 0 0 0 0 0\n",
      " 0 0 0 0 0 0 0 0 0 0 0 0 0 0 0 0 0 0 0 0 0 0 0 0 0 0 0 0 0 0 0 0 0 0 0 0 0\n",
      " 0 0 0 0 0 0 0 0 0 1 1 0 0 0 0 0 0 0 0 0 0 0 0 0 0 0 0 0 0 1 0 1 0 0 0 0 0\n",
      " 0 0 0 0 0 0 0 0 0 0 0 0 0 1 1 0 0 0 0 0 0 0 0 0 0 0 0 0 0 0 0 0 0 0 0 0 0\n",
      " 0 0 0 0 0 0 0 0 0 0 0 0 0 0 0 0 0 0 0 0 0 0 0 0 0 0 0 0 0 0 0 0 0 0 0 0 0\n",
      " 0 0 0 0 0 0 0 0 0 0 0 0 0 0 0 0 0 0 0 0 0 0 0 0 0 0 0 0 0 0 0 0 0 0 0 0 0\n",
      " 0 0 0 0 0 0 0 0 0 0 0 0 0 0 0 0 0 0 0 0 0 0 0 0 0 0 0 0 0 0 0 0 0 0 0 0 0\n",
      " 0 0 0 0 0 0 0 0 0 0 0 0 0 0 0 0 0 0 0 0 0 0 0 0 0 0 0 0 0 0 0 0 0 0 0 0 0\n",
      " 0 0 0 0 0 0 0 0 0 0 0 0 0 0 0 0 0 0 0 0 0 0 0 0 0 0 0 0 0 0 0 0 0 0 0 0 0\n",
      " 0 0 0 0 0 0 0 0 0 0 0 0 0 0 0 0 0 0 0 0 0 0 0 0 0 0 0 0 0 0 0 0 0 0 0 0 0\n",
      " 0 0 0 0 0 0 0 0 0 0 0 0 0 0 0 0 0 0 0 0 0 0 0 0 0 0 0 0 0 0 0 0 0 0 0 0 0\n",
      " 0 0 0 0 0 0 0 0 0 0 0 0 0 0 0 0 0 0 0 0 0 0 0 0 0 0 0 0 0 0 0 0 0 0 0 0 0\n",
      " 0 0 0 0 0 0 0 0 0 0 0 0 0 0 0 0 0 0 0 0 0 0 0 0 0 0 0 0 0 0 0 0 0 0 0 0 0\n",
      " 0 0 1 1 0 0 0 0 0 0 0 0 0 0 0 0 0 0 0 0 0 0 1 0 1 0 0 0 0 0 0 0 0 0 0 0 0\n",
      " 0 0 0 0 0 0 1 1 0 0 0 0 0 0 0 0 0 0 0 0 0 0 0 0 0]\n"
     ]
    }
   ],
   "source": [
    "# test[x][0] = game id\n",
    "# test[x][1] = id delta - the number of steps between the start and stop boards\n",
    "print(train[0])"
   ]
  },
  {
   "cell_type": "code",
   "execution_count": 12,
   "metadata": {},
   "outputs": [],
   "source": [
    "# Aux Functions\n",
    "\n",
    "\"\"\"\n",
    "Function to count how many neighbors are alive. For that, we need an array neigh_pos with all \n",
    "possible positions of neighbors\n",
    "\n",
    "(-1,-1) (0,-1) (1,-1) \n",
    "\n",
    "(-1,0)   cell  (1,0)\n",
    "\n",
    "(-1,1)  (0,1)  (1,1)\n",
    "\n",
    "\n",
    "Parameters: field = map, x and y = positions of the cell\n",
    "\"\"\"\n",
    "\n",
    "neigh_pos = [\n",
    "    (-1,-1), (0,-1), (1,-1),\n",
    "    (-1,0), (1,0),\n",
    "    (-1,1), (0,1), (1,1)\n",
    "]\n",
    "\n",
    "def count_neighbors(field, x, y):\n",
    "    count = 0\n",
    "    size = len(field)\n",
    "    \n",
    "    for pos in neigh_pos:\n",
    "        x2 = pos[0] + x\n",
    "        y2 = pos[1] + y\n",
    "        \n",
    "        if x2 < size and y2 < size:\n",
    "            if field[x2][y2] == 1:\n",
    "                ++count\n",
    "    return count\n",
    "\n",
    "\"\"\"\n",
    "This next function will transform the field cell by cell according to the 4 rules of the game:\n",
    "    1. Each live cell with one or no neighbors dies, as if by solitude.\n",
    "    2. Each live cell with four or more neighbors dies, as if by overpopulation.\n",
    "    3. Each live cell with two or three neighbors survives.\n",
    "    4. Each dead cell with three neighbors becomes populated.\n",
    "\"\"\"\n",
    "def apply_rules(field, no_mutations=1):\n",
    "    size = len(field)\n",
    "    tmp = field\n",
    "    \n",
    "    for _ in range(no_mutations):\n",
    "        new = np.zeros((size, size), dtype=\"uint8\")\n",
    "        \n",
    "        for i in range(size):\n",
    "            for i in range(size):\n",
    "                no_neighbors = count_neighbors(tmp, i, j)\n",
    "                \n",
    "                # Mutations based on rules - on the new field all cells are already dead=0.\n",
    "                # if it was a live cell and has 2 neighbors, lives\n",
    "                if tmp[i][j] == 1 and no_neighbors == 2:\n",
    "                    new[i][j] = 1\n",
    "                # If it has 3 neighbors, it doesn't matter if it's dead or not, becomes live cell.\n",
    "                if no_neighbors == 3:\n",
    "                    new[i][j] = 1\n",
    "                # Less than 2 or more than 3 becomes dead, no need to change values.\n",
    "        \n",
    "        # tmp receives the mutations\n",
    "        tmp = new\n",
    "    return tmp\n",
    "\n",
    "\n",
    "\"\"\"\n",
    "This function will create a population randomly in a 20x20 array\n",
    "\"\"\"\n",
    "def generate_population(size, random_state=-1):\n",
    "    if random_state != -1:\n",
    "        np.random.seed(random_state)\n",
    "    initial_states = np.split(np.random.binomial(1, 0.5, (20 * size, 20)).astype('uint8'), size)\n",
    "    return [make_move(state, 5) for state in initial_states]"
   ]
  },
  {
   "cell_type": "code",
   "execution_count": null,
   "metadata": {},
   "outputs": [],
   "source": []
  }
 ],
 "metadata": {
  "kernelspec": {
   "display_name": "Python 3",
   "language": "python",
   "name": "python3"
  },
  "language_info": {
   "codemirror_mode": {
    "name": "ipython",
    "version": 3
   },
   "file_extension": ".py",
   "mimetype": "text/x-python",
   "name": "python",
   "nbconvert_exporter": "python",
   "pygments_lexer": "ipython3",
   "version": "3.7.4"
  }
 },
 "nbformat": 4,
 "nbformat_minor": 2
}
